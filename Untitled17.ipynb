{
  "nbformat": 4,
  "nbformat_minor": 0,
  "metadata": {
    "colab": {
      "name": "Untitled17.ipynb",
      "provenance": []
    },
    "kernelspec": {
      "name": "python3",
      "display_name": "Python 3"
    },
    "language_info": {
      "name": "python"
    }
  },
  "cells": [
    {
      "cell_type": "code",
      "execution_count": 1,
      "metadata": {
        "id": "GmpaUlp_APS0"
      },
      "outputs": [],
      "source": [
        "import pandas as pd"
      ]
    },
    {
      "cell_type": "code",
      "source": [
        "df= pd.read_csv(\"/content/titanic-passengers.csv\", delimiter= \";\" )"
      ],
      "metadata": {
        "id": "2bLB0XZWAZ7_"
      },
      "execution_count": 2,
      "outputs": []
    },
    {
      "cell_type": "code",
      "source": [
        "df.head()"
      ],
      "metadata": {
        "colab": {
          "base_uri": "https://localhost:8080/",
          "height": 310
        },
        "id": "5VICwyzbA4bF",
        "outputId": "2358f3a6-d95e-4d9b-fabb-07672e3bce96"
      },
      "execution_count": 3,
      "outputs": [
        {
          "output_type": "execute_result",
          "data": {
            "text/html": [
              "<div>\n",
              "<style scoped>\n",
              "    .dataframe tbody tr th:only-of-type {\n",
              "        vertical-align: middle;\n",
              "    }\n",
              "\n",
              "    .dataframe tbody tr th {\n",
              "        vertical-align: top;\n",
              "    }\n",
              "\n",
              "    .dataframe thead th {\n",
              "        text-align: right;\n",
              "    }\n",
              "</style>\n",
              "<table border=\"1\" class=\"dataframe\">\n",
              "  <thead>\n",
              "    <tr style=\"text-align: right;\">\n",
              "      <th></th>\n",
              "      <th>PassengerId</th>\n",
              "      <th>Survived</th>\n",
              "      <th>Pclass</th>\n",
              "      <th>Name</th>\n",
              "      <th>Sex</th>\n",
              "      <th>Age</th>\n",
              "      <th>SibSp</th>\n",
              "      <th>Parch</th>\n",
              "      <th>Ticket</th>\n",
              "      <th>Fare</th>\n",
              "      <th>Cabin</th>\n",
              "      <th>Embarked</th>\n",
              "    </tr>\n",
              "  </thead>\n",
              "  <tbody>\n",
              "    <tr>\n",
              "      <th>0</th>\n",
              "      <td>343</td>\n",
              "      <td>No</td>\n",
              "      <td>2</td>\n",
              "      <td>Collander, Mr. Erik Gustaf</td>\n",
              "      <td>male</td>\n",
              "      <td>28.0</td>\n",
              "      <td>0</td>\n",
              "      <td>0</td>\n",
              "      <td>248740</td>\n",
              "      <td>13.0000</td>\n",
              "      <td>NaN</td>\n",
              "      <td>S</td>\n",
              "    </tr>\n",
              "    <tr>\n",
              "      <th>1</th>\n",
              "      <td>76</td>\n",
              "      <td>No</td>\n",
              "      <td>3</td>\n",
              "      <td>Moen, Mr. Sigurd Hansen</td>\n",
              "      <td>male</td>\n",
              "      <td>25.0</td>\n",
              "      <td>0</td>\n",
              "      <td>0</td>\n",
              "      <td>348123</td>\n",
              "      <td>7.6500</td>\n",
              "      <td>F G73</td>\n",
              "      <td>S</td>\n",
              "    </tr>\n",
              "    <tr>\n",
              "      <th>2</th>\n",
              "      <td>641</td>\n",
              "      <td>No</td>\n",
              "      <td>3</td>\n",
              "      <td>Jensen, Mr. Hans Peder</td>\n",
              "      <td>male</td>\n",
              "      <td>20.0</td>\n",
              "      <td>0</td>\n",
              "      <td>0</td>\n",
              "      <td>350050</td>\n",
              "      <td>7.8542</td>\n",
              "      <td>NaN</td>\n",
              "      <td>S</td>\n",
              "    </tr>\n",
              "    <tr>\n",
              "      <th>3</th>\n",
              "      <td>568</td>\n",
              "      <td>No</td>\n",
              "      <td>3</td>\n",
              "      <td>Palsson, Mrs. Nils (Alma Cornelia Berglund)</td>\n",
              "      <td>female</td>\n",
              "      <td>29.0</td>\n",
              "      <td>0</td>\n",
              "      <td>4</td>\n",
              "      <td>349909</td>\n",
              "      <td>21.0750</td>\n",
              "      <td>NaN</td>\n",
              "      <td>S</td>\n",
              "    </tr>\n",
              "    <tr>\n",
              "      <th>4</th>\n",
              "      <td>672</td>\n",
              "      <td>No</td>\n",
              "      <td>1</td>\n",
              "      <td>Davidson, Mr. Thornton</td>\n",
              "      <td>male</td>\n",
              "      <td>31.0</td>\n",
              "      <td>1</td>\n",
              "      <td>0</td>\n",
              "      <td>F.C. 12750</td>\n",
              "      <td>52.0000</td>\n",
              "      <td>B71</td>\n",
              "      <td>S</td>\n",
              "    </tr>\n",
              "  </tbody>\n",
              "</table>\n",
              "</div>"
            ],
            "text/plain": [
              "   PassengerId Survived  Pclass  ...     Fare  Cabin  Embarked\n",
              "0          343       No       2  ...  13.0000    NaN         S\n",
              "1           76       No       3  ...   7.6500  F G73         S\n",
              "2          641       No       3  ...   7.8542    NaN         S\n",
              "3          568       No       3  ...  21.0750    NaN         S\n",
              "4          672       No       1  ...  52.0000    B71         S\n",
              "\n",
              "[5 rows x 12 columns]"
            ]
          },
          "metadata": {},
          "execution_count": 3
        }
      ]
    },
    {
      "cell_type": "code",
      "source": [
        "df.shape"
      ],
      "metadata": {
        "colab": {
          "base_uri": "https://localhost:8080/"
        },
        "id": "fyQ-nTiRA-OI",
        "outputId": "a1b27512-dc2a-4ec4-9656-a0472d46bb99"
      },
      "execution_count": 4,
      "outputs": [
        {
          "output_type": "execute_result",
          "data": {
            "text/plain": [
              "(891, 12)"
            ]
          },
          "metadata": {},
          "execution_count": 4
        }
      ]
    },
    {
      "cell_type": "code",
      "source": [
        "df.info()"
      ],
      "metadata": {
        "colab": {
          "base_uri": "https://localhost:8080/"
        },
        "id": "3YMIhKW1BE_Z",
        "outputId": "c9be26a1-018f-4c1c-f3d9-17ea726c7b23"
      },
      "execution_count": 5,
      "outputs": [
        {
          "output_type": "stream",
          "name": "stdout",
          "text": [
            "<class 'pandas.core.frame.DataFrame'>\n",
            "RangeIndex: 891 entries, 0 to 890\n",
            "Data columns (total 12 columns):\n",
            " #   Column       Non-Null Count  Dtype  \n",
            "---  ------       --------------  -----  \n",
            " 0   PassengerId  891 non-null    int64  \n",
            " 1   Survived     891 non-null    object \n",
            " 2   Pclass       891 non-null    int64  \n",
            " 3   Name         891 non-null    object \n",
            " 4   Sex          891 non-null    object \n",
            " 5   Age          714 non-null    float64\n",
            " 6   SibSp        891 non-null    int64  \n",
            " 7   Parch        891 non-null    int64  \n",
            " 8   Ticket       891 non-null    object \n",
            " 9   Fare         891 non-null    float64\n",
            " 10  Cabin        204 non-null    object \n",
            " 11  Embarked     889 non-null    object \n",
            "dtypes: float64(2), int64(4), object(6)\n",
            "memory usage: 83.7+ KB\n"
          ]
        }
      ]
    },
    {
      "cell_type": "code",
      "source": [
        "df.isnull()"
      ],
      "metadata": {
        "colab": {
          "base_uri": "https://localhost:8080/",
          "height": 423
        },
        "id": "72EfYkKBBJ1a",
        "outputId": "4fa8477e-c64e-4d2a-c8a8-db217783f57b"
      },
      "execution_count": 6,
      "outputs": [
        {
          "output_type": "execute_result",
          "data": {
            "text/html": [
              "<div>\n",
              "<style scoped>\n",
              "    .dataframe tbody tr th:only-of-type {\n",
              "        vertical-align: middle;\n",
              "    }\n",
              "\n",
              "    .dataframe tbody tr th {\n",
              "        vertical-align: top;\n",
              "    }\n",
              "\n",
              "    .dataframe thead th {\n",
              "        text-align: right;\n",
              "    }\n",
              "</style>\n",
              "<table border=\"1\" class=\"dataframe\">\n",
              "  <thead>\n",
              "    <tr style=\"text-align: right;\">\n",
              "      <th></th>\n",
              "      <th>PassengerId</th>\n",
              "      <th>Survived</th>\n",
              "      <th>Pclass</th>\n",
              "      <th>Name</th>\n",
              "      <th>Sex</th>\n",
              "      <th>Age</th>\n",
              "      <th>SibSp</th>\n",
              "      <th>Parch</th>\n",
              "      <th>Ticket</th>\n",
              "      <th>Fare</th>\n",
              "      <th>Cabin</th>\n",
              "      <th>Embarked</th>\n",
              "    </tr>\n",
              "  </thead>\n",
              "  <tbody>\n",
              "    <tr>\n",
              "      <th>0</th>\n",
              "      <td>False</td>\n",
              "      <td>False</td>\n",
              "      <td>False</td>\n",
              "      <td>False</td>\n",
              "      <td>False</td>\n",
              "      <td>False</td>\n",
              "      <td>False</td>\n",
              "      <td>False</td>\n",
              "      <td>False</td>\n",
              "      <td>False</td>\n",
              "      <td>True</td>\n",
              "      <td>False</td>\n",
              "    </tr>\n",
              "    <tr>\n",
              "      <th>1</th>\n",
              "      <td>False</td>\n",
              "      <td>False</td>\n",
              "      <td>False</td>\n",
              "      <td>False</td>\n",
              "      <td>False</td>\n",
              "      <td>False</td>\n",
              "      <td>False</td>\n",
              "      <td>False</td>\n",
              "      <td>False</td>\n",
              "      <td>False</td>\n",
              "      <td>False</td>\n",
              "      <td>False</td>\n",
              "    </tr>\n",
              "    <tr>\n",
              "      <th>2</th>\n",
              "      <td>False</td>\n",
              "      <td>False</td>\n",
              "      <td>False</td>\n",
              "      <td>False</td>\n",
              "      <td>False</td>\n",
              "      <td>False</td>\n",
              "      <td>False</td>\n",
              "      <td>False</td>\n",
              "      <td>False</td>\n",
              "      <td>False</td>\n",
              "      <td>True</td>\n",
              "      <td>False</td>\n",
              "    </tr>\n",
              "    <tr>\n",
              "      <th>3</th>\n",
              "      <td>False</td>\n",
              "      <td>False</td>\n",
              "      <td>False</td>\n",
              "      <td>False</td>\n",
              "      <td>False</td>\n",
              "      <td>False</td>\n",
              "      <td>False</td>\n",
              "      <td>False</td>\n",
              "      <td>False</td>\n",
              "      <td>False</td>\n",
              "      <td>True</td>\n",
              "      <td>False</td>\n",
              "    </tr>\n",
              "    <tr>\n",
              "      <th>4</th>\n",
              "      <td>False</td>\n",
              "      <td>False</td>\n",
              "      <td>False</td>\n",
              "      <td>False</td>\n",
              "      <td>False</td>\n",
              "      <td>False</td>\n",
              "      <td>False</td>\n",
              "      <td>False</td>\n",
              "      <td>False</td>\n",
              "      <td>False</td>\n",
              "      <td>False</td>\n",
              "      <td>False</td>\n",
              "    </tr>\n",
              "    <tr>\n",
              "      <th>...</th>\n",
              "      <td>...</td>\n",
              "      <td>...</td>\n",
              "      <td>...</td>\n",
              "      <td>...</td>\n",
              "      <td>...</td>\n",
              "      <td>...</td>\n",
              "      <td>...</td>\n",
              "      <td>...</td>\n",
              "      <td>...</td>\n",
              "      <td>...</td>\n",
              "      <td>...</td>\n",
              "      <td>...</td>\n",
              "    </tr>\n",
              "    <tr>\n",
              "      <th>886</th>\n",
              "      <td>False</td>\n",
              "      <td>False</td>\n",
              "      <td>False</td>\n",
              "      <td>False</td>\n",
              "      <td>False</td>\n",
              "      <td>False</td>\n",
              "      <td>False</td>\n",
              "      <td>False</td>\n",
              "      <td>False</td>\n",
              "      <td>False</td>\n",
              "      <td>True</td>\n",
              "      <td>False</td>\n",
              "    </tr>\n",
              "    <tr>\n",
              "      <th>887</th>\n",
              "      <td>False</td>\n",
              "      <td>False</td>\n",
              "      <td>False</td>\n",
              "      <td>False</td>\n",
              "      <td>False</td>\n",
              "      <td>False</td>\n",
              "      <td>False</td>\n",
              "      <td>False</td>\n",
              "      <td>False</td>\n",
              "      <td>False</td>\n",
              "      <td>True</td>\n",
              "      <td>False</td>\n",
              "    </tr>\n",
              "    <tr>\n",
              "      <th>888</th>\n",
              "      <td>False</td>\n",
              "      <td>False</td>\n",
              "      <td>False</td>\n",
              "      <td>False</td>\n",
              "      <td>False</td>\n",
              "      <td>False</td>\n",
              "      <td>False</td>\n",
              "      <td>False</td>\n",
              "      <td>False</td>\n",
              "      <td>False</td>\n",
              "      <td>True</td>\n",
              "      <td>False</td>\n",
              "    </tr>\n",
              "    <tr>\n",
              "      <th>889</th>\n",
              "      <td>False</td>\n",
              "      <td>False</td>\n",
              "      <td>False</td>\n",
              "      <td>False</td>\n",
              "      <td>False</td>\n",
              "      <td>True</td>\n",
              "      <td>False</td>\n",
              "      <td>False</td>\n",
              "      <td>False</td>\n",
              "      <td>False</td>\n",
              "      <td>True</td>\n",
              "      <td>False</td>\n",
              "    </tr>\n",
              "    <tr>\n",
              "      <th>890</th>\n",
              "      <td>False</td>\n",
              "      <td>False</td>\n",
              "      <td>False</td>\n",
              "      <td>False</td>\n",
              "      <td>False</td>\n",
              "      <td>False</td>\n",
              "      <td>False</td>\n",
              "      <td>False</td>\n",
              "      <td>False</td>\n",
              "      <td>False</td>\n",
              "      <td>True</td>\n",
              "      <td>False</td>\n",
              "    </tr>\n",
              "  </tbody>\n",
              "</table>\n",
              "<p>891 rows × 12 columns</p>\n",
              "</div>"
            ],
            "text/plain": [
              "     PassengerId  Survived  Pclass   Name  ...  Ticket   Fare  Cabin  Embarked\n",
              "0          False     False   False  False  ...   False  False   True     False\n",
              "1          False     False   False  False  ...   False  False  False     False\n",
              "2          False     False   False  False  ...   False  False   True     False\n",
              "3          False     False   False  False  ...   False  False   True     False\n",
              "4          False     False   False  False  ...   False  False  False     False\n",
              "..           ...       ...     ...    ...  ...     ...    ...    ...       ...\n",
              "886        False     False   False  False  ...   False  False   True     False\n",
              "887        False     False   False  False  ...   False  False   True     False\n",
              "888        False     False   False  False  ...   False  False   True     False\n",
              "889        False     False   False  False  ...   False  False   True     False\n",
              "890        False     False   False  False  ...   False  False   True     False\n",
              "\n",
              "[891 rows x 12 columns]"
            ]
          },
          "metadata": {},
          "execution_count": 6
        }
      ]
    },
    {
      "cell_type": "code",
      "source": [
        "df.isnull().sum()"
      ],
      "metadata": {
        "colab": {
          "base_uri": "https://localhost:8080/"
        },
        "id": "zoTjYCWdBPBy",
        "outputId": "54883784-74e7-4384-fbbc-f53a2b3f7bc7"
      },
      "execution_count": 7,
      "outputs": [
        {
          "output_type": "execute_result",
          "data": {
            "text/plain": [
              "PassengerId      0\n",
              "Survived         0\n",
              "Pclass           0\n",
              "Name             0\n",
              "Sex              0\n",
              "Age            177\n",
              "SibSp            0\n",
              "Parch            0\n",
              "Ticket           0\n",
              "Fare             0\n",
              "Cabin          687\n",
              "Embarked         2\n",
              "dtype: int64"
            ]
          },
          "metadata": {},
          "execution_count": 7
        }
      ]
    },
    {
      "cell_type": "code",
      "source": [
        "df[\"Age\"].fillna(df[\"Age\"].mean(), inplace= True)"
      ],
      "metadata": {
        "id": "5Jg7uusXBT6Z"
      },
      "execution_count": 8,
      "outputs": []
    },
    {
      "cell_type": "code",
      "source": [
        "print(df[\"Cabin\"].value_counts())"
      ],
      "metadata": {
        "colab": {
          "base_uri": "https://localhost:8080/"
        },
        "id": "jc1KmaZ3Berq",
        "outputId": "9cb076f8-e438-4d3a-d6dc-e641c7b32fb6"
      },
      "execution_count": 9,
      "outputs": [
        {
          "output_type": "stream",
          "name": "stdout",
          "text": [
            "C23 C25 C27    4\n",
            "G6             4\n",
            "B96 B98        4\n",
            "E101           3\n",
            "F2             3\n",
            "              ..\n",
            "B86            1\n",
            "D47            1\n",
            "C32            1\n",
            "B101           1\n",
            "B80            1\n",
            "Name: Cabin, Length: 147, dtype: int64\n"
          ]
        }
      ]
    },
    {
      "cell_type": "code",
      "source": [
        "df[\"Cabin\"].fillna(\"G6\", inplace= True)"
      ],
      "metadata": {
        "id": "FVT1dgPRBoQb"
      },
      "execution_count": 10,
      "outputs": []
    },
    {
      "cell_type": "code",
      "source": [
        "print(df[\"Embarked\"].value_counts())"
      ],
      "metadata": {
        "colab": {
          "base_uri": "https://localhost:8080/"
        },
        "id": "0tVtF-OqBwe3",
        "outputId": "ffa30367-c9a8-4917-f99c-13ba094e35fe"
      },
      "execution_count": 11,
      "outputs": [
        {
          "output_type": "stream",
          "name": "stdout",
          "text": [
            "S    644\n",
            "C    168\n",
            "Q     77\n",
            "Name: Embarked, dtype: int64\n"
          ]
        }
      ]
    },
    {
      "cell_type": "code",
      "source": [
        "df[\"Embarked\"].fillna(\"S\", inplace= True)"
      ],
      "metadata": {
        "id": "ndeyRKftB1VI"
      },
      "execution_count": 12,
      "outputs": []
    },
    {
      "cell_type": "code",
      "source": [
        "import matplotlib.pyplot as plt \n",
        "plt.title (\"Histogram of Different Ages\")\n",
        "plt.xlabel(\"Age\")\n",
        "df[\"Age\"].plot.hist()"
      ],
      "metadata": {
        "colab": {
          "base_uri": "https://localhost:8080/",
          "height": 313
        },
        "id": "Pyj0NNvICBNQ",
        "outputId": "1e1388aa-a355-41bd-d361-e56c8fca3153"
      },
      "execution_count": 13,
      "outputs": [
        {
          "output_type": "execute_result",
          "data": {
            "text/plain": [
              "<matplotlib.axes._subplots.AxesSubplot at 0x7f60531cd190>"
            ]
          },
          "metadata": {},
          "execution_count": 13
        },
        {
          "output_type": "display_data",
          "data": {
            "image/png": "[encoded data removed]",
            "text/plain": [
              "<Figure size 432x288 with 1 Axes>"
            ]
          },
          "metadata": {
            "needs_background": "light"
          }
        }
      ]
    },
    {
      "cell_type": "code",
      "source": [
        "import seaborn as sns\n",
        "sns.countplot(x= \"Sex\", data= df)\n",
        "plt.xticks(rotation=-45)"
      ],
      "metadata": {
        "colab": {
          "base_uri": "https://localhost:8080/",
          "height": 321
        },
        "id": "jNhtyCd_CDp-",
        "outputId": "b4d435f6-26eb-4d11-9b6e-1f219df82f56"
      },
      "execution_count": 14,
      "outputs": [
        {
          "output_type": "execute_result",
          "data": {
            "text/plain": [
              "(array([0, 1]), <a list of 2 Text major ticklabel objects>)"
            ]
          },
          "metadata": {},
          "execution_count": 14
        },
        {
          "output_type": "display_data",
          "data": {
            "image/png": "[encoded data removed]",
            "text/plain": [
              "<Figure size 432x288 with 1 Axes>"
            ]
          },
          "metadata": {
            "needs_background": "light"
          }
        }
      ]
    },
    {
      "cell_type": "code",
      "source": [
        "sns.countplot(x= \"Pclass\", data= df)\n",
        "plt.xticks(rotation=-45)"
      ],
      "metadata": {
        "colab": {
          "base_uri": "https://localhost:8080/",
          "height": 299
        },
        "id": "lc6J2YvlCITc",
        "outputId": "acbe6ffc-b4f6-4aad-f599-fab105a3f144"
      },
      "execution_count": 15,
      "outputs": [
        {
          "output_type": "execute_result",
          "data": {
            "text/plain": [
              "(array([0, 1, 2]), <a list of 3 Text major ticklabel objects>)"
            ]
          },
          "metadata": {},
          "execution_count": 15
        },
        {
          "output_type": "display_data",
          "data": {
            "image/png": "[encoded data removed]",
            "text/plain": [
              "<Figure size 432x288 with 1 Axes>"
            ]
          },
          "metadata": {
            "needs_background": "light"
          }
        }
      ]
    },
    {
      "cell_type": "code",
      "source": [
        "sns.countplot(x= \"Embarked\",data= df)\n",
        "plt.xticks(rotation=-45)"
      ],
      "metadata": {
        "colab": {
          "base_uri": "https://localhost:8080/",
          "height": 299
        },
        "id": "PpkdnWd1CRwC",
        "outputId": "c21bb23b-4e51-4ac8-ca1d-f8e22121d410"
      },
      "execution_count": 17,
      "outputs": [
        {
          "output_type": "execute_result",
          "data": {
            "text/plain": [
              "(array([0, 1, 2]), <a list of 3 Text major ticklabel objects>)"
            ]
          },
          "metadata": {},
          "execution_count": 17
        },
        {
          "output_type": "display_data",
          "data": {
            "image/png": "[encoded data removed]",
            "text/plain": [
              "<Figure size 432x288 with 1 Axes>"
            ]
          },
          "metadata": {
            "needs_background": "light"
          }
        }
      ]
    },
    {
      "cell_type": "code",
      "source": [
        "g=sns.FacetGrid(df, row= \"Survived\", col=\"Sex\")\n",
        "g.map(plt.hist, \"Age\", bins=10)"
      ],
      "metadata": {
        "colab": {
          "base_uri": "https://localhost:8080/",
          "height": 459
        },
        "id": "_v06BU_8CXOj",
        "outputId": "ba469907-0840-4bd4-b18b-49135ba05d38"
      },
      "execution_count": 20,
      "outputs": [
        {
          "output_type": "execute_result",
          "data": {
            "text/plain": [
              "<seaborn.axisgrid.FacetGrid at 0x7f603bf525d0>"
            ]
          },
          "metadata": {},
          "execution_count": 20
        },
        {
          "output_type": "display_data",
          "data": {
            "image/png": "[encoded data removed]",
            "text/plain": [
              "<Figure size 432x432 with 4 Axes>"
            ]
          },
          "metadata": {
            "needs_background": "light"
          }
        }
      ]
    },
    {
      "cell_type": "code",
      "source": [
        "grid=sns.FacetGrid(df, row= \"Survived\", col=\"Pclass\")\n",
        "grid.map(plt.hist, \"Embarked\", bins=10)"
      ],
      "metadata": {
        "colab": {
          "base_uri": "https://localhost:8080/",
          "height": 459
        },
        "id": "4qzdGLjhCpxU",
        "outputId": "edc774e5-d2ce-41cd-bd4e-7deb1629dc4f"
      },
      "execution_count": 21,
      "outputs": [
        {
          "output_type": "execute_result",
          "data": {
            "text/plain": [
              "<seaborn.axisgrid.FacetGrid at 0x7f603bd55310>"
            ]
          },
          "metadata": {},
          "execution_count": 21
        },
        {
          "output_type": "display_data",
          "data": {
            "image/png": "[encoded data removed]",
            "text/plain": [
              "<Figure size 648x432 with 6 Axes>"
            ]
          },
          "metadata": {
            "needs_background": "light"
          }
        }
      ]
    },
    {
      "cell_type": "code",
      "source": [
        "def plot_correlation_map( df ):\n",
        "\n",
        "    corr = df.corr()\n",
        "\n",
        "    s , ax = plt.subplots( figsize =( 8 , 6 ) )\n",
        "\n",
        "    cmap = sns.diverging_palette( 220 , 10 , as_cmap = True )\n",
        "\n",
        "    s = sns.heatmap(\n",
        "\n",
        "        corr, \n",
        "\n",
        "        cmap = cmap,\n",
        "\n",
        "        square=True, \n",
        "\n",
        "        cbar_kws={ 'shrink' : .7 }, \n",
        "\n",
        "        ax=ax, \n",
        "\n",
        "        annot = True, \n",
        "\n",
        "        annot_kws = { 'fontsize' : 8 }\n",
        "        \n",
        "    )\n",
        "\n",
        "plot_correlation_map(df)"
      ],
      "metadata": {
        "colab": {
          "base_uri": "https://localhost:8080/",
          "height": 377
        },
        "id": "0fdussvTC0jR",
        "outputId": "45f58d5d-72ab-4cbf-968b-87c3ffca17d3"
      },
      "execution_count": 25,
      "outputs": [
        {
          "output_type": "display_data",
          "data": {
            "image/png": "[encoded data removed]",
            "text/plain": [
              "<Figure size 576x432 with 2 Axes>"
            ]
          },
          "metadata": {
            "needs_background": "light"
          }
        }
      ]
    },
    {
      "cell_type": "code",
      "source": [
        "cleanup= {\"Survived\": {\"No\":0,\"Yes\":1}}\n",
        "df.replace(cleanup, inplace=True)\n",
        "df[[\"Pclass\",\"Survived\"]].groupby([\"Pclass\"], as_index=True).mean()"
      ],
      "metadata": {
        "colab": {
          "base_uri": "https://localhost:8080/",
          "height": 175
        },
        "id": "6BUZxykqDUPb",
        "outputId": "34fe0408-a333-4bb0-b045-92765644dec8"
      },
      "execution_count": 26,
      "outputs": [
        {
          "output_type": "execute_result",
          "data": {
            "text/html": [
              "<div>\n",
              "<style scoped>\n",
              "    .dataframe tbody tr th:only-of-type {\n",
              "        vertical-align: middle;\n",
              "    }\n",
              "\n",
              "    .dataframe tbody tr th {\n",
              "        vertical-align: top;\n",
              "    }\n",
              "\n",
              "    .dataframe thead th {\n",
              "        text-align: right;\n",
              "    }\n",
              "</style>\n",
              "<table border=\"1\" class=\"dataframe\">\n",
              "  <thead>\n",
              "    <tr style=\"text-align: right;\">\n",
              "      <th></th>\n",
              "      <th>Survived</th>\n",
              "    </tr>\n",
              "    <tr>\n",
              "      <th>Pclass</th>\n",
              "      <th></th>\n",
              "    </tr>\n",
              "  </thead>\n",
              "  <tbody>\n",
              "    <tr>\n",
              "      <th>1</th>\n",
              "      <td>0.629630</td>\n",
              "    </tr>\n",
              "    <tr>\n",
              "      <th>2</th>\n",
              "      <td>0.472826</td>\n",
              "    </tr>\n",
              "    <tr>\n",
              "      <th>3</th>\n",
              "      <td>0.242363</td>\n",
              "    </tr>\n",
              "  </tbody>\n",
              "</table>\n",
              "</div>"
            ],
            "text/plain": [
              "        Survived\n",
              "Pclass          \n",
              "1       0.629630\n",
              "2       0.472826\n",
              "3       0.242363"
            ]
          },
          "metadata": {},
          "execution_count": 26
        }
      ]
    },
    {
      "cell_type": "code",
      "source": [
        "new_data= df.copy()\n",
        "new_data= new_data.drop([\"PassengerId\", \"Name\", \"Ticket\", \"Cabin\"], axis=1)\n",
        "new_data.head()"
      ],
      "metadata": {
        "colab": {
          "base_uri": "https://localhost:8080/",
          "height": 206
        },
        "id": "1bt2hjgjDnql",
        "outputId": "f14890d1-7d19-4b64-9f99-bfbedb680827"
      },
      "execution_count": 27,
      "outputs": [
        {
          "output_type": "execute_result",
          "data": {
            "text/html": [
              "<div>\n",
              "<style scoped>\n",
              "    .dataframe tbody tr th:only-of-type {\n",
              "        vertical-align: middle;\n",
              "    }\n",
              "\n",
              "    .dataframe tbody tr th {\n",
              "        vertical-align: top;\n",
              "    }\n",
              "\n",
              "    .dataframe thead th {\n",
              "        text-align: right;\n",
              "    }\n",
              "</style>\n",
              "<table border=\"1\" class=\"dataframe\">\n",
              "  <thead>\n",
              "    <tr style=\"text-align: right;\">\n",
              "      <th></th>\n",
              "      <th>Survived</th>\n",
              "      <th>Pclass</th>\n",
              "      <th>Sex</th>\n",
              "      <th>Age</th>\n",
              "      <th>SibSp</th>\n",
              "      <th>Parch</th>\n",
              "      <th>Fare</th>\n",
              "      <th>Embarked</th>\n",
              "    </tr>\n",
              "  </thead>\n",
              "  <tbody>\n",
              "    <tr>\n",
              "      <th>0</th>\n",
              "      <td>0</td>\n",
              "      <td>2</td>\n",
              "      <td>male</td>\n",
              "      <td>28.0</td>\n",
              "      <td>0</td>\n",
              "      <td>0</td>\n",
              "      <td>13.0000</td>\n",
              "      <td>S</td>\n",
              "    </tr>\n",
              "    <tr>\n",
              "      <th>1</th>\n",
              "      <td>0</td>\n",
              "      <td>3</td>\n",
              "      <td>male</td>\n",
              "      <td>25.0</td>\n",
              "      <td>0</td>\n",
              "      <td>0</td>\n",
              "      <td>7.6500</td>\n",
              "      <td>S</td>\n",
              "    </tr>\n",
              "    <tr>\n",
              "      <th>2</th>\n",
              "      <td>0</td>\n",
              "      <td>3</td>\n",
              "      <td>male</td>\n",
              "      <td>20.0</td>\n",
              "      <td>0</td>\n",
              "      <td>0</td>\n",
              "      <td>7.8542</td>\n",
              "      <td>S</td>\n",
              "    </tr>\n",
              "    <tr>\n",
              "      <th>3</th>\n",
              "      <td>0</td>\n",
              "      <td>3</td>\n",
              "      <td>female</td>\n",
              "      <td>29.0</td>\n",
              "      <td>0</td>\n",
              "      <td>4</td>\n",
              "      <td>21.0750</td>\n",
              "      <td>S</td>\n",
              "    </tr>\n",
              "    <tr>\n",
              "      <th>4</th>\n",
              "      <td>0</td>\n",
              "      <td>1</td>\n",
              "      <td>male</td>\n",
              "      <td>31.0</td>\n",
              "      <td>1</td>\n",
              "      <td>0</td>\n",
              "      <td>52.0000</td>\n",
              "      <td>S</td>\n",
              "    </tr>\n",
              "  </tbody>\n",
              "</table>\n",
              "</div>"
            ],
            "text/plain": [
              "   Survived  Pclass     Sex   Age  SibSp  Parch     Fare Embarked\n",
              "0         0       2    male  28.0      0      0  13.0000        S\n",
              "1         0       3    male  25.0      0      0   7.6500        S\n",
              "2         0       3    male  20.0      0      0   7.8542        S\n",
              "3         0       3  female  29.0      0      4  21.0750        S\n",
              "4         0       1    male  31.0      1      0  52.0000        S"
            ]
          },
          "metadata": {},
          "execution_count": 27
        }
      ]
    },
    {
      "cell_type": "code",
      "source": [
        "new_data['Title'] = df.Name.apply(lambda x: x.split(',')[1].split('.')[0].strip())\n",
        "new_data.head()"
      ],
      "metadata": {
        "colab": {
          "base_uri": "https://localhost:8080/",
          "height": 206
        },
        "id": "XISKbQRRD1H0",
        "outputId": "283a3224-371e-41cf-d428-b636c3e0109c"
      },
      "execution_count": 28,
      "outputs": [
        {
          "output_type": "execute_result",
          "data": {
            "text/html": [
              "<div>\n",
              "<style scoped>\n",
              "    .dataframe tbody tr th:only-of-type {\n",
              "        vertical-align: middle;\n",
              "    }\n",
              "\n",
              "    .dataframe tbody tr th {\n",
              "        vertical-align: top;\n",
              "    }\n",
              "\n",
              "    .dataframe thead th {\n",
              "        text-align: right;\n",
              "    }\n",
              "</style>\n",
              "<table border=\"1\" class=\"dataframe\">\n",
              "  <thead>\n",
              "    <tr style=\"text-align: right;\">\n",
              "      <th></th>\n",
              "      <th>Survived</th>\n",
              "      <th>Pclass</th>\n",
              "      <th>Sex</th>\n",
              "      <th>Age</th>\n",
              "      <th>SibSp</th>\n",
              "      <th>Parch</th>\n",
              "      <th>Fare</th>\n",
              "      <th>Embarked</th>\n",
              "      <th>Title</th>\n",
              "    </tr>\n",
              "  </thead>\n",
              "  <tbody>\n",
              "    <tr>\n",
              "      <th>0</th>\n",
              "      <td>0</td>\n",
              "      <td>2</td>\n",
              "      <td>male</td>\n",
              "      <td>28.0</td>\n",
              "      <td>0</td>\n",
              "      <td>0</td>\n",
              "      <td>13.0000</td>\n",
              "      <td>S</td>\n",
              "      <td>Mr</td>\n",
              "    </tr>\n",
              "    <tr>\n",
              "      <th>1</th>\n",
              "      <td>0</td>\n",
              "      <td>3</td>\n",
              "      <td>male</td>\n",
              "      <td>25.0</td>\n",
              "      <td>0</td>\n",
              "      <td>0</td>\n",
              "      <td>7.6500</td>\n",
              "      <td>S</td>\n",
              "      <td>Mr</td>\n",
              "    </tr>\n",
              "    <tr>\n",
              "      <th>2</th>\n",
              "      <td>0</td>\n",
              "      <td>3</td>\n",
              "      <td>male</td>\n",
              "      <td>20.0</td>\n",
              "      <td>0</td>\n",
              "      <td>0</td>\n",
              "      <td>7.8542</td>\n",
              "      <td>S</td>\n",
              "      <td>Mr</td>\n",
              "    </tr>\n",
              "    <tr>\n",
              "      <th>3</th>\n",
              "      <td>0</td>\n",
              "      <td>3</td>\n",
              "      <td>female</td>\n",
              "      <td>29.0</td>\n",
              "      <td>0</td>\n",
              "      <td>4</td>\n",
              "      <td>21.0750</td>\n",
              "      <td>S</td>\n",
              "      <td>Mrs</td>\n",
              "    </tr>\n",
              "    <tr>\n",
              "      <th>4</th>\n",
              "      <td>0</td>\n",
              "      <td>1</td>\n",
              "      <td>male</td>\n",
              "      <td>31.0</td>\n",
              "      <td>1</td>\n",
              "      <td>0</td>\n",
              "      <td>52.0000</td>\n",
              "      <td>S</td>\n",
              "      <td>Mr</td>\n",
              "    </tr>\n",
              "  </tbody>\n",
              "</table>\n",
              "</div>"
            ],
            "text/plain": [
              "   Survived  Pclass     Sex   Age  SibSp  Parch     Fare Embarked Title\n",
              "0         0       2    male  28.0      0      0  13.0000        S    Mr\n",
              "1         0       3    male  25.0      0      0   7.6500        S    Mr\n",
              "2         0       3    male  20.0      0      0   7.8542        S    Mr\n",
              "3         0       3  female  29.0      0      4  21.0750        S   Mrs\n",
              "4         0       1    male  31.0      1      0  52.0000        S    Mr"
            ]
          },
          "metadata": {},
          "execution_count": 28
        }
      ]
    },
    {
      "cell_type": "code",
      "source": [
        "print(new_data[\"Title\"].value_counts())"
      ],
      "metadata": {
        "colab": {
          "base_uri": "https://localhost:8080/"
        },
        "id": "2S8fekeAD9ul",
        "outputId": "a7b4a733-c8f6-4fa1-98d3-20e2d3552a46"
      },
      "execution_count": 29,
      "outputs": [
        {
          "output_type": "stream",
          "name": "stdout",
          "text": [
            "Mr              517\n",
            "Miss            182\n",
            "Mrs             125\n",
            "Master           40\n",
            "Dr                7\n",
            "Rev               6\n",
            "Major             2\n",
            "Mlle              2\n",
            "Col               2\n",
            "the Countess      1\n",
            "Ms                1\n",
            "Mme               1\n",
            "Capt              1\n",
            "Sir               1\n",
            "Jonkheer          1\n",
            "Don               1\n",
            "Lady              1\n",
            "Name: Title, dtype: int64\n"
          ]
        }
      ]
    },
    {
      "cell_type": "code",
      "source": [
        "new_data[[\"Age\", \"Title\"]].groupby([\"Title\"], as_index=True).mean()"
      ],
      "metadata": {
        "colab": {
          "base_uri": "https://localhost:8080/",
          "height": 614
        },
        "id": "rVFRPc7RETRP",
        "outputId": "5ce54abe-f121-423b-8c16-4ec26b60e86e"
      },
      "execution_count": 30,
      "outputs": [
        {
          "output_type": "execute_result",
          "data": {
            "text/html": [
              "<div>\n",
              "<style scoped>\n",
              "    .dataframe tbody tr th:only-of-type {\n",
              "        vertical-align: middle;\n",
              "    }\n",
              "\n",
              "    .dataframe tbody tr th {\n",
              "        vertical-align: top;\n",
              "    }\n",
              "\n",
              "    .dataframe thead th {\n",
              "        text-align: right;\n",
              "    }\n",
              "</style>\n",
              "<table border=\"1\" class=\"dataframe\">\n",
              "  <thead>\n",
              "    <tr style=\"text-align: right;\">\n",
              "      <th></th>\n",
              "      <th>Age</th>\n",
              "    </tr>\n",
              "    <tr>\n",
              "      <th>Title</th>\n",
              "      <th></th>\n",
              "    </tr>\n",
              "  </thead>\n",
              "  <tbody>\n",
              "    <tr>\n",
              "      <th>Capt</th>\n",
              "      <td>70.000000</td>\n",
              "    </tr>\n",
              "    <tr>\n",
              "      <th>Col</th>\n",
              "      <td>58.000000</td>\n",
              "    </tr>\n",
              "    <tr>\n",
              "      <th>Don</th>\n",
              "      <td>40.000000</td>\n",
              "    </tr>\n",
              "    <tr>\n",
              "      <th>Dr</th>\n",
              "      <td>40.242731</td>\n",
              "    </tr>\n",
              "    <tr>\n",
              "      <th>Jonkheer</th>\n",
              "      <td>38.000000</td>\n",
              "    </tr>\n",
              "    <tr>\n",
              "      <th>Lady</th>\n",
              "      <td>48.000000</td>\n",
              "    </tr>\n",
              "    <tr>\n",
              "      <th>Major</th>\n",
              "      <td>48.500000</td>\n",
              "    </tr>\n",
              "    <tr>\n",
              "      <th>Master</th>\n",
              "      <td>7.086662</td>\n",
              "    </tr>\n",
              "    <tr>\n",
              "      <th>Miss</th>\n",
              "      <td>23.341584</td>\n",
              "    </tr>\n",
              "    <tr>\n",
              "      <th>Mlle</th>\n",
              "      <td>24.000000</td>\n",
              "    </tr>\n",
              "    <tr>\n",
              "      <th>Mme</th>\n",
              "      <td>24.000000</td>\n",
              "    </tr>\n",
              "    <tr>\n",
              "      <th>Mr</th>\n",
              "      <td>31.753762</td>\n",
              "    </tr>\n",
              "    <tr>\n",
              "      <th>Mrs</th>\n",
              "      <td>35.055080</td>\n",
              "    </tr>\n",
              "    <tr>\n",
              "      <th>Ms</th>\n",
              "      <td>28.000000</td>\n",
              "    </tr>\n",
              "    <tr>\n",
              "      <th>Rev</th>\n",
              "      <td>43.166667</td>\n",
              "    </tr>\n",
              "    <tr>\n",
              "      <th>Sir</th>\n",
              "      <td>49.000000</td>\n",
              "    </tr>\n",
              "    <tr>\n",
              "      <th>the Countess</th>\n",
              "      <td>33.000000</td>\n",
              "    </tr>\n",
              "  </tbody>\n",
              "</table>\n",
              "</div>"
            ],
            "text/plain": [
              "                    Age\n",
              "Title                  \n",
              "Capt          70.000000\n",
              "Col           58.000000\n",
              "Don           40.000000\n",
              "Dr            40.242731\n",
              "Jonkheer      38.000000\n",
              "Lady          48.000000\n",
              "Major         48.500000\n",
              "Master         7.086662\n",
              "Miss          23.341584\n",
              "Mlle          24.000000\n",
              "Mme           24.000000\n",
              "Mr            31.753762\n",
              "Mrs           35.055080\n",
              "Ms            28.000000\n",
              "Rev           43.166667\n",
              "Sir           49.000000\n",
              "the Countess  33.000000"
            ]
          },
          "metadata": {},
          "execution_count": 30
        }
      ]
    },
    {
      "cell_type": "code",
      "source": [
        "new_data[[\"Fare\", \"Title\"]].groupby([\"Title\"], as_index=True).mean()"
      ],
      "metadata": {
        "colab": {
          "base_uri": "https://localhost:8080/",
          "height": 614
        },
        "id": "pYaqH_lcEcs0",
        "outputId": "d7466f7d-1eb9-4081-e92d-58a91354007a"
      },
      "execution_count": 31,
      "outputs": [
        {
          "output_type": "execute_result",
          "data": {
            "text/html": [
              "<div>\n",
              "<style scoped>\n",
              "    .dataframe tbody tr th:only-of-type {\n",
              "        vertical-align: middle;\n",
              "    }\n",
              "\n",
              "    .dataframe tbody tr th {\n",
              "        vertical-align: top;\n",
              "    }\n",
              "\n",
              "    .dataframe thead th {\n",
              "        text-align: right;\n",
              "    }\n",
              "</style>\n",
              "<table border=\"1\" class=\"dataframe\">\n",
              "  <thead>\n",
              "    <tr style=\"text-align: right;\">\n",
              "      <th></th>\n",
              "      <th>Fare</th>\n",
              "    </tr>\n",
              "    <tr>\n",
              "      <th>Title</th>\n",
              "      <th></th>\n",
              "    </tr>\n",
              "  </thead>\n",
              "  <tbody>\n",
              "    <tr>\n",
              "      <th>Capt</th>\n",
              "      <td>71.000000</td>\n",
              "    </tr>\n",
              "    <tr>\n",
              "      <th>Col</th>\n",
              "      <td>31.025000</td>\n",
              "    </tr>\n",
              "    <tr>\n",
              "      <th>Don</th>\n",
              "      <td>27.720800</td>\n",
              "    </tr>\n",
              "    <tr>\n",
              "      <th>Dr</th>\n",
              "      <td>49.168457</td>\n",
              "    </tr>\n",
              "    <tr>\n",
              "      <th>Jonkheer</th>\n",
              "      <td>0.000000</td>\n",
              "    </tr>\n",
              "    <tr>\n",
              "      <th>Lady</th>\n",
              "      <td>39.600000</td>\n",
              "    </tr>\n",
              "    <tr>\n",
              "      <th>Major</th>\n",
              "      <td>28.525000</td>\n",
              "    </tr>\n",
              "    <tr>\n",
              "      <th>Master</th>\n",
              "      <td>34.703125</td>\n",
              "    </tr>\n",
              "    <tr>\n",
              "      <th>Miss</th>\n",
              "      <td>43.797873</td>\n",
              "    </tr>\n",
              "    <tr>\n",
              "      <th>Mlle</th>\n",
              "      <td>59.402100</td>\n",
              "    </tr>\n",
              "    <tr>\n",
              "      <th>Mme</th>\n",
              "      <td>69.300000</td>\n",
              "    </tr>\n",
              "    <tr>\n",
              "      <th>Mr</th>\n",
              "      <td>24.441560</td>\n",
              "    </tr>\n",
              "    <tr>\n",
              "      <th>Mrs</th>\n",
              "      <td>45.138533</td>\n",
              "    </tr>\n",
              "    <tr>\n",
              "      <th>Ms</th>\n",
              "      <td>13.000000</td>\n",
              "    </tr>\n",
              "    <tr>\n",
              "      <th>Rev</th>\n",
              "      <td>18.312500</td>\n",
              "    </tr>\n",
              "    <tr>\n",
              "      <th>Sir</th>\n",
              "      <td>56.929200</td>\n",
              "    </tr>\n",
              "    <tr>\n",
              "      <th>the Countess</th>\n",
              "      <td>86.500000</td>\n",
              "    </tr>\n",
              "  </tbody>\n",
              "</table>\n",
              "</div>"
            ],
            "text/plain": [
              "                   Fare\n",
              "Title                  \n",
              "Capt          71.000000\n",
              "Col           31.025000\n",
              "Don           27.720800\n",
              "Dr            49.168457\n",
              "Jonkheer       0.000000\n",
              "Lady          39.600000\n",
              "Major         28.525000\n",
              "Master        34.703125\n",
              "Miss          43.797873\n",
              "Mlle          59.402100\n",
              "Mme           69.300000\n",
              "Mr            24.441560\n",
              "Mrs           45.138533\n",
              "Ms            13.000000\n",
              "Rev           18.312500\n",
              "Sir           56.929200\n",
              "the Countess  86.500000"
            ]
          },
          "metadata": {},
          "execution_count": 31
        }
      ]
    },
    {
      "cell_type": "code",
      "source": [
        "g=sns.FacetGrid(new_data, col=\"Sex\")\n",
        "g.map(plt.hist, \"Title\", bins=10)"
      ],
      "metadata": {
        "colab": {
          "base_uri": "https://localhost:8080/",
          "height": 243
        },
        "id": "IuA9ChUrEnzt",
        "outputId": "63f646dd-636c-409c-f116-a7bcce8d0c70"
      },
      "execution_count": 34,
      "outputs": [
        {
          "output_type": "execute_result",
          "data": {
            "text/plain": [
              "<seaborn.axisgrid.FacetGrid at 0x7f603a47ffd0>"
            ]
          },
          "metadata": {},
          "execution_count": 34
        },
        {
          "output_type": "display_data",
          "data": {
            "image/png": "[encoded data removed]",
            "text/plain": [
              "<Figure size 432x216 with 2 Axes>"
            ]
          },
          "metadata": {
            "needs_background": "light"
          }
        }
      ]
    },
    {
      "cell_type": "code",
      "source": [
        "Title_Dictionary={\"Capt\": \"Officer\",\n",
        "                  \n",
        "                  \"Col\": \"Officer\", \n",
        "                  \n",
        "                  \"Major\": \"Officer\",\n",
        "                  \n",
        "                  \"Dr\": \"Officer\", \n",
        "                  \n",
        "                  \"Rev\": \"Officer\",\n",
        "                  \n",
        "                  \"Jonkheer\": \"Royalty\",\n",
        "                  \n",
        "                  \"Don\": \"Royalty\", \n",
        "                  \n",
        "                  \"Sir\": \"Royalty\",\n",
        "                  \n",
        "                  \"Lady\": \"Royalty\",\n",
        "                  \n",
        "                  \"the Countess\": \"Royalty\",\n",
        "                  \n",
        "                  \"Dona\": \"Royalty\", \n",
        "                  \n",
        "                  \"Mme\": \"Miss\",\n",
        "                  \n",
        "                  \"Mlle\": \"Miss\",\n",
        "                  \n",
        "                  \"Miss\": \"Miss\",\n",
        "                  \n",
        "                  \"Ms\": \"Mrs\", \n",
        "                  \n",
        "                  \"Mr\": \"Mrs\",\n",
        "                  \n",
        "                  \"Mrs\": \"Mrs\", \n",
        "                  \n",
        "                  \"Master\": \"Master\" \n",
        "}\n"
      ],
      "metadata": {
        "id": "TWn4NSO7E59x"
      },
      "execution_count": 36,
      "outputs": []
    },
    {
      "cell_type": "code",
      "source": [
        "new_data['Title'] = new_data['Title'].map(Title_Dictionary)\n",
        "new_data.head()"
      ],
      "metadata": {
        "colab": {
          "base_uri": "https://localhost:8080/",
          "height": 206
        },
        "id": "VChxIb6VFgrY",
        "outputId": "89ba8ec3-64c4-4f26-9f10-9dfba2c1bc60"
      },
      "execution_count": 37,
      "outputs": [
        {
          "output_type": "execute_result",
          "data": {
            "text/html": [
              "<div>\n",
              "<style scoped>\n",
              "    .dataframe tbody tr th:only-of-type {\n",
              "        vertical-align: middle;\n",
              "    }\n",
              "\n",
              "    .dataframe tbody tr th {\n",
              "        vertical-align: top;\n",
              "    }\n",
              "\n",
              "    .dataframe thead th {\n",
              "        text-align: right;\n",
              "    }\n",
              "</style>\n",
              "<table border=\"1\" class=\"dataframe\">\n",
              "  <thead>\n",
              "    <tr style=\"text-align: right;\">\n",
              "      <th></th>\n",
              "      <th>Survived</th>\n",
              "      <th>Pclass</th>\n",
              "      <th>Sex</th>\n",
              "      <th>Age</th>\n",
              "      <th>SibSp</th>\n",
              "      <th>Parch</th>\n",
              "      <th>Fare</th>\n",
              "      <th>Embarked</th>\n",
              "      <th>Title</th>\n",
              "    </tr>\n",
              "  </thead>\n",
              "  <tbody>\n",
              "    <tr>\n",
              "      <th>0</th>\n",
              "      <td>0</td>\n",
              "      <td>2</td>\n",
              "      <td>male</td>\n",
              "      <td>28.0</td>\n",
              "      <td>0</td>\n",
              "      <td>0</td>\n",
              "      <td>13.0000</td>\n",
              "      <td>S</td>\n",
              "      <td>Mrs</td>\n",
              "    </tr>\n",
              "    <tr>\n",
              "      <th>1</th>\n",
              "      <td>0</td>\n",
              "      <td>3</td>\n",
              "      <td>male</td>\n",
              "      <td>25.0</td>\n",
              "      <td>0</td>\n",
              "      <td>0</td>\n",
              "      <td>7.6500</td>\n",
              "      <td>S</td>\n",
              "      <td>Mrs</td>\n",
              "    </tr>\n",
              "    <tr>\n",
              "      <th>2</th>\n",
              "      <td>0</td>\n",
              "      <td>3</td>\n",
              "      <td>male</td>\n",
              "      <td>20.0</td>\n",
              "      <td>0</td>\n",
              "      <td>0</td>\n",
              "      <td>7.8542</td>\n",
              "      <td>S</td>\n",
              "      <td>Mrs</td>\n",
              "    </tr>\n",
              "    <tr>\n",
              "      <th>3</th>\n",
              "      <td>0</td>\n",
              "      <td>3</td>\n",
              "      <td>female</td>\n",
              "      <td>29.0</td>\n",
              "      <td>0</td>\n",
              "      <td>4</td>\n",
              "      <td>21.0750</td>\n",
              "      <td>S</td>\n",
              "      <td>Mrs</td>\n",
              "    </tr>\n",
              "    <tr>\n",
              "      <th>4</th>\n",
              "      <td>0</td>\n",
              "      <td>1</td>\n",
              "      <td>male</td>\n",
              "      <td>31.0</td>\n",
              "      <td>1</td>\n",
              "      <td>0</td>\n",
              "      <td>52.0000</td>\n",
              "      <td>S</td>\n",
              "      <td>Mrs</td>\n",
              "    </tr>\n",
              "  </tbody>\n",
              "</table>\n",
              "</div>"
            ],
            "text/plain": [
              "   Survived  Pclass     Sex   Age  SibSp  Parch     Fare Embarked Title\n",
              "0         0       2    male  28.0      0      0  13.0000        S   Mrs\n",
              "1         0       3    male  25.0      0      0   7.6500        S   Mrs\n",
              "2         0       3    male  20.0      0      0   7.8542        S   Mrs\n",
              "3         0       3  female  29.0      0      4  21.0750        S   Mrs\n",
              "4         0       1    male  31.0      1      0  52.0000        S   Mrs"
            ]
          },
          "metadata": {},
          "execution_count": 37
        }
      ]
    },
    {
      "cell_type": "code",
      "source": [
        "print(new_data[\"Title\"].value_counts())"
      ],
      "metadata": {
        "colab": {
          "base_uri": "https://localhost:8080/"
        },
        "id": "Dh7lydOIFnLI",
        "outputId": "a551ef09-9fa1-43eb-f1af-6e17cf253c6a"
      },
      "execution_count": 38,
      "outputs": [
        {
          "output_type": "stream",
          "name": "stdout",
          "text": [
            "Mrs        643\n",
            "Miss       185\n",
            "Master      40\n",
            "Officer     18\n",
            "Royalty      5\n",
            "Name: Title, dtype: int64\n"
          ]
        }
      ]
    },
    {
      "cell_type": "code",
      "source": [
        "new_data[[\"Age\", \"Title\"]].groupby([\"Title\"], as_index=True).mean()"
      ],
      "metadata": {
        "colab": {
          "base_uri": "https://localhost:8080/",
          "height": 237
        },
        "id": "UIpUPIkFFuOJ",
        "outputId": "22c0ab1e-8f14-4ebe-ec8e-01c003d3e85e"
      },
      "execution_count": 39,
      "outputs": [
        {
          "output_type": "execute_result",
          "data": {
            "text/html": [
              "<div>\n",
              "<style scoped>\n",
              "    .dataframe tbody tr th:only-of-type {\n",
              "        vertical-align: middle;\n",
              "    }\n",
              "\n",
              "    .dataframe tbody tr th {\n",
              "        vertical-align: top;\n",
              "    }\n",
              "\n",
              "    .dataframe thead th {\n",
              "        text-align: right;\n",
              "    }\n",
              "</style>\n",
              "<table border=\"1\" class=\"dataframe\">\n",
              "  <thead>\n",
              "    <tr style=\"text-align: right;\">\n",
              "      <th></th>\n",
              "      <th>Age</th>\n",
              "    </tr>\n",
              "    <tr>\n",
              "      <th>Title</th>\n",
              "      <th></th>\n",
              "    </tr>\n",
              "  </thead>\n",
              "  <tbody>\n",
              "    <tr>\n",
              "      <th>Master</th>\n",
              "      <td>7.086662</td>\n",
              "    </tr>\n",
              "    <tr>\n",
              "      <th>Miss</th>\n",
              "      <td>23.352261</td>\n",
              "    </tr>\n",
              "    <tr>\n",
              "      <th>Mrs</th>\n",
              "      <td>32.389705</td>\n",
              "    </tr>\n",
              "    <tr>\n",
              "      <th>Officer</th>\n",
              "      <td>45.761062</td>\n",
              "    </tr>\n",
              "    <tr>\n",
              "      <th>Royalty</th>\n",
              "      <td>41.600000</td>\n",
              "    </tr>\n",
              "  </tbody>\n",
              "</table>\n",
              "</div>"
            ],
            "text/plain": [
              "               Age\n",
              "Title             \n",
              "Master    7.086662\n",
              "Miss     23.352261\n",
              "Mrs      32.389705\n",
              "Officer  45.761062\n",
              "Royalty  41.600000"
            ]
          },
          "metadata": {},
          "execution_count": 39
        }
      ]
    },
    {
      "cell_type": "code",
      "source": [
        "new_data[[\"Age\", \"Title\"]].groupby([\"Title\"], as_index=True).mean()"
      ],
      "metadata": {
        "colab": {
          "base_uri": "https://localhost:8080/",
          "height": 237
        },
        "id": "dgCQUwZcFyMx",
        "outputId": "dfde7c24-76a6-44f9-aff2-5a888679af04"
      },
      "execution_count": 40,
      "outputs": [
        {
          "output_type": "execute_result",
          "data": {
            "text/html": [
              "<div>\n",
              "<style scoped>\n",
              "    .dataframe tbody tr th:only-of-type {\n",
              "        vertical-align: middle;\n",
              "    }\n",
              "\n",
              "    .dataframe tbody tr th {\n",
              "        vertical-align: top;\n",
              "    }\n",
              "\n",
              "    .dataframe thead th {\n",
              "        text-align: right;\n",
              "    }\n",
              "</style>\n",
              "<table border=\"1\" class=\"dataframe\">\n",
              "  <thead>\n",
              "    <tr style=\"text-align: right;\">\n",
              "      <th></th>\n",
              "      <th>Age</th>\n",
              "    </tr>\n",
              "    <tr>\n",
              "      <th>Title</th>\n",
              "      <th></th>\n",
              "    </tr>\n",
              "  </thead>\n",
              "  <tbody>\n",
              "    <tr>\n",
              "      <th>Master</th>\n",
              "      <td>7.086662</td>\n",
              "    </tr>\n",
              "    <tr>\n",
              "      <th>Miss</th>\n",
              "      <td>23.352261</td>\n",
              "    </tr>\n",
              "    <tr>\n",
              "      <th>Mrs</th>\n",
              "      <td>32.389705</td>\n",
              "    </tr>\n",
              "    <tr>\n",
              "      <th>Officer</th>\n",
              "      <td>45.761062</td>\n",
              "    </tr>\n",
              "    <tr>\n",
              "      <th>Royalty</th>\n",
              "      <td>41.600000</td>\n",
              "    </tr>\n",
              "  </tbody>\n",
              "</table>\n",
              "</div>"
            ],
            "text/plain": [
              "               Age\n",
              "Title             \n",
              "Master    7.086662\n",
              "Miss     23.352261\n",
              "Mrs      32.389705\n",
              "Officer  45.761062\n",
              "Royalty  41.600000"
            ]
          },
          "metadata": {},
          "execution_count": 40
        }
      ]
    },
    {
      "cell_type": "code",
      "source": [
        "new_data[[\"Pclass\", \"Title\"]].groupby([\"Title\"], as_index=True).mean()"
      ],
      "metadata": {
        "colab": {
          "base_uri": "https://localhost:8080/",
          "height": 237
        },
        "id": "tashAjTzF45F",
        "outputId": "536dd283-de19-486b-a526-2c87eba5cff7"
      },
      "execution_count": 41,
      "outputs": [
        {
          "output_type": "execute_result",
          "data": {
            "text/html": [
              "<div>\n",
              "<style scoped>\n",
              "    .dataframe tbody tr th:only-of-type {\n",
              "        vertical-align: middle;\n",
              "    }\n",
              "\n",
              "    .dataframe tbody tr th {\n",
              "        vertical-align: top;\n",
              "    }\n",
              "\n",
              "    .dataframe thead th {\n",
              "        text-align: right;\n",
              "    }\n",
              "</style>\n",
              "<table border=\"1\" class=\"dataframe\">\n",
              "  <thead>\n",
              "    <tr style=\"text-align: right;\">\n",
              "      <th></th>\n",
              "      <th>Pclass</th>\n",
              "    </tr>\n",
              "    <tr>\n",
              "      <th>Title</th>\n",
              "      <th></th>\n",
              "    </tr>\n",
              "  </thead>\n",
              "  <tbody>\n",
              "    <tr>\n",
              "      <th>Master</th>\n",
              "      <td>2.625000</td>\n",
              "    </tr>\n",
              "    <tr>\n",
              "      <th>Miss</th>\n",
              "      <td>2.286486</td>\n",
              "    </tr>\n",
              "    <tr>\n",
              "      <th>Mrs</th>\n",
              "      <td>2.329705</td>\n",
              "    </tr>\n",
              "    <tr>\n",
              "      <th>Officer</th>\n",
              "      <td>1.444444</td>\n",
              "    </tr>\n",
              "    <tr>\n",
              "      <th>Royalty</th>\n",
              "      <td>1.000000</td>\n",
              "    </tr>\n",
              "  </tbody>\n",
              "</table>\n",
              "</div>"
            ],
            "text/plain": [
              "           Pclass\n",
              "Title            \n",
              "Master   2.625000\n",
              "Miss     2.286486\n",
              "Mrs      2.329705\n",
              "Officer  1.444444\n",
              "Royalty  1.000000"
            ]
          },
          "metadata": {},
          "execution_count": 41
        }
      ]
    },
    {
      "cell_type": "code",
      "source": [
        "g=sns.FacetGrid(new_data, col=\"Sex\")\n",
        "g.map(plt.hist, \"Title\", bins=10)"
      ],
      "metadata": {
        "colab": {
          "base_uri": "https://localhost:8080/",
          "height": 243
        },
        "id": "ihMGCjwdGAfQ",
        "outputId": "59e9a848-ac15-41ac-fb8a-9472275a3fda"
      },
      "execution_count": 42,
      "outputs": [
        {
          "output_type": "execute_result",
          "data": {
            "text/plain": [
              "<seaborn.axisgrid.FacetGrid at 0x7f603a49e950>"
            ]
          },
          "metadata": {},
          "execution_count": 42
        },
        {
          "output_type": "display_data",
          "data": {
            "image/png": "[encoded data removed]",
            "text/plain": [
              "<Figure size 432x216 with 2 Axes>"
            ]
          },
          "metadata": {
            "needs_background": "light"
          }
        }
      ]
    },
    {
      "cell_type": "code",
      "source": [
        "new_data[\"FamilySize\"]= new_data[\"SibSp\"]+new_data[\"Parch\"]\n",
        "new_data= new_data.drop(\"SibSp\", axis= 1)\n",
        "new_data= new_data.drop(\"Parch\", axis= 1)"
      ],
      "metadata": {
        "id": "gxo634PmGH-V"
      },
      "execution_count": 43,
      "outputs": []
    },
    {
      "cell_type": "code",
      "source": [
        "new_data.head()"
      ],
      "metadata": {
        "colab": {
          "base_uri": "https://localhost:8080/",
          "height": 206
        },
        "id": "ivDuNs4IGWFW",
        "outputId": "ada73adb-da8c-4167-dc90-e707e4078674"
      },
      "execution_count": 44,
      "outputs": [
        {
          "output_type": "execute_result",
          "data": {
            "text/html": [
              "<div>\n",
              "<style scoped>\n",
              "    .dataframe tbody tr th:only-of-type {\n",
              "        vertical-align: middle;\n",
              "    }\n",
              "\n",
              "    .dataframe tbody tr th {\n",
              "        vertical-align: top;\n",
              "    }\n",
              "\n",
              "    .dataframe thead th {\n",
              "        text-align: right;\n",
              "    }\n",
              "</style>\n",
              "<table border=\"1\" class=\"dataframe\">\n",
              "  <thead>\n",
              "    <tr style=\"text-align: right;\">\n",
              "      <th></th>\n",
              "      <th>Survived</th>\n",
              "      <th>Pclass</th>\n",
              "      <th>Sex</th>\n",
              "      <th>Age</th>\n",
              "      <th>Fare</th>\n",
              "      <th>Embarked</th>\n",
              "      <th>Title</th>\n",
              "      <th>FamilySize</th>\n",
              "    </tr>\n",
              "  </thead>\n",
              "  <tbody>\n",
              "    <tr>\n",
              "      <th>0</th>\n",
              "      <td>0</td>\n",
              "      <td>2</td>\n",
              "      <td>male</td>\n",
              "      <td>28.0</td>\n",
              "      <td>13.0000</td>\n",
              "      <td>S</td>\n",
              "      <td>Mrs</td>\n",
              "      <td>0</td>\n",
              "    </tr>\n",
              "    <tr>\n",
              "      <th>1</th>\n",
              "      <td>0</td>\n",
              "      <td>3</td>\n",
              "      <td>male</td>\n",
              "      <td>25.0</td>\n",
              "      <td>7.6500</td>\n",
              "      <td>S</td>\n",
              "      <td>Mrs</td>\n",
              "      <td>0</td>\n",
              "    </tr>\n",
              "    <tr>\n",
              "      <th>2</th>\n",
              "      <td>0</td>\n",
              "      <td>3</td>\n",
              "      <td>male</td>\n",
              "      <td>20.0</td>\n",
              "      <td>7.8542</td>\n",
              "      <td>S</td>\n",
              "      <td>Mrs</td>\n",
              "      <td>0</td>\n",
              "    </tr>\n",
              "    <tr>\n",
              "      <th>3</th>\n",
              "      <td>0</td>\n",
              "      <td>3</td>\n",
              "      <td>female</td>\n",
              "      <td>29.0</td>\n",
              "      <td>21.0750</td>\n",
              "      <td>S</td>\n",
              "      <td>Mrs</td>\n",
              "      <td>4</td>\n",
              "    </tr>\n",
              "    <tr>\n",
              "      <th>4</th>\n",
              "      <td>0</td>\n",
              "      <td>1</td>\n",
              "      <td>male</td>\n",
              "      <td>31.0</td>\n",
              "      <td>52.0000</td>\n",
              "      <td>S</td>\n",
              "      <td>Mrs</td>\n",
              "      <td>1</td>\n",
              "    </tr>\n",
              "  </tbody>\n",
              "</table>\n",
              "</div>"
            ],
            "text/plain": [
              "   Survived  Pclass     Sex   Age     Fare Embarked Title  FamilySize\n",
              "0         0       2    male  28.0  13.0000        S   Mrs           0\n",
              "1         0       3    male  25.0   7.6500        S   Mrs           0\n",
              "2         0       3    male  20.0   7.8542        S   Mrs           0\n",
              "3         0       3  female  29.0  21.0750        S   Mrs           4\n",
              "4         0       1    male  31.0  52.0000        S   Mrs           1"
            ]
          },
          "metadata": {},
          "execution_count": 44
        }
      ]
    },
    {
      "cell_type": "code",
      "source": [
        "new_data[[\"Survived\", \"FamilySize\"]].groupby([\"FamilySize\"], as_index=True).mean()"
      ],
      "metadata": {
        "colab": {
          "base_uri": "https://localhost:8080/",
          "height": 363
        },
        "id": "pvVoJD7IGo6J",
        "outputId": "f0ea10b1-1cb5-436f-b60e-5d07319a8e0a"
      },
      "execution_count": 45,
      "outputs": [
        {
          "output_type": "execute_result",
          "data": {
            "text/html": [
              "<div>\n",
              "<style scoped>\n",
              "    .dataframe tbody tr th:only-of-type {\n",
              "        vertical-align: middle;\n",
              "    }\n",
              "\n",
              "    .dataframe tbody tr th {\n",
              "        vertical-align: top;\n",
              "    }\n",
              "\n",
              "    .dataframe thead th {\n",
              "        text-align: right;\n",
              "    }\n",
              "</style>\n",
              "<table border=\"1\" class=\"dataframe\">\n",
              "  <thead>\n",
              "    <tr style=\"text-align: right;\">\n",
              "      <th></th>\n",
              "      <th>Survived</th>\n",
              "    </tr>\n",
              "    <tr>\n",
              "      <th>FamilySize</th>\n",
              "      <th></th>\n",
              "    </tr>\n",
              "  </thead>\n",
              "  <tbody>\n",
              "    <tr>\n",
              "      <th>0</th>\n",
              "      <td>0.303538</td>\n",
              "    </tr>\n",
              "    <tr>\n",
              "      <th>1</th>\n",
              "      <td>0.552795</td>\n",
              "    </tr>\n",
              "    <tr>\n",
              "      <th>2</th>\n",
              "      <td>0.578431</td>\n",
              "    </tr>\n",
              "    <tr>\n",
              "      <th>3</th>\n",
              "      <td>0.724138</td>\n",
              "    </tr>\n",
              "    <tr>\n",
              "      <th>4</th>\n",
              "      <td>0.200000</td>\n",
              "    </tr>\n",
              "    <tr>\n",
              "      <th>5</th>\n",
              "      <td>0.136364</td>\n",
              "    </tr>\n",
              "    <tr>\n",
              "      <th>6</th>\n",
              "      <td>0.333333</td>\n",
              "    </tr>\n",
              "    <tr>\n",
              "      <th>7</th>\n",
              "      <td>0.000000</td>\n",
              "    </tr>\n",
              "    <tr>\n",
              "      <th>10</th>\n",
              "      <td>0.000000</td>\n",
              "    </tr>\n",
              "  </tbody>\n",
              "</table>\n",
              "</div>"
            ],
            "text/plain": [
              "            Survived\n",
              "FamilySize          \n",
              "0           0.303538\n",
              "1           0.552795\n",
              "2           0.578431\n",
              "3           0.724138\n",
              "4           0.200000\n",
              "5           0.136364\n",
              "6           0.333333\n",
              "7           0.000000\n",
              "10          0.000000"
            ]
          },
          "metadata": {},
          "execution_count": 45
        }
      ]
    },
    {
      "cell_type": "code",
      "source": [
        "g=sns.FacetGrid(new_data, col=\"Survived\")\n",
        "g.map(plt.hist, \"FamilySize\", bins=10)"
      ],
      "metadata": {
        "colab": {
          "base_uri": "https://localhost:8080/",
          "height": 243
        },
        "id": "rFLXY4i-G0od",
        "outputId": "cd4e8df6-8717-4553-b5a7-e2a6e3ec015b"
      },
      "execution_count": 46,
      "outputs": [
        {
          "output_type": "execute_result",
          "data": {
            "text/plain": [
              "<seaborn.axisgrid.FacetGrid at 0x7f60447e0c90>"
            ]
          },
          "metadata": {},
          "execution_count": 46
        },
        {
          "output_type": "display_data",
          "data": {
            "image/png": "[encoded data removed]",
            "text/plain": [
              "<Figure size 432x216 with 2 Axes>"
            ]
          },
          "metadata": {
            "needs_background": "light"
          }
        }
      ]
    },
    {
      "cell_type": "code",
      "source": [
        "from sklearn.preprocessing import LabelEncoder"
      ],
      "metadata": {
        "id": "2hn0x4CIG4ZE"
      },
      "execution_count": 47,
      "outputs": []
    },
    {
      "cell_type": "code",
      "source": [
        "encoder=LabelEncoder()\n",
        "new_data[\"Title\"]=encoder.fit_transform(new_data[\"Title\"])\n",
        "new_data[\"Embarked\"]=encoder.fit_transform(new_data[\"Embarked\"])\n",
        "new_data[\"Sex\"]=encoder.fit_transform(new_data[\"Sex\"])\n",
        "new_data"
      ],
      "metadata": {
        "colab": {
          "base_uri": "https://localhost:8080/",
          "height": 423
        },
        "id": "xUcSCyWkG_wB",
        "outputId": "74b94f96-ced7-4e7f-ab60-1803f4c3e56d"
      },
      "execution_count": 48,
      "outputs": [
        {
          "output_type": "execute_result",
          "data": {
            "text/html": [
              "<div>\n",
              "<style scoped>\n",
              "    .dataframe tbody tr th:only-of-type {\n",
              "        vertical-align: middle;\n",
              "    }\n",
              "\n",
              "    .dataframe tbody tr th {\n",
              "        vertical-align: top;\n",
              "    }\n",
              "\n",
              "    .dataframe thead th {\n",
              "        text-align: right;\n",
              "    }\n",
              "</style>\n",
              "<table border=\"1\" class=\"dataframe\">\n",
              "  <thead>\n",
              "    <tr style=\"text-align: right;\">\n",
              "      <th></th>\n",
              "      <th>Survived</th>\n",
              "      <th>Pclass</th>\n",
              "      <th>Sex</th>\n",
              "      <th>Age</th>\n",
              "      <th>Fare</th>\n",
              "      <th>Embarked</th>\n",
              "      <th>Title</th>\n",
              "      <th>FamilySize</th>\n",
              "    </tr>\n",
              "  </thead>\n",
              "  <tbody>\n",
              "    <tr>\n",
              "      <th>0</th>\n",
              "      <td>0</td>\n",
              "      <td>2</td>\n",
              "      <td>1</td>\n",
              "      <td>28.000000</td>\n",
              "      <td>13.0000</td>\n",
              "      <td>2</td>\n",
              "      <td>2</td>\n",
              "      <td>0</td>\n",
              "    </tr>\n",
              "    <tr>\n",
              "      <th>1</th>\n",
              "      <td>0</td>\n",
              "      <td>3</td>\n",
              "      <td>1</td>\n",
              "      <td>25.000000</td>\n",
              "      <td>7.6500</td>\n",
              "      <td>2</td>\n",
              "      <td>2</td>\n",
              "      <td>0</td>\n",
              "    </tr>\n",
              "    <tr>\n",
              "      <th>2</th>\n",
              "      <td>0</td>\n",
              "      <td>3</td>\n",
              "      <td>1</td>\n",
              "      <td>20.000000</td>\n",
              "      <td>7.8542</td>\n",
              "      <td>2</td>\n",
              "      <td>2</td>\n",
              "      <td>0</td>\n",
              "    </tr>\n",
              "    <tr>\n",
              "      <th>3</th>\n",
              "      <td>0</td>\n",
              "      <td>3</td>\n",
              "      <td>0</td>\n",
              "      <td>29.000000</td>\n",
              "      <td>21.0750</td>\n",
              "      <td>2</td>\n",
              "      <td>2</td>\n",
              "      <td>4</td>\n",
              "    </tr>\n",
              "    <tr>\n",
              "      <th>4</th>\n",
              "      <td>0</td>\n",
              "      <td>1</td>\n",
              "      <td>1</td>\n",
              "      <td>31.000000</td>\n",
              "      <td>52.0000</td>\n",
              "      <td>2</td>\n",
              "      <td>2</td>\n",
              "      <td>1</td>\n",
              "    </tr>\n",
              "    <tr>\n",
              "      <th>...</th>\n",
              "      <td>...</td>\n",
              "      <td>...</td>\n",
              "      <td>...</td>\n",
              "      <td>...</td>\n",
              "      <td>...</td>\n",
              "      <td>...</td>\n",
              "      <td>...</td>\n",
              "      <td>...</td>\n",
              "    </tr>\n",
              "    <tr>\n",
              "      <th>886</th>\n",
              "      <td>1</td>\n",
              "      <td>2</td>\n",
              "      <td>0</td>\n",
              "      <td>14.000000</td>\n",
              "      <td>30.0708</td>\n",
              "      <td>0</td>\n",
              "      <td>2</td>\n",
              "      <td>1</td>\n",
              "    </tr>\n",
              "    <tr>\n",
              "      <th>887</th>\n",
              "      <td>0</td>\n",
              "      <td>3</td>\n",
              "      <td>1</td>\n",
              "      <td>22.000000</td>\n",
              "      <td>7.2292</td>\n",
              "      <td>0</td>\n",
              "      <td>2</td>\n",
              "      <td>0</td>\n",
              "    </tr>\n",
              "    <tr>\n",
              "      <th>888</th>\n",
              "      <td>0</td>\n",
              "      <td>3</td>\n",
              "      <td>0</td>\n",
              "      <td>30.000000</td>\n",
              "      <td>8.6625</td>\n",
              "      <td>2</td>\n",
              "      <td>1</td>\n",
              "      <td>0</td>\n",
              "    </tr>\n",
              "    <tr>\n",
              "      <th>889</th>\n",
              "      <td>0</td>\n",
              "      <td>3</td>\n",
              "      <td>1</td>\n",
              "      <td>29.699118</td>\n",
              "      <td>7.8958</td>\n",
              "      <td>2</td>\n",
              "      <td>2</td>\n",
              "      <td>0</td>\n",
              "    </tr>\n",
              "    <tr>\n",
              "      <th>890</th>\n",
              "      <td>1</td>\n",
              "      <td>2</td>\n",
              "      <td>0</td>\n",
              "      <td>19.000000</td>\n",
              "      <td>26.0000</td>\n",
              "      <td>2</td>\n",
              "      <td>1</td>\n",
              "      <td>0</td>\n",
              "    </tr>\n",
              "  </tbody>\n",
              "</table>\n",
              "<p>891 rows × 8 columns</p>\n",
              "</div>"
            ],
            "text/plain": [
              "     Survived  Pclass  Sex        Age     Fare  Embarked  Title  FamilySize\n",
              "0           0       2    1  28.000000  13.0000         2      2           0\n",
              "1           0       3    1  25.000000   7.6500         2      2           0\n",
              "2           0       3    1  20.000000   7.8542         2      2           0\n",
              "3           0       3    0  29.000000  21.0750         2      2           4\n",
              "4           0       1    1  31.000000  52.0000         2      2           1\n",
              "..        ...     ...  ...        ...      ...       ...    ...         ...\n",
              "886         1       2    0  14.000000  30.0708         0      2           1\n",
              "887         0       3    1  22.000000   7.2292         0      2           0\n",
              "888         0       3    0  30.000000   8.6625         2      1           0\n",
              "889         0       3    1  29.699118   7.8958         2      2           0\n",
              "890         1       2    0  19.000000  26.0000         2      1           0\n",
              "\n",
              "[891 rows x 8 columns]"
            ]
          },
          "metadata": {},
          "execution_count": 48
        }
      ]
    },
    {
      "cell_type": "markdown",
      "source": [
        "Decision Tree\n",
        "\n",
        "Features' Extraction"
      ],
      "metadata": {
        "id": "ATl4U5FxHNit"
      }
    },
    {
      "cell_type": "code",
      "source": [
        "X = new_data[[\"Pclass\", \"Age\", \"Sex\", \"FamilySize\", \"Fare\", \"Title\"]]\n",
        "y = new_data[\"Survived\"]"
      ],
      "metadata": {
        "id": "vc1t2ajpHF4r"
      },
      "execution_count": 49,
      "outputs": []
    },
    {
      "cell_type": "markdown",
      "source": [
        "Split the dataset into train and test sets"
      ],
      "metadata": {
        "id": "-xO6P_XmHgqg"
      }
    },
    {
      "cell_type": "code",
      "source": [
        "from sklearn.model_selection import train_test_split\n",
        "X_train,X_test,y_train,y_test = train_test_split(X,y,test_size=0.2,random_state=10)"
      ],
      "metadata": {
        "id": "0EbmQ0ovHTJq"
      },
      "execution_count": 50,
      "outputs": []
    },
    {
      "cell_type": "markdown",
      "source": [
        "Applying Tree algorithm"
      ],
      "metadata": {
        "id": "N9msK3H2H3t0"
      }
    },
    {
      "cell_type": "code",
      "source": [
        "from sklearn import tree   \n",
        "from sklearn.tree import DecisionTreeClassifier"
      ],
      "metadata": {
        "id": "mCczI4e_HrTA"
      },
      "execution_count": 51,
      "outputs": []
    },
    {
      "cell_type": "code",
      "source": [
        "dt = tree.DecisionTreeClassifier()"
      ],
      "metadata": {
        "id": "5Q1Lu-nzH8eB"
      },
      "execution_count": 52,
      "outputs": []
    },
    {
      "cell_type": "markdown",
      "source": [
        "Fitting training data"
      ],
      "metadata": {
        "id": "h_N3wcK1IBeQ"
      }
    },
    {
      "cell_type": "code",
      "source": [
        "model= dt.fit(X_train, y_train)"
      ],
      "metadata": {
        "id": "WWhjI08nIAzo"
      },
      "execution_count": 53,
      "outputs": []
    },
    {
      "cell_type": "markdown",
      "source": [
        "Testing model's performance"
      ],
      "metadata": {
        "id": "IypVYWadINj3"
      }
    },
    {
      "cell_type": "code",
      "source": [
        "y_pred= model.predict(X_test)"
      ],
      "metadata": {
        "id": "2LM0bZ1CIJBG"
      },
      "execution_count": 54,
      "outputs": []
    },
    {
      "cell_type": "markdown",
      "source": [
        "Performance of the Decision Tree"
      ],
      "metadata": {
        "id": "CwMCbegpIY6l"
      }
    },
    {
      "cell_type": "code",
      "source": [
        "from sklearn.metrics import accuracy_score"
      ],
      "metadata": {
        "id": "2oWo112_ITfE"
      },
      "execution_count": 55,
      "outputs": []
    },
    {
      "cell_type": "code",
      "source": [
        "print(\"score:{}\".format(accuracy_score(y_test, y_pred)))"
      ],
      "metadata": {
        "colab": {
          "base_uri": "https://localhost:8080/"
        },
        "id": "rYTIPF5CIcxi",
        "outputId": "156a604e-3c16-497c-834c-70d10fac7326"
      },
      "execution_count": 56,
      "outputs": [
        {
          "output_type": "stream",
          "name": "stdout",
          "text": [
            "score:0.770949720670391\n"
          ]
        }
      ]
    },
    {
      "cell_type": "markdown",
      "source": [
        "Decision Tree Visualization"
      ],
      "metadata": {
        "id": "f_RhdUblItqh"
      }
    },
    {
      "cell_type": "code",
      "source": [
        "import graphviz"
      ],
      "metadata": {
        "id": "7w1FBCt4InpQ"
      },
      "execution_count": 58,
      "outputs": []
    },
    {
      "cell_type": "code",
      "source": [
        "dot_data= tree.export_graphviz(model , out_file=None)\n",
        "graph= graphviz.Source(dot_data)\n",
        "graph.render(\"new_data\")\n",
        "graph"
      ],
      "metadata": {
        "colab": {
          "base_uri": "https://localhost:8080/",
          "height": 1000
        },
        "id": "guj9BYPSI3Kl",
        "outputId": "b9ff61e5-1d95-40f7-921c-88826a51b2fd"
      },
      "execution_count": 59,
      "outputs": [
        {
          "output_type": "execute_result",
          "data": {
            "text/plain": [
              "<graphviz.files.Source at 0x7f6039358a10>"
            ],
            "image/svg+xml": "<?xml version=\"1.0\" encoding=\"UTF-8\" standalone=\"no\"?>\n<!DOCTYPE svg PUBLIC \"-//W3C//DTD SVG 1.1//EN\"\n \"http://www.w3.org/Graphics/SVG/1.1/DTD/svg11.dtd\">\n<!-- Generated by graphviz version 2.40.1 (20161225.0304)\n -->\n<!-- Title: Tree Pages: 1 -->\n<svg width=\"5342pt\" height=\"2037pt\"\n viewBox=\"0.00 0.00 5342.00 2037.00\" xmlns=\"http://www.w3.org/2000/svg\" xmlns:xlink=\"http://www.w3.org/1999/xlink\">\n<g id=\"graph0\" class=\"graph\" transform=\"scale(1 1) rotate(0) translate(4 2033)\">\n<title>Tree</title>\n<polygon fill=\"#ffffff\" stroke=\"transparent\" points=\"-4,4 -4,-2033 5338,-2033 5338,4 -4,4\"/>\n<!-- 0 -->\n<g id=\"node1\" class=\"node\">\n<title>0</title>\n<polygon fill=\"none\" stroke=\"#000000\" points=\"2078.5,-2029 1946.5,-2029 1946.5,-1961 2078.5,-1961 2078.5,-2029\"/>\n<text text-anchor=\"middle\" x=\"2012.5\" y=\"-2013.8\" font-family=\"Helvetica,sans-Serif\" font-size=\"14.00\" fill=\"#000000\">X[2] &lt;= 0.5</text>\n<text text-anchor=\"middle\" x=\"2012.5\" y=\"-1998.8\" font-family=\"Helvetica,sans-Serif\" font-size=\"14.00\" fill=\"#000000\">gini = 0.469</text>\n<text text-anchor=\"middle\" x=\"2012.5\" y=\"-1983.8\" font-family=\"Helvetica,sans-Serif\" font-size=\"14.00\" fill=\"#000000\">samples = 712</text>\n<text text-anchor=\"middle\" x=\"2012.5\" y=\"-1968.8\" font-family=\"Helvetica,sans-Serif\" font-size=\"14.00\" fill=\"#000000\">value = [444, 268]</text>\n</g>\n<!-- 1 -->\n<g id=\"node2\" class=\"node\">\n<title>1</title>\n<polygon fill=\"none\" stroke=\"#000000\" points=\"1614.5,-1925 1490.5,-1925 1490.5,-1857 1614.5,-1857 1614.5,-1925\"/>\n<text text-anchor=\"middle\" x=\"1552.5\" y=\"-1909.8\" font-family=\"Helvetica,sans-Serif\" font-size=\"14.00\" fill=\"#000000\">X[0] &lt;= 2.5</text>\n<text text-anchor=\"middle\" x=\"1552.5\" y=\"-1894.8\" font-family=\"Helvetica,sans-Serif\" font-size=\"14.00\" fill=\"#000000\">gini = 0.39</text>\n<text text-anchor=\"middle\" x=\"1552.5\" y=\"-1879.8\" font-family=\"Helvetica,sans-Serif\" font-size=\"14.00\" fill=\"#000000\">samples = 252</text>\n<text text-anchor=\"middle\" x=\"1552.5\" y=\"-1864.8\" font-family=\"Helvetica,sans-Serif\" font-size=\"14.00\" fill=\"#000000\">value = [67, 185]</text>\n</g>\n<!-- 0&#45;&gt;1 -->\n<g id=\"edge1\" class=\"edge\">\n<title>0&#45;&gt;1</title>\n<path fill=\"none\" stroke=\"#000000\" d=\"M1946.1033,-1979.9886C1860.6959,-1960.6791 1712.8853,-1927.261 1624.7388,-1907.3323\"/>\n<polygon fill=\"#000000\" stroke=\"#000000\" points=\"1625.346,-1903.8813 1614.8203,-1905.0898 1623.8023,-1910.7089 1625.346,-1903.8813\"/>\n<text text-anchor=\"middle\" x=\"1628.1645\" y=\"-1922.5306\" font-family=\"Helvetica,sans-Serif\" font-size=\"14.00\" fill=\"#000000\">True</text>\n</g>\n<!-- 108 -->\n<g id=\"node109\" class=\"node\">\n<title>108</title>\n<polygon fill=\"none\" stroke=\"#000000\" points=\"2539.5,-1925 2415.5,-1925 2415.5,-1857 2539.5,-1857 2539.5,-1925\"/>\n<text text-anchor=\"middle\" x=\"2477.5\" y=\"-1909.8\" font-family=\"Helvetica,sans-Serif\" font-size=\"14.00\" fill=\"#000000\">X[0] &lt;= 1.5</text>\n<text text-anchor=\"middle\" x=\"2477.5\" y=\"-1894.8\" font-family=\"Helvetica,sans-Serif\" font-size=\"14.00\" fill=\"#000000\">gini = 0.296</text>\n<text text-anchor=\"middle\" x=\"2477.5\" y=\"-1879.8\" font-family=\"Helvetica,sans-Serif\" font-size=\"14.00\" fill=\"#000000\">samples = 460</text>\n<text text-anchor=\"middle\" x=\"2477.5\" y=\"-1864.8\" font-family=\"Helvetica,sans-Serif\" font-size=\"14.00\" fill=\"#000000\">value = [377, 83]</text>\n</g>\n<!-- 0&#45;&gt;108 -->\n<g id=\"edge108\" class=\"edge\">\n<title>0&#45;&gt;108</title>\n<path fill=\"none\" stroke=\"#000000\" d=\"M2078.6293,-1980.2098C2165.1504,-1960.8588 2316.2216,-1927.0709 2405.5363,-1907.0951\"/>\n<polygon fill=\"#000000\" stroke=\"#000000\" points=\"2406.3189,-1910.5066 2415.3138,-1904.9083 2404.791,-1903.6754 2406.3189,-1910.5066\"/>\n<text text-anchor=\"middle\" x=\"2401.9207\" y=\"-1922.3182\" font-family=\"Helvetica,sans-Serif\" font-size=\"14.00\" fill=\"#000000\">False</text>\n</g>\n<!-- 2 -->\n<g id=\"node3\" class=\"node\">\n<title>2</title>\n<polygon fill=\"none\" stroke=\"#000000\" points=\"819.5,-1821 703.5,-1821 703.5,-1753 819.5,-1753 819.5,-1821\"/>\n<text text-anchor=\"middle\" x=\"761.5\" y=\"-1805.8\" font-family=\"Helvetica,sans-Serif\" font-size=\"14.00\" fill=\"#000000\">X[1] &lt;= 2.5</text>\n<text text-anchor=\"middle\" x=\"761.5\" y=\"-1790.8\" font-family=\"Helvetica,sans-Serif\" font-size=\"14.00\" fill=\"#000000\">gini = 0.1</text>\n<text text-anchor=\"middle\" x=\"761.5\" y=\"-1775.8\" font-family=\"Helvetica,sans-Serif\" font-size=\"14.00\" fill=\"#000000\">samples = 133</text>\n<text text-anchor=\"middle\" x=\"761.5\" y=\"-1760.8\" font-family=\"Helvetica,sans-Serif\" font-size=\"14.00\" fill=\"#000000\">value = [7, 126]</text>\n</g>\n<!-- 1&#45;&gt;2 -->\n<g id=\"edge2\" class=\"edge\">\n<title>1&#45;&gt;2</title>\n<path fill=\"none\" stroke=\"#000000\" d=\"M1490.4316,-1882.8393C1344.6411,-1863.6709 981.2432,-1815.8917 829.6244,-1795.9569\"/>\n<polygon fill=\"#000000\" stroke=\"#000000\" points=\"829.8848,-1792.4611 819.5138,-1794.6276 828.9722,-1799.4014 829.8848,-1792.4611\"/>\n</g>\n<!-- 31 -->\n<g id=\"node32\" class=\"node\">\n<title>31</title>\n<polygon fill=\"none\" stroke=\"#000000\" points=\"1610.5,-1821 1494.5,-1821 1494.5,-1753 1610.5,-1753 1610.5,-1821\"/>\n<text text-anchor=\"middle\" x=\"1552.5\" y=\"-1805.8\" font-family=\"Helvetica,sans-Serif\" font-size=\"14.00\" fill=\"#000000\">X[4] &lt;= 23.35</text>\n<text text-anchor=\"middle\" x=\"1552.5\" y=\"-1790.8\" font-family=\"Helvetica,sans-Serif\" font-size=\"14.00\" fill=\"#000000\">gini = 0.5</text>\n<text text-anchor=\"middle\" x=\"1552.5\" y=\"-1775.8\" font-family=\"Helvetica,sans-Serif\" font-size=\"14.00\" fill=\"#000000\">samples = 119</text>\n<text text-anchor=\"middle\" x=\"1552.5\" y=\"-1760.8\" font-family=\"Helvetica,sans-Serif\" font-size=\"14.00\" fill=\"#000000\">value = [60, 59]</text>\n</g>\n<!-- 1&#45;&gt;31 -->\n<g id=\"edge31\" class=\"edge\">\n<title>1&#45;&gt;31</title>\n<path fill=\"none\" stroke=\"#000000\" d=\"M1552.5,-1856.9465C1552.5,-1848.776 1552.5,-1839.9318 1552.5,-1831.3697\"/>\n<polygon fill=\"#000000\" stroke=\"#000000\" points=\"1556.0001,-1831.13 1552.5,-1821.13 1549.0001,-1831.13 1556.0001,-1831.13\"/>\n</g>\n<!-- 3 -->\n<g id=\"node4\" class=\"node\">\n<title>3</title>\n<polygon fill=\"none\" stroke=\"#000000\" points=\"685,-1709.5 586,-1709.5 586,-1656.5 685,-1656.5 685,-1709.5\"/>\n<text text-anchor=\"middle\" x=\"635.5\" y=\"-1694.3\" font-family=\"Helvetica,sans-Serif\" font-size=\"14.00\" fill=\"#000000\">gini = 0.0</text>\n<text text-anchor=\"middle\" x=\"635.5\" y=\"-1679.3\" font-family=\"Helvetica,sans-Serif\" font-size=\"14.00\" fill=\"#000000\">samples = 1</text>\n<text text-anchor=\"middle\" x=\"635.5\" y=\"-1664.3\" font-family=\"Helvetica,sans-Serif\" font-size=\"14.00\" fill=\"#000000\">value = [1, 0]</text>\n</g>\n<!-- 2&#45;&gt;3 -->\n<g id=\"edge3\" class=\"edge\">\n<title>2&#45;&gt;3</title>\n<path fill=\"none\" stroke=\"#000000\" d=\"M720.2429,-1752.9465C705.8303,-1741.0504 689.6873,-1727.726 675.3883,-1715.9237\"/>\n<polygon fill=\"#000000\" stroke=\"#000000\" points=\"677.5971,-1713.2086 667.6569,-1709.5422 673.1411,-1718.6071 677.5971,-1713.2086\"/>\n</g>\n<!-- 4 -->\n<g id=\"node5\" class=\"node\">\n<title>4</title>\n<polygon fill=\"none\" stroke=\"#000000\" points=\"819.5,-1717 703.5,-1717 703.5,-1649 819.5,-1649 819.5,-1717\"/>\n<text text-anchor=\"middle\" x=\"761.5\" y=\"-1701.8\" font-family=\"Helvetica,sans-Serif\" font-size=\"14.00\" fill=\"#000000\">X[4] &lt;= 26.125</text>\n<text text-anchor=\"middle\" x=\"761.5\" y=\"-1686.8\" font-family=\"Helvetica,sans-Serif\" font-size=\"14.00\" fill=\"#000000\">gini = 0.087</text>\n<text text-anchor=\"middle\" x=\"761.5\" y=\"-1671.8\" font-family=\"Helvetica,sans-Serif\" font-size=\"14.00\" fill=\"#000000\">samples = 132</text>\n<text text-anchor=\"middle\" x=\"761.5\" y=\"-1656.8\" font-family=\"Helvetica,sans-Serif\" font-size=\"14.00\" fill=\"#000000\">value = [6, 126]</text>\n</g>\n<!-- 2&#45;&gt;4 -->\n<g id=\"edge4\" class=\"edge\">\n<title>2&#45;&gt;4</title>\n<path fill=\"none\" stroke=\"#000000\" d=\"M761.5,-1752.9465C761.5,-1744.776 761.5,-1735.9318 761.5,-1727.3697\"/>\n<polygon fill=\"#000000\" stroke=\"#000000\" points=\"765.0001,-1727.13 761.5,-1717.13 758.0001,-1727.13 765.0001,-1727.13\"/>\n</g>\n<!-- 5 -->\n<g id=\"node6\" class=\"node\">\n<title>5</title>\n<polygon fill=\"none\" stroke=\"#000000\" points=\"620,-1613 513,-1613 513,-1545 620,-1545 620,-1613\"/>\n<text text-anchor=\"middle\" x=\"566.5\" y=\"-1597.8\" font-family=\"Helvetica,sans-Serif\" font-size=\"14.00\" fill=\"#000000\">X[1] &lt;= 55.5</text>\n<text text-anchor=\"middle\" x=\"566.5\" y=\"-1582.8\" font-family=\"Helvetica,sans-Serif\" font-size=\"14.00\" fill=\"#000000\">gini = 0.198</text>\n<text text-anchor=\"middle\" x=\"566.5\" y=\"-1567.8\" font-family=\"Helvetica,sans-Serif\" font-size=\"14.00\" fill=\"#000000\">samples = 45</text>\n<text text-anchor=\"middle\" x=\"566.5\" y=\"-1552.8\" font-family=\"Helvetica,sans-Serif\" font-size=\"14.00\" fill=\"#000000\">value = [5, 40]</text>\n</g>\n<!-- 4&#45;&gt;5 -->\n<g id=\"edge5\" class=\"edge\">\n<title>4&#45;&gt;5</title>\n<path fill=\"none\" stroke=\"#000000\" d=\"M703.2577,-1651.9374C679.8721,-1639.4651 652.8692,-1625.0636 629.0671,-1612.3691\"/>\n<polygon fill=\"#000000\" stroke=\"#000000\" points=\"630.5863,-1609.2127 620.1156,-1607.595 627.2921,-1615.3892 630.5863,-1609.2127\"/>\n</g>\n<!-- 24 -->\n<g id=\"node25\" class=\"node\">\n<title>24</title>\n<polygon fill=\"none\" stroke=\"#000000\" points=\"815,-1613 708,-1613 708,-1545 815,-1545 815,-1613\"/>\n<text text-anchor=\"middle\" x=\"761.5\" y=\"-1597.8\" font-family=\"Helvetica,sans-Serif\" font-size=\"14.00\" fill=\"#000000\">X[3] &lt;= 2.5</text>\n<text text-anchor=\"middle\" x=\"761.5\" y=\"-1582.8\" font-family=\"Helvetica,sans-Serif\" font-size=\"14.00\" fill=\"#000000\">gini = 0.023</text>\n<text text-anchor=\"middle\" x=\"761.5\" y=\"-1567.8\" font-family=\"Helvetica,sans-Serif\" font-size=\"14.00\" fill=\"#000000\">samples = 87</text>\n<text text-anchor=\"middle\" x=\"761.5\" y=\"-1552.8\" font-family=\"Helvetica,sans-Serif\" font-size=\"14.00\" fill=\"#000000\">value = [1, 86]</text>\n</g>\n<!-- 4&#45;&gt;24 -->\n<g id=\"edge24\" class=\"edge\">\n<title>4&#45;&gt;24</title>\n<path fill=\"none\" stroke=\"#000000\" d=\"M761.5,-1648.9465C761.5,-1640.776 761.5,-1631.9318 761.5,-1623.3697\"/>\n<polygon fill=\"#000000\" stroke=\"#000000\" points=\"765.0001,-1623.13 761.5,-1613.13 758.0001,-1623.13 765.0001,-1623.13\"/>\n</g>\n<!-- 6 -->\n<g id=\"node7\" class=\"node\">\n<title>6</title>\n<polygon fill=\"none\" stroke=\"#000000\" points=\"476,-1509 369,-1509 369,-1441 476,-1441 476,-1509\"/>\n<text text-anchor=\"middle\" x=\"422.5\" y=\"-1493.8\" font-family=\"Helvetica,sans-Serif\" font-size=\"14.00\" fill=\"#000000\">X[1] &lt;= 27.5</text>\n<text text-anchor=\"middle\" x=\"422.5\" y=\"-1478.8\" font-family=\"Helvetica,sans-Serif\" font-size=\"14.00\" fill=\"#000000\">gini = 0.165</text>\n<text text-anchor=\"middle\" x=\"422.5\" y=\"-1463.8\" font-family=\"Helvetica,sans-Serif\" font-size=\"14.00\" fill=\"#000000\">samples = 44</text>\n<text text-anchor=\"middle\" x=\"422.5\" y=\"-1448.8\" font-family=\"Helvetica,sans-Serif\" font-size=\"14.00\" fill=\"#000000\">value = [4, 40]</text>\n</g>\n<!-- 5&#45;&gt;6 -->\n<g id=\"edge6\" class=\"edge\">\n<title>5&#45;&gt;6</title>\n<path fill=\"none\" stroke=\"#000000\" d=\"M519.349,-1544.9465C506.1713,-1535.4293 491.7278,-1524.9978 478.1103,-1515.163\"/>\n<polygon fill=\"#000000\" stroke=\"#000000\" points=\"479.913,-1512.1476 469.7569,-1509.13 475.8145,-1517.8223 479.913,-1512.1476\"/>\n</g>\n<!-- 23 -->\n<g id=\"node24\" class=\"node\">\n<title>23</title>\n<polygon fill=\"none\" stroke=\"#000000\" points=\"616,-1501.5 517,-1501.5 517,-1448.5 616,-1448.5 616,-1501.5\"/>\n<text text-anchor=\"middle\" x=\"566.5\" y=\"-1486.3\" font-family=\"Helvetica,sans-Serif\" font-size=\"14.00\" fill=\"#000000\">gini = 0.0</text>\n<text text-anchor=\"middle\" x=\"566.5\" y=\"-1471.3\" font-family=\"Helvetica,sans-Serif\" font-size=\"14.00\" fill=\"#000000\">samples = 1</text>\n<text text-anchor=\"middle\" x=\"566.5\" y=\"-1456.3\" font-family=\"Helvetica,sans-Serif\" font-size=\"14.00\" fill=\"#000000\">value = [1, 0]</text>\n</g>\n<!-- 5&#45;&gt;23 -->\n<g id=\"edge23\" class=\"edge\">\n<title>5&#45;&gt;23</title>\n<path fill=\"none\" stroke=\"#000000\" d=\"M566.5,-1544.9465C566.5,-1534.2621 566.5,-1522.4254 566.5,-1511.5742\"/>\n<polygon fill=\"#000000\" stroke=\"#000000\" points=\"570.0001,-1511.5421 566.5,-1501.5422 563.0001,-1511.5422 570.0001,-1511.5421\"/>\n</g>\n<!-- 7 -->\n<g id=\"node8\" class=\"node\">\n<title>7</title>\n<polygon fill=\"none\" stroke=\"#000000\" points=\"347,-1405 240,-1405 240,-1337 347,-1337 347,-1405\"/>\n<text text-anchor=\"middle\" x=\"293.5\" y=\"-1389.8\" font-family=\"Helvetica,sans-Serif\" font-size=\"14.00\" fill=\"#000000\">X[1] &lt;= 25.5</text>\n<text text-anchor=\"middle\" x=\"293.5\" y=\"-1374.8\" font-family=\"Helvetica,sans-Serif\" font-size=\"14.00\" fill=\"#000000\">gini = 0.32</text>\n<text text-anchor=\"middle\" x=\"293.5\" y=\"-1359.8\" font-family=\"Helvetica,sans-Serif\" font-size=\"14.00\" fill=\"#000000\">samples = 15</text>\n<text text-anchor=\"middle\" x=\"293.5\" y=\"-1344.8\" font-family=\"Helvetica,sans-Serif\" font-size=\"14.00\" fill=\"#000000\">value = [3, 12]</text>\n</g>\n<!-- 6&#45;&gt;7 -->\n<g id=\"edge7\" class=\"edge\">\n<title>6&#45;&gt;7</title>\n<path fill=\"none\" stroke=\"#000000\" d=\"M380.2606,-1440.9465C368.5669,-1431.519 355.7606,-1421.1946 343.663,-1411.4415\"/>\n<polygon fill=\"#000000\" stroke=\"#000000\" points=\"345.8162,-1408.6816 335.8343,-1405.13 341.4227,-1414.1312 345.8162,-1408.6816\"/>\n</g>\n<!-- 16 -->\n<g id=\"node17\" class=\"node\">\n<title>16</title>\n<polygon fill=\"none\" stroke=\"#000000\" points=\"478,-1405 367,-1405 367,-1337 478,-1337 478,-1405\"/>\n<text text-anchor=\"middle\" x=\"422.5\" y=\"-1389.8\" font-family=\"Helvetica,sans-Serif\" font-size=\"14.00\" fill=\"#000000\">X[4] &lt;= 25.965</text>\n<text text-anchor=\"middle\" x=\"422.5\" y=\"-1374.8\" font-family=\"Helvetica,sans-Serif\" font-size=\"14.00\" fill=\"#000000\">gini = 0.067</text>\n<text text-anchor=\"middle\" x=\"422.5\" y=\"-1359.8\" font-family=\"Helvetica,sans-Serif\" font-size=\"14.00\" fill=\"#000000\">samples = 29</text>\n<text text-anchor=\"middle\" x=\"422.5\" y=\"-1344.8\" font-family=\"Helvetica,sans-Serif\" font-size=\"14.00\" fill=\"#000000\">value = [1, 28]</text>\n</g>\n<!-- 6&#45;&gt;16 -->\n<g id=\"edge16\" class=\"edge\">\n<title>6&#45;&gt;16</title>\n<path fill=\"none\" stroke=\"#000000\" d=\"M422.5,-1440.9465C422.5,-1432.776 422.5,-1423.9318 422.5,-1415.3697\"/>\n<polygon fill=\"#000000\" stroke=\"#000000\" points=\"426.0001,-1415.13 422.5,-1405.13 419.0001,-1415.13 426.0001,-1415.13\"/>\n</g>\n<!-- 8 -->\n<g id=\"node9\" class=\"node\">\n<title>8</title>\n<polygon fill=\"none\" stroke=\"#000000\" points=\"220,-1301 113,-1301 113,-1233 220,-1233 220,-1301\"/>\n<text text-anchor=\"middle\" x=\"166.5\" y=\"-1285.8\" font-family=\"Helvetica,sans-Serif\" font-size=\"14.00\" fill=\"#000000\">X[1] &lt;= 23.5</text>\n<text text-anchor=\"middle\" x=\"166.5\" y=\"-1270.8\" font-family=\"Helvetica,sans-Serif\" font-size=\"14.00\" fill=\"#000000\">gini = 0.153</text>\n<text text-anchor=\"middle\" x=\"166.5\" y=\"-1255.8\" font-family=\"Helvetica,sans-Serif\" font-size=\"14.00\" fill=\"#000000\">samples = 12</text>\n<text text-anchor=\"middle\" x=\"166.5\" y=\"-1240.8\" font-family=\"Helvetica,sans-Serif\" font-size=\"14.00\" fill=\"#000000\">value = [1, 11]</text>\n</g>\n<!-- 7&#45;&gt;8 -->\n<g id=\"edge8\" class=\"edge\">\n<title>7&#45;&gt;8</title>\n<path fill=\"none\" stroke=\"#000000\" d=\"M251.9155,-1336.9465C240.5127,-1327.6088 228.0353,-1317.3911 216.2257,-1307.7203\"/>\n<polygon fill=\"#000000\" stroke=\"#000000\" points=\"218.1324,-1304.7578 208.178,-1301.13 213.6974,-1310.1736 218.1324,-1304.7578\"/>\n</g>\n<!-- 13 -->\n<g id=\"node14\" class=\"node\">\n<title>13</title>\n<polygon fill=\"none\" stroke=\"#000000\" points=\"343,-1301 244,-1301 244,-1233 343,-1233 343,-1301\"/>\n<text text-anchor=\"middle\" x=\"293.5\" y=\"-1285.8\" font-family=\"Helvetica,sans-Serif\" font-size=\"14.00\" fill=\"#000000\">X[3] &lt;= 0.5</text>\n<text text-anchor=\"middle\" x=\"293.5\" y=\"-1270.8\" font-family=\"Helvetica,sans-Serif\" font-size=\"14.00\" fill=\"#000000\">gini = 0.444</text>\n<text text-anchor=\"middle\" x=\"293.5\" y=\"-1255.8\" font-family=\"Helvetica,sans-Serif\" font-size=\"14.00\" fill=\"#000000\">samples = 3</text>\n<text text-anchor=\"middle\" x=\"293.5\" y=\"-1240.8\" font-family=\"Helvetica,sans-Serif\" font-size=\"14.00\" fill=\"#000000\">value = [2, 1]</text>\n</g>\n<!-- 7&#45;&gt;13 -->\n<g id=\"edge13\" class=\"edge\">\n<title>7&#45;&gt;13</title>\n<path fill=\"none\" stroke=\"#000000\" d=\"M293.5,-1336.9465C293.5,-1328.776 293.5,-1319.9318 293.5,-1311.3697\"/>\n<polygon fill=\"#000000\" stroke=\"#000000\" points=\"297.0001,-1311.13 293.5,-1301.13 290.0001,-1311.13 297.0001,-1311.13\"/>\n</g>\n<!-- 9 -->\n<g id=\"node10\" class=\"node\">\n<title>9</title>\n<polygon fill=\"none\" stroke=\"#000000\" points=\"99,-1189.5 0,-1189.5 0,-1136.5 99,-1136.5 99,-1189.5\"/>\n<text text-anchor=\"middle\" x=\"49.5\" y=\"-1174.3\" font-family=\"Helvetica,sans-Serif\" font-size=\"14.00\" fill=\"#000000\">gini = 0.0</text>\n<text text-anchor=\"middle\" x=\"49.5\" y=\"-1159.3\" font-family=\"Helvetica,sans-Serif\" font-size=\"14.00\" fill=\"#000000\">samples = 8</text>\n<text text-anchor=\"middle\" x=\"49.5\" y=\"-1144.3\" font-family=\"Helvetica,sans-Serif\" font-size=\"14.00\" fill=\"#000000\">value = [0, 8]</text>\n</g>\n<!-- 8&#45;&gt;9 -->\n<g id=\"edge9\" class=\"edge\">\n<title>8&#45;&gt;9</title>\n<path fill=\"none\" stroke=\"#000000\" d=\"M128.1898,-1232.9465C114.9306,-1221.1606 100.0942,-1207.9726 86.9084,-1196.2519\"/>\n<polygon fill=\"#000000\" stroke=\"#000000\" points=\"89.1593,-1193.5699 79.3599,-1189.5422 84.5088,-1198.8018 89.1593,-1193.5699\"/>\n</g>\n<!-- 10 -->\n<g id=\"node11\" class=\"node\">\n<title>10</title>\n<polygon fill=\"none\" stroke=\"#000000\" points=\"216,-1197 117,-1197 117,-1129 216,-1129 216,-1197\"/>\n<text text-anchor=\"middle\" x=\"166.5\" y=\"-1181.8\" font-family=\"Helvetica,sans-Serif\" font-size=\"14.00\" fill=\"#000000\">X[3] &lt;= 0.5</text>\n<text text-anchor=\"middle\" x=\"166.5\" y=\"-1166.8\" font-family=\"Helvetica,sans-Serif\" font-size=\"14.00\" fill=\"#000000\">gini = 0.375</text>\n<text text-anchor=\"middle\" x=\"166.5\" y=\"-1151.8\" font-family=\"Helvetica,sans-Serif\" font-size=\"14.00\" fill=\"#000000\">samples = 4</text>\n<text text-anchor=\"middle\" x=\"166.5\" y=\"-1136.8\" font-family=\"Helvetica,sans-Serif\" font-size=\"14.00\" fill=\"#000000\">value = [1, 3]</text>\n</g>\n<!-- 8&#45;&gt;10 -->\n<g id=\"edge10\" class=\"edge\">\n<title>8&#45;&gt;10</title>\n<path fill=\"none\" stroke=\"#000000\" d=\"M166.5,-1232.9465C166.5,-1224.776 166.5,-1215.9318 166.5,-1207.3697\"/>\n<polygon fill=\"#000000\" stroke=\"#000000\" points=\"170.0001,-1207.13 166.5,-1197.13 163.0001,-1207.13 170.0001,-1207.13\"/>\n</g>\n<!-- 11 -->\n<g id=\"node12\" class=\"node\">\n<title>11</title>\n<polygon fill=\"none\" stroke=\"#000000\" points=\"158,-1085.5 59,-1085.5 59,-1032.5 158,-1032.5 158,-1085.5\"/>\n<text text-anchor=\"middle\" x=\"108.5\" y=\"-1070.3\" font-family=\"Helvetica,sans-Serif\" font-size=\"14.00\" fill=\"#000000\">gini = 0.5</text>\n<text text-anchor=\"middle\" x=\"108.5\" y=\"-1055.3\" font-family=\"Helvetica,sans-Serif\" font-size=\"14.00\" fill=\"#000000\">samples = 2</text>\n<text text-anchor=\"middle\" x=\"108.5\" y=\"-1040.3\" font-family=\"Helvetica,sans-Serif\" font-size=\"14.00\" fill=\"#000000\">value = [1, 1]</text>\n</g>\n<!-- 10&#45;&gt;11 -->\n<g id=\"edge11\" class=\"edge\">\n<title>10&#45;&gt;11</title>\n<path fill=\"none\" stroke=\"#000000\" d=\"M147.5086,-1128.9465C141.3657,-1117.9316 134.5399,-1105.6922 128.3373,-1094.5703\"/>\n<polygon fill=\"#000000\" stroke=\"#000000\" points=\"131.2299,-1092.5711 123.3024,-1085.5422 125.1163,-1095.9806 131.2299,-1092.5711\"/>\n</g>\n<!-- 12 -->\n<g id=\"node13\" class=\"node\">\n<title>12</title>\n<polygon fill=\"none\" stroke=\"#000000\" points=\"275,-1085.5 176,-1085.5 176,-1032.5 275,-1032.5 275,-1085.5\"/>\n<text text-anchor=\"middle\" x=\"225.5\" y=\"-1070.3\" font-family=\"Helvetica,sans-Serif\" font-size=\"14.00\" fill=\"#000000\">gini = 0.0</text>\n<text text-anchor=\"middle\" x=\"225.5\" y=\"-1055.3\" font-family=\"Helvetica,sans-Serif\" font-size=\"14.00\" fill=\"#000000\">samples = 2</text>\n<text text-anchor=\"middle\" x=\"225.5\" y=\"-1040.3\" font-family=\"Helvetica,sans-Serif\" font-size=\"14.00\" fill=\"#000000\">value = [0, 2]</text>\n</g>\n<!-- 10&#45;&gt;12 -->\n<g id=\"edge12\" class=\"edge\">\n<title>10&#45;&gt;12</title>\n<path fill=\"none\" stroke=\"#000000\" d=\"M185.8188,-1128.9465C192.0676,-1117.9316 199.0112,-1105.6922 205.3207,-1094.5703\"/>\n<polygon fill=\"#000000\" stroke=\"#000000\" points=\"208.5523,-1095.967 210.4424,-1085.5422 202.4638,-1092.513 208.5523,-1095.967\"/>\n</g>\n<!-- 14 -->\n<g id=\"node15\" class=\"node\">\n<title>14</title>\n<polygon fill=\"none\" stroke=\"#000000\" points=\"333,-1189.5 234,-1189.5 234,-1136.5 333,-1136.5 333,-1189.5\"/>\n<text text-anchor=\"middle\" x=\"283.5\" y=\"-1174.3\" font-family=\"Helvetica,sans-Serif\" font-size=\"14.00\" fill=\"#000000\">gini = 0.0</text>\n<text text-anchor=\"middle\" x=\"283.5\" y=\"-1159.3\" font-family=\"Helvetica,sans-Serif\" font-size=\"14.00\" fill=\"#000000\">samples = 1</text>\n<text text-anchor=\"middle\" x=\"283.5\" y=\"-1144.3\" font-family=\"Helvetica,sans-Serif\" font-size=\"14.00\" fill=\"#000000\">value = [0, 1]</text>\n</g>\n<!-- 13&#45;&gt;14 -->\n<g id=\"edge14\" class=\"edge\">\n<title>13&#45;&gt;14</title>\n<path fill=\"none\" stroke=\"#000000\" d=\"M290.2256,-1232.9465C289.1983,-1222.2621 288.0601,-1210.4254 287.0168,-1199.5742\"/>\n<polygon fill=\"#000000\" stroke=\"#000000\" points=\"290.4933,-1199.1612 286.0521,-1189.5422 283.5254,-1199.8313 290.4933,-1199.1612\"/>\n</g>\n<!-- 15 -->\n<g id=\"node16\" class=\"node\">\n<title>15</title>\n<polygon fill=\"none\" stroke=\"#000000\" points=\"450,-1189.5 351,-1189.5 351,-1136.5 450,-1136.5 450,-1189.5\"/>\n<text text-anchor=\"middle\" x=\"400.5\" y=\"-1174.3\" font-family=\"Helvetica,sans-Serif\" font-size=\"14.00\" fill=\"#000000\">gini = 0.0</text>\n<text text-anchor=\"middle\" x=\"400.5\" y=\"-1159.3\" font-family=\"Helvetica,sans-Serif\" font-size=\"14.00\" fill=\"#000000\">samples = 2</text>\n<text text-anchor=\"middle\" x=\"400.5\" y=\"-1144.3\" font-family=\"Helvetica,sans-Serif\" font-size=\"14.00\" fill=\"#000000\">value = [2, 0]</text>\n</g>\n<!-- 13&#45;&gt;15 -->\n<g id=\"edge15\" class=\"edge\">\n<title>13&#45;&gt;15</title>\n<path fill=\"none\" stroke=\"#000000\" d=\"M328.5358,-1232.9465C340.5484,-1221.2707 353.9766,-1208.219 365.9504,-1196.5809\"/>\n<polygon fill=\"#000000\" stroke=\"#000000\" points=\"368.4607,-1199.0218 373.1922,-1189.5422 363.5818,-1194.0022 368.4607,-1199.0218\"/>\n</g>\n<!-- 17 -->\n<g id=\"node18\" class=\"node\">\n<title>17</title>\n<polygon fill=\"none\" stroke=\"#000000\" points=\"472,-1293.5 365,-1293.5 365,-1240.5 472,-1240.5 472,-1293.5\"/>\n<text text-anchor=\"middle\" x=\"418.5\" y=\"-1278.3\" font-family=\"Helvetica,sans-Serif\" font-size=\"14.00\" fill=\"#000000\">gini = 0.0</text>\n<text text-anchor=\"middle\" x=\"418.5\" y=\"-1263.3\" font-family=\"Helvetica,sans-Serif\" font-size=\"14.00\" fill=\"#000000\">samples = 23</text>\n<text text-anchor=\"middle\" x=\"418.5\" y=\"-1248.3\" font-family=\"Helvetica,sans-Serif\" font-size=\"14.00\" fill=\"#000000\">value = [0, 23]</text>\n</g>\n<!-- 16&#45;&gt;17 -->\n<g id=\"edge17\" class=\"edge\">\n<title>16&#45;&gt;17</title>\n<path fill=\"none\" stroke=\"#000000\" d=\"M421.1903,-1336.9465C420.7793,-1326.2621 420.3241,-1314.4254 419.9067,-1303.5742\"/>\n<polygon fill=\"#000000\" stroke=\"#000000\" points=\"423.4027,-1303.4002 419.5209,-1293.5422 416.4079,-1303.6693 423.4027,-1303.4002\"/>\n</g>\n<!-- 18 -->\n<g id=\"node19\" class=\"node\">\n<title>18</title>\n<polygon fill=\"none\" stroke=\"#000000\" points=\"589,-1301 490,-1301 490,-1233 589,-1233 589,-1301\"/>\n<text text-anchor=\"middle\" x=\"539.5\" y=\"-1285.8\" font-family=\"Helvetica,sans-Serif\" font-size=\"14.00\" fill=\"#000000\">X[1] &lt;= 43.0</text>\n<text text-anchor=\"middle\" x=\"539.5\" y=\"-1270.8\" font-family=\"Helvetica,sans-Serif\" font-size=\"14.00\" fill=\"#000000\">gini = 0.278</text>\n<text text-anchor=\"middle\" x=\"539.5\" y=\"-1255.8\" font-family=\"Helvetica,sans-Serif\" font-size=\"14.00\" fill=\"#000000\">samples = 6</text>\n<text text-anchor=\"middle\" x=\"539.5\" y=\"-1240.8\" font-family=\"Helvetica,sans-Serif\" font-size=\"14.00\" fill=\"#000000\">value = [1, 5]</text>\n</g>\n<!-- 16&#45;&gt;18 -->\n<g id=\"edge18\" class=\"edge\">\n<title>16&#45;&gt;18</title>\n<path fill=\"none\" stroke=\"#000000\" d=\"M460.8102,-1336.9465C471.2141,-1327.6986 482.589,-1317.5876 493.3757,-1307.9994\"/>\n<polygon fill=\"#000000\" stroke=\"#000000\" points=\"495.9549,-1310.3896 501.1038,-1301.13 491.3044,-1305.1577 495.9549,-1310.3896\"/>\n</g>\n<!-- 19 -->\n<g id=\"node20\" class=\"node\">\n<title>19</title>\n<polygon fill=\"none\" stroke=\"#000000\" points=\"567,-1189.5 468,-1189.5 468,-1136.5 567,-1136.5 567,-1189.5\"/>\n<text text-anchor=\"middle\" x=\"517.5\" y=\"-1174.3\" font-family=\"Helvetica,sans-Serif\" font-size=\"14.00\" fill=\"#000000\">gini = 0.0</text>\n<text text-anchor=\"middle\" x=\"517.5\" y=\"-1159.3\" font-family=\"Helvetica,sans-Serif\" font-size=\"14.00\" fill=\"#000000\">samples = 4</text>\n<text text-anchor=\"middle\" x=\"517.5\" y=\"-1144.3\" font-family=\"Helvetica,sans-Serif\" font-size=\"14.00\" fill=\"#000000\">value = [0, 4]</text>\n</g>\n<!-- 18&#45;&gt;19 -->\n<g id=\"edge19\" class=\"edge\">\n<title>18&#45;&gt;19</title>\n<path fill=\"none\" stroke=\"#000000\" d=\"M532.2964,-1232.9465C530.0362,-1222.2621 527.5323,-1210.4254 525.2369,-1199.5742\"/>\n<polygon fill=\"#000000\" stroke=\"#000000\" points=\"528.6086,-1198.6013 523.1147,-1189.5422 521.7601,-1200.05 528.6086,-1198.6013\"/>\n</g>\n<!-- 20 -->\n<g id=\"node21\" class=\"node\">\n<title>20</title>\n<polygon fill=\"none\" stroke=\"#000000\" points=\"684,-1197 585,-1197 585,-1129 684,-1129 684,-1197\"/>\n<text text-anchor=\"middle\" x=\"634.5\" y=\"-1181.8\" font-family=\"Helvetica,sans-Serif\" font-size=\"14.00\" fill=\"#000000\">X[1] &lt;= 47.0</text>\n<text text-anchor=\"middle\" x=\"634.5\" y=\"-1166.8\" font-family=\"Helvetica,sans-Serif\" font-size=\"14.00\" fill=\"#000000\">gini = 0.5</text>\n<text text-anchor=\"middle\" x=\"634.5\" y=\"-1151.8\" font-family=\"Helvetica,sans-Serif\" font-size=\"14.00\" fill=\"#000000\">samples = 2</text>\n<text text-anchor=\"middle\" x=\"634.5\" y=\"-1136.8\" font-family=\"Helvetica,sans-Serif\" font-size=\"14.00\" fill=\"#000000\">value = [1, 1]</text>\n</g>\n<!-- 18&#45;&gt;20 -->\n<g id=\"edge20\" class=\"edge\">\n<title>18&#45;&gt;20</title>\n<path fill=\"none\" stroke=\"#000000\" d=\"M570.6066,-1232.9465C578.8901,-1223.8782 587.9318,-1213.9799 596.5379,-1204.5585\"/>\n<polygon fill=\"#000000\" stroke=\"#000000\" points=\"599.1633,-1206.8739 603.3236,-1197.13 593.995,-1202.1528 599.1633,-1206.8739\"/>\n</g>\n<!-- 21 -->\n<g id=\"node22\" class=\"node\">\n<title>21</title>\n<polygon fill=\"none\" stroke=\"#000000\" points=\"567,-1085.5 468,-1085.5 468,-1032.5 567,-1032.5 567,-1085.5\"/>\n<text text-anchor=\"middle\" x=\"517.5\" y=\"-1070.3\" font-family=\"Helvetica,sans-Serif\" font-size=\"14.00\" fill=\"#000000\">gini = 0.0</text>\n<text text-anchor=\"middle\" x=\"517.5\" y=\"-1055.3\" font-family=\"Helvetica,sans-Serif\" font-size=\"14.00\" fill=\"#000000\">samples = 1</text>\n<text text-anchor=\"middle\" x=\"517.5\" y=\"-1040.3\" font-family=\"Helvetica,sans-Serif\" font-size=\"14.00\" fill=\"#000000\">value = [1, 0]</text>\n</g>\n<!-- 20&#45;&gt;21 -->\n<g id=\"edge21\" class=\"edge\">\n<title>20&#45;&gt;21</title>\n<path fill=\"none\" stroke=\"#000000\" d=\"M596.1898,-1128.9465C582.9306,-1117.1606 568.0942,-1103.9726 554.9084,-1092.2519\"/>\n<polygon fill=\"#000000\" stroke=\"#000000\" points=\"557.1593,-1089.5699 547.3599,-1085.5422 552.5088,-1094.8018 557.1593,-1089.5699\"/>\n</g>\n<!-- 22 -->\n<g id=\"node23\" class=\"node\">\n<title>22</title>\n<polygon fill=\"none\" stroke=\"#000000\" points=\"684,-1085.5 585,-1085.5 585,-1032.5 684,-1032.5 684,-1085.5\"/>\n<text text-anchor=\"middle\" x=\"634.5\" y=\"-1070.3\" font-family=\"Helvetica,sans-Serif\" font-size=\"14.00\" fill=\"#000000\">gini = 0.0</text>\n<text text-anchor=\"middle\" x=\"634.5\" y=\"-1055.3\" font-family=\"Helvetica,sans-Serif\" font-size=\"14.00\" fill=\"#000000\">samples = 1</text>\n<text text-anchor=\"middle\" x=\"634.5\" y=\"-1040.3\" font-family=\"Helvetica,sans-Serif\" font-size=\"14.00\" fill=\"#000000\">value = [0, 1]</text>\n</g>\n<!-- 20&#45;&gt;22 -->\n<g id=\"edge22\" class=\"edge\">\n<title>20&#45;&gt;22</title>\n<path fill=\"none\" stroke=\"#000000\" d=\"M634.5,-1128.9465C634.5,-1118.2621 634.5,-1106.4254 634.5,-1095.5742\"/>\n<polygon fill=\"#000000\" stroke=\"#000000\" points=\"638.0001,-1095.5421 634.5,-1085.5422 631.0001,-1095.5422 638.0001,-1095.5421\"/>\n</g>\n<!-- 25 -->\n<g id=\"node26\" class=\"node\">\n<title>25</title>\n<polygon fill=\"none\" stroke=\"#000000\" points=\"752,-1501.5 645,-1501.5 645,-1448.5 752,-1448.5 752,-1501.5\"/>\n<text text-anchor=\"middle\" x=\"698.5\" y=\"-1486.3\" font-family=\"Helvetica,sans-Serif\" font-size=\"14.00\" fill=\"#000000\">gini = 0.0</text>\n<text text-anchor=\"middle\" x=\"698.5\" y=\"-1471.3\" font-family=\"Helvetica,sans-Serif\" font-size=\"14.00\" fill=\"#000000\">samples = 75</text>\n<text text-anchor=\"middle\" x=\"698.5\" y=\"-1456.3\" font-family=\"Helvetica,sans-Serif\" font-size=\"14.00\" fill=\"#000000\">value = [0, 75]</text>\n</g>\n<!-- 24&#45;&gt;25 -->\n<g id=\"edge25\" class=\"edge\">\n<title>24&#45;&gt;25</title>\n<path fill=\"none\" stroke=\"#000000\" d=\"M740.8714,-1544.9465C734.1322,-1533.8215 726.6363,-1521.4473 719.8455,-1510.237\"/>\n<polygon fill=\"#000000\" stroke=\"#000000\" points=\"722.7533,-1508.2818 714.5784,-1501.5422 716.7661,-1511.9087 722.7533,-1508.2818\"/>\n</g>\n<!-- 26 -->\n<g id=\"node27\" class=\"node\">\n<title>26</title>\n<polygon fill=\"none\" stroke=\"#000000\" points=\"877,-1509 770,-1509 770,-1441 877,-1441 877,-1509\"/>\n<text text-anchor=\"middle\" x=\"823.5\" y=\"-1493.8\" font-family=\"Helvetica,sans-Serif\" font-size=\"14.00\" fill=\"#000000\">X[1] &lt;= 24.5</text>\n<text text-anchor=\"middle\" x=\"823.5\" y=\"-1478.8\" font-family=\"Helvetica,sans-Serif\" font-size=\"14.00\" fill=\"#000000\">gini = 0.153</text>\n<text text-anchor=\"middle\" x=\"823.5\" y=\"-1463.8\" font-family=\"Helvetica,sans-Serif\" font-size=\"14.00\" fill=\"#000000\">samples = 12</text>\n<text text-anchor=\"middle\" x=\"823.5\" y=\"-1448.8\" font-family=\"Helvetica,sans-Serif\" font-size=\"14.00\" fill=\"#000000\">value = [1, 11]</text>\n</g>\n<!-- 24&#45;&gt;26 -->\n<g id=\"edge26\" class=\"edge\">\n<title>24&#45;&gt;26</title>\n<path fill=\"none\" stroke=\"#000000\" d=\"M781.8011,-1544.9465C786.9396,-1536.3271 792.5251,-1526.9579 797.8886,-1517.9611\"/>\n<polygon fill=\"#000000\" stroke=\"#000000\" points=\"801.0389,-1519.5117 803.1533,-1509.13 795.0263,-1515.9272 801.0389,-1519.5117\"/>\n</g>\n<!-- 27 -->\n<g id=\"node28\" class=\"node\">\n<title>27</title>\n<polygon fill=\"none\" stroke=\"#000000\" points=\"801,-1397.5 702,-1397.5 702,-1344.5 801,-1344.5 801,-1397.5\"/>\n<text text-anchor=\"middle\" x=\"751.5\" y=\"-1382.3\" font-family=\"Helvetica,sans-Serif\" font-size=\"14.00\" fill=\"#000000\">gini = 0.0</text>\n<text text-anchor=\"middle\" x=\"751.5\" y=\"-1367.3\" font-family=\"Helvetica,sans-Serif\" font-size=\"14.00\" fill=\"#000000\">samples = 9</text>\n<text text-anchor=\"middle\" x=\"751.5\" y=\"-1352.3\" font-family=\"Helvetica,sans-Serif\" font-size=\"14.00\" fill=\"#000000\">value = [0, 9]</text>\n</g>\n<!-- 26&#45;&gt;27 -->\n<g id=\"edge27\" class=\"edge\">\n<title>26&#45;&gt;27</title>\n<path fill=\"none\" stroke=\"#000000\" d=\"M799.9245,-1440.9465C792.1463,-1429.7113 783.4861,-1417.2021 775.6645,-1405.9043\"/>\n<polygon fill=\"#000000\" stroke=\"#000000\" points=\"778.4452,-1403.7719 769.8753,-1397.5422 772.6898,-1407.7564 778.4452,-1403.7719\"/>\n</g>\n<!-- 28 -->\n<g id=\"node29\" class=\"node\">\n<title>28</title>\n<polygon fill=\"none\" stroke=\"#000000\" points=\"918,-1405 819,-1405 819,-1337 918,-1337 918,-1405\"/>\n<text text-anchor=\"middle\" x=\"868.5\" y=\"-1389.8\" font-family=\"Helvetica,sans-Serif\" font-size=\"14.00\" fill=\"#000000\">X[1] &lt;= 30.5</text>\n<text text-anchor=\"middle\" x=\"868.5\" y=\"-1374.8\" font-family=\"Helvetica,sans-Serif\" font-size=\"14.00\" fill=\"#000000\">gini = 0.444</text>\n<text text-anchor=\"middle\" x=\"868.5\" y=\"-1359.8\" font-family=\"Helvetica,sans-Serif\" font-size=\"14.00\" fill=\"#000000\">samples = 3</text>\n<text text-anchor=\"middle\" x=\"868.5\" y=\"-1344.8\" font-family=\"Helvetica,sans-Serif\" font-size=\"14.00\" fill=\"#000000\">value = [1, 2]</text>\n</g>\n<!-- 26&#45;&gt;28 -->\n<g id=\"edge28\" class=\"edge\">\n<title>26&#45;&gt;28</title>\n<path fill=\"none\" stroke=\"#000000\" d=\"M838.2347,-1440.9465C841.8865,-1432.5067 845.8494,-1423.3479 849.6676,-1414.5239\"/>\n<polygon fill=\"#000000\" stroke=\"#000000\" points=\"852.9732,-1415.6976 853.7322,-1405.13 846.5488,-1412.9178 852.9732,-1415.6976\"/>\n</g>\n<!-- 29 -->\n<g id=\"node30\" class=\"node\">\n<title>29</title>\n<polygon fill=\"none\" stroke=\"#000000\" points=\"804,-1293.5 705,-1293.5 705,-1240.5 804,-1240.5 804,-1293.5\"/>\n<text text-anchor=\"middle\" x=\"754.5\" y=\"-1278.3\" font-family=\"Helvetica,sans-Serif\" font-size=\"14.00\" fill=\"#000000\">gini = 0.0</text>\n<text text-anchor=\"middle\" x=\"754.5\" y=\"-1263.3\" font-family=\"Helvetica,sans-Serif\" font-size=\"14.00\" fill=\"#000000\">samples = 1</text>\n<text text-anchor=\"middle\" x=\"754.5\" y=\"-1248.3\" font-family=\"Helvetica,sans-Serif\" font-size=\"14.00\" fill=\"#000000\">value = [1, 0]</text>\n</g>\n<!-- 28&#45;&gt;29 -->\n<g id=\"edge29\" class=\"edge\">\n<title>28&#45;&gt;29</title>\n<path fill=\"none\" stroke=\"#000000\" d=\"M831.1721,-1336.9465C818.3737,-1325.2707 804.067,-1312.219 791.3099,-1300.5809\"/>\n<polygon fill=\"#000000\" stroke=\"#000000\" points=\"793.3409,-1297.6961 783.5943,-1293.5422 788.6231,-1302.8675 793.3409,-1297.6961\"/>\n</g>\n<!-- 30 -->\n<g id=\"node31\" class=\"node\">\n<title>30</title>\n<polygon fill=\"none\" stroke=\"#000000\" points=\"921,-1293.5 822,-1293.5 822,-1240.5 921,-1240.5 921,-1293.5\"/>\n<text text-anchor=\"middle\" x=\"871.5\" y=\"-1278.3\" font-family=\"Helvetica,sans-Serif\" font-size=\"14.00\" fill=\"#000000\">gini = 0.0</text>\n<text text-anchor=\"middle\" x=\"871.5\" y=\"-1263.3\" font-family=\"Helvetica,sans-Serif\" font-size=\"14.00\" fill=\"#000000\">samples = 2</text>\n<text text-anchor=\"middle\" x=\"871.5\" y=\"-1248.3\" font-family=\"Helvetica,sans-Serif\" font-size=\"14.00\" fill=\"#000000\">value = [0, 2]</text>\n</g>\n<!-- 28&#45;&gt;30 -->\n<g id=\"edge30\" class=\"edge\">\n<title>28&#45;&gt;30</title>\n<path fill=\"none\" stroke=\"#000000\" d=\"M869.4823,-1336.9465C869.7905,-1326.2621 870.132,-1314.4254 870.445,-1303.5742\"/>\n<polygon fill=\"#000000\" stroke=\"#000000\" points=\"873.9445,-1303.639 870.7344,-1293.5422 866.9474,-1303.4371 873.9445,-1303.639\"/>\n</g>\n<!-- 32 -->\n<g id=\"node33\" class=\"node\">\n<title>32</title>\n<polygon fill=\"none\" stroke=\"#000000\" points=\"1519.5,-1717 1403.5,-1717 1403.5,-1649 1519.5,-1649 1519.5,-1717\"/>\n<text text-anchor=\"middle\" x=\"1461.5\" y=\"-1701.8\" font-family=\"Helvetica,sans-Serif\" font-size=\"14.00\" fill=\"#000000\">X[4] &lt;= 8.04</text>\n<text text-anchor=\"middle\" x=\"1461.5\" y=\"-1686.8\" font-family=\"Helvetica,sans-Serif\" font-size=\"14.00\" fill=\"#000000\">gini = 0.484</text>\n<text text-anchor=\"middle\" x=\"1461.5\" y=\"-1671.8\" font-family=\"Helvetica,sans-Serif\" font-size=\"14.00\" fill=\"#000000\">samples = 95</text>\n<text text-anchor=\"middle\" x=\"1461.5\" y=\"-1656.8\" font-family=\"Helvetica,sans-Serif\" font-size=\"14.00\" fill=\"#000000\">value = [39, 56]</text>\n</g>\n<!-- 31&#45;&gt;32 -->\n<g id=\"edge32\" class=\"edge\">\n<title>31&#45;&gt;32</title>\n<path fill=\"none\" stroke=\"#000000\" d=\"M1522.7032,-1752.9465C1514.847,-1743.968 1506.2788,-1734.1758 1498.1087,-1724.8385\"/>\n<polygon fill=\"#000000\" stroke=\"#000000\" points=\"1500.5829,-1722.351 1491.3637,-1717.13 1495.3148,-1726.9606 1500.5829,-1722.351\"/>\n</g>\n<!-- 97 -->\n<g id=\"node98\" class=\"node\">\n<title>97</title>\n<polygon fill=\"none\" stroke=\"#000000\" points=\"1699,-1717 1592,-1717 1592,-1649 1699,-1649 1699,-1717\"/>\n<text text-anchor=\"middle\" x=\"1645.5\" y=\"-1701.8\" font-family=\"Helvetica,sans-Serif\" font-size=\"14.00\" fill=\"#000000\">X[3] &lt;= 1.5</text>\n<text text-anchor=\"middle\" x=\"1645.5\" y=\"-1686.8\" font-family=\"Helvetica,sans-Serif\" font-size=\"14.00\" fill=\"#000000\">gini = 0.219</text>\n<text text-anchor=\"middle\" x=\"1645.5\" y=\"-1671.8\" font-family=\"Helvetica,sans-Serif\" font-size=\"14.00\" fill=\"#000000\">samples = 24</text>\n<text text-anchor=\"middle\" x=\"1645.5\" y=\"-1656.8\" font-family=\"Helvetica,sans-Serif\" font-size=\"14.00\" fill=\"#000000\">value = [21, 3]</text>\n</g>\n<!-- 31&#45;&gt;97 -->\n<g id=\"edge97\" class=\"edge\">\n<title>31&#45;&gt;97</title>\n<path fill=\"none\" stroke=\"#000000\" d=\"M1582.9517,-1752.9465C1590.9806,-1743.968 1599.737,-1734.1758 1608.0867,-1724.8385\"/>\n<polygon fill=\"#000000\" stroke=\"#000000\" points=\"1610.923,-1726.9174 1614.9799,-1717.13 1605.705,-1722.2512 1610.923,-1726.9174\"/>\n</g>\n<!-- 33 -->\n<g id=\"node34\" class=\"node\">\n<title>33</title>\n<polygon fill=\"none\" stroke=\"#000000\" points=\"1325.5,-1613 1209.5,-1613 1209.5,-1545 1325.5,-1545 1325.5,-1613\"/>\n<text text-anchor=\"middle\" x=\"1267.5\" y=\"-1597.8\" font-family=\"Helvetica,sans-Serif\" font-size=\"14.00\" fill=\"#000000\">X[1] &lt;= 30.1</text>\n<text text-anchor=\"middle\" x=\"1267.5\" y=\"-1582.8\" font-family=\"Helvetica,sans-Serif\" font-size=\"14.00\" fill=\"#000000\">gini = 0.408</text>\n<text text-anchor=\"middle\" x=\"1267.5\" y=\"-1567.8\" font-family=\"Helvetica,sans-Serif\" font-size=\"14.00\" fill=\"#000000\">samples = 42</text>\n<text text-anchor=\"middle\" x=\"1267.5\" y=\"-1552.8\" font-family=\"Helvetica,sans-Serif\" font-size=\"14.00\" fill=\"#000000\">value = [12, 30]</text>\n</g>\n<!-- 32&#45;&gt;33 -->\n<g id=\"edge33\" class=\"edge\">\n<title>32&#45;&gt;33</title>\n<path fill=\"none\" stroke=\"#000000\" d=\"M1403.2936,-1651.7966C1381.7129,-1640.2275 1357.065,-1627.0142 1334.7445,-1615.0486\"/>\n<polygon fill=\"#000000\" stroke=\"#000000\" points=\"1336.1325,-1611.8215 1325.6653,-1610.1814 1332.8251,-1617.9909 1336.1325,-1611.8215\"/>\n</g>\n<!-- 62 -->\n<g id=\"node63\" class=\"node\">\n<title>62</title>\n<polygon fill=\"none\" stroke=\"#000000\" points=\"1519.5,-1613 1403.5,-1613 1403.5,-1545 1519.5,-1545 1519.5,-1613\"/>\n<text text-anchor=\"middle\" x=\"1461.5\" y=\"-1597.8\" font-family=\"Helvetica,sans-Serif\" font-size=\"14.00\" fill=\"#000000\">X[1] &lt;= 6.5</text>\n<text text-anchor=\"middle\" x=\"1461.5\" y=\"-1582.8\" font-family=\"Helvetica,sans-Serif\" font-size=\"14.00\" fill=\"#000000\">gini = 0.5</text>\n<text text-anchor=\"middle\" x=\"1461.5\" y=\"-1567.8\" font-family=\"Helvetica,sans-Serif\" font-size=\"14.00\" fill=\"#000000\">samples = 53</text>\n<text text-anchor=\"middle\" x=\"1461.5\" y=\"-1552.8\" font-family=\"Helvetica,sans-Serif\" font-size=\"14.00\" fill=\"#000000\">value = [27, 26]</text>\n</g>\n<!-- 32&#45;&gt;62 -->\n<g id=\"edge62\" class=\"edge\">\n<title>32&#45;&gt;62</title>\n<path fill=\"none\" stroke=\"#000000\" d=\"M1461.5,-1648.9465C1461.5,-1640.776 1461.5,-1631.9318 1461.5,-1623.3697\"/>\n<polygon fill=\"#000000\" stroke=\"#000000\" points=\"1465.0001,-1623.13 1461.5,-1613.13 1458.0001,-1623.13 1465.0001,-1623.13\"/>\n</g>\n<!-- 34 -->\n<g id=\"node35\" class=\"node\">\n<title>34</title>\n<polygon fill=\"none\" stroke=\"#000000\" points=\"1174,-1509 1067,-1509 1067,-1441 1174,-1441 1174,-1509\"/>\n<text text-anchor=\"middle\" x=\"1120.5\" y=\"-1493.8\" font-family=\"Helvetica,sans-Serif\" font-size=\"14.00\" fill=\"#000000\">X[4] &lt;= 6.987</text>\n<text text-anchor=\"middle\" x=\"1120.5\" y=\"-1478.8\" font-family=\"Helvetica,sans-Serif\" font-size=\"14.00\" fill=\"#000000\">gini = 0.355</text>\n<text text-anchor=\"middle\" x=\"1120.5\" y=\"-1463.8\" font-family=\"Helvetica,sans-Serif\" font-size=\"14.00\" fill=\"#000000\">samples = 39</text>\n<text text-anchor=\"middle\" x=\"1120.5\" y=\"-1448.8\" font-family=\"Helvetica,sans-Serif\" font-size=\"14.00\" fill=\"#000000\">value = [9, 30]</text>\n</g>\n<!-- 33&#45;&gt;34 -->\n<g id=\"edge34\" class=\"edge\">\n<title>33&#45;&gt;34</title>\n<path fill=\"none\" stroke=\"#000000\" d=\"M1219.3667,-1544.9465C1205.9144,-1535.4293 1191.17,-1524.9978 1177.2688,-1515.163\"/>\n<polygon fill=\"#000000\" stroke=\"#000000\" points=\"1178.9264,-1512.0483 1168.7414,-1509.13 1174.8835,-1517.7628 1178.9264,-1512.0483\"/>\n</g>\n<!-- 61 -->\n<g id=\"node62\" class=\"node\">\n<title>61</title>\n<polygon fill=\"none\" stroke=\"#000000\" points=\"1317,-1501.5 1218,-1501.5 1218,-1448.5 1317,-1448.5 1317,-1501.5\"/>\n<text text-anchor=\"middle\" x=\"1267.5\" y=\"-1486.3\" font-family=\"Helvetica,sans-Serif\" font-size=\"14.00\" fill=\"#000000\">gini = 0.0</text>\n<text text-anchor=\"middle\" x=\"1267.5\" y=\"-1471.3\" font-family=\"Helvetica,sans-Serif\" font-size=\"14.00\" fill=\"#000000\">samples = 3</text>\n<text text-anchor=\"middle\" x=\"1267.5\" y=\"-1456.3\" font-family=\"Helvetica,sans-Serif\" font-size=\"14.00\" fill=\"#000000\">value = [3, 0]</text>\n</g>\n<!-- 33&#45;&gt;61 -->\n<g id=\"edge61\" class=\"edge\">\n<title>33&#45;&gt;61</title>\n<path fill=\"none\" stroke=\"#000000\" d=\"M1267.5,-1544.9465C1267.5,-1534.2621 1267.5,-1522.4254 1267.5,-1511.5742\"/>\n<polygon fill=\"#000000\" stroke=\"#000000\" points=\"1271.0001,-1511.5421 1267.5,-1501.5422 1264.0001,-1511.5422 1271.0001,-1511.5421\"/>\n</g>\n<!-- 35 -->\n<g id=\"node36\" class=\"node\">\n<title>35</title>\n<polygon fill=\"none\" stroke=\"#000000\" points=\"1049,-1397.5 950,-1397.5 950,-1344.5 1049,-1344.5 1049,-1397.5\"/>\n<text text-anchor=\"middle\" x=\"999.5\" y=\"-1382.3\" font-family=\"Helvetica,sans-Serif\" font-size=\"14.00\" fill=\"#000000\">gini = 0.0</text>\n<text text-anchor=\"middle\" x=\"999.5\" y=\"-1367.3\" font-family=\"Helvetica,sans-Serif\" font-size=\"14.00\" fill=\"#000000\">samples = 1</text>\n<text text-anchor=\"middle\" x=\"999.5\" y=\"-1352.3\" font-family=\"Helvetica,sans-Serif\" font-size=\"14.00\" fill=\"#000000\">value = [1, 0]</text>\n</g>\n<!-- 34&#45;&gt;35 -->\n<g id=\"edge35\" class=\"edge\">\n<title>34&#45;&gt;35</title>\n<path fill=\"none\" stroke=\"#000000\" d=\"M1080.8801,-1440.9465C1067.1676,-1429.1606 1051.8239,-1415.9726 1038.1873,-1404.2519\"/>\n<polygon fill=\"#000000\" stroke=\"#000000\" points=\"1040.2459,-1401.4061 1030.3808,-1397.5422 1035.6831,-1406.7147 1040.2459,-1401.4061\"/>\n</g>\n<!-- 36 -->\n<g id=\"node37\" class=\"node\">\n<title>36</title>\n<polygon fill=\"none\" stroke=\"#000000\" points=\"1174,-1405 1067,-1405 1067,-1337 1174,-1337 1174,-1405\"/>\n<text text-anchor=\"middle\" x=\"1120.5\" y=\"-1389.8\" font-family=\"Helvetica,sans-Serif\" font-size=\"14.00\" fill=\"#000000\">X[3] &lt;= 0.5</text>\n<text text-anchor=\"middle\" x=\"1120.5\" y=\"-1374.8\" font-family=\"Helvetica,sans-Serif\" font-size=\"14.00\" fill=\"#000000\">gini = 0.332</text>\n<text text-anchor=\"middle\" x=\"1120.5\" y=\"-1359.8\" font-family=\"Helvetica,sans-Serif\" font-size=\"14.00\" fill=\"#000000\">samples = 38</text>\n<text text-anchor=\"middle\" x=\"1120.5\" y=\"-1344.8\" font-family=\"Helvetica,sans-Serif\" font-size=\"14.00\" fill=\"#000000\">value = [8, 30]</text>\n</g>\n<!-- 34&#45;&gt;36 -->\n<g id=\"edge36\" class=\"edge\">\n<title>34&#45;&gt;36</title>\n<path fill=\"none\" stroke=\"#000000\" d=\"M1120.5,-1440.9465C1120.5,-1432.776 1120.5,-1423.9318 1120.5,-1415.3697\"/>\n<polygon fill=\"#000000\" stroke=\"#000000\" points=\"1124.0001,-1415.13 1120.5,-1405.13 1117.0001,-1415.13 1124.0001,-1415.13\"/>\n</g>\n<!-- 37 -->\n<g id=\"node38\" class=\"node\">\n<title>37</title>\n<polygon fill=\"none\" stroke=\"#000000\" points=\"1047,-1301 940,-1301 940,-1233 1047,-1233 1047,-1301\"/>\n<text text-anchor=\"middle\" x=\"993.5\" y=\"-1285.8\" font-family=\"Helvetica,sans-Serif\" font-size=\"14.00\" fill=\"#000000\">X[1] &lt;= 21.5</text>\n<text text-anchor=\"middle\" x=\"993.5\" y=\"-1270.8\" font-family=\"Helvetica,sans-Serif\" font-size=\"14.00\" fill=\"#000000\">gini = 0.291</text>\n<text text-anchor=\"middle\" x=\"993.5\" y=\"-1255.8\" font-family=\"Helvetica,sans-Serif\" font-size=\"14.00\" fill=\"#000000\">samples = 34</text>\n<text text-anchor=\"middle\" x=\"993.5\" y=\"-1240.8\" font-family=\"Helvetica,sans-Serif\" font-size=\"14.00\" fill=\"#000000\">value = [6, 28]</text>\n</g>\n<!-- 36&#45;&gt;37 -->\n<g id=\"edge37\" class=\"edge\">\n<title>36&#45;&gt;37</title>\n<path fill=\"none\" stroke=\"#000000\" d=\"M1078.9155,-1336.9465C1067.5127,-1327.6088 1055.0353,-1317.3911 1043.2257,-1307.7203\"/>\n<polygon fill=\"#000000\" stroke=\"#000000\" points=\"1045.1324,-1304.7578 1035.178,-1301.13 1040.6974,-1310.1736 1045.1324,-1304.7578\"/>\n</g>\n<!-- 58 -->\n<g id=\"node59\" class=\"node\">\n<title>58</title>\n<polygon fill=\"none\" stroke=\"#000000\" points=\"1170,-1301 1071,-1301 1071,-1233 1170,-1233 1170,-1301\"/>\n<text text-anchor=\"middle\" x=\"1120.5\" y=\"-1285.8\" font-family=\"Helvetica,sans-Serif\" font-size=\"14.00\" fill=\"#000000\">X[1] &lt;= 22.0</text>\n<text text-anchor=\"middle\" x=\"1120.5\" y=\"-1270.8\" font-family=\"Helvetica,sans-Serif\" font-size=\"14.00\" fill=\"#000000\">gini = 0.5</text>\n<text text-anchor=\"middle\" x=\"1120.5\" y=\"-1255.8\" font-family=\"Helvetica,sans-Serif\" font-size=\"14.00\" fill=\"#000000\">samples = 4</text>\n<text text-anchor=\"middle\" x=\"1120.5\" y=\"-1240.8\" font-family=\"Helvetica,sans-Serif\" font-size=\"14.00\" fill=\"#000000\">value = [2, 2]</text>\n</g>\n<!-- 36&#45;&gt;58 -->\n<g id=\"edge58\" class=\"edge\">\n<title>36&#45;&gt;58</title>\n<path fill=\"none\" stroke=\"#000000\" d=\"M1120.5,-1336.9465C1120.5,-1328.776 1120.5,-1319.9318 1120.5,-1311.3697\"/>\n<polygon fill=\"#000000\" stroke=\"#000000\" points=\"1124.0001,-1311.13 1120.5,-1301.13 1117.0001,-1311.13 1124.0001,-1311.13\"/>\n</g>\n<!-- 38 -->\n<g id=\"node39\" class=\"node\">\n<title>38</title>\n<polygon fill=\"none\" stroke=\"#000000\" points=\"922,-1197 819,-1197 819,-1129 922,-1129 922,-1197\"/>\n<text text-anchor=\"middle\" x=\"870.5\" y=\"-1181.8\" font-family=\"Helvetica,sans-Serif\" font-size=\"14.00\" fill=\"#000000\">X[4] &lt;= 7.742</text>\n<text text-anchor=\"middle\" x=\"870.5\" y=\"-1166.8\" font-family=\"Helvetica,sans-Serif\" font-size=\"14.00\" fill=\"#000000\">gini = 0.444</text>\n<text text-anchor=\"middle\" x=\"870.5\" y=\"-1151.8\" font-family=\"Helvetica,sans-Serif\" font-size=\"14.00\" fill=\"#000000\">samples = 9</text>\n<text text-anchor=\"middle\" x=\"870.5\" y=\"-1136.8\" font-family=\"Helvetica,sans-Serif\" font-size=\"14.00\" fill=\"#000000\">value = [3, 6]</text>\n</g>\n<!-- 37&#45;&gt;38 -->\n<g id=\"edge38\" class=\"edge\">\n<title>37&#45;&gt;38</title>\n<path fill=\"none\" stroke=\"#000000\" d=\"M953.2252,-1232.9465C942.1816,-1223.6088 930.0972,-1213.3911 918.6596,-1203.7203\"/>\n<polygon fill=\"#000000\" stroke=\"#000000\" points=\"920.7614,-1200.914 910.8653,-1197.13 916.2417,-1206.2594 920.7614,-1200.914\"/>\n</g>\n<!-- 43 -->\n<g id=\"node44\" class=\"node\">\n<title>43</title>\n<polygon fill=\"none\" stroke=\"#000000\" points=\"1047,-1197 940,-1197 940,-1129 1047,-1129 1047,-1197\"/>\n<text text-anchor=\"middle\" x=\"993.5\" y=\"-1181.8\" font-family=\"Helvetica,sans-Serif\" font-size=\"14.00\" fill=\"#000000\">X[4] &lt;= 7.902</text>\n<text text-anchor=\"middle\" x=\"993.5\" y=\"-1166.8\" font-family=\"Helvetica,sans-Serif\" font-size=\"14.00\" fill=\"#000000\">gini = 0.211</text>\n<text text-anchor=\"middle\" x=\"993.5\" y=\"-1151.8\" font-family=\"Helvetica,sans-Serif\" font-size=\"14.00\" fill=\"#000000\">samples = 25</text>\n<text text-anchor=\"middle\" x=\"993.5\" y=\"-1136.8\" font-family=\"Helvetica,sans-Serif\" font-size=\"14.00\" fill=\"#000000\">value = [3, 22]</text>\n</g>\n<!-- 37&#45;&gt;43 -->\n<g id=\"edge43\" class=\"edge\">\n<title>37&#45;&gt;43</title>\n<path fill=\"none\" stroke=\"#000000\" d=\"M993.5,-1232.9465C993.5,-1224.776 993.5,-1215.9318 993.5,-1207.3697\"/>\n<polygon fill=\"#000000\" stroke=\"#000000\" points=\"997.0001,-1207.13 993.5,-1197.13 990.0001,-1207.13 997.0001,-1207.13\"/>\n</g>\n<!-- 39 -->\n<g id=\"node40\" class=\"node\">\n<title>39</title>\n<polygon fill=\"none\" stroke=\"#000000\" points=\"801,-1085.5 702,-1085.5 702,-1032.5 801,-1032.5 801,-1085.5\"/>\n<text text-anchor=\"middle\" x=\"751.5\" y=\"-1070.3\" font-family=\"Helvetica,sans-Serif\" font-size=\"14.00\" fill=\"#000000\">gini = 0.0</text>\n<text text-anchor=\"middle\" x=\"751.5\" y=\"-1055.3\" font-family=\"Helvetica,sans-Serif\" font-size=\"14.00\" fill=\"#000000\">samples = 4</text>\n<text text-anchor=\"middle\" x=\"751.5\" y=\"-1040.3\" font-family=\"Helvetica,sans-Serif\" font-size=\"14.00\" fill=\"#000000\">value = [0, 4]</text>\n</g>\n<!-- 38&#45;&gt;39 -->\n<g id=\"edge39\" class=\"edge\">\n<title>38&#45;&gt;39</title>\n<path fill=\"none\" stroke=\"#000000\" d=\"M831.5349,-1128.9465C818.0491,-1117.1606 802.9591,-1103.9726 789.5479,-1092.2519\"/>\n<polygon fill=\"#000000\" stroke=\"#000000\" points=\"791.7033,-1089.4874 781.8704,-1085.5422 787.0969,-1094.7582 791.7033,-1089.4874\"/>\n</g>\n<!-- 40 -->\n<g id=\"node41\" class=\"node\">\n<title>40</title>\n<polygon fill=\"none\" stroke=\"#000000\" points=\"922,-1093 819,-1093 819,-1025 922,-1025 922,-1093\"/>\n<text text-anchor=\"middle\" x=\"870.5\" y=\"-1077.8\" font-family=\"Helvetica,sans-Serif\" font-size=\"14.00\" fill=\"#000000\">X[4] &lt;= 7.867</text>\n<text text-anchor=\"middle\" x=\"870.5\" y=\"-1062.8\" font-family=\"Helvetica,sans-Serif\" font-size=\"14.00\" fill=\"#000000\">gini = 0.48</text>\n<text text-anchor=\"middle\" x=\"870.5\" y=\"-1047.8\" font-family=\"Helvetica,sans-Serif\" font-size=\"14.00\" fill=\"#000000\">samples = 5</text>\n<text text-anchor=\"middle\" x=\"870.5\" y=\"-1032.8\" font-family=\"Helvetica,sans-Serif\" font-size=\"14.00\" fill=\"#000000\">value = [3, 2]</text>\n</g>\n<!-- 38&#45;&gt;40 -->\n<g id=\"edge40\" class=\"edge\">\n<title>38&#45;&gt;40</title>\n<path fill=\"none\" stroke=\"#000000\" d=\"M870.5,-1128.9465C870.5,-1120.776 870.5,-1111.9318 870.5,-1103.3697\"/>\n<polygon fill=\"#000000\" stroke=\"#000000\" points=\"874.0001,-1103.13 870.5,-1093.13 867.0001,-1103.13 874.0001,-1103.13\"/>\n</g>\n<!-- 41 -->\n<g id=\"node42\" class=\"node\">\n<title>41</title>\n<polygon fill=\"none\" stroke=\"#000000\" points=\"803,-981.5 704,-981.5 704,-928.5 803,-928.5 803,-981.5\"/>\n<text text-anchor=\"middle\" x=\"753.5\" y=\"-966.3\" font-family=\"Helvetica,sans-Serif\" font-size=\"14.00\" fill=\"#000000\">gini = 0.0</text>\n<text text-anchor=\"middle\" x=\"753.5\" y=\"-951.3\" font-family=\"Helvetica,sans-Serif\" font-size=\"14.00\" fill=\"#000000\">samples = 3</text>\n<text text-anchor=\"middle\" x=\"753.5\" y=\"-936.3\" font-family=\"Helvetica,sans-Serif\" font-size=\"14.00\" fill=\"#000000\">value = [3, 0]</text>\n</g>\n<!-- 40&#45;&gt;41 -->\n<g id=\"edge41\" class=\"edge\">\n<title>40&#45;&gt;41</title>\n<path fill=\"none\" stroke=\"#000000\" d=\"M832.1898,-1024.9465C818.9306,-1013.1606 804.0942,-999.9726 790.9084,-988.2519\"/>\n<polygon fill=\"#000000\" stroke=\"#000000\" points=\"793.1593,-985.5699 783.3599,-981.5422 788.5088,-990.8018 793.1593,-985.5699\"/>\n</g>\n<!-- 42 -->\n<g id=\"node43\" class=\"node\">\n<title>42</title>\n<polygon fill=\"none\" stroke=\"#000000\" points=\"920,-981.5 821,-981.5 821,-928.5 920,-928.5 920,-981.5\"/>\n<text text-anchor=\"middle\" x=\"870.5\" y=\"-966.3\" font-family=\"Helvetica,sans-Serif\" font-size=\"14.00\" fill=\"#000000\">gini = 0.0</text>\n<text text-anchor=\"middle\" x=\"870.5\" y=\"-951.3\" font-family=\"Helvetica,sans-Serif\" font-size=\"14.00\" fill=\"#000000\">samples = 2</text>\n<text text-anchor=\"middle\" x=\"870.5\" y=\"-936.3\" font-family=\"Helvetica,sans-Serif\" font-size=\"14.00\" fill=\"#000000\">value = [0, 2]</text>\n</g>\n<!-- 40&#45;&gt;42 -->\n<g id=\"edge42\" class=\"edge\">\n<title>40&#45;&gt;42</title>\n<path fill=\"none\" stroke=\"#000000\" d=\"M870.5,-1024.9465C870.5,-1014.2621 870.5,-1002.4254 870.5,-991.5742\"/>\n<polygon fill=\"#000000\" stroke=\"#000000\" points=\"874.0001,-991.5421 870.5,-981.5422 867.0001,-991.5422 874.0001,-991.5421\"/>\n</g>\n<!-- 44 -->\n<g id=\"node45\" class=\"node\">\n<title>44</title>\n<polygon fill=\"none\" stroke=\"#000000\" points=\"1047,-1093 940,-1093 940,-1025 1047,-1025 1047,-1093\"/>\n<text text-anchor=\"middle\" x=\"993.5\" y=\"-1077.8\" font-family=\"Helvetica,sans-Serif\" font-size=\"14.00\" fill=\"#000000\">X[4] &lt;= 7.681</text>\n<text text-anchor=\"middle\" x=\"993.5\" y=\"-1062.8\" font-family=\"Helvetica,sans-Serif\" font-size=\"14.00\" fill=\"#000000\">gini = 0.165</text>\n<text text-anchor=\"middle\" x=\"993.5\" y=\"-1047.8\" font-family=\"Helvetica,sans-Serif\" font-size=\"14.00\" fill=\"#000000\">samples = 22</text>\n<text text-anchor=\"middle\" x=\"993.5\" y=\"-1032.8\" font-family=\"Helvetica,sans-Serif\" font-size=\"14.00\" fill=\"#000000\">value = [2, 20]</text>\n</g>\n<!-- 43&#45;&gt;44 -->\n<g id=\"edge44\" class=\"edge\">\n<title>43&#45;&gt;44</title>\n<path fill=\"none\" stroke=\"#000000\" d=\"M993.5,-1128.9465C993.5,-1120.776 993.5,-1111.9318 993.5,-1103.3697\"/>\n<polygon fill=\"#000000\" stroke=\"#000000\" points=\"997.0001,-1103.13 993.5,-1093.13 990.0001,-1103.13 997.0001,-1103.13\"/>\n</g>\n<!-- 55 -->\n<g id=\"node56\" class=\"node\">\n<title>55</title>\n<polygon fill=\"none\" stroke=\"#000000\" points=\"1279,-1093 1180,-1093 1180,-1025 1279,-1025 1279,-1093\"/>\n<text text-anchor=\"middle\" x=\"1229.5\" y=\"-1077.8\" font-family=\"Helvetica,sans-Serif\" font-size=\"14.00\" fill=\"#000000\">X[1] &lt;= 24.5</text>\n<text text-anchor=\"middle\" x=\"1229.5\" y=\"-1062.8\" font-family=\"Helvetica,sans-Serif\" font-size=\"14.00\" fill=\"#000000\">gini = 0.444</text>\n<text text-anchor=\"middle\" x=\"1229.5\" y=\"-1047.8\" font-family=\"Helvetica,sans-Serif\" font-size=\"14.00\" fill=\"#000000\">samples = 3</text>\n<text text-anchor=\"middle\" x=\"1229.5\" y=\"-1032.8\" font-family=\"Helvetica,sans-Serif\" font-size=\"14.00\" fill=\"#000000\">value = [1, 2]</text>\n</g>\n<!-- 43&#45;&gt;55 -->\n<g id=\"edge55\" class=\"edge\">\n<title>43&#45;&gt;55</title>\n<path fill=\"none\" stroke=\"#000000\" d=\"M1047.0656,-1133.1164C1049.9024,-1131.6936 1052.726,-1130.3129 1055.5,-1129 1092.8681,-1111.3144 1135.9703,-1093.953 1169.927,-1080.9445\"/>\n<polygon fill=\"#000000\" stroke=\"#000000\" points=\"1171.6009,-1084.0524 1179.7012,-1077.2234 1169.1102,-1077.5105 1171.6009,-1084.0524\"/>\n</g>\n<!-- 45 -->\n<g id=\"node46\" class=\"node\">\n<title>45</title>\n<polygon fill=\"none\" stroke=\"#000000\" points=\"1037,-989 938,-989 938,-921 1037,-921 1037,-989\"/>\n<text text-anchor=\"middle\" x=\"987.5\" y=\"-973.8\" font-family=\"Helvetica,sans-Serif\" font-size=\"14.00\" fill=\"#000000\">X[4] &lt;= 7.59</text>\n<text text-anchor=\"middle\" x=\"987.5\" y=\"-958.8\" font-family=\"Helvetica,sans-Serif\" font-size=\"14.00\" fill=\"#000000\">gini = 0.32</text>\n<text text-anchor=\"middle\" x=\"987.5\" y=\"-943.8\" font-family=\"Helvetica,sans-Serif\" font-size=\"14.00\" fill=\"#000000\">samples = 5</text>\n<text text-anchor=\"middle\" x=\"987.5\" y=\"-928.8\" font-family=\"Helvetica,sans-Serif\" font-size=\"14.00\" fill=\"#000000\">value = [1, 4]</text>\n</g>\n<!-- 44&#45;&gt;45 -->\n<g id=\"edge45\" class=\"edge\">\n<title>44&#45;&gt;45</title>\n<path fill=\"none\" stroke=\"#000000\" d=\"M991.5354,-1024.9465C991.064,-1016.776 990.5538,-1007.9318 990.0598,-999.3697\"/>\n<polygon fill=\"#000000\" stroke=\"#000000\" points=\"993.5393,-998.9118 989.469,-989.13 986.5509,-999.315 993.5393,-998.9118\"/>\n</g>\n<!-- 48 -->\n<g id=\"node49\" class=\"node\">\n<title>48</title>\n<polygon fill=\"none\" stroke=\"#000000\" points=\"1162,-989 1055,-989 1055,-921 1162,-921 1162,-989\"/>\n<text text-anchor=\"middle\" x=\"1108.5\" y=\"-973.8\" font-family=\"Helvetica,sans-Serif\" font-size=\"14.00\" fill=\"#000000\">X[4] &lt;= 7.763</text>\n<text text-anchor=\"middle\" x=\"1108.5\" y=\"-958.8\" font-family=\"Helvetica,sans-Serif\" font-size=\"14.00\" fill=\"#000000\">gini = 0.111</text>\n<text text-anchor=\"middle\" x=\"1108.5\" y=\"-943.8\" font-family=\"Helvetica,sans-Serif\" font-size=\"14.00\" fill=\"#000000\">samples = 17</text>\n<text text-anchor=\"middle\" x=\"1108.5\" y=\"-928.8\" font-family=\"Helvetica,sans-Serif\" font-size=\"14.00\" fill=\"#000000\">value = [1, 16]</text>\n</g>\n<!-- 44&#45;&gt;48 -->\n<g id=\"edge48\" class=\"edge\">\n<title>44&#45;&gt;48</title>\n<path fill=\"none\" stroke=\"#000000\" d=\"M1031.1553,-1024.9465C1041.3813,-1015.6986 1052.5618,-1005.5876 1063.1641,-995.9994\"/>\n<polygon fill=\"#000000\" stroke=\"#000000\" points=\"1065.6908,-998.4334 1070.7601,-989.13 1060.9956,-993.2416 1065.6908,-998.4334\"/>\n</g>\n<!-- 46 -->\n<g id=\"node47\" class=\"node\">\n<title>46</title>\n<polygon fill=\"none\" stroke=\"#000000\" points=\"920,-877.5 821,-877.5 821,-824.5 920,-824.5 920,-877.5\"/>\n<text text-anchor=\"middle\" x=\"870.5\" y=\"-862.3\" font-family=\"Helvetica,sans-Serif\" font-size=\"14.00\" fill=\"#000000\">gini = 0.0</text>\n<text text-anchor=\"middle\" x=\"870.5\" y=\"-847.3\" font-family=\"Helvetica,sans-Serif\" font-size=\"14.00\" fill=\"#000000\">samples = 4</text>\n<text text-anchor=\"middle\" x=\"870.5\" y=\"-832.3\" font-family=\"Helvetica,sans-Serif\" font-size=\"14.00\" fill=\"#000000\">value = [0, 4]</text>\n</g>\n<!-- 45&#45;&gt;46 -->\n<g id=\"edge46\" class=\"edge\">\n<title>45&#45;&gt;46</title>\n<path fill=\"none\" stroke=\"#000000\" d=\"M949.1898,-920.9465C935.9306,-909.1606 921.0942,-895.9726 907.9084,-884.2519\"/>\n<polygon fill=\"#000000\" stroke=\"#000000\" points=\"910.1593,-881.5699 900.3599,-877.5422 905.5088,-886.8018 910.1593,-881.5699\"/>\n</g>\n<!-- 47 -->\n<g id=\"node48\" class=\"node\">\n<title>47</title>\n<polygon fill=\"none\" stroke=\"#000000\" points=\"1037,-877.5 938,-877.5 938,-824.5 1037,-824.5 1037,-877.5\"/>\n<text text-anchor=\"middle\" x=\"987.5\" y=\"-862.3\" font-family=\"Helvetica,sans-Serif\" font-size=\"14.00\" fill=\"#000000\">gini = 0.0</text>\n<text text-anchor=\"middle\" x=\"987.5\" y=\"-847.3\" font-family=\"Helvetica,sans-Serif\" font-size=\"14.00\" fill=\"#000000\">samples = 1</text>\n<text text-anchor=\"middle\" x=\"987.5\" y=\"-832.3\" font-family=\"Helvetica,sans-Serif\" font-size=\"14.00\" fill=\"#000000\">value = [1, 0]</text>\n</g>\n<!-- 45&#45;&gt;47 -->\n<g id=\"edge47\" class=\"edge\">\n<title>45&#45;&gt;47</title>\n<path fill=\"none\" stroke=\"#000000\" d=\"M987.5,-920.9465C987.5,-910.2621 987.5,-898.4254 987.5,-887.5742\"/>\n<polygon fill=\"#000000\" stroke=\"#000000\" points=\"991.0001,-887.5421 987.5,-877.5422 984.0001,-887.5422 991.0001,-887.5421\"/>\n</g>\n<!-- 49 -->\n<g id=\"node50\" class=\"node\">\n<title>49</title>\n<polygon fill=\"none\" stroke=\"#000000\" points=\"1162,-885 1055,-885 1055,-817 1162,-817 1162,-885\"/>\n<text text-anchor=\"middle\" x=\"1108.5\" y=\"-869.8\" font-family=\"Helvetica,sans-Serif\" font-size=\"14.00\" fill=\"#000000\">X[4] &lt;= 7.744</text>\n<text text-anchor=\"middle\" x=\"1108.5\" y=\"-854.8\" font-family=\"Helvetica,sans-Serif\" font-size=\"14.00\" fill=\"#000000\">gini = 0.165</text>\n<text text-anchor=\"middle\" x=\"1108.5\" y=\"-839.8\" font-family=\"Helvetica,sans-Serif\" font-size=\"14.00\" fill=\"#000000\">samples = 11</text>\n<text text-anchor=\"middle\" x=\"1108.5\" y=\"-824.8\" font-family=\"Helvetica,sans-Serif\" font-size=\"14.00\" fill=\"#000000\">value = [1, 10]</text>\n</g>\n<!-- 48&#45;&gt;49 -->\n<g id=\"edge49\" class=\"edge\">\n<title>48&#45;&gt;49</title>\n<path fill=\"none\" stroke=\"#000000\" d=\"M1108.5,-920.9465C1108.5,-912.776 1108.5,-903.9318 1108.5,-895.3697\"/>\n<polygon fill=\"#000000\" stroke=\"#000000\" points=\"1112.0001,-895.13 1108.5,-885.13 1105.0001,-895.13 1112.0001,-895.13\"/>\n</g>\n<!-- 54 -->\n<g id=\"node55\" class=\"node\">\n<title>54</title>\n<polygon fill=\"none\" stroke=\"#000000\" points=\"1279,-877.5 1180,-877.5 1180,-824.5 1279,-824.5 1279,-877.5\"/>\n<text text-anchor=\"middle\" x=\"1229.5\" y=\"-862.3\" font-family=\"Helvetica,sans-Serif\" font-size=\"14.00\" fill=\"#000000\">gini = 0.0</text>\n<text text-anchor=\"middle\" x=\"1229.5\" y=\"-847.3\" font-family=\"Helvetica,sans-Serif\" font-size=\"14.00\" fill=\"#000000\">samples = 6</text>\n<text text-anchor=\"middle\" x=\"1229.5\" y=\"-832.3\" font-family=\"Helvetica,sans-Serif\" font-size=\"14.00\" fill=\"#000000\">value = [0, 6]</text>\n</g>\n<!-- 48&#45;&gt;54 -->\n<g id=\"edge54\" class=\"edge\">\n<title>48&#45;&gt;54</title>\n<path fill=\"none\" stroke=\"#000000\" d=\"M1148.1199,-920.9465C1161.8324,-909.1606 1177.1761,-895.9726 1190.8127,-884.2519\"/>\n<polygon fill=\"#000000\" stroke=\"#000000\" points=\"1193.3169,-886.7147 1198.6192,-877.5422 1188.7541,-881.4061 1193.3169,-886.7147\"/>\n</g>\n<!-- 50 -->\n<g id=\"node51\" class=\"node\">\n<title>50</title>\n<polygon fill=\"none\" stroke=\"#000000\" points=\"1099,-773.5 1000,-773.5 1000,-720.5 1099,-720.5 1099,-773.5\"/>\n<text text-anchor=\"middle\" x=\"1049.5\" y=\"-758.3\" font-family=\"Helvetica,sans-Serif\" font-size=\"14.00\" fill=\"#000000\">gini = 0.0</text>\n<text text-anchor=\"middle\" x=\"1049.5\" y=\"-743.3\" font-family=\"Helvetica,sans-Serif\" font-size=\"14.00\" fill=\"#000000\">samples = 2</text>\n<text text-anchor=\"middle\" x=\"1049.5\" y=\"-728.3\" font-family=\"Helvetica,sans-Serif\" font-size=\"14.00\" fill=\"#000000\">value = [0, 2]</text>\n</g>\n<!-- 49&#45;&gt;50 -->\n<g id=\"edge50\" class=\"edge\">\n<title>49&#45;&gt;50</title>\n<path fill=\"none\" stroke=\"#000000\" d=\"M1089.1812,-816.9465C1082.9324,-805.9316 1075.9888,-793.6922 1069.6793,-782.5703\"/>\n<polygon fill=\"#000000\" stroke=\"#000000\" points=\"1072.5362,-780.513 1064.5576,-773.5422 1066.4477,-783.967 1072.5362,-780.513\"/>\n</g>\n<!-- 51 -->\n<g id=\"node52\" class=\"node\">\n<title>51</title>\n<polygon fill=\"none\" stroke=\"#000000\" points=\"1220,-781 1117,-781 1117,-713 1220,-713 1220,-781\"/>\n<text text-anchor=\"middle\" x=\"1168.5\" y=\"-765.8\" font-family=\"Helvetica,sans-Serif\" font-size=\"14.00\" fill=\"#000000\">X[1] &lt;= 25.85</text>\n<text text-anchor=\"middle\" x=\"1168.5\" y=\"-750.8\" font-family=\"Helvetica,sans-Serif\" font-size=\"14.00\" fill=\"#000000\">gini = 0.198</text>\n<text text-anchor=\"middle\" x=\"1168.5\" y=\"-735.8\" font-family=\"Helvetica,sans-Serif\" font-size=\"14.00\" fill=\"#000000\">samples = 9</text>\n<text text-anchor=\"middle\" x=\"1168.5\" y=\"-720.8\" font-family=\"Helvetica,sans-Serif\" font-size=\"14.00\" fill=\"#000000\">value = [1, 8]</text>\n</g>\n<!-- 49&#45;&gt;51 -->\n<g id=\"edge51\" class=\"edge\">\n<title>49&#45;&gt;51</title>\n<path fill=\"none\" stroke=\"#000000\" d=\"M1128.1462,-816.9465C1133.119,-808.3271 1138.5243,-798.9579 1143.7148,-789.9611\"/>\n<polygon fill=\"#000000\" stroke=\"#000000\" points=\"1146.844,-791.5409 1148.8096,-781.13 1140.7807,-788.0428 1146.844,-791.5409\"/>\n</g>\n<!-- 52 -->\n<g id=\"node53\" class=\"node\">\n<title>52</title>\n<polygon fill=\"none\" stroke=\"#000000\" points=\"1160,-669.5 1061,-669.5 1061,-616.5 1160,-616.5 1160,-669.5\"/>\n<text text-anchor=\"middle\" x=\"1110.5\" y=\"-654.3\" font-family=\"Helvetica,sans-Serif\" font-size=\"14.00\" fill=\"#000000\">gini = 0.0</text>\n<text text-anchor=\"middle\" x=\"1110.5\" y=\"-639.3\" font-family=\"Helvetica,sans-Serif\" font-size=\"14.00\" fill=\"#000000\">samples = 1</text>\n<text text-anchor=\"middle\" x=\"1110.5\" y=\"-624.3\" font-family=\"Helvetica,sans-Serif\" font-size=\"14.00\" fill=\"#000000\">value = [0, 1]</text>\n</g>\n<!-- 51&#45;&gt;52 -->\n<g id=\"edge52\" class=\"edge\">\n<title>51&#45;&gt;52</title>\n<path fill=\"none\" stroke=\"#000000\" d=\"M1149.5086,-712.9465C1143.3657,-701.9316 1136.5399,-689.6922 1130.3373,-678.5703\"/>\n<polygon fill=\"#000000\" stroke=\"#000000\" points=\"1133.2299,-676.5711 1125.3024,-669.5422 1127.1163,-679.9806 1133.2299,-676.5711\"/>\n</g>\n<!-- 53 -->\n<g id=\"node54\" class=\"node\">\n<title>53</title>\n<polygon fill=\"none\" stroke=\"#000000\" points=\"1277,-669.5 1178,-669.5 1178,-616.5 1277,-616.5 1277,-669.5\"/>\n<text text-anchor=\"middle\" x=\"1227.5\" y=\"-654.3\" font-family=\"Helvetica,sans-Serif\" font-size=\"14.00\" fill=\"#000000\">gini = 0.219</text>\n<text text-anchor=\"middle\" x=\"1227.5\" y=\"-639.3\" font-family=\"Helvetica,sans-Serif\" font-size=\"14.00\" fill=\"#000000\">samples = 8</text>\n<text text-anchor=\"middle\" x=\"1227.5\" y=\"-624.3\" font-family=\"Helvetica,sans-Serif\" font-size=\"14.00\" fill=\"#000000\">value = [1, 7]</text>\n</g>\n<!-- 51&#45;&gt;53 -->\n<g id=\"edge53\" class=\"edge\">\n<title>51&#45;&gt;53</title>\n<path fill=\"none\" stroke=\"#000000\" d=\"M1187.8188,-712.9465C1194.0676,-701.9316 1201.0112,-689.6922 1207.3207,-678.5703\"/>\n<polygon fill=\"#000000\" stroke=\"#000000\" points=\"1210.5523,-679.967 1212.4424,-669.5422 1204.4638,-676.513 1210.5523,-679.967\"/>\n</g>\n<!-- 56 -->\n<g id=\"node57\" class=\"node\">\n<title>56</title>\n<polygon fill=\"none\" stroke=\"#000000\" points=\"1279,-981.5 1180,-981.5 1180,-928.5 1279,-928.5 1279,-981.5\"/>\n<text text-anchor=\"middle\" x=\"1229.5\" y=\"-966.3\" font-family=\"Helvetica,sans-Serif\" font-size=\"14.00\" fill=\"#000000\">gini = 0.0</text>\n<text text-anchor=\"middle\" x=\"1229.5\" y=\"-951.3\" font-family=\"Helvetica,sans-Serif\" font-size=\"14.00\" fill=\"#000000\">samples = 1</text>\n<text text-anchor=\"middle\" x=\"1229.5\" y=\"-936.3\" font-family=\"Helvetica,sans-Serif\" font-size=\"14.00\" fill=\"#000000\">value = [1, 0]</text>\n</g>\n<!-- 55&#45;&gt;56 -->\n<g id=\"edge56\" class=\"edge\">\n<title>55&#45;&gt;56</title>\n<path fill=\"none\" stroke=\"#000000\" d=\"M1229.5,-1024.9465C1229.5,-1014.2621 1229.5,-1002.4254 1229.5,-991.5742\"/>\n<polygon fill=\"#000000\" stroke=\"#000000\" points=\"1233.0001,-991.5421 1229.5,-981.5422 1226.0001,-991.5422 1233.0001,-991.5421\"/>\n</g>\n<!-- 57 -->\n<g id=\"node58\" class=\"node\">\n<title>57</title>\n<polygon fill=\"none\" stroke=\"#000000\" points=\"1396,-981.5 1297,-981.5 1297,-928.5 1396,-928.5 1396,-981.5\"/>\n<text text-anchor=\"middle\" x=\"1346.5\" y=\"-966.3\" font-family=\"Helvetica,sans-Serif\" font-size=\"14.00\" fill=\"#000000\">gini = 0.0</text>\n<text text-anchor=\"middle\" x=\"1346.5\" y=\"-951.3\" font-family=\"Helvetica,sans-Serif\" font-size=\"14.00\" fill=\"#000000\">samples = 2</text>\n<text text-anchor=\"middle\" x=\"1346.5\" y=\"-936.3\" font-family=\"Helvetica,sans-Serif\" font-size=\"14.00\" fill=\"#000000\">value = [0, 2]</text>\n</g>\n<!-- 55&#45;&gt;57 -->\n<g id=\"edge57\" class=\"edge\">\n<title>55&#45;&gt;57</title>\n<path fill=\"none\" stroke=\"#000000\" d=\"M1267.8102,-1024.9465C1281.0694,-1013.1606 1295.9058,-999.9726 1309.0916,-988.2519\"/>\n<polygon fill=\"#000000\" stroke=\"#000000\" points=\"1311.4912,-990.8018 1316.6401,-981.5422 1306.8407,-985.5699 1311.4912,-990.8018\"/>\n</g>\n<!-- 59 -->\n<g id=\"node60\" class=\"node\">\n<title>59</title>\n<polygon fill=\"none\" stroke=\"#000000\" points=\"1164,-1189.5 1065,-1189.5 1065,-1136.5 1164,-1136.5 1164,-1189.5\"/>\n<text text-anchor=\"middle\" x=\"1114.5\" y=\"-1174.3\" font-family=\"Helvetica,sans-Serif\" font-size=\"14.00\" fill=\"#000000\">gini = 0.0</text>\n<text text-anchor=\"middle\" x=\"1114.5\" y=\"-1159.3\" font-family=\"Helvetica,sans-Serif\" font-size=\"14.00\" fill=\"#000000\">samples = 2</text>\n<text text-anchor=\"middle\" x=\"1114.5\" y=\"-1144.3\" font-family=\"Helvetica,sans-Serif\" font-size=\"14.00\" fill=\"#000000\">value = [0, 2]</text>\n</g>\n<!-- 58&#45;&gt;59 -->\n<g id=\"edge59\" class=\"edge\">\n<title>58&#45;&gt;59</title>\n<path fill=\"none\" stroke=\"#000000\" d=\"M1118.5354,-1232.9465C1117.919,-1222.2621 1117.2361,-1210.4254 1116.6101,-1199.5742\"/>\n<polygon fill=\"#000000\" stroke=\"#000000\" points=\"1120.1015,-1199.3239 1116.0313,-1189.5422 1113.1131,-1199.7272 1120.1015,-1199.3239\"/>\n</g>\n<!-- 60 -->\n<g id=\"node61\" class=\"node\">\n<title>60</title>\n<polygon fill=\"none\" stroke=\"#000000\" points=\"1281,-1189.5 1182,-1189.5 1182,-1136.5 1281,-1136.5 1281,-1189.5\"/>\n<text text-anchor=\"middle\" x=\"1231.5\" y=\"-1174.3\" font-family=\"Helvetica,sans-Serif\" font-size=\"14.00\" fill=\"#000000\">gini = 0.0</text>\n<text text-anchor=\"middle\" x=\"1231.5\" y=\"-1159.3\" font-family=\"Helvetica,sans-Serif\" font-size=\"14.00\" fill=\"#000000\">samples = 2</text>\n<text text-anchor=\"middle\" x=\"1231.5\" y=\"-1144.3\" font-family=\"Helvetica,sans-Serif\" font-size=\"14.00\" fill=\"#000000\">value = [2, 0]</text>\n</g>\n<!-- 58&#45;&gt;60 -->\n<g id=\"edge60\" class=\"edge\">\n<title>58&#45;&gt;60</title>\n<path fill=\"none\" stroke=\"#000000\" d=\"M1156.8456,-1232.9465C1169.3072,-1221.2707 1183.2374,-1208.219 1195.6588,-1196.5809\"/>\n<polygon fill=\"#000000\" stroke=\"#000000\" points=\"1198.2669,-1198.9335 1203.1713,-1189.5422 1193.4809,-1193.8253 1198.2669,-1198.9335\"/>\n</g>\n<!-- 63 -->\n<g id=\"node64\" class=\"node\">\n<title>63</title>\n<polygon fill=\"none\" stroke=\"#000000\" points=\"1459,-1509 1348,-1509 1348,-1441 1459,-1441 1459,-1509\"/>\n<text text-anchor=\"middle\" x=\"1403.5\" y=\"-1493.8\" font-family=\"Helvetica,sans-Serif\" font-size=\"14.00\" fill=\"#000000\">X[4] &lt;= 10.798</text>\n<text text-anchor=\"middle\" x=\"1403.5\" y=\"-1478.8\" font-family=\"Helvetica,sans-Serif\" font-size=\"14.00\" fill=\"#000000\">gini = 0.219</text>\n<text text-anchor=\"middle\" x=\"1403.5\" y=\"-1463.8\" font-family=\"Helvetica,sans-Serif\" font-size=\"14.00\" fill=\"#000000\">samples = 8</text>\n<text text-anchor=\"middle\" x=\"1403.5\" y=\"-1448.8\" font-family=\"Helvetica,sans-Serif\" font-size=\"14.00\" fill=\"#000000\">value = [1, 7]</text>\n</g>\n<!-- 62&#45;&gt;63 -->\n<g id=\"edge63\" class=\"edge\">\n<title>62&#45;&gt;63</title>\n<path fill=\"none\" stroke=\"#000000\" d=\"M1442.5086,-1544.9465C1437.7017,-1536.3271 1432.4765,-1526.9579 1427.4591,-1517.9611\"/>\n<polygon fill=\"#000000\" stroke=\"#000000\" points=\"1430.4615,-1516.1589 1422.534,-1509.13 1424.348,-1519.5684 1430.4615,-1516.1589\"/>\n</g>\n<!-- 66 -->\n<g id=\"node67\" class=\"node\">\n<title>66</title>\n<polygon fill=\"none\" stroke=\"#000000\" points=\"1593.5,-1509 1477.5,-1509 1477.5,-1441 1593.5,-1441 1593.5,-1509\"/>\n<text text-anchor=\"middle\" x=\"1535.5\" y=\"-1493.8\" font-family=\"Helvetica,sans-Serif\" font-size=\"14.00\" fill=\"#000000\">X[4] &lt;= 15.373</text>\n<text text-anchor=\"middle\" x=\"1535.5\" y=\"-1478.8\" font-family=\"Helvetica,sans-Serif\" font-size=\"14.00\" fill=\"#000000\">gini = 0.488</text>\n<text text-anchor=\"middle\" x=\"1535.5\" y=\"-1463.8\" font-family=\"Helvetica,sans-Serif\" font-size=\"14.00\" fill=\"#000000\">samples = 45</text>\n<text text-anchor=\"middle\" x=\"1535.5\" y=\"-1448.8\" font-family=\"Helvetica,sans-Serif\" font-size=\"14.00\" fill=\"#000000\">value = [26, 19]</text>\n</g>\n<!-- 62&#45;&gt;66 -->\n<g id=\"edge66\" class=\"edge\">\n<title>62&#45;&gt;66</title>\n<path fill=\"none\" stroke=\"#000000\" d=\"M1485.7304,-1544.9465C1491.9912,-1536.1475 1498.808,-1526.5672 1505.3313,-1517.3993\"/>\n<polygon fill=\"#000000\" stroke=\"#000000\" points=\"1508.2694,-1519.3071 1511.2152,-1509.13 1502.5658,-1515.2488 1508.2694,-1519.3071\"/>\n</g>\n<!-- 64 -->\n<g id=\"node65\" class=\"node\">\n<title>64</title>\n<polygon fill=\"none\" stroke=\"#000000\" points=\"1338,-1397.5 1239,-1397.5 1239,-1344.5 1338,-1344.5 1338,-1397.5\"/>\n<text text-anchor=\"middle\" x=\"1288.5\" y=\"-1382.3\" font-family=\"Helvetica,sans-Serif\" font-size=\"14.00\" fill=\"#000000\">gini = 0.0</text>\n<text text-anchor=\"middle\" x=\"1288.5\" y=\"-1367.3\" font-family=\"Helvetica,sans-Serif\" font-size=\"14.00\" fill=\"#000000\">samples = 1</text>\n<text text-anchor=\"middle\" x=\"1288.5\" y=\"-1352.3\" font-family=\"Helvetica,sans-Serif\" font-size=\"14.00\" fill=\"#000000\">value = [1, 0]</text>\n</g>\n<!-- 63&#45;&gt;64 -->\n<g id=\"edge64\" class=\"edge\">\n<title>63&#45;&gt;64</title>\n<path fill=\"none\" stroke=\"#000000\" d=\"M1365.8447,-1440.9465C1352.8122,-1429.1606 1338.2294,-1415.9726 1325.2689,-1404.2519\"/>\n<polygon fill=\"#000000\" stroke=\"#000000\" points=\"1327.614,-1401.6537 1317.8495,-1397.5422 1322.9188,-1406.8456 1327.614,-1401.6537\"/>\n</g>\n<!-- 65 -->\n<g id=\"node66\" class=\"node\">\n<title>65</title>\n<polygon fill=\"none\" stroke=\"#000000\" points=\"1455,-1397.5 1356,-1397.5 1356,-1344.5 1455,-1344.5 1455,-1397.5\"/>\n<text text-anchor=\"middle\" x=\"1405.5\" y=\"-1382.3\" font-family=\"Helvetica,sans-Serif\" font-size=\"14.00\" fill=\"#000000\">gini = 0.0</text>\n<text text-anchor=\"middle\" x=\"1405.5\" y=\"-1367.3\" font-family=\"Helvetica,sans-Serif\" font-size=\"14.00\" fill=\"#000000\">samples = 7</text>\n<text text-anchor=\"middle\" x=\"1405.5\" y=\"-1352.3\" font-family=\"Helvetica,sans-Serif\" font-size=\"14.00\" fill=\"#000000\">value = [0, 7]</text>\n</g>\n<!-- 63&#45;&gt;65 -->\n<g id=\"edge65\" class=\"edge\">\n<title>63&#45;&gt;65</title>\n<path fill=\"none\" stroke=\"#000000\" d=\"M1404.1549,-1440.9465C1404.3603,-1430.2621 1404.588,-1418.4254 1404.7966,-1407.5742\"/>\n<polygon fill=\"#000000\" stroke=\"#000000\" points=\"1408.2966,-1407.6076 1404.9896,-1397.5422 1401.2979,-1407.473 1408.2966,-1407.6076\"/>\n</g>\n<!-- 67 -->\n<g id=\"node68\" class=\"node\">\n<title>67</title>\n<polygon fill=\"none\" stroke=\"#000000\" points=\"1588,-1405 1477,-1405 1477,-1337 1588,-1337 1588,-1405\"/>\n<text text-anchor=\"middle\" x=\"1532.5\" y=\"-1389.8\" font-family=\"Helvetica,sans-Serif\" font-size=\"14.00\" fill=\"#000000\">X[4] &lt;= 13.438</text>\n<text text-anchor=\"middle\" x=\"1532.5\" y=\"-1374.8\" font-family=\"Helvetica,sans-Serif\" font-size=\"14.00\" fill=\"#000000\">gini = 0.426</text>\n<text text-anchor=\"middle\" x=\"1532.5\" y=\"-1359.8\" font-family=\"Helvetica,sans-Serif\" font-size=\"14.00\" fill=\"#000000\">samples = 26</text>\n<text text-anchor=\"middle\" x=\"1532.5\" y=\"-1344.8\" font-family=\"Helvetica,sans-Serif\" font-size=\"14.00\" fill=\"#000000\">value = [18, 8]</text>\n</g>\n<!-- 66&#45;&gt;67 -->\n<g id=\"edge67\" class=\"edge\">\n<title>66&#45;&gt;67</title>\n<path fill=\"none\" stroke=\"#000000\" d=\"M1534.5177,-1440.9465C1534.282,-1432.776 1534.0269,-1423.9318 1533.7799,-1415.3697\"/>\n<polygon fill=\"#000000\" stroke=\"#000000\" points=\"1537.2715,-1415.0249 1533.4845,-1405.13 1530.2744,-1415.2268 1537.2715,-1415.0249\"/>\n</g>\n<!-- 82 -->\n<g id=\"node83\" class=\"node\">\n<title>82</title>\n<polygon fill=\"none\" stroke=\"#000000\" points=\"1713,-1405 1606,-1405 1606,-1337 1713,-1337 1713,-1405\"/>\n<text text-anchor=\"middle\" x=\"1659.5\" y=\"-1389.8\" font-family=\"Helvetica,sans-Serif\" font-size=\"14.00\" fill=\"#000000\">X[1] &lt;= 21.0</text>\n<text text-anchor=\"middle\" x=\"1659.5\" y=\"-1374.8\" font-family=\"Helvetica,sans-Serif\" font-size=\"14.00\" fill=\"#000000\">gini = 0.488</text>\n<text text-anchor=\"middle\" x=\"1659.5\" y=\"-1359.8\" font-family=\"Helvetica,sans-Serif\" font-size=\"14.00\" fill=\"#000000\">samples = 19</text>\n<text text-anchor=\"middle\" x=\"1659.5\" y=\"-1344.8\" font-family=\"Helvetica,sans-Serif\" font-size=\"14.00\" fill=\"#000000\">value = [8, 11]</text>\n</g>\n<!-- 66&#45;&gt;82 -->\n<g id=\"edge82\" class=\"edge\">\n<title>66&#45;&gt;82</title>\n<path fill=\"none\" stroke=\"#000000\" d=\"M1576.1022,-1440.9465C1587.2356,-1431.6088 1599.4183,-1421.3911 1610.9489,-1411.7203\"/>\n<polygon fill=\"#000000\" stroke=\"#000000\" points=\"1613.3938,-1414.2378 1618.8065,-1405.13 1608.8954,-1408.8745 1613.3938,-1414.2378\"/>\n</g>\n<!-- 68 -->\n<g id=\"node69\" class=\"node\">\n<title>68</title>\n<polygon fill=\"none\" stroke=\"#000000\" points=\"1516,-1301 1405,-1301 1405,-1233 1516,-1233 1516,-1301\"/>\n<text text-anchor=\"middle\" x=\"1460.5\" y=\"-1285.8\" font-family=\"Helvetica,sans-Serif\" font-size=\"14.00\" fill=\"#000000\">X[4] &lt;= 10.852</text>\n<text text-anchor=\"middle\" x=\"1460.5\" y=\"-1270.8\" font-family=\"Helvetica,sans-Serif\" font-size=\"14.00\" fill=\"#000000\">gini = 0.492</text>\n<text text-anchor=\"middle\" x=\"1460.5\" y=\"-1255.8\" font-family=\"Helvetica,sans-Serif\" font-size=\"14.00\" fill=\"#000000\">samples = 16</text>\n<text text-anchor=\"middle\" x=\"1460.5\" y=\"-1240.8\" font-family=\"Helvetica,sans-Serif\" font-size=\"14.00\" fill=\"#000000\">value = [9, 7]</text>\n</g>\n<!-- 67&#45;&gt;68 -->\n<g id=\"edge68\" class=\"edge\">\n<title>67&#45;&gt;68</title>\n<path fill=\"none\" stroke=\"#000000\" d=\"M1508.9245,-1336.9465C1502.8329,-1328.1475 1496.2004,-1318.5672 1489.8534,-1309.3993\"/>\n<polygon fill=\"#000000\" stroke=\"#000000\" points=\"1492.6983,-1307.3597 1484.1285,-1301.13 1486.9429,-1311.3442 1492.6983,-1307.3597\"/>\n</g>\n<!-- 77 -->\n<g id=\"node78\" class=\"node\">\n<title>77</title>\n<polygon fill=\"none\" stroke=\"#000000\" points=\"1638.5,-1301 1534.5,-1301 1534.5,-1233 1638.5,-1233 1638.5,-1301\"/>\n<text text-anchor=\"middle\" x=\"1586.5\" y=\"-1285.8\" font-family=\"Helvetica,sans-Serif\" font-size=\"14.00\" fill=\"#000000\">X[1] &lt;= 16.0</text>\n<text text-anchor=\"middle\" x=\"1586.5\" y=\"-1270.8\" font-family=\"Helvetica,sans-Serif\" font-size=\"14.00\" fill=\"#000000\">gini = 0.18</text>\n<text text-anchor=\"middle\" x=\"1586.5\" y=\"-1255.8\" font-family=\"Helvetica,sans-Serif\" font-size=\"14.00\" fill=\"#000000\">samples = 10</text>\n<text text-anchor=\"middle\" x=\"1586.5\" y=\"-1240.8\" font-family=\"Helvetica,sans-Serif\" font-size=\"14.00\" fill=\"#000000\">value = [9, 1]</text>\n</g>\n<!-- 67&#45;&gt;77 -->\n<g id=\"edge77\" class=\"edge\">\n<title>67&#45;&gt;77</title>\n<path fill=\"none\" stroke=\"#000000\" d=\"M1550.1816,-1336.9465C1554.6105,-1328.4169 1559.4206,-1319.153 1564.0472,-1310.2424\"/>\n<polygon fill=\"#000000\" stroke=\"#000000\" points=\"1567.2767,-1311.6178 1568.7787,-1301.13 1561.0642,-1308.3921 1567.2767,-1311.6178\"/>\n</g>\n<!-- 69 -->\n<g id=\"node70\" class=\"node\">\n<title>69</title>\n<polygon fill=\"none\" stroke=\"#000000\" points=\"1403.5,-1197 1299.5,-1197 1299.5,-1129 1403.5,-1129 1403.5,-1197\"/>\n<text text-anchor=\"middle\" x=\"1351.5\" y=\"-1181.8\" font-family=\"Helvetica,sans-Serif\" font-size=\"14.00\" fill=\"#000000\">X[1] &lt;= 19.0</text>\n<text text-anchor=\"middle\" x=\"1351.5\" y=\"-1166.8\" font-family=\"Helvetica,sans-Serif\" font-size=\"14.00\" fill=\"#000000\">gini = 0.426</text>\n<text text-anchor=\"middle\" x=\"1351.5\" y=\"-1151.8\" font-family=\"Helvetica,sans-Serif\" font-size=\"14.00\" fill=\"#000000\">samples = 13</text>\n<text text-anchor=\"middle\" x=\"1351.5\" y=\"-1136.8\" font-family=\"Helvetica,sans-Serif\" font-size=\"14.00\" fill=\"#000000\">value = [9, 4]</text>\n</g>\n<!-- 68&#45;&gt;69 -->\n<g id=\"edge69\" class=\"edge\">\n<title>68&#45;&gt;69</title>\n<path fill=\"none\" stroke=\"#000000\" d=\"M1424.8093,-1232.9465C1415.2109,-1223.7884 1404.7253,-1213.7838 1394.7634,-1204.2788\"/>\n<polygon fill=\"#000000\" stroke=\"#000000\" points=\"1396.9221,-1201.5009 1387.2709,-1197.13 1392.0898,-1206.5655 1396.9221,-1201.5009\"/>\n</g>\n<!-- 76 -->\n<g id=\"node77\" class=\"node\">\n<title>76</title>\n<polygon fill=\"none\" stroke=\"#000000\" points=\"1521,-1189.5 1422,-1189.5 1422,-1136.5 1521,-1136.5 1521,-1189.5\"/>\n<text text-anchor=\"middle\" x=\"1471.5\" y=\"-1174.3\" font-family=\"Helvetica,sans-Serif\" font-size=\"14.00\" fill=\"#000000\">gini = 0.0</text>\n<text text-anchor=\"middle\" x=\"1471.5\" y=\"-1159.3\" font-family=\"Helvetica,sans-Serif\" font-size=\"14.00\" fill=\"#000000\">samples = 3</text>\n<text text-anchor=\"middle\" x=\"1471.5\" y=\"-1144.3\" font-family=\"Helvetica,sans-Serif\" font-size=\"14.00\" fill=\"#000000\">value = [0, 3]</text>\n</g>\n<!-- 68&#45;&gt;76 -->\n<g id=\"edge76\" class=\"edge\">\n<title>68&#45;&gt;76</title>\n<path fill=\"none\" stroke=\"#000000\" d=\"M1464.1018,-1232.9465C1465.2319,-1222.2621 1466.4838,-1210.4254 1467.6316,-1199.5742\"/>\n<polygon fill=\"#000000\" stroke=\"#000000\" points=\"1471.1213,-1199.8549 1468.6927,-1189.5422 1464.1602,-1199.1185 1471.1213,-1199.8549\"/>\n</g>\n<!-- 70 -->\n<g id=\"node71\" class=\"node\">\n<title>70</title>\n<polygon fill=\"none\" stroke=\"#000000\" points=\"1397,-1085.5 1298,-1085.5 1298,-1032.5 1397,-1032.5 1397,-1085.5\"/>\n<text text-anchor=\"middle\" x=\"1347.5\" y=\"-1070.3\" font-family=\"Helvetica,sans-Serif\" font-size=\"14.00\" fill=\"#000000\">gini = 0.0</text>\n<text text-anchor=\"middle\" x=\"1347.5\" y=\"-1055.3\" font-family=\"Helvetica,sans-Serif\" font-size=\"14.00\" fill=\"#000000\">samples = 2</text>\n<text text-anchor=\"middle\" x=\"1347.5\" y=\"-1040.3\" font-family=\"Helvetica,sans-Serif\" font-size=\"14.00\" fill=\"#000000\">value = [0, 2]</text>\n</g>\n<!-- 69&#45;&gt;70 -->\n<g id=\"edge70\" class=\"edge\">\n<title>69&#45;&gt;70</title>\n<path fill=\"none\" stroke=\"#000000\" d=\"M1350.1903,-1128.9465C1349.7793,-1118.2621 1349.3241,-1106.4254 1348.9067,-1095.5742\"/>\n<polygon fill=\"#000000\" stroke=\"#000000\" points=\"1352.4027,-1095.4002 1348.5209,-1085.5422 1345.4079,-1095.6693 1352.4027,-1095.4002\"/>\n</g>\n<!-- 71 -->\n<g id=\"node72\" class=\"node\">\n<title>71</title>\n<polygon fill=\"none\" stroke=\"#000000\" points=\"1519.5,-1093 1415.5,-1093 1415.5,-1025 1519.5,-1025 1519.5,-1093\"/>\n<text text-anchor=\"middle\" x=\"1467.5\" y=\"-1077.8\" font-family=\"Helvetica,sans-Serif\" font-size=\"14.00\" fill=\"#000000\">X[1] &lt;= 30.35</text>\n<text text-anchor=\"middle\" x=\"1467.5\" y=\"-1062.8\" font-family=\"Helvetica,sans-Serif\" font-size=\"14.00\" fill=\"#000000\">gini = 0.298</text>\n<text text-anchor=\"middle\" x=\"1467.5\" y=\"-1047.8\" font-family=\"Helvetica,sans-Serif\" font-size=\"14.00\" fill=\"#000000\">samples = 11</text>\n<text text-anchor=\"middle\" x=\"1467.5\" y=\"-1032.8\" font-family=\"Helvetica,sans-Serif\" font-size=\"14.00\" fill=\"#000000\">value = [9, 2]</text>\n</g>\n<!-- 69&#45;&gt;71 -->\n<g id=\"edge71\" class=\"edge\">\n<title>69&#45;&gt;71</title>\n<path fill=\"none\" stroke=\"#000000\" d=\"M1389.4827,-1128.9465C1399.7977,-1119.6986 1411.0754,-1109.5876 1421.7699,-1099.9994\"/>\n<polygon fill=\"#000000\" stroke=\"#000000\" points=\"1424.3226,-1102.4115 1429.4319,-1093.13 1419.6498,-1097.1995 1424.3226,-1102.4115\"/>\n</g>\n<!-- 72 -->\n<g id=\"node73\" class=\"node\">\n<title>72</title>\n<polygon fill=\"none\" stroke=\"#000000\" points=\"1515,-981.5 1416,-981.5 1416,-928.5 1515,-928.5 1515,-981.5\"/>\n<text text-anchor=\"middle\" x=\"1465.5\" y=\"-966.3\" font-family=\"Helvetica,sans-Serif\" font-size=\"14.00\" fill=\"#000000\">gini = 0.0</text>\n<text text-anchor=\"middle\" x=\"1465.5\" y=\"-951.3\" font-family=\"Helvetica,sans-Serif\" font-size=\"14.00\" fill=\"#000000\">samples = 8</text>\n<text text-anchor=\"middle\" x=\"1465.5\" y=\"-936.3\" font-family=\"Helvetica,sans-Serif\" font-size=\"14.00\" fill=\"#000000\">value = [8, 0]</text>\n</g>\n<!-- 71&#45;&gt;72 -->\n<g id=\"edge72\" class=\"edge\">\n<title>71&#45;&gt;72</title>\n<path fill=\"none\" stroke=\"#000000\" d=\"M1466.8451,-1024.9465C1466.6397,-1014.2621 1466.412,-1002.4254 1466.2034,-991.5742\"/>\n<polygon fill=\"#000000\" stroke=\"#000000\" points=\"1469.7021,-991.473 1466.0104,-981.5422 1462.7034,-991.6076 1469.7021,-991.473\"/>\n</g>\n<!-- 73 -->\n<g id=\"node74\" class=\"node\">\n<title>73</title>\n<polygon fill=\"none\" stroke=\"#000000\" points=\"1632,-989 1533,-989 1533,-921 1632,-921 1632,-989\"/>\n<text text-anchor=\"middle\" x=\"1582.5\" y=\"-973.8\" font-family=\"Helvetica,sans-Serif\" font-size=\"14.00\" fill=\"#000000\">X[5] &lt;= 1.5</text>\n<text text-anchor=\"middle\" x=\"1582.5\" y=\"-958.8\" font-family=\"Helvetica,sans-Serif\" font-size=\"14.00\" fill=\"#000000\">gini = 0.444</text>\n<text text-anchor=\"middle\" x=\"1582.5\" y=\"-943.8\" font-family=\"Helvetica,sans-Serif\" font-size=\"14.00\" fill=\"#000000\">samples = 3</text>\n<text text-anchor=\"middle\" x=\"1582.5\" y=\"-928.8\" font-family=\"Helvetica,sans-Serif\" font-size=\"14.00\" fill=\"#000000\">value = [1, 2]</text>\n</g>\n<!-- 71&#45;&gt;73 -->\n<g id=\"edge73\" class=\"edge\">\n<title>71&#45;&gt;73</title>\n<path fill=\"none\" stroke=\"#000000\" d=\"M1505.1553,-1024.9465C1515.3813,-1015.6986 1526.5618,-1005.5876 1537.1641,-995.9994\"/>\n<polygon fill=\"#000000\" stroke=\"#000000\" points=\"1539.6908,-998.4334 1544.7601,-989.13 1534.9956,-993.2416 1539.6908,-998.4334\"/>\n</g>\n<!-- 74 -->\n<g id=\"node75\" class=\"node\">\n<title>74</title>\n<polygon fill=\"none\" stroke=\"#000000\" points=\"1573,-877.5 1474,-877.5 1474,-824.5 1573,-824.5 1573,-877.5\"/>\n<text text-anchor=\"middle\" x=\"1523.5\" y=\"-862.3\" font-family=\"Helvetica,sans-Serif\" font-size=\"14.00\" fill=\"#000000\">gini = 0.0</text>\n<text text-anchor=\"middle\" x=\"1523.5\" y=\"-847.3\" font-family=\"Helvetica,sans-Serif\" font-size=\"14.00\" fill=\"#000000\">samples = 1</text>\n<text text-anchor=\"middle\" x=\"1523.5\" y=\"-832.3\" font-family=\"Helvetica,sans-Serif\" font-size=\"14.00\" fill=\"#000000\">value = [1, 0]</text>\n</g>\n<!-- 73&#45;&gt;74 -->\n<g id=\"edge74\" class=\"edge\">\n<title>73&#45;&gt;74</title>\n<path fill=\"none\" stroke=\"#000000\" d=\"M1563.1812,-920.9465C1556.9324,-909.9316 1549.9888,-897.6922 1543.6793,-886.5703\"/>\n<polygon fill=\"#000000\" stroke=\"#000000\" points=\"1546.5362,-884.513 1538.5576,-877.5422 1540.4477,-887.967 1546.5362,-884.513\"/>\n</g>\n<!-- 75 -->\n<g id=\"node76\" class=\"node\">\n<title>75</title>\n<polygon fill=\"none\" stroke=\"#000000\" points=\"1690,-877.5 1591,-877.5 1591,-824.5 1690,-824.5 1690,-877.5\"/>\n<text text-anchor=\"middle\" x=\"1640.5\" y=\"-862.3\" font-family=\"Helvetica,sans-Serif\" font-size=\"14.00\" fill=\"#000000\">gini = 0.0</text>\n<text text-anchor=\"middle\" x=\"1640.5\" y=\"-847.3\" font-family=\"Helvetica,sans-Serif\" font-size=\"14.00\" fill=\"#000000\">samples = 2</text>\n<text text-anchor=\"middle\" x=\"1640.5\" y=\"-832.3\" font-family=\"Helvetica,sans-Serif\" font-size=\"14.00\" fill=\"#000000\">value = [0, 2]</text>\n</g>\n<!-- 73&#45;&gt;75 -->\n<g id=\"edge75\" class=\"edge\">\n<title>73&#45;&gt;75</title>\n<path fill=\"none\" stroke=\"#000000\" d=\"M1601.4914,-920.9465C1607.6343,-909.9316 1614.4601,-897.6922 1620.6627,-886.5703\"/>\n<polygon fill=\"#000000\" stroke=\"#000000\" points=\"1623.8837,-887.9806 1625.6976,-877.5422 1617.7701,-884.5711 1623.8837,-887.9806\"/>\n</g>\n<!-- 78 -->\n<g id=\"node79\" class=\"node\">\n<title>78</title>\n<polygon fill=\"none\" stroke=\"#000000\" points=\"1638,-1197 1539,-1197 1539,-1129 1638,-1129 1638,-1197\"/>\n<text text-anchor=\"middle\" x=\"1588.5\" y=\"-1181.8\" font-family=\"Helvetica,sans-Serif\" font-size=\"14.00\" fill=\"#000000\">X[5] &lt;= 1.5</text>\n<text text-anchor=\"middle\" x=\"1588.5\" y=\"-1166.8\" font-family=\"Helvetica,sans-Serif\" font-size=\"14.00\" fill=\"#000000\">gini = 0.444</text>\n<text text-anchor=\"middle\" x=\"1588.5\" y=\"-1151.8\" font-family=\"Helvetica,sans-Serif\" font-size=\"14.00\" fill=\"#000000\">samples = 3</text>\n<text text-anchor=\"middle\" x=\"1588.5\" y=\"-1136.8\" font-family=\"Helvetica,sans-Serif\" font-size=\"14.00\" fill=\"#000000\">value = [2, 1]</text>\n</g>\n<!-- 77&#45;&gt;78 -->\n<g id=\"edge78\" class=\"edge\">\n<title>77&#45;&gt;78</title>\n<path fill=\"none\" stroke=\"#000000\" d=\"M1587.1549,-1232.9465C1587.312,-1224.776 1587.4821,-1215.9318 1587.6467,-1207.3697\"/>\n<polygon fill=\"#000000\" stroke=\"#000000\" points=\"1591.1506,-1207.1955 1587.8437,-1197.13 1584.1519,-1207.0608 1591.1506,-1207.1955\"/>\n</g>\n<!-- 81 -->\n<g id=\"node82\" class=\"node\">\n<title>81</title>\n<polygon fill=\"none\" stroke=\"#000000\" points=\"1755,-1189.5 1656,-1189.5 1656,-1136.5 1755,-1136.5 1755,-1189.5\"/>\n<text text-anchor=\"middle\" x=\"1705.5\" y=\"-1174.3\" font-family=\"Helvetica,sans-Serif\" font-size=\"14.00\" fill=\"#000000\">gini = 0.0</text>\n<text text-anchor=\"middle\" x=\"1705.5\" y=\"-1159.3\" font-family=\"Helvetica,sans-Serif\" font-size=\"14.00\" fill=\"#000000\">samples = 7</text>\n<text text-anchor=\"middle\" x=\"1705.5\" y=\"-1144.3\" font-family=\"Helvetica,sans-Serif\" font-size=\"14.00\" fill=\"#000000\">value = [7, 0]</text>\n</g>\n<!-- 77&#45;&gt;81 -->\n<g id=\"edge81\" class=\"edge\">\n<title>77&#45;&gt;81</title>\n<path fill=\"none\" stroke=\"#000000\" d=\"M1625.4651,-1232.9465C1638.9509,-1221.1606 1654.0409,-1207.9726 1667.4521,-1196.2519\"/>\n<polygon fill=\"#000000\" stroke=\"#000000\" points=\"1669.9031,-1198.7582 1675.1296,-1189.5422 1665.2967,-1193.4874 1669.9031,-1198.7582\"/>\n</g>\n<!-- 79 -->\n<g id=\"node80\" class=\"node\">\n<title>79</title>\n<polygon fill=\"none\" stroke=\"#000000\" points=\"1637,-1085.5 1538,-1085.5 1538,-1032.5 1637,-1032.5 1637,-1085.5\"/>\n<text text-anchor=\"middle\" x=\"1587.5\" y=\"-1070.3\" font-family=\"Helvetica,sans-Serif\" font-size=\"14.00\" fill=\"#000000\">gini = 0.0</text>\n<text text-anchor=\"middle\" x=\"1587.5\" y=\"-1055.3\" font-family=\"Helvetica,sans-Serif\" font-size=\"14.00\" fill=\"#000000\">samples = 2</text>\n<text text-anchor=\"middle\" x=\"1587.5\" y=\"-1040.3\" font-family=\"Helvetica,sans-Serif\" font-size=\"14.00\" fill=\"#000000\">value = [2, 0]</text>\n</g>\n<!-- 78&#45;&gt;79 -->\n<g id=\"edge79\" class=\"edge\">\n<title>78&#45;&gt;79</title>\n<path fill=\"none\" stroke=\"#000000\" d=\"M1588.1726,-1128.9465C1588.0698,-1118.2621 1587.956,-1106.4254 1587.8517,-1095.5742\"/>\n<polygon fill=\"#000000\" stroke=\"#000000\" points=\"1591.3513,-1095.508 1587.7552,-1085.5422 1584.3516,-1095.5754 1591.3513,-1095.508\"/>\n</g>\n<!-- 80 -->\n<g id=\"node81\" class=\"node\">\n<title>80</title>\n<polygon fill=\"none\" stroke=\"#000000\" points=\"1754,-1085.5 1655,-1085.5 1655,-1032.5 1754,-1032.5 1754,-1085.5\"/>\n<text text-anchor=\"middle\" x=\"1704.5\" y=\"-1070.3\" font-family=\"Helvetica,sans-Serif\" font-size=\"14.00\" fill=\"#000000\">gini = 0.0</text>\n<text text-anchor=\"middle\" x=\"1704.5\" y=\"-1055.3\" font-family=\"Helvetica,sans-Serif\" font-size=\"14.00\" fill=\"#000000\">samples = 1</text>\n<text text-anchor=\"middle\" x=\"1704.5\" y=\"-1040.3\" font-family=\"Helvetica,sans-Serif\" font-size=\"14.00\" fill=\"#000000\">value = [0, 1]</text>\n</g>\n<!-- 78&#45;&gt;80 -->\n<g id=\"edge80\" class=\"edge\">\n<title>78&#45;&gt;80</title>\n<path fill=\"none\" stroke=\"#000000\" d=\"M1626.4827,-1128.9465C1639.6286,-1117.1606 1654.3382,-1103.9726 1667.4113,-1092.2519\"/>\n<polygon fill=\"#000000\" stroke=\"#000000\" points=\"1669.786,-1094.8236 1674.8953,-1085.5422 1665.1131,-1089.6116 1669.786,-1094.8236\"/>\n</g>\n<!-- 83 -->\n<g id=\"node84\" class=\"node\">\n<title>83</title>\n<polygon fill=\"none\" stroke=\"#000000\" points=\"1756,-1293.5 1657,-1293.5 1657,-1240.5 1756,-1240.5 1756,-1293.5\"/>\n<text text-anchor=\"middle\" x=\"1706.5\" y=\"-1278.3\" font-family=\"Helvetica,sans-Serif\" font-size=\"14.00\" fill=\"#000000\">gini = 0.0</text>\n<text text-anchor=\"middle\" x=\"1706.5\" y=\"-1263.3\" font-family=\"Helvetica,sans-Serif\" font-size=\"14.00\" fill=\"#000000\">samples = 3</text>\n<text text-anchor=\"middle\" x=\"1706.5\" y=\"-1248.3\" font-family=\"Helvetica,sans-Serif\" font-size=\"14.00\" fill=\"#000000\">value = [3, 0]</text>\n</g>\n<!-- 82&#45;&gt;83 -->\n<g id=\"edge83\" class=\"edge\">\n<title>82&#45;&gt;83</title>\n<path fill=\"none\" stroke=\"#000000\" d=\"M1674.8896,-1336.9465C1679.8177,-1326.0418 1685.2882,-1313.9368 1690.274,-1302.9043\"/>\n<polygon fill=\"#000000\" stroke=\"#000000\" points=\"1693.5761,-1304.0962 1694.505,-1293.5422 1687.1973,-1301.2134 1693.5761,-1304.0962\"/>\n</g>\n<!-- 84 -->\n<g id=\"node85\" class=\"node\">\n<title>84</title>\n<polygon fill=\"none\" stroke=\"#000000\" points=\"1881,-1301 1774,-1301 1774,-1233 1881,-1233 1881,-1301\"/>\n<text text-anchor=\"middle\" x=\"1827.5\" y=\"-1285.8\" font-family=\"Helvetica,sans-Serif\" font-size=\"14.00\" fill=\"#000000\">X[5] &lt;= 1.5</text>\n<text text-anchor=\"middle\" x=\"1827.5\" y=\"-1270.8\" font-family=\"Helvetica,sans-Serif\" font-size=\"14.00\" fill=\"#000000\">gini = 0.43</text>\n<text text-anchor=\"middle\" x=\"1827.5\" y=\"-1255.8\" font-family=\"Helvetica,sans-Serif\" font-size=\"14.00\" fill=\"#000000\">samples = 16</text>\n<text text-anchor=\"middle\" x=\"1827.5\" y=\"-1240.8\" font-family=\"Helvetica,sans-Serif\" font-size=\"14.00\" fill=\"#000000\">value = [5, 11]</text>\n</g>\n<!-- 82&#45;&gt;84 -->\n<g id=\"edge84\" class=\"edge\">\n<title>82&#45;&gt;84</title>\n<path fill=\"none\" stroke=\"#000000\" d=\"M1713.1182,-1337.8078C1729.6365,-1327.5822 1747.9663,-1316.2351 1765.026,-1305.6744\"/>\n<polygon fill=\"#000000\" stroke=\"#000000\" points=\"1767.1546,-1308.4731 1773.815,-1300.2336 1763.4701,-1302.5212 1767.1546,-1308.4731\"/>\n</g>\n<!-- 85 -->\n<g id=\"node86\" class=\"node\">\n<title>85</title>\n<polygon fill=\"none\" stroke=\"#000000\" points=\"1875,-1189.5 1776,-1189.5 1776,-1136.5 1875,-1136.5 1875,-1189.5\"/>\n<text text-anchor=\"middle\" x=\"1825.5\" y=\"-1174.3\" font-family=\"Helvetica,sans-Serif\" font-size=\"14.00\" fill=\"#000000\">gini = 0.0</text>\n<text text-anchor=\"middle\" x=\"1825.5\" y=\"-1159.3\" font-family=\"Helvetica,sans-Serif\" font-size=\"14.00\" fill=\"#000000\">samples = 4</text>\n<text text-anchor=\"middle\" x=\"1825.5\" y=\"-1144.3\" font-family=\"Helvetica,sans-Serif\" font-size=\"14.00\" fill=\"#000000\">value = [0, 4]</text>\n</g>\n<!-- 84&#45;&gt;85 -->\n<g id=\"edge85\" class=\"edge\">\n<title>84&#45;&gt;85</title>\n<path fill=\"none\" stroke=\"#000000\" d=\"M1826.8451,-1232.9465C1826.6397,-1222.2621 1826.412,-1210.4254 1826.2034,-1199.5742\"/>\n<polygon fill=\"#000000\" stroke=\"#000000\" points=\"1829.7021,-1199.473 1826.0104,-1189.5422 1822.7034,-1199.6076 1829.7021,-1199.473\"/>\n</g>\n<!-- 86 -->\n<g id=\"node87\" class=\"node\">\n<title>86</title>\n<polygon fill=\"none\" stroke=\"#000000\" points=\"1997.5,-1197 1893.5,-1197 1893.5,-1129 1997.5,-1129 1997.5,-1197\"/>\n<text text-anchor=\"middle\" x=\"1945.5\" y=\"-1181.8\" font-family=\"Helvetica,sans-Serif\" font-size=\"14.00\" fill=\"#000000\">X[1] &lt;= 25.0</text>\n<text text-anchor=\"middle\" x=\"1945.5\" y=\"-1166.8\" font-family=\"Helvetica,sans-Serif\" font-size=\"14.00\" fill=\"#000000\">gini = 0.486</text>\n<text text-anchor=\"middle\" x=\"1945.5\" y=\"-1151.8\" font-family=\"Helvetica,sans-Serif\" font-size=\"14.00\" fill=\"#000000\">samples = 12</text>\n<text text-anchor=\"middle\" x=\"1945.5\" y=\"-1136.8\" font-family=\"Helvetica,sans-Serif\" font-size=\"14.00\" fill=\"#000000\">value = [5, 7]</text>\n</g>\n<!-- 84&#45;&gt;86 -->\n<g id=\"edge86\" class=\"edge\">\n<title>84&#45;&gt;86</title>\n<path fill=\"none\" stroke=\"#000000\" d=\"M1866.1376,-1232.9465C1876.6304,-1223.6986 1888.1026,-1213.5876 1898.9814,-1203.9994\"/>\n<polygon fill=\"#000000\" stroke=\"#000000\" points=\"1901.5877,-1206.3678 1906.7756,-1197.13 1896.9593,-1201.1163 1901.5877,-1206.3678\"/>\n</g>\n<!-- 87 -->\n<g id=\"node88\" class=\"node\">\n<title>87</title>\n<polygon fill=\"none\" stroke=\"#000000\" points=\"1912,-1085.5 1813,-1085.5 1813,-1032.5 1912,-1032.5 1912,-1085.5\"/>\n<text text-anchor=\"middle\" x=\"1862.5\" y=\"-1070.3\" font-family=\"Helvetica,sans-Serif\" font-size=\"14.00\" fill=\"#000000\">gini = 0.0</text>\n<text text-anchor=\"middle\" x=\"1862.5\" y=\"-1055.3\" font-family=\"Helvetica,sans-Serif\" font-size=\"14.00\" fill=\"#000000\">samples = 3</text>\n<text text-anchor=\"middle\" x=\"1862.5\" y=\"-1040.3\" font-family=\"Helvetica,sans-Serif\" font-size=\"14.00\" fill=\"#000000\">value = [0, 3]</text>\n</g>\n<!-- 86&#45;&gt;87 -->\n<g id=\"edge87\" class=\"edge\">\n<title>86&#45;&gt;87</title>\n<path fill=\"none\" stroke=\"#000000\" d=\"M1918.3227,-1128.9465C1909.2682,-1117.6012 1899.177,-1104.9567 1890.0914,-1093.5724\"/>\n<polygon fill=\"#000000\" stroke=\"#000000\" points=\"1892.6561,-1091.175 1883.6827,-1085.5422 1887.1849,-1095.5414 1892.6561,-1091.175\"/>\n</g>\n<!-- 88 -->\n<g id=\"node89\" class=\"node\">\n<title>88</title>\n<polygon fill=\"none\" stroke=\"#000000\" points=\"2033,-1093 1930,-1093 1930,-1025 2033,-1025 2033,-1093\"/>\n<text text-anchor=\"middle\" x=\"1981.5\" y=\"-1077.8\" font-family=\"Helvetica,sans-Serif\" font-size=\"14.00\" fill=\"#000000\">X[1] &lt;= 29.35</text>\n<text text-anchor=\"middle\" x=\"1981.5\" y=\"-1062.8\" font-family=\"Helvetica,sans-Serif\" font-size=\"14.00\" fill=\"#000000\">gini = 0.494</text>\n<text text-anchor=\"middle\" x=\"1981.5\" y=\"-1047.8\" font-family=\"Helvetica,sans-Serif\" font-size=\"14.00\" fill=\"#000000\">samples = 9</text>\n<text text-anchor=\"middle\" x=\"1981.5\" y=\"-1032.8\" font-family=\"Helvetica,sans-Serif\" font-size=\"14.00\" fill=\"#000000\">value = [5, 4]</text>\n</g>\n<!-- 86&#45;&gt;88 -->\n<g id=\"edge88\" class=\"edge\">\n<title>86&#45;&gt;88</title>\n<path fill=\"none\" stroke=\"#000000\" d=\"M1957.2877,-1128.9465C1960.1781,-1120.5965 1963.3121,-1111.5427 1966.3365,-1102.8056\"/>\n<polygon fill=\"#000000\" stroke=\"#000000\" points=\"1969.7221,-1103.7248 1969.6858,-1093.13 1963.1071,-1101.435 1969.7221,-1103.7248\"/>\n</g>\n<!-- 89 -->\n<g id=\"node90\" class=\"node\">\n<title>89</title>\n<polygon fill=\"none\" stroke=\"#000000\" points=\"1948,-981.5 1849,-981.5 1849,-928.5 1948,-928.5 1948,-981.5\"/>\n<text text-anchor=\"middle\" x=\"1898.5\" y=\"-966.3\" font-family=\"Helvetica,sans-Serif\" font-size=\"14.00\" fill=\"#000000\">gini = 0.0</text>\n<text text-anchor=\"middle\" x=\"1898.5\" y=\"-951.3\" font-family=\"Helvetica,sans-Serif\" font-size=\"14.00\" fill=\"#000000\">samples = 2</text>\n<text text-anchor=\"middle\" x=\"1898.5\" y=\"-936.3\" font-family=\"Helvetica,sans-Serif\" font-size=\"14.00\" fill=\"#000000\">value = [2, 0]</text>\n</g>\n<!-- 88&#45;&gt;89 -->\n<g id=\"edge89\" class=\"edge\">\n<title>88&#45;&gt;89</title>\n<path fill=\"none\" stroke=\"#000000\" d=\"M1954.3227,-1024.9465C1945.2682,-1013.6012 1935.177,-1000.9567 1926.0914,-989.5724\"/>\n<polygon fill=\"#000000\" stroke=\"#000000\" points=\"1928.6561,-987.175 1919.6827,-981.5422 1923.1849,-991.5414 1928.6561,-987.175\"/>\n</g>\n<!-- 90 -->\n<g id=\"node91\" class=\"node\">\n<title>90</title>\n<polygon fill=\"none\" stroke=\"#000000\" points=\"2077,-989 1966,-989 1966,-921 2077,-921 2077,-989\"/>\n<text text-anchor=\"middle\" x=\"2021.5\" y=\"-973.8\" font-family=\"Helvetica,sans-Serif\" font-size=\"14.00\" fill=\"#000000\">X[4] &lt;= 20.231</text>\n<text text-anchor=\"middle\" x=\"2021.5\" y=\"-958.8\" font-family=\"Helvetica,sans-Serif\" font-size=\"14.00\" fill=\"#000000\">gini = 0.49</text>\n<text text-anchor=\"middle\" x=\"2021.5\" y=\"-943.8\" font-family=\"Helvetica,sans-Serif\" font-size=\"14.00\" fill=\"#000000\">samples = 7</text>\n<text text-anchor=\"middle\" x=\"2021.5\" y=\"-928.8\" font-family=\"Helvetica,sans-Serif\" font-size=\"14.00\" fill=\"#000000\">value = [3, 4]</text>\n</g>\n<!-- 88&#45;&gt;90 -->\n<g id=\"edge90\" class=\"edge\">\n<title>88&#45;&gt;90</title>\n<path fill=\"none\" stroke=\"#000000\" d=\"M1994.5975,-1024.9465C1997.8436,-1016.5067 2001.3662,-1007.3479 2004.7601,-998.5239\"/>\n<polygon fill=\"#000000\" stroke=\"#000000\" points=\"2008.0499,-999.7199 2008.3731,-989.13 2001.5165,-997.207 2008.0499,-999.7199\"/>\n</g>\n<!-- 91 -->\n<g id=\"node92\" class=\"node\">\n<title>91</title>\n<polygon fill=\"none\" stroke=\"#000000\" points=\"1974,-885 1871,-885 1871,-817 1974,-817 1974,-885\"/>\n<text text-anchor=\"middle\" x=\"1922.5\" y=\"-869.8\" font-family=\"Helvetica,sans-Serif\" font-size=\"14.00\" fill=\"#000000\">X[4] &lt;= 17.05</text>\n<text text-anchor=\"middle\" x=\"1922.5\" y=\"-854.8\" font-family=\"Helvetica,sans-Serif\" font-size=\"14.00\" fill=\"#000000\">gini = 0.48</text>\n<text text-anchor=\"middle\" x=\"1922.5\" y=\"-839.8\" font-family=\"Helvetica,sans-Serif\" font-size=\"14.00\" fill=\"#000000\">samples = 5</text>\n<text text-anchor=\"middle\" x=\"1922.5\" y=\"-824.8\" font-family=\"Helvetica,sans-Serif\" font-size=\"14.00\" fill=\"#000000\">value = [3, 2]</text>\n</g>\n<!-- 90&#45;&gt;91 -->\n<g id=\"edge91\" class=\"edge\">\n<title>90&#45;&gt;91</title>\n<path fill=\"none\" stroke=\"#000000\" d=\"M1989.0837,-920.9465C1980.4514,-911.8782 1971.0289,-901.9799 1962.0605,-892.5585\"/>\n<polygon fill=\"#000000\" stroke=\"#000000\" points=\"1964.419,-889.9599 1954.9891,-885.13 1959.3489,-894.7863 1964.419,-889.9599\"/>\n</g>\n<!-- 96 -->\n<g id=\"node97\" class=\"node\">\n<title>96</title>\n<polygon fill=\"none\" stroke=\"#000000\" points=\"2091,-877.5 1992,-877.5 1992,-824.5 2091,-824.5 2091,-877.5\"/>\n<text text-anchor=\"middle\" x=\"2041.5\" y=\"-862.3\" font-family=\"Helvetica,sans-Serif\" font-size=\"14.00\" fill=\"#000000\">gini = 0.0</text>\n<text text-anchor=\"middle\" x=\"2041.5\" y=\"-847.3\" font-family=\"Helvetica,sans-Serif\" font-size=\"14.00\" fill=\"#000000\">samples = 2</text>\n<text text-anchor=\"middle\" x=\"2041.5\" y=\"-832.3\" font-family=\"Helvetica,sans-Serif\" font-size=\"14.00\" fill=\"#000000\">value = [0, 2]</text>\n</g>\n<!-- 90&#45;&gt;96 -->\n<g id=\"edge96\" class=\"edge\">\n<title>90&#45;&gt;96</title>\n<path fill=\"none\" stroke=\"#000000\" d=\"M2028.0487,-920.9465C2030.1035,-910.2621 2032.3797,-898.4254 2034.4665,-887.5742\"/>\n<polygon fill=\"#000000\" stroke=\"#000000\" points=\"2037.9442,-888.0232 2036.3957,-877.5422 2031.0702,-886.7012 2037.9442,-888.0232\"/>\n</g>\n<!-- 92 -->\n<g id=\"node93\" class=\"node\">\n<title>92</title>\n<polygon fill=\"none\" stroke=\"#000000\" points=\"1960,-781 1849,-781 1849,-713 1960,-713 1960,-781\"/>\n<text text-anchor=\"middle\" x=\"1904.5\" y=\"-765.8\" font-family=\"Helvetica,sans-Serif\" font-size=\"14.00\" fill=\"#000000\">X[4] &lt;= 15.675</text>\n<text text-anchor=\"middle\" x=\"1904.5\" y=\"-750.8\" font-family=\"Helvetica,sans-Serif\" font-size=\"14.00\" fill=\"#000000\">gini = 0.444</text>\n<text text-anchor=\"middle\" x=\"1904.5\" y=\"-735.8\" font-family=\"Helvetica,sans-Serif\" font-size=\"14.00\" fill=\"#000000\">samples = 3</text>\n<text text-anchor=\"middle\" x=\"1904.5\" y=\"-720.8\" font-family=\"Helvetica,sans-Serif\" font-size=\"14.00\" fill=\"#000000\">value = [1, 2]</text>\n</g>\n<!-- 91&#45;&gt;92 -->\n<g id=\"edge92\" class=\"edge\">\n<title>91&#45;&gt;92</title>\n<path fill=\"none\" stroke=\"#000000\" d=\"M1916.6061,-816.9465C1915.1765,-808.6863 1913.6276,-799.7374 1912.1305,-791.0875\"/>\n<polygon fill=\"#000000\" stroke=\"#000000\" points=\"1915.5613,-790.3866 1910.4071,-781.13 1908.6639,-791.5804 1915.5613,-790.3866\"/>\n</g>\n<!-- 95 -->\n<g id=\"node96\" class=\"node\">\n<title>95</title>\n<polygon fill=\"none\" stroke=\"#000000\" points=\"2077,-773.5 1978,-773.5 1978,-720.5 2077,-720.5 2077,-773.5\"/>\n<text text-anchor=\"middle\" x=\"2027.5\" y=\"-758.3\" font-family=\"Helvetica,sans-Serif\" font-size=\"14.00\" fill=\"#000000\">gini = 0.0</text>\n<text text-anchor=\"middle\" x=\"2027.5\" y=\"-743.3\" font-family=\"Helvetica,sans-Serif\" font-size=\"14.00\" fill=\"#000000\">samples = 2</text>\n<text text-anchor=\"middle\" x=\"2027.5\" y=\"-728.3\" font-family=\"Helvetica,sans-Serif\" font-size=\"14.00\" fill=\"#000000\">value = [2, 0]</text>\n</g>\n<!-- 91&#45;&gt;95 -->\n<g id=\"edge95\" class=\"edge\">\n<title>91&#45;&gt;95</title>\n<path fill=\"none\" stroke=\"#000000\" d=\"M1956.8809,-816.9465C1968.669,-805.2707 1981.8462,-792.219 1993.5962,-780.5809\"/>\n<polygon fill=\"#000000\" stroke=\"#000000\" points=\"1996.0608,-783.066 2000.7026,-773.5422 1991.1348,-778.0927 1996.0608,-783.066\"/>\n</g>\n<!-- 93 -->\n<g id=\"node94\" class=\"node\">\n<title>93</title>\n<polygon fill=\"none\" stroke=\"#000000\" points=\"1903,-669.5 1804,-669.5 1804,-616.5 1903,-616.5 1903,-669.5\"/>\n<text text-anchor=\"middle\" x=\"1853.5\" y=\"-654.3\" font-family=\"Helvetica,sans-Serif\" font-size=\"14.00\" fill=\"#000000\">gini = 0.0</text>\n<text text-anchor=\"middle\" x=\"1853.5\" y=\"-639.3\" font-family=\"Helvetica,sans-Serif\" font-size=\"14.00\" fill=\"#000000\">samples = 1</text>\n<text text-anchor=\"middle\" x=\"1853.5\" y=\"-624.3\" font-family=\"Helvetica,sans-Serif\" font-size=\"14.00\" fill=\"#000000\">value = [1, 0]</text>\n</g>\n<!-- 92&#45;&gt;93 -->\n<g id=\"edge93\" class=\"edge\">\n<title>92&#45;&gt;93</title>\n<path fill=\"none\" stroke=\"#000000\" d=\"M1887.8007,-712.9465C1882.3992,-701.9316 1876.3971,-689.6922 1870.9431,-678.5703\"/>\n<polygon fill=\"#000000\" stroke=\"#000000\" points=\"1874.0614,-676.9797 1866.5159,-669.5422 1867.7764,-680.0618 1874.0614,-676.9797\"/>\n</g>\n<!-- 94 -->\n<g id=\"node95\" class=\"node\">\n<title>94</title>\n<polygon fill=\"none\" stroke=\"#000000\" points=\"2020,-669.5 1921,-669.5 1921,-616.5 2020,-616.5 2020,-669.5\"/>\n<text text-anchor=\"middle\" x=\"1970.5\" y=\"-654.3\" font-family=\"Helvetica,sans-Serif\" font-size=\"14.00\" fill=\"#000000\">gini = 0.0</text>\n<text text-anchor=\"middle\" x=\"1970.5\" y=\"-639.3\" font-family=\"Helvetica,sans-Serif\" font-size=\"14.00\" fill=\"#000000\">samples = 2</text>\n<text text-anchor=\"middle\" x=\"1970.5\" y=\"-624.3\" font-family=\"Helvetica,sans-Serif\" font-size=\"14.00\" fill=\"#000000\">value = [0, 2]</text>\n</g>\n<!-- 92&#45;&gt;94 -->\n<g id=\"edge94\" class=\"edge\">\n<title>92&#45;&gt;94</title>\n<path fill=\"none\" stroke=\"#000000\" d=\"M1926.1109,-712.9465C1933.171,-701.8215 1941.0239,-689.4473 1948.1381,-678.237\"/>\n<polygon fill=\"#000000\" stroke=\"#000000\" points=\"1951.2528,-679.8609 1953.6559,-669.5422 1945.3425,-676.1101 1951.2528,-679.8609\"/>\n</g>\n<!-- 98 -->\n<g id=\"node99\" class=\"node\">\n<title>98</title>\n<polygon fill=\"none\" stroke=\"#000000\" points=\"1695,-1605.5 1596,-1605.5 1596,-1552.5 1695,-1552.5 1695,-1605.5\"/>\n<text text-anchor=\"middle\" x=\"1645.5\" y=\"-1590.3\" font-family=\"Helvetica,sans-Serif\" font-size=\"14.00\" fill=\"#000000\">gini = 0.0</text>\n<text text-anchor=\"middle\" x=\"1645.5\" y=\"-1575.3\" font-family=\"Helvetica,sans-Serif\" font-size=\"14.00\" fill=\"#000000\">samples = 1</text>\n<text text-anchor=\"middle\" x=\"1645.5\" y=\"-1560.3\" font-family=\"Helvetica,sans-Serif\" font-size=\"14.00\" fill=\"#000000\">value = [0, 1]</text>\n</g>\n<!-- 97&#45;&gt;98 -->\n<g id=\"edge98\" class=\"edge\">\n<title>97&#45;&gt;98</title>\n<path fill=\"none\" stroke=\"#000000\" d=\"M1645.5,-1648.9465C1645.5,-1638.2621 1645.5,-1626.4254 1645.5,-1615.5742\"/>\n<polygon fill=\"#000000\" stroke=\"#000000\" points=\"1649.0001,-1615.5421 1645.5,-1605.5422 1642.0001,-1615.5422 1649.0001,-1615.5421\"/>\n</g>\n<!-- 99 -->\n<g id=\"node100\" class=\"node\">\n<title>99</title>\n<polygon fill=\"none\" stroke=\"#000000\" points=\"1903,-1613 1796,-1613 1796,-1545 1903,-1545 1903,-1613\"/>\n<text text-anchor=\"middle\" x=\"1849.5\" y=\"-1597.8\" font-family=\"Helvetica,sans-Serif\" font-size=\"14.00\" fill=\"#000000\">X[1] &lt;= 5.5</text>\n<text text-anchor=\"middle\" x=\"1849.5\" y=\"-1582.8\" font-family=\"Helvetica,sans-Serif\" font-size=\"14.00\" fill=\"#000000\">gini = 0.159</text>\n<text text-anchor=\"middle\" x=\"1849.5\" y=\"-1567.8\" font-family=\"Helvetica,sans-Serif\" font-size=\"14.00\" fill=\"#000000\">samples = 23</text>\n<text text-anchor=\"middle\" x=\"1849.5\" y=\"-1552.8\" font-family=\"Helvetica,sans-Serif\" font-size=\"14.00\" fill=\"#000000\">value = [21, 2]</text>\n</g>\n<!-- 97&#45;&gt;99 -->\n<g id=\"edge99\" class=\"edge\">\n<title>97&#45;&gt;99</title>\n<path fill=\"none\" stroke=\"#000000\" d=\"M1699.0986,-1655.6752C1726.0486,-1641.936 1758.8672,-1625.2049 1786.963,-1610.8816\"/>\n<polygon fill=\"#000000\" stroke=\"#000000\" points=\"1788.5862,-1613.9828 1795.9056,-1606.3227 1785.4068,-1607.7464 1788.5862,-1613.9828\"/>\n</g>\n<!-- 100 -->\n<g id=\"node101\" class=\"node\">\n<title>100</title>\n<polygon fill=\"none\" stroke=\"#000000\" points=\"1899,-1509 1800,-1509 1800,-1441 1899,-1441 1899,-1509\"/>\n<text text-anchor=\"middle\" x=\"1849.5\" y=\"-1493.8\" font-family=\"Helvetica,sans-Serif\" font-size=\"14.00\" fill=\"#000000\">X[1] &lt;= 3.5</text>\n<text text-anchor=\"middle\" x=\"1849.5\" y=\"-1478.8\" font-family=\"Helvetica,sans-Serif\" font-size=\"14.00\" fill=\"#000000\">gini = 0.5</text>\n<text text-anchor=\"middle\" x=\"1849.5\" y=\"-1463.8\" font-family=\"Helvetica,sans-Serif\" font-size=\"14.00\" fill=\"#000000\">samples = 2</text>\n<text text-anchor=\"middle\" x=\"1849.5\" y=\"-1448.8\" font-family=\"Helvetica,sans-Serif\" font-size=\"14.00\" fill=\"#000000\">value = [1, 1]</text>\n</g>\n<!-- 99&#45;&gt;100 -->\n<g id=\"edge100\" class=\"edge\">\n<title>99&#45;&gt;100</title>\n<path fill=\"none\" stroke=\"#000000\" d=\"M1849.5,-1544.9465C1849.5,-1536.776 1849.5,-1527.9318 1849.5,-1519.3697\"/>\n<polygon fill=\"#000000\" stroke=\"#000000\" points=\"1853.0001,-1519.13 1849.5,-1509.13 1846.0001,-1519.13 1853.0001,-1519.13\"/>\n</g>\n<!-- 103 -->\n<g id=\"node104\" class=\"node\">\n<title>103</title>\n<polygon fill=\"none\" stroke=\"#000000\" points=\"2072,-1509 1965,-1509 1965,-1441 2072,-1441 2072,-1509\"/>\n<text text-anchor=\"middle\" x=\"2018.5\" y=\"-1493.8\" font-family=\"Helvetica,sans-Serif\" font-size=\"14.00\" fill=\"#000000\">X[1] &lt;= 34.0</text>\n<text text-anchor=\"middle\" x=\"2018.5\" y=\"-1478.8\" font-family=\"Helvetica,sans-Serif\" font-size=\"14.00\" fill=\"#000000\">gini = 0.091</text>\n<text text-anchor=\"middle\" x=\"2018.5\" y=\"-1463.8\" font-family=\"Helvetica,sans-Serif\" font-size=\"14.00\" fill=\"#000000\">samples = 21</text>\n<text text-anchor=\"middle\" x=\"2018.5\" y=\"-1448.8\" font-family=\"Helvetica,sans-Serif\" font-size=\"14.00\" fill=\"#000000\">value = [20, 1]</text>\n</g>\n<!-- 99&#45;&gt;103 -->\n<g id=\"edge103\" class=\"edge\">\n<title>99&#45;&gt;103</title>\n<path fill=\"none\" stroke=\"#000000\" d=\"M1903.4373,-1545.8078C1920.1362,-1535.5316 1938.6755,-1524.1227 1955.9089,-1513.5176\"/>\n<polygon fill=\"#000000\" stroke=\"#000000\" points=\"1958.1029,-1516.2771 1964.7852,-1508.0553 1954.4342,-1510.3155 1958.1029,-1516.2771\"/>\n</g>\n<!-- 101 -->\n<g id=\"node102\" class=\"node\">\n<title>101</title>\n<polygon fill=\"none\" stroke=\"#000000\" points=\"1830,-1397.5 1731,-1397.5 1731,-1344.5 1830,-1344.5 1830,-1397.5\"/>\n<text text-anchor=\"middle\" x=\"1780.5\" y=\"-1382.3\" font-family=\"Helvetica,sans-Serif\" font-size=\"14.00\" fill=\"#000000\">gini = 0.0</text>\n<text text-anchor=\"middle\" x=\"1780.5\" y=\"-1367.3\" font-family=\"Helvetica,sans-Serif\" font-size=\"14.00\" fill=\"#000000\">samples = 1</text>\n<text text-anchor=\"middle\" x=\"1780.5\" y=\"-1352.3\" font-family=\"Helvetica,sans-Serif\" font-size=\"14.00\" fill=\"#000000\">value = [1, 0]</text>\n</g>\n<!-- 100&#45;&gt;101 -->\n<g id=\"edge101\" class=\"edge\">\n<title>100&#45;&gt;101</title>\n<path fill=\"none\" stroke=\"#000000\" d=\"M1826.9068,-1440.9465C1819.4527,-1429.7113 1811.1533,-1417.2021 1803.6577,-1405.9043\"/>\n<polygon fill=\"#000000\" stroke=\"#000000\" points=\"1806.5547,-1403.94 1798.1097,-1397.5422 1800.7218,-1407.81 1806.5547,-1403.94\"/>\n</g>\n<!-- 102 -->\n<g id=\"node103\" class=\"node\">\n<title>102</title>\n<polygon fill=\"none\" stroke=\"#000000\" points=\"1947,-1397.5 1848,-1397.5 1848,-1344.5 1947,-1344.5 1947,-1397.5\"/>\n<text text-anchor=\"middle\" x=\"1897.5\" y=\"-1382.3\" font-family=\"Helvetica,sans-Serif\" font-size=\"14.00\" fill=\"#000000\">gini = 0.0</text>\n<text text-anchor=\"middle\" x=\"1897.5\" y=\"-1367.3\" font-family=\"Helvetica,sans-Serif\" font-size=\"14.00\" fill=\"#000000\">samples = 1</text>\n<text text-anchor=\"middle\" x=\"1897.5\" y=\"-1352.3\" font-family=\"Helvetica,sans-Serif\" font-size=\"14.00\" fill=\"#000000\">value = [0, 1]</text>\n</g>\n<!-- 100&#45;&gt;102 -->\n<g id=\"edge102\" class=\"edge\">\n<title>100&#45;&gt;102</title>\n<path fill=\"none\" stroke=\"#000000\" d=\"M1865.217,-1440.9465C1870.25,-1430.0418 1875.8368,-1417.9368 1880.9288,-1406.9043\"/>\n<polygon fill=\"#000000\" stroke=\"#000000\" points=\"1884.237,-1408.0885 1885.2498,-1397.5422 1877.8813,-1405.155 1884.237,-1408.0885\"/>\n</g>\n<!-- 104 -->\n<g id=\"node105\" class=\"node\">\n<title>104</title>\n<polygon fill=\"none\" stroke=\"#000000\" points=\"2072,-1397.5 1965,-1397.5 1965,-1344.5 2072,-1344.5 2072,-1397.5\"/>\n<text text-anchor=\"middle\" x=\"2018.5\" y=\"-1382.3\" font-family=\"Helvetica,sans-Serif\" font-size=\"14.00\" fill=\"#000000\">gini = 0.0</text>\n<text text-anchor=\"middle\" x=\"2018.5\" y=\"-1367.3\" font-family=\"Helvetica,sans-Serif\" font-size=\"14.00\" fill=\"#000000\">samples = 14</text>\n<text text-anchor=\"middle\" x=\"2018.5\" y=\"-1352.3\" font-family=\"Helvetica,sans-Serif\" font-size=\"14.00\" fill=\"#000000\">value = [14, 0]</text>\n</g>\n<!-- 103&#45;&gt;104 -->\n<g id=\"edge104\" class=\"edge\">\n<title>103&#45;&gt;104</title>\n<path fill=\"none\" stroke=\"#000000\" d=\"M2018.5,-1440.9465C2018.5,-1430.2621 2018.5,-1418.4254 2018.5,-1407.5742\"/>\n<polygon fill=\"#000000\" stroke=\"#000000\" points=\"2022.0001,-1407.5421 2018.5,-1397.5422 2015.0001,-1407.5422 2022.0001,-1407.5421\"/>\n</g>\n<!-- 105 -->\n<g id=\"node106\" class=\"node\">\n<title>105</title>\n<polygon fill=\"none\" stroke=\"#000000\" points=\"2189,-1405 2090,-1405 2090,-1337 2189,-1337 2189,-1405\"/>\n<text text-anchor=\"middle\" x=\"2139.5\" y=\"-1389.8\" font-family=\"Helvetica,sans-Serif\" font-size=\"14.00\" fill=\"#000000\">X[1] &lt;= 38.5</text>\n<text text-anchor=\"middle\" x=\"2139.5\" y=\"-1374.8\" font-family=\"Helvetica,sans-Serif\" font-size=\"14.00\" fill=\"#000000\">gini = 0.245</text>\n<text text-anchor=\"middle\" x=\"2139.5\" y=\"-1359.8\" font-family=\"Helvetica,sans-Serif\" font-size=\"14.00\" fill=\"#000000\">samples = 7</text>\n<text text-anchor=\"middle\" x=\"2139.5\" y=\"-1344.8\" font-family=\"Helvetica,sans-Serif\" font-size=\"14.00\" fill=\"#000000\">value = [6, 1]</text>\n</g>\n<!-- 103&#45;&gt;105 -->\n<g id=\"edge105\" class=\"edge\">\n<title>103&#45;&gt;105</title>\n<path fill=\"none\" stroke=\"#000000\" d=\"M2058.1199,-1440.9465C2068.984,-1431.6088 2080.8718,-1421.3911 2092.1235,-1411.7203\"/>\n<polygon fill=\"#000000\" stroke=\"#000000\" points=\"2094.4887,-1414.3026 2099.7911,-1405.13 2089.9259,-1408.994 2094.4887,-1414.3026\"/>\n</g>\n<!-- 106 -->\n<g id=\"node107\" class=\"node\">\n<title>106</title>\n<polygon fill=\"none\" stroke=\"#000000\" points=\"2072,-1293.5 1973,-1293.5 1973,-1240.5 2072,-1240.5 2072,-1293.5\"/>\n<text text-anchor=\"middle\" x=\"2022.5\" y=\"-1278.3\" font-family=\"Helvetica,sans-Serif\" font-size=\"14.00\" fill=\"#000000\">gini = 0.0</text>\n<text text-anchor=\"middle\" x=\"2022.5\" y=\"-1263.3\" font-family=\"Helvetica,sans-Serif\" font-size=\"14.00\" fill=\"#000000\">samples = 1</text>\n<text text-anchor=\"middle\" x=\"2022.5\" y=\"-1248.3\" font-family=\"Helvetica,sans-Serif\" font-size=\"14.00\" fill=\"#000000\">value = [0, 1]</text>\n</g>\n<!-- 105&#45;&gt;106 -->\n<g id=\"edge106\" class=\"edge\">\n<title>105&#45;&gt;106</title>\n<path fill=\"none\" stroke=\"#000000\" d=\"M2101.1898,-1336.9465C2087.9306,-1325.1606 2073.0942,-1311.9726 2059.9084,-1300.2519\"/>\n<polygon fill=\"#000000\" stroke=\"#000000\" points=\"2062.1593,-1297.5699 2052.3599,-1293.5422 2057.5088,-1302.8018 2062.1593,-1297.5699\"/>\n</g>\n<!-- 107 -->\n<g id=\"node108\" class=\"node\">\n<title>107</title>\n<polygon fill=\"none\" stroke=\"#000000\" points=\"2189,-1293.5 2090,-1293.5 2090,-1240.5 2189,-1240.5 2189,-1293.5\"/>\n<text text-anchor=\"middle\" x=\"2139.5\" y=\"-1278.3\" font-family=\"Helvetica,sans-Serif\" font-size=\"14.00\" fill=\"#000000\">gini = 0.0</text>\n<text text-anchor=\"middle\" x=\"2139.5\" y=\"-1263.3\" font-family=\"Helvetica,sans-Serif\" font-size=\"14.00\" fill=\"#000000\">samples = 6</text>\n<text text-anchor=\"middle\" x=\"2139.5\" y=\"-1248.3\" font-family=\"Helvetica,sans-Serif\" font-size=\"14.00\" fill=\"#000000\">value = [6, 0]</text>\n</g>\n<!-- 105&#45;&gt;107 -->\n<g id=\"edge107\" class=\"edge\">\n<title>105&#45;&gt;107</title>\n<path fill=\"none\" stroke=\"#000000\" d=\"M2139.5,-1336.9465C2139.5,-1326.2621 2139.5,-1314.4254 2139.5,-1303.5742\"/>\n<polygon fill=\"#000000\" stroke=\"#000000\" points=\"2143.0001,-1303.5421 2139.5,-1293.5422 2136.0001,-1303.5422 2143.0001,-1303.5421\"/>\n</g>\n<!-- 109 -->\n<g id=\"node110\" class=\"node\">\n<title>109</title>\n<polygon fill=\"none\" stroke=\"#000000\" points=\"2535.5,-1821 2419.5,-1821 2419.5,-1753 2535.5,-1753 2535.5,-1821\"/>\n<text text-anchor=\"middle\" x=\"2477.5\" y=\"-1805.8\" font-family=\"Helvetica,sans-Serif\" font-size=\"14.00\" fill=\"#000000\">X[1] &lt;= 28.5</text>\n<text text-anchor=\"middle\" x=\"2477.5\" y=\"-1790.8\" font-family=\"Helvetica,sans-Serif\" font-size=\"14.00\" fill=\"#000000\">gini = 0.461</text>\n<text text-anchor=\"middle\" x=\"2477.5\" y=\"-1775.8\" font-family=\"Helvetica,sans-Serif\" font-size=\"14.00\" fill=\"#000000\">samples = 100</text>\n<text text-anchor=\"middle\" x=\"2477.5\" y=\"-1760.8\" font-family=\"Helvetica,sans-Serif\" font-size=\"14.00\" fill=\"#000000\">value = [64, 36]</text>\n</g>\n<!-- 108&#45;&gt;109 -->\n<g id=\"edge109\" class=\"edge\">\n<title>108&#45;&gt;109</title>\n<path fill=\"none\" stroke=\"#000000\" d=\"M2477.5,-1856.9465C2477.5,-1848.776 2477.5,-1839.9318 2477.5,-1831.3697\"/>\n<polygon fill=\"#000000\" stroke=\"#000000\" points=\"2481.0001,-1831.13 2477.5,-1821.13 2474.0001,-1831.13 2481.0001,-1831.13\"/>\n</g>\n<!-- 182 -->\n<g id=\"node183\" class=\"node\">\n<title>182</title>\n<polygon fill=\"none\" stroke=\"#000000\" points=\"3332.5,-1821 3208.5,-1821 3208.5,-1753 3332.5,-1753 3332.5,-1821\"/>\n<text text-anchor=\"middle\" x=\"3270.5\" y=\"-1805.8\" font-family=\"Helvetica,sans-Serif\" font-size=\"14.00\" fill=\"#000000\">X[1] &lt;= 3.5</text>\n<text text-anchor=\"middle\" x=\"3270.5\" y=\"-1790.8\" font-family=\"Helvetica,sans-Serif\" font-size=\"14.00\" fill=\"#000000\">gini = 0.227</text>\n<text text-anchor=\"middle\" x=\"3270.5\" y=\"-1775.8\" font-family=\"Helvetica,sans-Serif\" font-size=\"14.00\" fill=\"#000000\">samples = 360</text>\n<text text-anchor=\"middle\" x=\"3270.5\" y=\"-1760.8\" font-family=\"Helvetica,sans-Serif\" font-size=\"14.00\" fill=\"#000000\">value = [313, 47]</text>\n</g>\n<!-- 108&#45;&gt;182 -->\n<g id=\"edge182\" class=\"edge\">\n<title>108&#45;&gt;182</title>\n<path fill=\"none\" stroke=\"#000000\" d=\"M2539.7254,-1882.8393C2684.546,-1863.8464 3043.547,-1816.7643 3197.9744,-1796.5116\"/>\n<polygon fill=\"#000000\" stroke=\"#000000\" points=\"3198.8302,-1799.9294 3208.2901,-1795.1587 3197.9199,-1792.9888 3198.8302,-1799.9294\"/>\n</g>\n<!-- 110 -->\n<g id=\"node111\" class=\"node\">\n<title>110</title>\n<polygon fill=\"none\" stroke=\"#000000\" points=\"2469,-1717 2350,-1717 2350,-1649 2469,-1649 2469,-1717\"/>\n<text text-anchor=\"middle\" x=\"2409.5\" y=\"-1701.8\" font-family=\"Helvetica,sans-Serif\" font-size=\"14.00\" fill=\"#000000\">X[4] &lt;= 199.535</text>\n<text text-anchor=\"middle\" x=\"2409.5\" y=\"-1686.8\" font-family=\"Helvetica,sans-Serif\" font-size=\"14.00\" fill=\"#000000\">gini = 0.475</text>\n<text text-anchor=\"middle\" x=\"2409.5\" y=\"-1671.8\" font-family=\"Helvetica,sans-Serif\" font-size=\"14.00\" fill=\"#000000\">samples = 18</text>\n<text text-anchor=\"middle\" x=\"2409.5\" y=\"-1656.8\" font-family=\"Helvetica,sans-Serif\" font-size=\"14.00\" fill=\"#000000\">value = [7, 11]</text>\n</g>\n<!-- 109&#45;&gt;110 -->\n<g id=\"edge110\" class=\"edge\">\n<title>109&#45;&gt;110</title>\n<path fill=\"none\" stroke=\"#000000\" d=\"M2455.2343,-1752.9465C2449.5398,-1744.2373 2443.3448,-1734.7626 2437.4062,-1725.6801\"/>\n<polygon fill=\"#000000\" stroke=\"#000000\" points=\"2440.2177,-1723.5843 2431.8158,-1717.13 2434.3589,-1727.4151 2440.2177,-1723.5843\"/>\n</g>\n<!-- 125 -->\n<g id=\"node126\" class=\"node\">\n<title>125</title>\n<polygon fill=\"none\" stroke=\"#000000\" points=\"2603.5,-1717 2487.5,-1717 2487.5,-1649 2603.5,-1649 2603.5,-1717\"/>\n<text text-anchor=\"middle\" x=\"2545.5\" y=\"-1701.8\" font-family=\"Helvetica,sans-Serif\" font-size=\"14.00\" fill=\"#000000\">X[4] &lt;= 26.144</text>\n<text text-anchor=\"middle\" x=\"2545.5\" y=\"-1686.8\" font-family=\"Helvetica,sans-Serif\" font-size=\"14.00\" fill=\"#000000\">gini = 0.424</text>\n<text text-anchor=\"middle\" x=\"2545.5\" y=\"-1671.8\" font-family=\"Helvetica,sans-Serif\" font-size=\"14.00\" fill=\"#000000\">samples = 82</text>\n<text text-anchor=\"middle\" x=\"2545.5\" y=\"-1656.8\" font-family=\"Helvetica,sans-Serif\" font-size=\"14.00\" fill=\"#000000\">value = [57, 25]</text>\n</g>\n<!-- 109&#45;&gt;125 -->\n<g id=\"edge125\" class=\"edge\">\n<title>109&#45;&gt;125</title>\n<path fill=\"none\" stroke=\"#000000\" d=\"M2499.7657,-1752.9465C2505.4602,-1744.2373 2511.6552,-1734.7626 2517.5938,-1725.6801\"/>\n<polygon fill=\"#000000\" stroke=\"#000000\" points=\"2520.6411,-1727.4151 2523.1842,-1717.13 2514.7823,-1723.5843 2520.6411,-1727.4151\"/>\n</g>\n<!-- 111 -->\n<g id=\"node112\" class=\"node\">\n<title>111</title>\n<polygon fill=\"none\" stroke=\"#000000\" points=\"2351,-1613 2244,-1613 2244,-1545 2351,-1545 2351,-1613\"/>\n<text text-anchor=\"middle\" x=\"2297.5\" y=\"-1597.8\" font-family=\"Helvetica,sans-Serif\" font-size=\"14.00\" fill=\"#000000\">X[1] &lt;= 17.5</text>\n<text text-anchor=\"middle\" x=\"2297.5\" y=\"-1582.8\" font-family=\"Helvetica,sans-Serif\" font-size=\"14.00\" fill=\"#000000\">gini = 0.43</text>\n<text text-anchor=\"middle\" x=\"2297.5\" y=\"-1567.8\" font-family=\"Helvetica,sans-Serif\" font-size=\"14.00\" fill=\"#000000\">samples = 16</text>\n<text text-anchor=\"middle\" x=\"2297.5\" y=\"-1552.8\" font-family=\"Helvetica,sans-Serif\" font-size=\"14.00\" fill=\"#000000\">value = [5, 11]</text>\n</g>\n<!-- 110&#45;&gt;111 -->\n<g id=\"edge111\" class=\"edge\">\n<title>110&#45;&gt;111</title>\n<path fill=\"none\" stroke=\"#000000\" d=\"M2372.827,-1648.9465C2362.8677,-1639.6986 2351.9789,-1629.5876 2341.6532,-1619.9994\"/>\n<polygon fill=\"#000000\" stroke=\"#000000\" points=\"2343.9649,-1617.3698 2334.2554,-1613.13 2339.2018,-1622.4993 2343.9649,-1617.3698\"/>\n</g>\n<!-- 124 -->\n<g id=\"node125\" class=\"node\">\n<title>124</title>\n<polygon fill=\"none\" stroke=\"#000000\" points=\"2468,-1605.5 2369,-1605.5 2369,-1552.5 2468,-1552.5 2468,-1605.5\"/>\n<text text-anchor=\"middle\" x=\"2418.5\" y=\"-1590.3\" font-family=\"Helvetica,sans-Serif\" font-size=\"14.00\" fill=\"#000000\">gini = 0.0</text>\n<text text-anchor=\"middle\" x=\"2418.5\" y=\"-1575.3\" font-family=\"Helvetica,sans-Serif\" font-size=\"14.00\" fill=\"#000000\">samples = 2</text>\n<text text-anchor=\"middle\" x=\"2418.5\" y=\"-1560.3\" font-family=\"Helvetica,sans-Serif\" font-size=\"14.00\" fill=\"#000000\">value = [2, 0]</text>\n</g>\n<!-- 110&#45;&gt;124 -->\n<g id=\"edge124\" class=\"edge\">\n<title>110&#45;&gt;124</title>\n<path fill=\"none\" stroke=\"#000000\" d=\"M2412.4469,-1648.9465C2413.3716,-1638.2621 2414.3959,-1626.4254 2415.3349,-1615.5742\"/>\n<polygon fill=\"#000000\" stroke=\"#000000\" points=\"2418.8278,-1615.8067 2416.2031,-1605.5422 2411.8539,-1615.2031 2418.8278,-1615.8067\"/>\n</g>\n<!-- 112 -->\n<g id=\"node113\" class=\"node\">\n<title>112</title>\n<polygon fill=\"none\" stroke=\"#000000\" points=\"2231,-1501.5 2132,-1501.5 2132,-1448.5 2231,-1448.5 2231,-1501.5\"/>\n<text text-anchor=\"middle\" x=\"2181.5\" y=\"-1486.3\" font-family=\"Helvetica,sans-Serif\" font-size=\"14.00\" fill=\"#000000\">gini = 0.0</text>\n<text text-anchor=\"middle\" x=\"2181.5\" y=\"-1471.3\" font-family=\"Helvetica,sans-Serif\" font-size=\"14.00\" fill=\"#000000\">samples = 3</text>\n<text text-anchor=\"middle\" x=\"2181.5\" y=\"-1456.3\" font-family=\"Helvetica,sans-Serif\" font-size=\"14.00\" fill=\"#000000\">value = [0, 3]</text>\n</g>\n<!-- 111&#45;&gt;112 -->\n<g id=\"edge112\" class=\"edge\">\n<title>111&#45;&gt;112</title>\n<path fill=\"none\" stroke=\"#000000\" d=\"M2259.5173,-1544.9465C2246.3714,-1533.1606 2231.6618,-1519.9726 2218.5887,-1508.2519\"/>\n<polygon fill=\"#000000\" stroke=\"#000000\" points=\"2220.8869,-1505.6116 2211.1047,-1501.5422 2216.214,-1510.8236 2220.8869,-1505.6116\"/>\n</g>\n<!-- 113 -->\n<g id=\"node114\" class=\"node\">\n<title>113</title>\n<polygon fill=\"none\" stroke=\"#000000\" points=\"2353.5,-1509 2249.5,-1509 2249.5,-1441 2353.5,-1441 2353.5,-1509\"/>\n<text text-anchor=\"middle\" x=\"2301.5\" y=\"-1493.8\" font-family=\"Helvetica,sans-Serif\" font-size=\"14.00\" fill=\"#000000\">X[1] &lt;= 21.0</text>\n<text text-anchor=\"middle\" x=\"2301.5\" y=\"-1478.8\" font-family=\"Helvetica,sans-Serif\" font-size=\"14.00\" fill=\"#000000\">gini = 0.473</text>\n<text text-anchor=\"middle\" x=\"2301.5\" y=\"-1463.8\" font-family=\"Helvetica,sans-Serif\" font-size=\"14.00\" fill=\"#000000\">samples = 13</text>\n<text text-anchor=\"middle\" x=\"2301.5\" y=\"-1448.8\" font-family=\"Helvetica,sans-Serif\" font-size=\"14.00\" fill=\"#000000\">value = [5, 8]</text>\n</g>\n<!-- 111&#45;&gt;113 -->\n<g id=\"edge113\" class=\"edge\">\n<title>111&#45;&gt;113</title>\n<path fill=\"none\" stroke=\"#000000\" d=\"M2298.8097,-1544.9465C2299.124,-1536.776 2299.4642,-1527.9318 2299.7935,-1519.3697\"/>\n<polygon fill=\"#000000\" stroke=\"#000000\" points=\"2303.3003,-1519.2572 2300.1873,-1509.13 2296.3055,-1518.9881 2303.3003,-1519.2572\"/>\n</g>\n<!-- 114 -->\n<g id=\"node115\" class=\"node\">\n<title>114</title>\n<polygon fill=\"none\" stroke=\"#000000\" points=\"2306,-1397.5 2207,-1397.5 2207,-1344.5 2306,-1344.5 2306,-1397.5\"/>\n<text text-anchor=\"middle\" x=\"2256.5\" y=\"-1382.3\" font-family=\"Helvetica,sans-Serif\" font-size=\"14.00\" fill=\"#000000\">gini = 0.0</text>\n<text text-anchor=\"middle\" x=\"2256.5\" y=\"-1367.3\" font-family=\"Helvetica,sans-Serif\" font-size=\"14.00\" fill=\"#000000\">samples = 2</text>\n<text text-anchor=\"middle\" x=\"2256.5\" y=\"-1352.3\" font-family=\"Helvetica,sans-Serif\" font-size=\"14.00\" fill=\"#000000\">value = [2, 0]</text>\n</g>\n<!-- 113&#45;&gt;114 -->\n<g id=\"edge114\" class=\"edge\">\n<title>113&#45;&gt;114</title>\n<path fill=\"none\" stroke=\"#000000\" d=\"M2286.7653,-1440.9465C2282.0469,-1430.0418 2276.8092,-1417.9368 2272.0355,-1406.9043\"/>\n<polygon fill=\"#000000\" stroke=\"#000000\" points=\"2275.168,-1405.33 2267.9846,-1397.5422 2268.7436,-1408.1098 2275.168,-1405.33\"/>\n</g>\n<!-- 115 -->\n<g id=\"node116\" class=\"node\">\n<title>115</title>\n<polygon fill=\"none\" stroke=\"#000000\" points=\"2435,-1405 2324,-1405 2324,-1337 2435,-1337 2435,-1405\"/>\n<text text-anchor=\"middle\" x=\"2379.5\" y=\"-1389.8\" font-family=\"Helvetica,sans-Serif\" font-size=\"14.00\" fill=\"#000000\">X[4] &lt;= 77.965</text>\n<text text-anchor=\"middle\" x=\"2379.5\" y=\"-1374.8\" font-family=\"Helvetica,sans-Serif\" font-size=\"14.00\" fill=\"#000000\">gini = 0.397</text>\n<text text-anchor=\"middle\" x=\"2379.5\" y=\"-1359.8\" font-family=\"Helvetica,sans-Serif\" font-size=\"14.00\" fill=\"#000000\">samples = 11</text>\n<text text-anchor=\"middle\" x=\"2379.5\" y=\"-1344.8\" font-family=\"Helvetica,sans-Serif\" font-size=\"14.00\" fill=\"#000000\">value = [3, 8]</text>\n</g>\n<!-- 113&#45;&gt;115 -->\n<g id=\"edge115\" class=\"edge\">\n<title>113&#45;&gt;115</title>\n<path fill=\"none\" stroke=\"#000000\" d=\"M2327.0401,-1440.9465C2333.6393,-1432.1475 2340.8246,-1422.5672 2347.7005,-1413.3993\"/>\n<polygon fill=\"#000000\" stroke=\"#000000\" points=\"2350.7025,-1415.23 2353.9025,-1405.13 2345.1025,-1411.03 2350.7025,-1415.23\"/>\n</g>\n<!-- 116 -->\n<g id=\"node117\" class=\"node\">\n<title>116</title>\n<polygon fill=\"none\" stroke=\"#000000\" points=\"2306,-1301 2207,-1301 2207,-1233 2306,-1233 2306,-1301\"/>\n<text text-anchor=\"middle\" x=\"2256.5\" y=\"-1285.8\" font-family=\"Helvetica,sans-Serif\" font-size=\"14.00\" fill=\"#000000\">X[1] &lt;= 27.5</text>\n<text text-anchor=\"middle\" x=\"2256.5\" y=\"-1270.8\" font-family=\"Helvetica,sans-Serif\" font-size=\"14.00\" fill=\"#000000\">gini = 0.219</text>\n<text text-anchor=\"middle\" x=\"2256.5\" y=\"-1255.8\" font-family=\"Helvetica,sans-Serif\" font-size=\"14.00\" fill=\"#000000\">samples = 8</text>\n<text text-anchor=\"middle\" x=\"2256.5\" y=\"-1240.8\" font-family=\"Helvetica,sans-Serif\" font-size=\"14.00\" fill=\"#000000\">value = [1, 7]</text>\n</g>\n<!-- 115&#45;&gt;116 -->\n<g id=\"edge116\" class=\"edge\">\n<title>115&#45;&gt;116</title>\n<path fill=\"none\" stroke=\"#000000\" d=\"M2339.2252,-1336.9465C2328.1816,-1327.6088 2316.0972,-1317.3911 2304.6596,-1307.7203\"/>\n<polygon fill=\"#000000\" stroke=\"#000000\" points=\"2306.7614,-1304.914 2296.8653,-1301.13 2302.2417,-1310.2594 2306.7614,-1304.914\"/>\n</g>\n<!-- 121 -->\n<g id=\"node122\" class=\"node\">\n<title>121</title>\n<polygon fill=\"none\" stroke=\"#000000\" points=\"2435,-1301 2324,-1301 2324,-1233 2435,-1233 2435,-1301\"/>\n<text text-anchor=\"middle\" x=\"2379.5\" y=\"-1285.8\" font-family=\"Helvetica,sans-Serif\" font-size=\"14.00\" fill=\"#000000\">X[4] &lt;= 86.625</text>\n<text text-anchor=\"middle\" x=\"2379.5\" y=\"-1270.8\" font-family=\"Helvetica,sans-Serif\" font-size=\"14.00\" fill=\"#000000\">gini = 0.444</text>\n<text text-anchor=\"middle\" x=\"2379.5\" y=\"-1255.8\" font-family=\"Helvetica,sans-Serif\" font-size=\"14.00\" fill=\"#000000\">samples = 3</text>\n<text text-anchor=\"middle\" x=\"2379.5\" y=\"-1240.8\" font-family=\"Helvetica,sans-Serif\" font-size=\"14.00\" fill=\"#000000\">value = [2, 1]</text>\n</g>\n<!-- 115&#45;&gt;121 -->\n<g id=\"edge121\" class=\"edge\">\n<title>115&#45;&gt;121</title>\n<path fill=\"none\" stroke=\"#000000\" d=\"M2379.5,-1336.9465C2379.5,-1328.776 2379.5,-1319.9318 2379.5,-1311.3697\"/>\n<polygon fill=\"#000000\" stroke=\"#000000\" points=\"2383.0001,-1311.13 2379.5,-1301.13 2376.0001,-1311.13 2383.0001,-1311.13\"/>\n</g>\n<!-- 117 -->\n<g id=\"node118\" class=\"node\">\n<title>117</title>\n<polygon fill=\"none\" stroke=\"#000000\" points=\"2189,-1189.5 2090,-1189.5 2090,-1136.5 2189,-1136.5 2189,-1189.5\"/>\n<text text-anchor=\"middle\" x=\"2139.5\" y=\"-1174.3\" font-family=\"Helvetica,sans-Serif\" font-size=\"14.00\" fill=\"#000000\">gini = 0.0</text>\n<text text-anchor=\"middle\" x=\"2139.5\" y=\"-1159.3\" font-family=\"Helvetica,sans-Serif\" font-size=\"14.00\" fill=\"#000000\">samples = 5</text>\n<text text-anchor=\"middle\" x=\"2139.5\" y=\"-1144.3\" font-family=\"Helvetica,sans-Serif\" font-size=\"14.00\" fill=\"#000000\">value = [0, 5]</text>\n</g>\n<!-- 116&#45;&gt;117 -->\n<g id=\"edge117\" class=\"edge\">\n<title>116&#45;&gt;117</title>\n<path fill=\"none\" stroke=\"#000000\" d=\"M2218.1898,-1232.9465C2204.9306,-1221.1606 2190.0942,-1207.9726 2176.9084,-1196.2519\"/>\n<polygon fill=\"#000000\" stroke=\"#000000\" points=\"2179.1593,-1193.5699 2169.3599,-1189.5422 2174.5088,-1198.8018 2179.1593,-1193.5699\"/>\n</g>\n<!-- 118 -->\n<g id=\"node119\" class=\"node\">\n<title>118</title>\n<polygon fill=\"none\" stroke=\"#000000\" points=\"2306,-1197 2207,-1197 2207,-1129 2306,-1129 2306,-1197\"/>\n<text text-anchor=\"middle\" x=\"2256.5\" y=\"-1181.8\" font-family=\"Helvetica,sans-Serif\" font-size=\"14.00\" fill=\"#000000\">X[4] &lt;= 41.3</text>\n<text text-anchor=\"middle\" x=\"2256.5\" y=\"-1166.8\" font-family=\"Helvetica,sans-Serif\" font-size=\"14.00\" fill=\"#000000\">gini = 0.444</text>\n<text text-anchor=\"middle\" x=\"2256.5\" y=\"-1151.8\" font-family=\"Helvetica,sans-Serif\" font-size=\"14.00\" fill=\"#000000\">samples = 3</text>\n<text text-anchor=\"middle\" x=\"2256.5\" y=\"-1136.8\" font-family=\"Helvetica,sans-Serif\" font-size=\"14.00\" fill=\"#000000\">value = [1, 2]</text>\n</g>\n<!-- 116&#45;&gt;118 -->\n<g id=\"edge118\" class=\"edge\">\n<title>116&#45;&gt;118</title>\n<path fill=\"none\" stroke=\"#000000\" d=\"M2256.5,-1232.9465C2256.5,-1224.776 2256.5,-1215.9318 2256.5,-1207.3697\"/>\n<polygon fill=\"#000000\" stroke=\"#000000\" points=\"2260.0001,-1207.13 2256.5,-1197.13 2253.0001,-1207.13 2260.0001,-1207.13\"/>\n</g>\n<!-- 119 -->\n<g id=\"node120\" class=\"node\">\n<title>119</title>\n<polygon fill=\"none\" stroke=\"#000000\" points=\"2243,-1085.5 2144,-1085.5 2144,-1032.5 2243,-1032.5 2243,-1085.5\"/>\n<text text-anchor=\"middle\" x=\"2193.5\" y=\"-1070.3\" font-family=\"Helvetica,sans-Serif\" font-size=\"14.00\" fill=\"#000000\">gini = 0.0</text>\n<text text-anchor=\"middle\" x=\"2193.5\" y=\"-1055.3\" font-family=\"Helvetica,sans-Serif\" font-size=\"14.00\" fill=\"#000000\">samples = 2</text>\n<text text-anchor=\"middle\" x=\"2193.5\" y=\"-1040.3\" font-family=\"Helvetica,sans-Serif\" font-size=\"14.00\" fill=\"#000000\">value = [0, 2]</text>\n</g>\n<!-- 118&#45;&gt;119 -->\n<g id=\"edge119\" class=\"edge\">\n<title>118&#45;&gt;119</title>\n<path fill=\"none\" stroke=\"#000000\" d=\"M2235.8714,-1128.9465C2229.1322,-1117.8215 2221.6363,-1105.4473 2214.8455,-1094.237\"/>\n<polygon fill=\"#000000\" stroke=\"#000000\" points=\"2217.7533,-1092.2818 2209.5784,-1085.5422 2211.7661,-1095.9087 2217.7533,-1092.2818\"/>\n</g>\n<!-- 120 -->\n<g id=\"node121\" class=\"node\">\n<title>120</title>\n<polygon fill=\"none\" stroke=\"#000000\" points=\"2360,-1085.5 2261,-1085.5 2261,-1032.5 2360,-1032.5 2360,-1085.5\"/>\n<text text-anchor=\"middle\" x=\"2310.5\" y=\"-1070.3\" font-family=\"Helvetica,sans-Serif\" font-size=\"14.00\" fill=\"#000000\">gini = 0.0</text>\n<text text-anchor=\"middle\" x=\"2310.5\" y=\"-1055.3\" font-family=\"Helvetica,sans-Serif\" font-size=\"14.00\" fill=\"#000000\">samples = 1</text>\n<text text-anchor=\"middle\" x=\"2310.5\" y=\"-1040.3\" font-family=\"Helvetica,sans-Serif\" font-size=\"14.00\" fill=\"#000000\">value = [1, 0]</text>\n</g>\n<!-- 118&#45;&gt;120 -->\n<g id=\"edge120\" class=\"edge\">\n<title>118&#45;&gt;120</title>\n<path fill=\"none\" stroke=\"#000000\" d=\"M2274.1816,-1128.9465C2279.9009,-1117.9316 2286.256,-1105.6922 2292.0308,-1094.5703\"/>\n<polygon fill=\"#000000\" stroke=\"#000000\" points=\"2295.2165,-1096.03 2296.7185,-1085.5422 2289.004,-1092.8043 2295.2165,-1096.03\"/>\n</g>\n<!-- 122 -->\n<g id=\"node123\" class=\"node\">\n<title>122</title>\n<polygon fill=\"none\" stroke=\"#000000\" points=\"2423,-1189.5 2324,-1189.5 2324,-1136.5 2423,-1136.5 2423,-1189.5\"/>\n<text text-anchor=\"middle\" x=\"2373.5\" y=\"-1174.3\" font-family=\"Helvetica,sans-Serif\" font-size=\"14.00\" fill=\"#000000\">gini = 0.0</text>\n<text text-anchor=\"middle\" x=\"2373.5\" y=\"-1159.3\" font-family=\"Helvetica,sans-Serif\" font-size=\"14.00\" fill=\"#000000\">samples = 2</text>\n<text text-anchor=\"middle\" x=\"2373.5\" y=\"-1144.3\" font-family=\"Helvetica,sans-Serif\" font-size=\"14.00\" fill=\"#000000\">value = [2, 0]</text>\n</g>\n<!-- 121&#45;&gt;122 -->\n<g id=\"edge122\" class=\"edge\">\n<title>121&#45;&gt;122</title>\n<path fill=\"none\" stroke=\"#000000\" d=\"M2377.5354,-1232.9465C2376.919,-1222.2621 2376.2361,-1210.4254 2375.6101,-1199.5742\"/>\n<polygon fill=\"#000000\" stroke=\"#000000\" points=\"2379.1015,-1199.3239 2375.0313,-1189.5422 2372.1131,-1199.7272 2379.1015,-1199.3239\"/>\n</g>\n<!-- 123 -->\n<g id=\"node124\" class=\"node\">\n<title>123</title>\n<polygon fill=\"none\" stroke=\"#000000\" points=\"2540,-1189.5 2441,-1189.5 2441,-1136.5 2540,-1136.5 2540,-1189.5\"/>\n<text text-anchor=\"middle\" x=\"2490.5\" y=\"-1174.3\" font-family=\"Helvetica,sans-Serif\" font-size=\"14.00\" fill=\"#000000\">gini = 0.0</text>\n<text text-anchor=\"middle\" x=\"2490.5\" y=\"-1159.3\" font-family=\"Helvetica,sans-Serif\" font-size=\"14.00\" fill=\"#000000\">samples = 1</text>\n<text text-anchor=\"middle\" x=\"2490.5\" y=\"-1144.3\" font-family=\"Helvetica,sans-Serif\" font-size=\"14.00\" fill=\"#000000\">value = [0, 1]</text>\n</g>\n<!-- 121&#45;&gt;123 -->\n<g id=\"edge123\" class=\"edge\">\n<title>121&#45;&gt;123</title>\n<path fill=\"none\" stroke=\"#000000\" d=\"M2415.8456,-1232.9465C2428.3072,-1221.2707 2442.2374,-1208.219 2454.6588,-1196.5809\"/>\n<polygon fill=\"#000000\" stroke=\"#000000\" points=\"2457.2669,-1198.9335 2462.1713,-1189.5422 2452.4809,-1193.8253 2457.2669,-1198.9335\"/>\n</g>\n<!-- 126 -->\n<g id=\"node127\" class=\"node\">\n<title>126</title>\n<polygon fill=\"none\" stroke=\"#000000\" points=\"2590,-1605.5 2491,-1605.5 2491,-1552.5 2590,-1552.5 2590,-1605.5\"/>\n<text text-anchor=\"middle\" x=\"2540.5\" y=\"-1590.3\" font-family=\"Helvetica,sans-Serif\" font-size=\"14.00\" fill=\"#000000\">gini = 0.0</text>\n<text text-anchor=\"middle\" x=\"2540.5\" y=\"-1575.3\" font-family=\"Helvetica,sans-Serif\" font-size=\"14.00\" fill=\"#000000\">samples = 8</text>\n<text text-anchor=\"middle\" x=\"2540.5\" y=\"-1560.3\" font-family=\"Helvetica,sans-Serif\" font-size=\"14.00\" fill=\"#000000\">value = [8, 0]</text>\n</g>\n<!-- 125&#45;&gt;126 -->\n<g id=\"edge126\" class=\"edge\">\n<title>125&#45;&gt;126</title>\n<path fill=\"none\" stroke=\"#000000\" d=\"M2543.8628,-1648.9465C2543.3491,-1638.2621 2542.7801,-1626.4254 2542.2584,-1615.5742\"/>\n<polygon fill=\"#000000\" stroke=\"#000000\" points=\"2545.7523,-1615.3625 2541.7761,-1605.5422 2538.7604,-1615.6987 2545.7523,-1615.3625\"/>\n</g>\n<!-- 127 -->\n<g id=\"node128\" class=\"node\">\n<title>127</title>\n<polygon fill=\"none\" stroke=\"#000000\" points=\"2724.5,-1613 2608.5,-1613 2608.5,-1545 2724.5,-1545 2724.5,-1613\"/>\n<text text-anchor=\"middle\" x=\"2666.5\" y=\"-1597.8\" font-family=\"Helvetica,sans-Serif\" font-size=\"14.00\" fill=\"#000000\">X[4] &lt;= 26.469</text>\n<text text-anchor=\"middle\" x=\"2666.5\" y=\"-1582.8\" font-family=\"Helvetica,sans-Serif\" font-size=\"14.00\" fill=\"#000000\">gini = 0.447</text>\n<text text-anchor=\"middle\" x=\"2666.5\" y=\"-1567.8\" font-family=\"Helvetica,sans-Serif\" font-size=\"14.00\" fill=\"#000000\">samples = 74</text>\n<text text-anchor=\"middle\" x=\"2666.5\" y=\"-1552.8\" font-family=\"Helvetica,sans-Serif\" font-size=\"14.00\" fill=\"#000000\">value = [49, 25]</text>\n</g>\n<!-- 125&#45;&gt;127 -->\n<g id=\"edge127\" class=\"edge\">\n<title>125&#45;&gt;127</title>\n<path fill=\"none\" stroke=\"#000000\" d=\"M2585.1199,-1648.9465C2595.984,-1639.6088 2607.8718,-1629.3911 2619.1235,-1619.7203\"/>\n<polygon fill=\"#000000\" stroke=\"#000000\" points=\"2621.4887,-1622.3026 2626.7911,-1613.13 2616.9259,-1616.994 2621.4887,-1622.3026\"/>\n</g>\n<!-- 128 -->\n<g id=\"node129\" class=\"node\">\n<title>128</title>\n<polygon fill=\"none\" stroke=\"#000000\" points=\"2704,-1501.5 2605,-1501.5 2605,-1448.5 2704,-1448.5 2704,-1501.5\"/>\n<text text-anchor=\"middle\" x=\"2654.5\" y=\"-1486.3\" font-family=\"Helvetica,sans-Serif\" font-size=\"14.00\" fill=\"#000000\">gini = 0.0</text>\n<text text-anchor=\"middle\" x=\"2654.5\" y=\"-1471.3\" font-family=\"Helvetica,sans-Serif\" font-size=\"14.00\" fill=\"#000000\">samples = 3</text>\n<text text-anchor=\"middle\" x=\"2654.5\" y=\"-1456.3\" font-family=\"Helvetica,sans-Serif\" font-size=\"14.00\" fill=\"#000000\">value = [0, 3]</text>\n</g>\n<!-- 127&#45;&gt;128 -->\n<g id=\"edge128\" class=\"edge\">\n<title>127&#45;&gt;128</title>\n<path fill=\"none\" stroke=\"#000000\" d=\"M2662.5708,-1544.9465C2661.3379,-1534.2621 2659.9722,-1522.4254 2658.7201,-1511.5742\"/>\n<polygon fill=\"#000000\" stroke=\"#000000\" points=\"2662.1858,-1511.075 2657.5626,-1501.5422 2655.232,-1511.8775 2662.1858,-1511.075\"/>\n</g>\n<!-- 129 -->\n<g id=\"node130\" class=\"node\">\n<title>129</title>\n<polygon fill=\"none\" stroke=\"#000000\" points=\"2838.5,-1509 2722.5,-1509 2722.5,-1441 2838.5,-1441 2838.5,-1509\"/>\n<text text-anchor=\"middle\" x=\"2780.5\" y=\"-1493.8\" font-family=\"Helvetica,sans-Serif\" font-size=\"14.00\" fill=\"#000000\">X[1] &lt;= 60.5</text>\n<text text-anchor=\"middle\" x=\"2780.5\" y=\"-1478.8\" font-family=\"Helvetica,sans-Serif\" font-size=\"14.00\" fill=\"#000000\">gini = 0.428</text>\n<text text-anchor=\"middle\" x=\"2780.5\" y=\"-1463.8\" font-family=\"Helvetica,sans-Serif\" font-size=\"14.00\" fill=\"#000000\">samples = 71</text>\n<text text-anchor=\"middle\" x=\"2780.5\" y=\"-1448.8\" font-family=\"Helvetica,sans-Serif\" font-size=\"14.00\" fill=\"#000000\">value = [49, 22]</text>\n</g>\n<!-- 127&#45;&gt;129 -->\n<g id=\"edge129\" class=\"edge\">\n<title>127&#45;&gt;129</title>\n<path fill=\"none\" stroke=\"#000000\" d=\"M2703.8279,-1544.9465C2713.965,-1535.6986 2725.0483,-1525.5876 2735.5583,-1515.9994\"/>\n<polygon fill=\"#000000\" stroke=\"#000000\" points=\"2738.0595,-1518.4553 2743.0883,-1509.13 2733.3417,-1513.284 2738.0595,-1518.4553\"/>\n</g>\n<!-- 130 -->\n<g id=\"node131\" class=\"node\">\n<title>130</title>\n<polygon fill=\"none\" stroke=\"#000000\" points=\"2832.5,-1405 2716.5,-1405 2716.5,-1337 2832.5,-1337 2832.5,-1405\"/>\n<text text-anchor=\"middle\" x=\"2774.5\" y=\"-1389.8\" font-family=\"Helvetica,sans-Serif\" font-size=\"14.00\" fill=\"#000000\">X[4] &lt;= 37.0</text>\n<text text-anchor=\"middle\" x=\"2774.5\" y=\"-1374.8\" font-family=\"Helvetica,sans-Serif\" font-size=\"14.00\" fill=\"#000000\">gini = 0.455</text>\n<text text-anchor=\"middle\" x=\"2774.5\" y=\"-1359.8\" font-family=\"Helvetica,sans-Serif\" font-size=\"14.00\" fill=\"#000000\">samples = 63</text>\n<text text-anchor=\"middle\" x=\"2774.5\" y=\"-1344.8\" font-family=\"Helvetica,sans-Serif\" font-size=\"14.00\" fill=\"#000000\">value = [41, 22]</text>\n</g>\n<!-- 129&#45;&gt;130 -->\n<g id=\"edge130\" class=\"edge\">\n<title>129&#45;&gt;130</title>\n<path fill=\"none\" stroke=\"#000000\" d=\"M2778.5354,-1440.9465C2778.064,-1432.776 2777.5538,-1423.9318 2777.0598,-1415.3697\"/>\n<polygon fill=\"#000000\" stroke=\"#000000\" points=\"2780.5393,-1414.9118 2776.469,-1405.13 2773.5509,-1415.315 2780.5393,-1414.9118\"/>\n</g>\n<!-- 181 -->\n<g id=\"node182\" class=\"node\">\n<title>181</title>\n<polygon fill=\"none\" stroke=\"#000000\" points=\"2950,-1397.5 2851,-1397.5 2851,-1344.5 2950,-1344.5 2950,-1397.5\"/>\n<text text-anchor=\"middle\" x=\"2900.5\" y=\"-1382.3\" font-family=\"Helvetica,sans-Serif\" font-size=\"14.00\" fill=\"#000000\">gini = 0.0</text>\n<text text-anchor=\"middle\" x=\"2900.5\" y=\"-1367.3\" font-family=\"Helvetica,sans-Serif\" font-size=\"14.00\" fill=\"#000000\">samples = 8</text>\n<text text-anchor=\"middle\" x=\"2900.5\" y=\"-1352.3\" font-family=\"Helvetica,sans-Serif\" font-size=\"14.00\" fill=\"#000000\">value = [8, 0]</text>\n</g>\n<!-- 129&#45;&gt;181 -->\n<g id=\"edge181\" class=\"edge\">\n<title>129&#45;&gt;181</title>\n<path fill=\"none\" stroke=\"#000000\" d=\"M2819.7925,-1440.9465C2833.3917,-1429.1606 2848.6085,-1415.9726 2862.1324,-1404.2519\"/>\n<polygon fill=\"#000000\" stroke=\"#000000\" points=\"2864.6098,-1406.7364 2869.8744,-1397.5422 2860.0252,-1401.4466 2864.6098,-1406.7364\"/>\n</g>\n<!-- 131 -->\n<g id=\"node132\" class=\"node\">\n<title>131</title>\n<polygon fill=\"none\" stroke=\"#000000\" points=\"2794.5,-1301 2678.5,-1301 2678.5,-1233 2794.5,-1233 2794.5,-1301\"/>\n<text text-anchor=\"middle\" x=\"2736.5\" y=\"-1285.8\" font-family=\"Helvetica,sans-Serif\" font-size=\"14.00\" fill=\"#000000\">X[4] &lt;= 35.25</text>\n<text text-anchor=\"middle\" x=\"2736.5\" y=\"-1270.8\" font-family=\"Helvetica,sans-Serif\" font-size=\"14.00\" fill=\"#000000\">gini = 0.495</text>\n<text text-anchor=\"middle\" x=\"2736.5\" y=\"-1255.8\" font-family=\"Helvetica,sans-Serif\" font-size=\"14.00\" fill=\"#000000\">samples = 29</text>\n<text text-anchor=\"middle\" x=\"2736.5\" y=\"-1240.8\" font-family=\"Helvetica,sans-Serif\" font-size=\"14.00\" fill=\"#000000\">value = [16, 13]</text>\n</g>\n<!-- 130&#45;&gt;131 -->\n<g id=\"edge131\" class=\"edge\">\n<title>130&#45;&gt;131</title>\n<path fill=\"none\" stroke=\"#000000\" d=\"M2762.0574,-1336.9465C2758.9736,-1328.5067 2755.6271,-1319.3479 2752.403,-1310.5239\"/>\n<polygon fill=\"#000000\" stroke=\"#000000\" points=\"2755.69,-1309.3215 2748.9706,-1301.13 2749.1151,-1311.7238 2755.69,-1309.3215\"/>\n</g>\n<!-- 156 -->\n<g id=\"node157\" class=\"node\">\n<title>156</title>\n<polygon fill=\"none\" stroke=\"#000000\" points=\"2920,-1301 2813,-1301 2813,-1233 2920,-1233 2920,-1301\"/>\n<text text-anchor=\"middle\" x=\"2866.5\" y=\"-1285.8\" font-family=\"Helvetica,sans-Serif\" font-size=\"14.00\" fill=\"#000000\">X[3] &lt;= 0.5</text>\n<text text-anchor=\"middle\" x=\"2866.5\" y=\"-1270.8\" font-family=\"Helvetica,sans-Serif\" font-size=\"14.00\" fill=\"#000000\">gini = 0.389</text>\n<text text-anchor=\"middle\" x=\"2866.5\" y=\"-1255.8\" font-family=\"Helvetica,sans-Serif\" font-size=\"14.00\" fill=\"#000000\">samples = 34</text>\n<text text-anchor=\"middle\" x=\"2866.5\" y=\"-1240.8\" font-family=\"Helvetica,sans-Serif\" font-size=\"14.00\" fill=\"#000000\">value = [25, 9]</text>\n</g>\n<!-- 130&#45;&gt;156 -->\n<g id=\"edge156\" class=\"edge\">\n<title>130&#45;&gt;156</title>\n<path fill=\"none\" stroke=\"#000000\" d=\"M2804.6242,-1336.9465C2812.5668,-1327.968 2821.2291,-1318.1758 2829.489,-1308.8385\"/>\n<polygon fill=\"#000000\" stroke=\"#000000\" points=\"2832.3038,-1310.939 2836.3081,-1301.13 2827.0608,-1306.301 2832.3038,-1310.939\"/>\n</g>\n<!-- 132 -->\n<g id=\"node133\" class=\"node\">\n<title>132</title>\n<polygon fill=\"none\" stroke=\"#000000\" points=\"2674.5,-1197 2558.5,-1197 2558.5,-1129 2674.5,-1129 2674.5,-1197\"/>\n<text text-anchor=\"middle\" x=\"2616.5\" y=\"-1181.8\" font-family=\"Helvetica,sans-Serif\" font-size=\"14.00\" fill=\"#000000\">X[1] &lt;= 53.5</text>\n<text text-anchor=\"middle\" x=\"2616.5\" y=\"-1166.8\" font-family=\"Helvetica,sans-Serif\" font-size=\"14.00\" fill=\"#000000\">gini = 0.483</text>\n<text text-anchor=\"middle\" x=\"2616.5\" y=\"-1151.8\" font-family=\"Helvetica,sans-Serif\" font-size=\"14.00\" fill=\"#000000\">samples = 27</text>\n<text text-anchor=\"middle\" x=\"2616.5\" y=\"-1136.8\" font-family=\"Helvetica,sans-Serif\" font-size=\"14.00\" fill=\"#000000\">value = [16, 11]</text>\n</g>\n<!-- 131&#45;&gt;132 -->\n<g id=\"edge132\" class=\"edge\">\n<title>131&#45;&gt;132</title>\n<path fill=\"none\" stroke=\"#000000\" d=\"M2697.2075,-1232.9465C2686.4333,-1223.6088 2674.6436,-1213.3911 2663.485,-1203.7203\"/>\n<polygon fill=\"#000000\" stroke=\"#000000\" points=\"2665.7299,-1201.0344 2655.8808,-1197.13 2661.1454,-1206.3243 2665.7299,-1201.0344\"/>\n</g>\n<!-- 155 -->\n<g id=\"node156\" class=\"node\">\n<title>155</title>\n<polygon fill=\"none\" stroke=\"#000000\" points=\"2792,-1189.5 2693,-1189.5 2693,-1136.5 2792,-1136.5 2792,-1189.5\"/>\n<text text-anchor=\"middle\" x=\"2742.5\" y=\"-1174.3\" font-family=\"Helvetica,sans-Serif\" font-size=\"14.00\" fill=\"#000000\">gini = 0.0</text>\n<text text-anchor=\"middle\" x=\"2742.5\" y=\"-1159.3\" font-family=\"Helvetica,sans-Serif\" font-size=\"14.00\" fill=\"#000000\">samples = 2</text>\n<text text-anchor=\"middle\" x=\"2742.5\" y=\"-1144.3\" font-family=\"Helvetica,sans-Serif\" font-size=\"14.00\" fill=\"#000000\">value = [0, 2]</text>\n</g>\n<!-- 131&#45;&gt;155 -->\n<g id=\"edge155\" class=\"edge\">\n<title>131&#45;&gt;155</title>\n<path fill=\"none\" stroke=\"#000000\" d=\"M2738.4646,-1232.9465C2739.081,-1222.2621 2739.7639,-1210.4254 2740.3899,-1199.5742\"/>\n<polygon fill=\"#000000\" stroke=\"#000000\" points=\"2743.8869,-1199.7272 2740.9687,-1189.5422 2736.8985,-1199.3239 2743.8869,-1199.7272\"/>\n</g>\n<!-- 133 -->\n<g id=\"node134\" class=\"node\">\n<title>133</title>\n<polygon fill=\"none\" stroke=\"#000000\" points=\"2549.5,-1093 2433.5,-1093 2433.5,-1025 2549.5,-1025 2549.5,-1093\"/>\n<text text-anchor=\"middle\" x=\"2491.5\" y=\"-1077.8\" font-family=\"Helvetica,sans-Serif\" font-size=\"14.00\" fill=\"#000000\">X[1] &lt;= 47.5</text>\n<text text-anchor=\"middle\" x=\"2491.5\" y=\"-1062.8\" font-family=\"Helvetica,sans-Serif\" font-size=\"14.00\" fill=\"#000000\">gini = 0.497</text>\n<text text-anchor=\"middle\" x=\"2491.5\" y=\"-1047.8\" font-family=\"Helvetica,sans-Serif\" font-size=\"14.00\" fill=\"#000000\">samples = 24</text>\n<text text-anchor=\"middle\" x=\"2491.5\" y=\"-1032.8\" font-family=\"Helvetica,sans-Serif\" font-size=\"14.00\" fill=\"#000000\">value = [13, 11]</text>\n</g>\n<!-- 132&#45;&gt;133 -->\n<g id=\"edge133\" class=\"edge\">\n<title>132&#45;&gt;133</title>\n<path fill=\"none\" stroke=\"#000000\" d=\"M2575.5703,-1128.9465C2564.3472,-1119.6088 2552.0663,-1109.3911 2540.4427,-1099.7203\"/>\n<polygon fill=\"#000000\" stroke=\"#000000\" points=\"2542.4474,-1096.8353 2532.5216,-1093.13 2537.9704,-1102.2164 2542.4474,-1096.8353\"/>\n</g>\n<!-- 154 -->\n<g id=\"node155\" class=\"node\">\n<title>154</title>\n<polygon fill=\"none\" stroke=\"#000000\" points=\"2667,-1085.5 2568,-1085.5 2568,-1032.5 2667,-1032.5 2667,-1085.5\"/>\n<text text-anchor=\"middle\" x=\"2617.5\" y=\"-1070.3\" font-family=\"Helvetica,sans-Serif\" font-size=\"14.00\" fill=\"#000000\">gini = 0.0</text>\n<text text-anchor=\"middle\" x=\"2617.5\" y=\"-1055.3\" font-family=\"Helvetica,sans-Serif\" font-size=\"14.00\" fill=\"#000000\">samples = 3</text>\n<text text-anchor=\"middle\" x=\"2617.5\" y=\"-1040.3\" font-family=\"Helvetica,sans-Serif\" font-size=\"14.00\" fill=\"#000000\">value = [3, 0]</text>\n</g>\n<!-- 132&#45;&gt;154 -->\n<g id=\"edge154\" class=\"edge\">\n<title>132&#45;&gt;154</title>\n<path fill=\"none\" stroke=\"#000000\" d=\"M2616.8274,-1128.9465C2616.9302,-1118.2621 2617.044,-1106.4254 2617.1483,-1095.5742\"/>\n<polygon fill=\"#000000\" stroke=\"#000000\" points=\"2620.6484,-1095.5754 2617.2448,-1085.5422 2613.6487,-1095.508 2620.6484,-1095.5754\"/>\n</g>\n<!-- 134 -->\n<g id=\"node135\" class=\"node\">\n<title>134</title>\n<polygon fill=\"none\" stroke=\"#000000\" points=\"2443,-989 2336,-989 2336,-921 2443,-921 2443,-989\"/>\n<text text-anchor=\"middle\" x=\"2389.5\" y=\"-973.8\" font-family=\"Helvetica,sans-Serif\" font-size=\"14.00\" fill=\"#000000\">X[1] &lt;= 45.25</text>\n<text text-anchor=\"middle\" x=\"2389.5\" y=\"-958.8\" font-family=\"Helvetica,sans-Serif\" font-size=\"14.00\" fill=\"#000000\">gini = 0.472</text>\n<text text-anchor=\"middle\" x=\"2389.5\" y=\"-943.8\" font-family=\"Helvetica,sans-Serif\" font-size=\"14.00\" fill=\"#000000\">samples = 21</text>\n<text text-anchor=\"middle\" x=\"2389.5\" y=\"-928.8\" font-family=\"Helvetica,sans-Serif\" font-size=\"14.00\" fill=\"#000000\">value = [13, 8]</text>\n</g>\n<!-- 133&#45;&gt;134 -->\n<g id=\"edge134\" class=\"edge\">\n<title>133&#45;&gt;134</title>\n<path fill=\"none\" stroke=\"#000000\" d=\"M2458.1014,-1024.9465C2449.1194,-1015.7884 2439.3072,-1005.7838 2429.985,-996.2788\"/>\n<polygon fill=\"#000000\" stroke=\"#000000\" points=\"2432.4746,-993.8187 2422.9737,-989.13 2427.477,-998.7201 2432.4746,-993.8187\"/>\n</g>\n<!-- 153 -->\n<g id=\"node154\" class=\"node\">\n<title>153</title>\n<polygon fill=\"none\" stroke=\"#000000\" points=\"2560,-981.5 2461,-981.5 2461,-928.5 2560,-928.5 2560,-981.5\"/>\n<text text-anchor=\"middle\" x=\"2510.5\" y=\"-966.3\" font-family=\"Helvetica,sans-Serif\" font-size=\"14.00\" fill=\"#000000\">gini = 0.0</text>\n<text text-anchor=\"middle\" x=\"2510.5\" y=\"-951.3\" font-family=\"Helvetica,sans-Serif\" font-size=\"14.00\" fill=\"#000000\">samples = 3</text>\n<text text-anchor=\"middle\" x=\"2510.5\" y=\"-936.3\" font-family=\"Helvetica,sans-Serif\" font-size=\"14.00\" fill=\"#000000\">value = [0, 3]</text>\n</g>\n<!-- 133&#45;&gt;153 -->\n<g id=\"edge153\" class=\"edge\">\n<title>133&#45;&gt;153</title>\n<path fill=\"none\" stroke=\"#000000\" d=\"M2497.7213,-1024.9465C2499.6733,-1014.2621 2501.8357,-1002.4254 2503.8182,-991.5742\"/>\n<polygon fill=\"#000000\" stroke=\"#000000\" points=\"2507.2967,-992.0084 2505.651,-981.5422 2500.4107,-990.7503 2507.2967,-992.0084\"/>\n</g>\n<!-- 135 -->\n<g id=\"node136\" class=\"node\">\n<title>135</title>\n<polygon fill=\"none\" stroke=\"#000000\" points=\"2334,-885 2227,-885 2227,-817 2334,-817 2334,-885\"/>\n<text text-anchor=\"middle\" x=\"2280.5\" y=\"-869.8\" font-family=\"Helvetica,sans-Serif\" font-size=\"14.00\" fill=\"#000000\">X[1] &lt;= 31.0</text>\n<text text-anchor=\"middle\" x=\"2280.5\" y=\"-854.8\" font-family=\"Helvetica,sans-Serif\" font-size=\"14.00\" fill=\"#000000\">gini = 0.488</text>\n<text text-anchor=\"middle\" x=\"2280.5\" y=\"-839.8\" font-family=\"Helvetica,sans-Serif\" font-size=\"14.00\" fill=\"#000000\">samples = 19</text>\n<text text-anchor=\"middle\" x=\"2280.5\" y=\"-824.8\" font-family=\"Helvetica,sans-Serif\" font-size=\"14.00\" fill=\"#000000\">value = [11, 8]</text>\n</g>\n<!-- 134&#45;&gt;135 -->\n<g id=\"edge135\" class=\"edge\">\n<title>134&#45;&gt;135</title>\n<path fill=\"none\" stroke=\"#000000\" d=\"M2353.8093,-920.9465C2344.2109,-911.7884 2333.7253,-901.7838 2323.7634,-892.2788\"/>\n<polygon fill=\"#000000\" stroke=\"#000000\" points=\"2325.9221,-889.5009 2316.2709,-885.13 2321.0898,-894.5655 2325.9221,-889.5009\"/>\n</g>\n<!-- 152 -->\n<g id=\"node153\" class=\"node\">\n<title>152</title>\n<polygon fill=\"none\" stroke=\"#000000\" points=\"2451,-877.5 2352,-877.5 2352,-824.5 2451,-824.5 2451,-877.5\"/>\n<text text-anchor=\"middle\" x=\"2401.5\" y=\"-862.3\" font-family=\"Helvetica,sans-Serif\" font-size=\"14.00\" fill=\"#000000\">gini = 0.0</text>\n<text text-anchor=\"middle\" x=\"2401.5\" y=\"-847.3\" font-family=\"Helvetica,sans-Serif\" font-size=\"14.00\" fill=\"#000000\">samples = 2</text>\n<text text-anchor=\"middle\" x=\"2401.5\" y=\"-832.3\" font-family=\"Helvetica,sans-Serif\" font-size=\"14.00\" fill=\"#000000\">value = [2, 0]</text>\n</g>\n<!-- 134&#45;&gt;152 -->\n<g id=\"edge152\" class=\"edge\">\n<title>134&#45;&gt;152</title>\n<path fill=\"none\" stroke=\"#000000\" d=\"M2393.4292,-920.9465C2394.6621,-910.2621 2396.0278,-898.4254 2397.2799,-887.5742\"/>\n<polygon fill=\"#000000\" stroke=\"#000000\" points=\"2400.768,-887.8775 2398.4374,-877.5422 2393.8142,-887.075 2400.768,-887.8775\"/>\n</g>\n<!-- 136 -->\n<g id=\"node137\" class=\"node\">\n<title>136</title>\n<polygon fill=\"none\" stroke=\"#000000\" points=\"2298,-781 2187,-781 2187,-713 2298,-713 2298,-781\"/>\n<text text-anchor=\"middle\" x=\"2242.5\" y=\"-765.8\" font-family=\"Helvetica,sans-Serif\" font-size=\"14.00\" fill=\"#000000\">X[4] &lt;= 30.598</text>\n<text text-anchor=\"middle\" x=\"2242.5\" y=\"-750.8\" font-family=\"Helvetica,sans-Serif\" font-size=\"14.00\" fill=\"#000000\">gini = 0.444</text>\n<text text-anchor=\"middle\" x=\"2242.5\" y=\"-735.8\" font-family=\"Helvetica,sans-Serif\" font-size=\"14.00\" fill=\"#000000\">samples = 12</text>\n<text text-anchor=\"middle\" x=\"2242.5\" y=\"-720.8\" font-family=\"Helvetica,sans-Serif\" font-size=\"14.00\" fill=\"#000000\">value = [8, 4]</text>\n</g>\n<!-- 135&#45;&gt;136 -->\n<g id=\"edge136\" class=\"edge\">\n<title>135&#45;&gt;136</title>\n<path fill=\"none\" stroke=\"#000000\" d=\"M2268.0574,-816.9465C2264.9736,-808.5067 2261.6271,-799.3479 2258.403,-790.5239\"/>\n<polygon fill=\"#000000\" stroke=\"#000000\" points=\"2261.69,-789.3215 2254.9706,-781.13 2255.1151,-791.7238 2261.69,-789.3215\"/>\n</g>\n<!-- 145 -->\n<g id=\"node146\" class=\"node\">\n<title>145</title>\n<polygon fill=\"none\" stroke=\"#000000\" points=\"2415,-781 2316,-781 2316,-713 2415,-713 2415,-781\"/>\n<text text-anchor=\"middle\" x=\"2365.5\" y=\"-765.8\" font-family=\"Helvetica,sans-Serif\" font-size=\"14.00\" fill=\"#000000\">X[4] &lt;= 30.1</text>\n<text text-anchor=\"middle\" x=\"2365.5\" y=\"-750.8\" font-family=\"Helvetica,sans-Serif\" font-size=\"14.00\" fill=\"#000000\">gini = 0.49</text>\n<text text-anchor=\"middle\" x=\"2365.5\" y=\"-735.8\" font-family=\"Helvetica,sans-Serif\" font-size=\"14.00\" fill=\"#000000\">samples = 7</text>\n<text text-anchor=\"middle\" x=\"2365.5\" y=\"-720.8\" font-family=\"Helvetica,sans-Serif\" font-size=\"14.00\" fill=\"#000000\">value = [3, 4]</text>\n</g>\n<!-- 135&#45;&gt;145 -->\n<g id=\"edge145\" class=\"edge\">\n<title>135&#45;&gt;145</title>\n<path fill=\"none\" stroke=\"#000000\" d=\"M2308.3322,-816.9465C2315.597,-808.0578 2323.5136,-798.3716 2331.076,-789.1188\"/>\n<polygon fill=\"#000000\" stroke=\"#000000\" points=\"2333.987,-791.0878 2337.6053,-781.13 2328.5669,-786.658 2333.987,-791.0878\"/>\n</g>\n<!-- 137 -->\n<g id=\"node138\" class=\"node\">\n<title>137</title>\n<polygon fill=\"none\" stroke=\"#000000\" points=\"2175,-677 2064,-677 2064,-609 2175,-609 2175,-677\"/>\n<text text-anchor=\"middle\" x=\"2119.5\" y=\"-661.8\" font-family=\"Helvetica,sans-Serif\" font-size=\"14.00\" fill=\"#000000\">X[4] &lt;= 28.725</text>\n<text text-anchor=\"middle\" x=\"2119.5\" y=\"-646.8\" font-family=\"Helvetica,sans-Serif\" font-size=\"14.00\" fill=\"#000000\">gini = 0.494</text>\n<text text-anchor=\"middle\" x=\"2119.5\" y=\"-631.8\" font-family=\"Helvetica,sans-Serif\" font-size=\"14.00\" fill=\"#000000\">samples = 9</text>\n<text text-anchor=\"middle\" x=\"2119.5\" y=\"-616.8\" font-family=\"Helvetica,sans-Serif\" font-size=\"14.00\" fill=\"#000000\">value = [5, 4]</text>\n</g>\n<!-- 136&#45;&gt;137 -->\n<g id=\"edge137\" class=\"edge\">\n<title>136&#45;&gt;137</title>\n<path fill=\"none\" stroke=\"#000000\" d=\"M2202.2252,-712.9465C2191.1816,-703.6088 2179.0972,-693.3911 2167.6596,-683.7203\"/>\n<polygon fill=\"#000000\" stroke=\"#000000\" points=\"2169.7614,-680.914 2159.8653,-677.13 2165.2417,-686.2594 2169.7614,-680.914\"/>\n</g>\n<!-- 144 -->\n<g id=\"node145\" class=\"node\">\n<title>144</title>\n<polygon fill=\"none\" stroke=\"#000000\" points=\"2292,-669.5 2193,-669.5 2193,-616.5 2292,-616.5 2292,-669.5\"/>\n<text text-anchor=\"middle\" x=\"2242.5\" y=\"-654.3\" font-family=\"Helvetica,sans-Serif\" font-size=\"14.00\" fill=\"#000000\">gini = 0.0</text>\n<text text-anchor=\"middle\" x=\"2242.5\" y=\"-639.3\" font-family=\"Helvetica,sans-Serif\" font-size=\"14.00\" fill=\"#000000\">samples = 3</text>\n<text text-anchor=\"middle\" x=\"2242.5\" y=\"-624.3\" font-family=\"Helvetica,sans-Serif\" font-size=\"14.00\" fill=\"#000000\">value = [3, 0]</text>\n</g>\n<!-- 136&#45;&gt;144 -->\n<g id=\"edge144\" class=\"edge\">\n<title>136&#45;&gt;144</title>\n<path fill=\"none\" stroke=\"#000000\" d=\"M2242.5,-712.9465C2242.5,-702.2621 2242.5,-690.4254 2242.5,-679.5742\"/>\n<polygon fill=\"#000000\" stroke=\"#000000\" points=\"2246.0001,-679.5421 2242.5,-669.5422 2239.0001,-679.5422 2246.0001,-679.5421\"/>\n</g>\n<!-- 138 -->\n<g id=\"node139\" class=\"node\">\n<title>138</title>\n<polygon fill=\"none\" stroke=\"#000000\" points=\"2054,-573 1943,-573 1943,-505 2054,-505 2054,-573\"/>\n<text text-anchor=\"middle\" x=\"1998.5\" y=\"-557.8\" font-family=\"Helvetica,sans-Serif\" font-size=\"14.00\" fill=\"#000000\">X[4] &lt;= 27.135</text>\n<text text-anchor=\"middle\" x=\"1998.5\" y=\"-542.8\" font-family=\"Helvetica,sans-Serif\" font-size=\"14.00\" fill=\"#000000\">gini = 0.32</text>\n<text text-anchor=\"middle\" x=\"1998.5\" y=\"-527.8\" font-family=\"Helvetica,sans-Serif\" font-size=\"14.00\" fill=\"#000000\">samples = 5</text>\n<text text-anchor=\"middle\" x=\"1998.5\" y=\"-512.8\" font-family=\"Helvetica,sans-Serif\" font-size=\"14.00\" fill=\"#000000\">value = [4, 1]</text>\n</g>\n<!-- 137&#45;&gt;138 -->\n<g id=\"edge138\" class=\"edge\">\n<title>137&#45;&gt;138</title>\n<path fill=\"none\" stroke=\"#000000\" d=\"M2079.8801,-608.9465C2069.016,-599.6088 2057.1282,-589.3911 2045.8765,-579.7203\"/>\n<polygon fill=\"#000000\" stroke=\"#000000\" points=\"2048.0741,-576.994 2038.2089,-573.13 2043.5113,-582.3026 2048.0741,-576.994\"/>\n</g>\n<!-- 141 -->\n<g id=\"node142\" class=\"node\">\n<title>141</title>\n<polygon fill=\"none\" stroke=\"#000000\" points=\"2175,-573 2072,-573 2072,-505 2175,-505 2175,-573\"/>\n<text text-anchor=\"middle\" x=\"2123.5\" y=\"-557.8\" font-family=\"Helvetica,sans-Serif\" font-size=\"14.00\" fill=\"#000000\">X[1] &lt;= 29.35</text>\n<text text-anchor=\"middle\" x=\"2123.5\" y=\"-542.8\" font-family=\"Helvetica,sans-Serif\" font-size=\"14.00\" fill=\"#000000\">gini = 0.375</text>\n<text text-anchor=\"middle\" x=\"2123.5\" y=\"-527.8\" font-family=\"Helvetica,sans-Serif\" font-size=\"14.00\" fill=\"#000000\">samples = 4</text>\n<text text-anchor=\"middle\" x=\"2123.5\" y=\"-512.8\" font-family=\"Helvetica,sans-Serif\" font-size=\"14.00\" fill=\"#000000\">value = [1, 3]</text>\n</g>\n<!-- 137&#45;&gt;141 -->\n<g id=\"edge141\" class=\"edge\">\n<title>137&#45;&gt;141</title>\n<path fill=\"none\" stroke=\"#000000\" d=\"M2120.8097,-608.9465C2121.124,-600.776 2121.4642,-591.9318 2121.7935,-583.3697\"/>\n<polygon fill=\"#000000\" stroke=\"#000000\" points=\"2125.3003,-583.2572 2122.1873,-573.13 2118.3055,-582.9881 2125.3003,-583.2572\"/>\n</g>\n<!-- 139 -->\n<g id=\"node140\" class=\"node\">\n<title>139</title>\n<polygon fill=\"none\" stroke=\"#000000\" points=\"1933,-461.5 1834,-461.5 1834,-408.5 1933,-408.5 1933,-461.5\"/>\n<text text-anchor=\"middle\" x=\"1883.5\" y=\"-446.3\" font-family=\"Helvetica,sans-Serif\" font-size=\"14.00\" fill=\"#000000\">gini = 0.5</text>\n<text text-anchor=\"middle\" x=\"1883.5\" y=\"-431.3\" font-family=\"Helvetica,sans-Serif\" font-size=\"14.00\" fill=\"#000000\">samples = 2</text>\n<text text-anchor=\"middle\" x=\"1883.5\" y=\"-416.3\" font-family=\"Helvetica,sans-Serif\" font-size=\"14.00\" fill=\"#000000\">value = [1, 1]</text>\n</g>\n<!-- 138&#45;&gt;139 -->\n<g id=\"edge139\" class=\"edge\">\n<title>138&#45;&gt;139</title>\n<path fill=\"none\" stroke=\"#000000\" d=\"M1960.8447,-504.9465C1947.8122,-493.1606 1933.2294,-479.9726 1920.2689,-468.2519\"/>\n<polygon fill=\"#000000\" stroke=\"#000000\" points=\"1922.614,-465.6537 1912.8495,-461.5422 1917.9188,-470.8456 1922.614,-465.6537\"/>\n</g>\n<!-- 140 -->\n<g id=\"node141\" class=\"node\">\n<title>140</title>\n<polygon fill=\"none\" stroke=\"#000000\" points=\"2050,-461.5 1951,-461.5 1951,-408.5 2050,-408.5 2050,-461.5\"/>\n<text text-anchor=\"middle\" x=\"2000.5\" y=\"-446.3\" font-family=\"Helvetica,sans-Serif\" font-size=\"14.00\" fill=\"#000000\">gini = 0.0</text>\n<text text-anchor=\"middle\" x=\"2000.5\" y=\"-431.3\" font-family=\"Helvetica,sans-Serif\" font-size=\"14.00\" fill=\"#000000\">samples = 3</text>\n<text text-anchor=\"middle\" x=\"2000.5\" y=\"-416.3\" font-family=\"Helvetica,sans-Serif\" font-size=\"14.00\" fill=\"#000000\">value = [3, 0]</text>\n</g>\n<!-- 138&#45;&gt;140 -->\n<g id=\"edge140\" class=\"edge\">\n<title>138&#45;&gt;140</title>\n<path fill=\"none\" stroke=\"#000000\" d=\"M1999.1549,-504.9465C1999.3603,-494.2621 1999.588,-482.4254 1999.7966,-471.5742\"/>\n<polygon fill=\"#000000\" stroke=\"#000000\" points=\"2003.2966,-471.6076 1999.9896,-461.5422 1996.2979,-471.473 2003.2966,-471.6076\"/>\n</g>\n<!-- 142 -->\n<g id=\"node143\" class=\"node\">\n<title>142</title>\n<polygon fill=\"none\" stroke=\"#000000\" points=\"2171,-461.5 2072,-461.5 2072,-408.5 2171,-408.5 2171,-461.5\"/>\n<text text-anchor=\"middle\" x=\"2121.5\" y=\"-446.3\" font-family=\"Helvetica,sans-Serif\" font-size=\"14.00\" fill=\"#000000\">gini = 0.0</text>\n<text text-anchor=\"middle\" x=\"2121.5\" y=\"-431.3\" font-family=\"Helvetica,sans-Serif\" font-size=\"14.00\" fill=\"#000000\">samples = 1</text>\n<text text-anchor=\"middle\" x=\"2121.5\" y=\"-416.3\" font-family=\"Helvetica,sans-Serif\" font-size=\"14.00\" fill=\"#000000\">value = [1, 0]</text>\n</g>\n<!-- 141&#45;&gt;142 -->\n<g id=\"edge142\" class=\"edge\">\n<title>141&#45;&gt;142</title>\n<path fill=\"none\" stroke=\"#000000\" d=\"M2122.8451,-504.9465C2122.6397,-494.2621 2122.412,-482.4254 2122.2034,-471.5742\"/>\n<polygon fill=\"#000000\" stroke=\"#000000\" points=\"2125.7021,-471.473 2122.0104,-461.5422 2118.7034,-471.6076 2125.7021,-471.473\"/>\n</g>\n<!-- 143 -->\n<g id=\"node144\" class=\"node\">\n<title>143</title>\n<polygon fill=\"none\" stroke=\"#000000\" points=\"2288,-461.5 2189,-461.5 2189,-408.5 2288,-408.5 2288,-461.5\"/>\n<text text-anchor=\"middle\" x=\"2238.5\" y=\"-446.3\" font-family=\"Helvetica,sans-Serif\" font-size=\"14.00\" fill=\"#000000\">gini = 0.0</text>\n<text text-anchor=\"middle\" x=\"2238.5\" y=\"-431.3\" font-family=\"Helvetica,sans-Serif\" font-size=\"14.00\" fill=\"#000000\">samples = 3</text>\n<text text-anchor=\"middle\" x=\"2238.5\" y=\"-416.3\" font-family=\"Helvetica,sans-Serif\" font-size=\"14.00\" fill=\"#000000\">value = [0, 3]</text>\n</g>\n<!-- 141&#45;&gt;143 -->\n<g id=\"edge143\" class=\"edge\">\n<title>141&#45;&gt;143</title>\n<path fill=\"none\" stroke=\"#000000\" d=\"M2161.1553,-504.9465C2174.1878,-493.1606 2188.7706,-479.9726 2201.7311,-468.2519\"/>\n<polygon fill=\"#000000\" stroke=\"#000000\" points=\"2204.0812,-470.8456 2209.1505,-461.5422 2199.386,-465.6537 2204.0812,-470.8456\"/>\n</g>\n<!-- 146 -->\n<g id=\"node147\" class=\"node\">\n<title>146</title>\n<polygon fill=\"none\" stroke=\"#000000\" points=\"2421,-677 2310,-677 2310,-609 2421,-609 2421,-677\"/>\n<text text-anchor=\"middle\" x=\"2365.5\" y=\"-661.8\" font-family=\"Helvetica,sans-Serif\" font-size=\"14.00\" fill=\"#000000\">X[4] &lt;= 27.135</text>\n<text text-anchor=\"middle\" x=\"2365.5\" y=\"-646.8\" font-family=\"Helvetica,sans-Serif\" font-size=\"14.00\" fill=\"#000000\">gini = 0.48</text>\n<text text-anchor=\"middle\" x=\"2365.5\" y=\"-631.8\" font-family=\"Helvetica,sans-Serif\" font-size=\"14.00\" fill=\"#000000\">samples = 5</text>\n<text text-anchor=\"middle\" x=\"2365.5\" y=\"-616.8\" font-family=\"Helvetica,sans-Serif\" font-size=\"14.00\" fill=\"#000000\">value = [3, 2]</text>\n</g>\n<!-- 145&#45;&gt;146 -->\n<g id=\"edge146\" class=\"edge\">\n<title>145&#45;&gt;146</title>\n<path fill=\"none\" stroke=\"#000000\" d=\"M2365.5,-712.9465C2365.5,-704.776 2365.5,-695.9318 2365.5,-687.3697\"/>\n<polygon fill=\"#000000\" stroke=\"#000000\" points=\"2369.0001,-687.13 2365.5,-677.13 2362.0001,-687.13 2369.0001,-687.13\"/>\n</g>\n<!-- 151 -->\n<g id=\"node152\" class=\"node\">\n<title>151</title>\n<polygon fill=\"none\" stroke=\"#000000\" points=\"2538,-669.5 2439,-669.5 2439,-616.5 2538,-616.5 2538,-669.5\"/>\n<text text-anchor=\"middle\" x=\"2488.5\" y=\"-654.3\" font-family=\"Helvetica,sans-Serif\" font-size=\"14.00\" fill=\"#000000\">gini = 0.0</text>\n<text text-anchor=\"middle\" x=\"2488.5\" y=\"-639.3\" font-family=\"Helvetica,sans-Serif\" font-size=\"14.00\" fill=\"#000000\">samples = 2</text>\n<text text-anchor=\"middle\" x=\"2488.5\" y=\"-624.3\" font-family=\"Helvetica,sans-Serif\" font-size=\"14.00\" fill=\"#000000\">value = [0, 2]</text>\n</g>\n<!-- 145&#45;&gt;151 -->\n<g id=\"edge151\" class=\"edge\">\n<title>145&#45;&gt;151</title>\n<path fill=\"none\" stroke=\"#000000\" d=\"M2405.7748,-712.9465C2419.7139,-701.1606 2435.3112,-687.9726 2449.1732,-676.2519\"/>\n<polygon fill=\"#000000\" stroke=\"#000000\" points=\"2451.7324,-678.6715 2457.1088,-669.5422 2447.2127,-673.3262 2451.7324,-678.6715\"/>\n</g>\n<!-- 147 -->\n<g id=\"node148\" class=\"node\">\n<title>147</title>\n<polygon fill=\"none\" stroke=\"#000000\" points=\"2413,-573 2314,-573 2314,-505 2413,-505 2413,-573\"/>\n<text text-anchor=\"middle\" x=\"2363.5\" y=\"-557.8\" font-family=\"Helvetica,sans-Serif\" font-size=\"14.00\" fill=\"#000000\">X[5] &lt;= 2.5</text>\n<text text-anchor=\"middle\" x=\"2363.5\" y=\"-542.8\" font-family=\"Helvetica,sans-Serif\" font-size=\"14.00\" fill=\"#000000\">gini = 0.444</text>\n<text text-anchor=\"middle\" x=\"2363.5\" y=\"-527.8\" font-family=\"Helvetica,sans-Serif\" font-size=\"14.00\" fill=\"#000000\">samples = 3</text>\n<text text-anchor=\"middle\" x=\"2363.5\" y=\"-512.8\" font-family=\"Helvetica,sans-Serif\" font-size=\"14.00\" fill=\"#000000\">value = [1, 2]</text>\n</g>\n<!-- 146&#45;&gt;147 -->\n<g id=\"edge147\" class=\"edge\">\n<title>146&#45;&gt;147</title>\n<path fill=\"none\" stroke=\"#000000\" d=\"M2364.8451,-608.9465C2364.688,-600.776 2364.5179,-591.9318 2364.3533,-583.3697\"/>\n<polygon fill=\"#000000\" stroke=\"#000000\" points=\"2367.8481,-583.0608 2364.1563,-573.13 2360.8494,-583.1955 2367.8481,-583.0608\"/>\n</g>\n<!-- 150 -->\n<g id=\"node151\" class=\"node\">\n<title>150</title>\n<polygon fill=\"none\" stroke=\"#000000\" points=\"2530,-565.5 2431,-565.5 2431,-512.5 2530,-512.5 2530,-565.5\"/>\n<text text-anchor=\"middle\" x=\"2480.5\" y=\"-550.3\" font-family=\"Helvetica,sans-Serif\" font-size=\"14.00\" fill=\"#000000\">gini = 0.0</text>\n<text text-anchor=\"middle\" x=\"2480.5\" y=\"-535.3\" font-family=\"Helvetica,sans-Serif\" font-size=\"14.00\" fill=\"#000000\">samples = 2</text>\n<text text-anchor=\"middle\" x=\"2480.5\" y=\"-520.3\" font-family=\"Helvetica,sans-Serif\" font-size=\"14.00\" fill=\"#000000\">value = [2, 0]</text>\n</g>\n<!-- 146&#45;&gt;150 -->\n<g id=\"edge150\" class=\"edge\">\n<title>146&#45;&gt;150</title>\n<path fill=\"none\" stroke=\"#000000\" d=\"M2403.1553,-608.9465C2416.1878,-597.1606 2430.7706,-583.9726 2443.7311,-572.2519\"/>\n<polygon fill=\"#000000\" stroke=\"#000000\" points=\"2446.0812,-574.8456 2451.1505,-565.5422 2441.386,-569.6537 2446.0812,-574.8456\"/>\n</g>\n<!-- 148 -->\n<g id=\"node149\" class=\"node\">\n<title>148</title>\n<polygon fill=\"none\" stroke=\"#000000\" points=\"2411,-461.5 2312,-461.5 2312,-408.5 2411,-408.5 2411,-461.5\"/>\n<text text-anchor=\"middle\" x=\"2361.5\" y=\"-446.3\" font-family=\"Helvetica,sans-Serif\" font-size=\"14.00\" fill=\"#000000\">gini = 0.0</text>\n<text text-anchor=\"middle\" x=\"2361.5\" y=\"-431.3\" font-family=\"Helvetica,sans-Serif\" font-size=\"14.00\" fill=\"#000000\">samples = 2</text>\n<text text-anchor=\"middle\" x=\"2361.5\" y=\"-416.3\" font-family=\"Helvetica,sans-Serif\" font-size=\"14.00\" fill=\"#000000\">value = [0, 2]</text>\n</g>\n<!-- 147&#45;&gt;148 -->\n<g id=\"edge148\" class=\"edge\">\n<title>147&#45;&gt;148</title>\n<path fill=\"none\" stroke=\"#000000\" d=\"M2362.8451,-504.9465C2362.6397,-494.2621 2362.412,-482.4254 2362.2034,-471.5742\"/>\n<polygon fill=\"#000000\" stroke=\"#000000\" points=\"2365.7021,-471.473 2362.0104,-461.5422 2358.7034,-471.6076 2365.7021,-471.473\"/>\n</g>\n<!-- 149 -->\n<g id=\"node150\" class=\"node\">\n<title>149</title>\n<polygon fill=\"none\" stroke=\"#000000\" points=\"2528,-461.5 2429,-461.5 2429,-408.5 2528,-408.5 2528,-461.5\"/>\n<text text-anchor=\"middle\" x=\"2478.5\" y=\"-446.3\" font-family=\"Helvetica,sans-Serif\" font-size=\"14.00\" fill=\"#000000\">gini = 0.0</text>\n<text text-anchor=\"middle\" x=\"2478.5\" y=\"-431.3\" font-family=\"Helvetica,sans-Serif\" font-size=\"14.00\" fill=\"#000000\">samples = 1</text>\n<text text-anchor=\"middle\" x=\"2478.5\" y=\"-416.3\" font-family=\"Helvetica,sans-Serif\" font-size=\"14.00\" fill=\"#000000\">value = [1, 0]</text>\n</g>\n<!-- 147&#45;&gt;149 -->\n<g id=\"edge149\" class=\"edge\">\n<title>147&#45;&gt;149</title>\n<path fill=\"none\" stroke=\"#000000\" d=\"M2401.1553,-504.9465C2414.1878,-493.1606 2428.7706,-479.9726 2441.7311,-468.2519\"/>\n<polygon fill=\"#000000\" stroke=\"#000000\" points=\"2444.0812,-470.8456 2449.1505,-461.5422 2439.386,-465.6537 2444.0812,-470.8456\"/>\n</g>\n<!-- 157 -->\n<g id=\"node158\" class=\"node\">\n<title>157</title>\n<polygon fill=\"none\" stroke=\"#000000\" points=\"2917,-1189.5 2810,-1189.5 2810,-1136.5 2917,-1136.5 2917,-1189.5\"/>\n<text text-anchor=\"middle\" x=\"2863.5\" y=\"-1174.3\" font-family=\"Helvetica,sans-Serif\" font-size=\"14.00\" fill=\"#000000\">gini = 0.0</text>\n<text text-anchor=\"middle\" x=\"2863.5\" y=\"-1159.3\" font-family=\"Helvetica,sans-Serif\" font-size=\"14.00\" fill=\"#000000\">samples = 11</text>\n<text text-anchor=\"middle\" x=\"2863.5\" y=\"-1144.3\" font-family=\"Helvetica,sans-Serif\" font-size=\"14.00\" fill=\"#000000\">value = [11, 0]</text>\n</g>\n<!-- 156&#45;&gt;157 -->\n<g id=\"edge157\" class=\"edge\">\n<title>156&#45;&gt;157</title>\n<path fill=\"none\" stroke=\"#000000\" d=\"M2865.5177,-1232.9465C2865.2095,-1222.2621 2864.868,-1210.4254 2864.555,-1199.5742\"/>\n<polygon fill=\"#000000\" stroke=\"#000000\" points=\"2868.0526,-1199.4371 2864.2656,-1189.5422 2861.0555,-1199.639 2868.0526,-1199.4371\"/>\n</g>\n<!-- 158 -->\n<g id=\"node159\" class=\"node\">\n<title>158</title>\n<polygon fill=\"none\" stroke=\"#000000\" points=\"3042,-1197 2935,-1197 2935,-1129 3042,-1129 3042,-1197\"/>\n<text text-anchor=\"middle\" x=\"2988.5\" y=\"-1181.8\" font-family=\"Helvetica,sans-Serif\" font-size=\"14.00\" fill=\"#000000\">X[1] &lt;= 49.5</text>\n<text text-anchor=\"middle\" x=\"2988.5\" y=\"-1166.8\" font-family=\"Helvetica,sans-Serif\" font-size=\"14.00\" fill=\"#000000\">gini = 0.476</text>\n<text text-anchor=\"middle\" x=\"2988.5\" y=\"-1151.8\" font-family=\"Helvetica,sans-Serif\" font-size=\"14.00\" fill=\"#000000\">samples = 23</text>\n<text text-anchor=\"middle\" x=\"2988.5\" y=\"-1136.8\" font-family=\"Helvetica,sans-Serif\" font-size=\"14.00\" fill=\"#000000\">value = [14, 9]</text>\n</g>\n<!-- 156&#45;&gt;158 -->\n<g id=\"edge158\" class=\"edge\">\n<title>156&#45;&gt;158</title>\n<path fill=\"none\" stroke=\"#000000\" d=\"M2906.4474,-1232.9465C2917.4012,-1223.6088 2929.3873,-1213.3911 2940.732,-1203.7203\"/>\n<polygon fill=\"#000000\" stroke=\"#000000\" points=\"2943.1233,-1206.2809 2948.4629,-1197.13 2938.5821,-1200.9538 2943.1233,-1206.2809\"/>\n</g>\n<!-- 159 -->\n<g id=\"node160\" class=\"node\">\n<title>159</title>\n<polygon fill=\"none\" stroke=\"#000000\" points=\"2825.5,-1093 2721.5,-1093 2721.5,-1025 2825.5,-1025 2825.5,-1093\"/>\n<text text-anchor=\"middle\" x=\"2773.5\" y=\"-1077.8\" font-family=\"Helvetica,sans-Serif\" font-size=\"14.00\" fill=\"#000000\">X[1] &lt;= 47.0</text>\n<text text-anchor=\"middle\" x=\"2773.5\" y=\"-1062.8\" font-family=\"Helvetica,sans-Serif\" font-size=\"14.00\" fill=\"#000000\">gini = 0.5</text>\n<text text-anchor=\"middle\" x=\"2773.5\" y=\"-1047.8\" font-family=\"Helvetica,sans-Serif\" font-size=\"14.00\" fill=\"#000000\">samples = 16</text>\n<text text-anchor=\"middle\" x=\"2773.5\" y=\"-1032.8\" font-family=\"Helvetica,sans-Serif\" font-size=\"14.00\" fill=\"#000000\">value = [8, 8]</text>\n</g>\n<!-- 158&#45;&gt;159 -->\n<g id=\"edge159\" class=\"edge\">\n<title>158&#45;&gt;159</title>\n<path fill=\"none\" stroke=\"#000000\" d=\"M2934.6612,-1133.6544C2931.5717,-1132.0609 2928.5021,-1130.4995 2925.5,-1129 2895.9606,-1114.2457 2862.691,-1098.7952 2834.8253,-1086.1746\"/>\n<polygon fill=\"#000000\" stroke=\"#000000\" points=\"2836.15,-1082.9326 2825.5956,-1082.0082 2833.2699,-1089.3127 2836.15,-1082.9326\"/>\n</g>\n<!-- 178 -->\n<g id=\"node179\" class=\"node\">\n<title>178</title>\n<polygon fill=\"none\" stroke=\"#000000\" points=\"3038,-1093 2939,-1093 2939,-1025 3038,-1025 3038,-1093\"/>\n<text text-anchor=\"middle\" x=\"2988.5\" y=\"-1077.8\" font-family=\"Helvetica,sans-Serif\" font-size=\"14.00\" fill=\"#000000\">X[1] &lt;= 59.0</text>\n<text text-anchor=\"middle\" x=\"2988.5\" y=\"-1062.8\" font-family=\"Helvetica,sans-Serif\" font-size=\"14.00\" fill=\"#000000\">gini = 0.245</text>\n<text text-anchor=\"middle\" x=\"2988.5\" y=\"-1047.8\" font-family=\"Helvetica,sans-Serif\" font-size=\"14.00\" fill=\"#000000\">samples = 7</text>\n<text text-anchor=\"middle\" x=\"2988.5\" y=\"-1032.8\" font-family=\"Helvetica,sans-Serif\" font-size=\"14.00\" fill=\"#000000\">value = [6, 1]</text>\n</g>\n<!-- 158&#45;&gt;178 -->\n<g id=\"edge178\" class=\"edge\">\n<title>158&#45;&gt;178</title>\n<path fill=\"none\" stroke=\"#000000\" d=\"M2988.5,-1128.9465C2988.5,-1120.776 2988.5,-1111.9318 2988.5,-1103.3697\"/>\n<polygon fill=\"#000000\" stroke=\"#000000\" points=\"2992.0001,-1103.13 2988.5,-1093.13 2985.0001,-1103.13 2992.0001,-1103.13\"/>\n</g>\n<!-- 160 -->\n<g id=\"node161\" class=\"node\">\n<title>160</title>\n<polygon fill=\"none\" stroke=\"#000000\" points=\"2699.5,-989 2595.5,-989 2595.5,-921 2699.5,-921 2699.5,-989\"/>\n<text text-anchor=\"middle\" x=\"2647.5\" y=\"-973.8\" font-family=\"Helvetica,sans-Serif\" font-size=\"14.00\" fill=\"#000000\">X[1] &lt;= 43.0</text>\n<text text-anchor=\"middle\" x=\"2647.5\" y=\"-958.8\" font-family=\"Helvetica,sans-Serif\" font-size=\"14.00\" fill=\"#000000\">gini = 0.486</text>\n<text text-anchor=\"middle\" x=\"2647.5\" y=\"-943.8\" font-family=\"Helvetica,sans-Serif\" font-size=\"14.00\" fill=\"#000000\">samples = 12</text>\n<text text-anchor=\"middle\" x=\"2647.5\" y=\"-928.8\" font-family=\"Helvetica,sans-Serif\" font-size=\"14.00\" fill=\"#000000\">value = [7, 5]</text>\n</g>\n<!-- 159&#45;&gt;160 -->\n<g id=\"edge160\" class=\"edge\">\n<title>159&#45;&gt;160</title>\n<path fill=\"none\" stroke=\"#000000\" d=\"M2732.2429,-1024.9465C2720.9299,-1015.6088 2708.5508,-1005.3911 2696.8342,-995.7203\"/>\n<polygon fill=\"#000000\" stroke=\"#000000\" points=\"2698.79,-992.7964 2688.8498,-989.13 2694.3341,-998.195 2698.79,-992.7964\"/>\n</g>\n<!-- 175 -->\n<g id=\"node176\" class=\"node\">\n<title>175</title>\n<polygon fill=\"none\" stroke=\"#000000\" points=\"2823,-989 2724,-989 2724,-921 2823,-921 2823,-989\"/>\n<text text-anchor=\"middle\" x=\"2773.5\" y=\"-973.8\" font-family=\"Helvetica,sans-Serif\" font-size=\"14.00\" fill=\"#000000\">X[3] &lt;= 1.5</text>\n<text text-anchor=\"middle\" x=\"2773.5\" y=\"-958.8\" font-family=\"Helvetica,sans-Serif\" font-size=\"14.00\" fill=\"#000000\">gini = 0.375</text>\n<text text-anchor=\"middle\" x=\"2773.5\" y=\"-943.8\" font-family=\"Helvetica,sans-Serif\" font-size=\"14.00\" fill=\"#000000\">samples = 4</text>\n<text text-anchor=\"middle\" x=\"2773.5\" y=\"-928.8\" font-family=\"Helvetica,sans-Serif\" font-size=\"14.00\" fill=\"#000000\">value = [1, 3]</text>\n</g>\n<!-- 159&#45;&gt;175 -->\n<g id=\"edge175\" class=\"edge\">\n<title>159&#45;&gt;175</title>\n<path fill=\"none\" stroke=\"#000000\" d=\"M2773.5,-1024.9465C2773.5,-1016.776 2773.5,-1007.9318 2773.5,-999.3697\"/>\n<polygon fill=\"#000000\" stroke=\"#000000\" points=\"2777.0001,-999.13 2773.5,-989.13 2770.0001,-999.13 2777.0001,-999.13\"/>\n</g>\n<!-- 161 -->\n<g id=\"node162\" class=\"node\">\n<title>161</title>\n<polygon fill=\"none\" stroke=\"#000000\" points=\"2580,-885 2469,-885 2469,-817 2580,-817 2580,-885\"/>\n<text text-anchor=\"middle\" x=\"2524.5\" y=\"-869.8\" font-family=\"Helvetica,sans-Serif\" font-size=\"14.00\" fill=\"#000000\">X[4] &lt;= 52.277</text>\n<text text-anchor=\"middle\" x=\"2524.5\" y=\"-854.8\" font-family=\"Helvetica,sans-Serif\" font-size=\"14.00\" fill=\"#000000\">gini = 0.494</text>\n<text text-anchor=\"middle\" x=\"2524.5\" y=\"-839.8\" font-family=\"Helvetica,sans-Serif\" font-size=\"14.00\" fill=\"#000000\">samples = 9</text>\n<text text-anchor=\"middle\" x=\"2524.5\" y=\"-824.8\" font-family=\"Helvetica,sans-Serif\" font-size=\"14.00\" fill=\"#000000\">value = [4, 5]</text>\n</g>\n<!-- 160&#45;&gt;161 -->\n<g id=\"edge161\" class=\"edge\">\n<title>160&#45;&gt;161</title>\n<path fill=\"none\" stroke=\"#000000\" d=\"M2607.2252,-920.9465C2596.1816,-911.6088 2584.0972,-901.3911 2572.6596,-891.7203\"/>\n<polygon fill=\"#000000\" stroke=\"#000000\" points=\"2574.7614,-888.914 2564.8653,-885.13 2570.2417,-894.2594 2574.7614,-888.914\"/>\n</g>\n<!-- 174 -->\n<g id=\"node175\" class=\"node\">\n<title>174</title>\n<polygon fill=\"none\" stroke=\"#000000\" points=\"2697,-877.5 2598,-877.5 2598,-824.5 2697,-824.5 2697,-877.5\"/>\n<text text-anchor=\"middle\" x=\"2647.5\" y=\"-862.3\" font-family=\"Helvetica,sans-Serif\" font-size=\"14.00\" fill=\"#000000\">gini = 0.0</text>\n<text text-anchor=\"middle\" x=\"2647.5\" y=\"-847.3\" font-family=\"Helvetica,sans-Serif\" font-size=\"14.00\" fill=\"#000000\">samples = 3</text>\n<text text-anchor=\"middle\" x=\"2647.5\" y=\"-832.3\" font-family=\"Helvetica,sans-Serif\" font-size=\"14.00\" fill=\"#000000\">value = [3, 0]</text>\n</g>\n<!-- 160&#45;&gt;174 -->\n<g id=\"edge174\" class=\"edge\">\n<title>160&#45;&gt;174</title>\n<path fill=\"none\" stroke=\"#000000\" d=\"M2647.5,-920.9465C2647.5,-910.2621 2647.5,-898.4254 2647.5,-887.5742\"/>\n<polygon fill=\"#000000\" stroke=\"#000000\" points=\"2651.0001,-887.5421 2647.5,-877.5422 2644.0001,-887.5422 2651.0001,-887.5421\"/>\n</g>\n<!-- 162 -->\n<g id=\"node163\" class=\"node\">\n<title>162</title>\n<polygon fill=\"none\" stroke=\"#000000\" points=\"2559,-773.5 2460,-773.5 2460,-720.5 2559,-720.5 2559,-773.5\"/>\n<text text-anchor=\"middle\" x=\"2509.5\" y=\"-758.3\" font-family=\"Helvetica,sans-Serif\" font-size=\"14.00\" fill=\"#000000\">gini = 0.0</text>\n<text text-anchor=\"middle\" x=\"2509.5\" y=\"-743.3\" font-family=\"Helvetica,sans-Serif\" font-size=\"14.00\" fill=\"#000000\">samples = 1</text>\n<text text-anchor=\"middle\" x=\"2509.5\" y=\"-728.3\" font-family=\"Helvetica,sans-Serif\" font-size=\"14.00\" fill=\"#000000\">value = [1, 0]</text>\n</g>\n<!-- 161&#45;&gt;162 -->\n<g id=\"edge162\" class=\"edge\">\n<title>161&#45;&gt;162</title>\n<path fill=\"none\" stroke=\"#000000\" d=\"M2519.5884,-816.9465C2518.0474,-806.2621 2516.3402,-794.4254 2514.7751,-783.5742\"/>\n<polygon fill=\"#000000\" stroke=\"#000000\" points=\"2518.22,-782.9401 2513.3282,-773.5422 2511.2917,-783.9394 2518.22,-782.9401\"/>\n</g>\n<!-- 163 -->\n<g id=\"node164\" class=\"node\">\n<title>163</title>\n<polygon fill=\"none\" stroke=\"#000000\" points=\"2688,-781 2577,-781 2577,-713 2688,-713 2688,-781\"/>\n<text text-anchor=\"middle\" x=\"2632.5\" y=\"-765.8\" font-family=\"Helvetica,sans-Serif\" font-size=\"14.00\" fill=\"#000000\">X[4] &lt;= 52.827</text>\n<text text-anchor=\"middle\" x=\"2632.5\" y=\"-750.8\" font-family=\"Helvetica,sans-Serif\" font-size=\"14.00\" fill=\"#000000\">gini = 0.469</text>\n<text text-anchor=\"middle\" x=\"2632.5\" y=\"-735.8\" font-family=\"Helvetica,sans-Serif\" font-size=\"14.00\" fill=\"#000000\">samples = 8</text>\n<text text-anchor=\"middle\" x=\"2632.5\" y=\"-720.8\" font-family=\"Helvetica,sans-Serif\" font-size=\"14.00\" fill=\"#000000\">value = [3, 5]</text>\n</g>\n<!-- 161&#45;&gt;163 -->\n<g id=\"edge163\" class=\"edge\">\n<title>161&#45;&gt;163</title>\n<path fill=\"none\" stroke=\"#000000\" d=\"M2559.8632,-816.9465C2569.3736,-807.7884 2579.763,-797.7838 2589.6335,-788.2788\"/>\n<polygon fill=\"#000000\" stroke=\"#000000\" points=\"2592.2818,-790.5876 2597.0573,-781.13 2587.4263,-785.5453 2592.2818,-790.5876\"/>\n</g>\n<!-- 164 -->\n<g id=\"node165\" class=\"node\">\n<title>164</title>\n<polygon fill=\"none\" stroke=\"#000000\" points=\"2655,-669.5 2556,-669.5 2556,-616.5 2655,-616.5 2655,-669.5\"/>\n<text text-anchor=\"middle\" x=\"2605.5\" y=\"-654.3\" font-family=\"Helvetica,sans-Serif\" font-size=\"14.00\" fill=\"#000000\">gini = 0.0</text>\n<text text-anchor=\"middle\" x=\"2605.5\" y=\"-639.3\" font-family=\"Helvetica,sans-Serif\" font-size=\"14.00\" fill=\"#000000\">samples = 2</text>\n<text text-anchor=\"middle\" x=\"2605.5\" y=\"-624.3\" font-family=\"Helvetica,sans-Serif\" font-size=\"14.00\" fill=\"#000000\">value = [0, 2]</text>\n</g>\n<!-- 163&#45;&gt;164 -->\n<g id=\"edge164\" class=\"edge\">\n<title>163&#45;&gt;164</title>\n<path fill=\"none\" stroke=\"#000000\" d=\"M2623.6592,-712.9465C2620.8567,-702.1519 2617.749,-690.1813 2614.9082,-679.2389\"/>\n<polygon fill=\"#000000\" stroke=\"#000000\" points=\"2618.2914,-678.3418 2612.3908,-669.5422 2611.516,-680.1008 2618.2914,-678.3418\"/>\n</g>\n<!-- 165 -->\n<g id=\"node166\" class=\"node\">\n<title>165</title>\n<polygon fill=\"none\" stroke=\"#000000\" points=\"2772,-677 2673,-677 2673,-609 2772,-609 2772,-677\"/>\n<text text-anchor=\"middle\" x=\"2722.5\" y=\"-661.8\" font-family=\"Helvetica,sans-Serif\" font-size=\"14.00\" fill=\"#000000\">X[1] &lt;= 33.5</text>\n<text text-anchor=\"middle\" x=\"2722.5\" y=\"-646.8\" font-family=\"Helvetica,sans-Serif\" font-size=\"14.00\" fill=\"#000000\">gini = 0.5</text>\n<text text-anchor=\"middle\" x=\"2722.5\" y=\"-631.8\" font-family=\"Helvetica,sans-Serif\" font-size=\"14.00\" fill=\"#000000\">samples = 6</text>\n<text text-anchor=\"middle\" x=\"2722.5\" y=\"-616.8\" font-family=\"Helvetica,sans-Serif\" font-size=\"14.00\" fill=\"#000000\">value = [3, 3]</text>\n</g>\n<!-- 163&#45;&gt;165 -->\n<g id=\"edge165\" class=\"edge\">\n<title>163&#45;&gt;165</title>\n<path fill=\"none\" stroke=\"#000000\" d=\"M2661.9694,-712.9465C2669.7393,-703.968 2678.2132,-694.1758 2686.2936,-684.8385\"/>\n<polygon fill=\"#000000\" stroke=\"#000000\" points=\"2689.0672,-686.982 2692.9644,-677.13 2683.774,-682.4014 2689.0672,-686.982\"/>\n</g>\n<!-- 166 -->\n<g id=\"node167\" class=\"node\">\n<title>166</title>\n<polygon fill=\"none\" stroke=\"#000000\" points=\"2650,-565.5 2551,-565.5 2551,-512.5 2650,-512.5 2650,-565.5\"/>\n<text text-anchor=\"middle\" x=\"2600.5\" y=\"-550.3\" font-family=\"Helvetica,sans-Serif\" font-size=\"14.00\" fill=\"#000000\">gini = 0.0</text>\n<text text-anchor=\"middle\" x=\"2600.5\" y=\"-535.3\" font-family=\"Helvetica,sans-Serif\" font-size=\"14.00\" fill=\"#000000\">samples = 1</text>\n<text text-anchor=\"middle\" x=\"2600.5\" y=\"-520.3\" font-family=\"Helvetica,sans-Serif\" font-size=\"14.00\" fill=\"#000000\">value = [0, 1]</text>\n</g>\n<!-- 165&#45;&gt;166 -->\n<g id=\"edge166\" class=\"edge\">\n<title>165&#45;&gt;166</title>\n<path fill=\"none\" stroke=\"#000000\" d=\"M2682.5526,-608.9465C2668.7268,-597.1606 2653.2564,-583.9726 2639.5071,-572.2519\"/>\n<polygon fill=\"#000000\" stroke=\"#000000\" points=\"2641.5168,-569.366 2631.636,-565.5422 2636.9756,-574.6931 2641.5168,-569.366\"/>\n</g>\n<!-- 167 -->\n<g id=\"node168\" class=\"node\">\n<title>167</title>\n<polygon fill=\"none\" stroke=\"#000000\" points=\"2779,-573 2668,-573 2668,-505 2779,-505 2779,-573\"/>\n<text text-anchor=\"middle\" x=\"2723.5\" y=\"-557.8\" font-family=\"Helvetica,sans-Serif\" font-size=\"14.00\" fill=\"#000000\">X[4] &lt;= 84.425</text>\n<text text-anchor=\"middle\" x=\"2723.5\" y=\"-542.8\" font-family=\"Helvetica,sans-Serif\" font-size=\"14.00\" fill=\"#000000\">gini = 0.48</text>\n<text text-anchor=\"middle\" x=\"2723.5\" y=\"-527.8\" font-family=\"Helvetica,sans-Serif\" font-size=\"14.00\" fill=\"#000000\">samples = 5</text>\n<text text-anchor=\"middle\" x=\"2723.5\" y=\"-512.8\" font-family=\"Helvetica,sans-Serif\" font-size=\"14.00\" fill=\"#000000\">value = [3, 2]</text>\n</g>\n<!-- 165&#45;&gt;167 -->\n<g id=\"edge167\" class=\"edge\">\n<title>165&#45;&gt;167</title>\n<path fill=\"none\" stroke=\"#000000\" d=\"M2722.8274,-608.9465C2722.906,-600.776 2722.991,-591.9318 2723.0734,-583.3697\"/>\n<polygon fill=\"#000000\" stroke=\"#000000\" points=\"2726.5754,-583.1632 2723.1718,-573.13 2719.5757,-583.0958 2726.5754,-583.1632\"/>\n</g>\n<!-- 168 -->\n<g id=\"node169\" class=\"node\">\n<title>168</title>\n<polygon fill=\"none\" stroke=\"#000000\" points=\"2680,-461.5 2581,-461.5 2581,-408.5 2680,-408.5 2680,-461.5\"/>\n<text text-anchor=\"middle\" x=\"2630.5\" y=\"-446.3\" font-family=\"Helvetica,sans-Serif\" font-size=\"14.00\" fill=\"#000000\">gini = 0.0</text>\n<text text-anchor=\"middle\" x=\"2630.5\" y=\"-431.3\" font-family=\"Helvetica,sans-Serif\" font-size=\"14.00\" fill=\"#000000\">samples = 2</text>\n<text text-anchor=\"middle\" x=\"2630.5\" y=\"-416.3\" font-family=\"Helvetica,sans-Serif\" font-size=\"14.00\" fill=\"#000000\">value = [2, 0]</text>\n</g>\n<!-- 167&#45;&gt;168 -->\n<g id=\"edge168\" class=\"edge\">\n<title>167&#45;&gt;168</title>\n<path fill=\"none\" stroke=\"#000000\" d=\"M2693.0483,-504.9465C2682.8045,-493.491 2671.3762,-480.711 2661.1195,-469.2412\"/>\n<polygon fill=\"#000000\" stroke=\"#000000\" points=\"2663.5097,-466.6634 2654.2348,-461.5422 2658.2917,-471.3295 2663.5097,-466.6634\"/>\n</g>\n<!-- 169 -->\n<g id=\"node170\" class=\"node\">\n<title>169</title>\n<polygon fill=\"none\" stroke=\"#000000\" points=\"2797,-469 2698,-469 2698,-401 2797,-401 2797,-469\"/>\n<text text-anchor=\"middle\" x=\"2747.5\" y=\"-453.8\" font-family=\"Helvetica,sans-Serif\" font-size=\"14.00\" fill=\"#000000\">X[1] &lt;= 37.0</text>\n<text text-anchor=\"middle\" x=\"2747.5\" y=\"-438.8\" font-family=\"Helvetica,sans-Serif\" font-size=\"14.00\" fill=\"#000000\">gini = 0.444</text>\n<text text-anchor=\"middle\" x=\"2747.5\" y=\"-423.8\" font-family=\"Helvetica,sans-Serif\" font-size=\"14.00\" fill=\"#000000\">samples = 3</text>\n<text text-anchor=\"middle\" x=\"2747.5\" y=\"-408.8\" font-family=\"Helvetica,sans-Serif\" font-size=\"14.00\" fill=\"#000000\">value = [1, 2]</text>\n</g>\n<!-- 167&#45;&gt;169 -->\n<g id=\"edge169\" class=\"edge\">\n<title>167&#45;&gt;169</title>\n<path fill=\"none\" stroke=\"#000000\" d=\"M2731.3585,-504.9465C2733.2647,-496.6863 2735.3298,-487.7374 2737.326,-479.0875\"/>\n<polygon fill=\"#000000\" stroke=\"#000000\" points=\"2740.7855,-479.6609 2739.6238,-469.13 2733.9648,-478.0869 2740.7855,-479.6609\"/>\n</g>\n<!-- 170 -->\n<g id=\"node171\" class=\"node\">\n<title>170</title>\n<polygon fill=\"none\" stroke=\"#000000\" points=\"2684,-357.5 2585,-357.5 2585,-304.5 2684,-304.5 2684,-357.5\"/>\n<text text-anchor=\"middle\" x=\"2634.5\" y=\"-342.3\" font-family=\"Helvetica,sans-Serif\" font-size=\"14.00\" fill=\"#000000\">gini = 0.0</text>\n<text text-anchor=\"middle\" x=\"2634.5\" y=\"-327.3\" font-family=\"Helvetica,sans-Serif\" font-size=\"14.00\" fill=\"#000000\">samples = 1</text>\n<text text-anchor=\"middle\" x=\"2634.5\" y=\"-312.3\" font-family=\"Helvetica,sans-Serif\" font-size=\"14.00\" fill=\"#000000\">value = [0, 1]</text>\n</g>\n<!-- 169&#45;&gt;170 -->\n<g id=\"edge170\" class=\"edge\">\n<title>169&#45;&gt;170</title>\n<path fill=\"none\" stroke=\"#000000\" d=\"M2710.4996,-400.9465C2697.8134,-389.2707 2683.6322,-376.219 2670.987,-364.5809\"/>\n<polygon fill=\"#000000\" stroke=\"#000000\" points=\"2673.0673,-361.7389 2663.3391,-357.5422 2668.3269,-366.8895 2673.0673,-361.7389\"/>\n</g>\n<!-- 171 -->\n<g id=\"node172\" class=\"node\">\n<title>171</title>\n<polygon fill=\"none\" stroke=\"#000000\" points=\"2821,-365 2702,-365 2702,-297 2821,-297 2821,-365\"/>\n<text text-anchor=\"middle\" x=\"2761.5\" y=\"-349.8\" font-family=\"Helvetica,sans-Serif\" font-size=\"14.00\" fill=\"#000000\">X[4] &lt;= 121.731</text>\n<text text-anchor=\"middle\" x=\"2761.5\" y=\"-334.8\" font-family=\"Helvetica,sans-Serif\" font-size=\"14.00\" fill=\"#000000\">gini = 0.5</text>\n<text text-anchor=\"middle\" x=\"2761.5\" y=\"-319.8\" font-family=\"Helvetica,sans-Serif\" font-size=\"14.00\" fill=\"#000000\">samples = 2</text>\n<text text-anchor=\"middle\" x=\"2761.5\" y=\"-304.8\" font-family=\"Helvetica,sans-Serif\" font-size=\"14.00\" fill=\"#000000\">value = [1, 1]</text>\n</g>\n<!-- 169&#45;&gt;171 -->\n<g id=\"edge171\" class=\"edge\">\n<title>169&#45;&gt;171</title>\n<path fill=\"none\" stroke=\"#000000\" d=\"M2752.0841,-400.9465C2753.1961,-392.6863 2754.4007,-383.7374 2755.5651,-375.0875\"/>\n<polygon fill=\"#000000\" stroke=\"#000000\" points=\"2759.0401,-375.5076 2756.9056,-365.13 2752.1027,-374.5736 2759.0401,-375.5076\"/>\n</g>\n<!-- 172 -->\n<g id=\"node173\" class=\"node\">\n<title>172</title>\n<polygon fill=\"none\" stroke=\"#000000\" points=\"2750,-253.5 2651,-253.5 2651,-200.5 2750,-200.5 2750,-253.5\"/>\n<text text-anchor=\"middle\" x=\"2700.5\" y=\"-238.3\" font-family=\"Helvetica,sans-Serif\" font-size=\"14.00\" fill=\"#000000\">gini = 0.0</text>\n<text text-anchor=\"middle\" x=\"2700.5\" y=\"-223.3\" font-family=\"Helvetica,sans-Serif\" font-size=\"14.00\" fill=\"#000000\">samples = 1</text>\n<text text-anchor=\"middle\" x=\"2700.5\" y=\"-208.3\" font-family=\"Helvetica,sans-Serif\" font-size=\"14.00\" fill=\"#000000\">value = [0, 1]</text>\n</g>\n<!-- 171&#45;&gt;172 -->\n<g id=\"edge172\" class=\"edge\">\n<title>171&#45;&gt;172</title>\n<path fill=\"none\" stroke=\"#000000\" d=\"M2741.5263,-296.9465C2735.001,-285.8215 2727.7431,-273.4473 2721.1678,-262.237\"/>\n<polygon fill=\"#000000\" stroke=\"#000000\" points=\"2724.1464,-260.3971 2716.068,-253.5422 2718.1084,-263.9387 2724.1464,-260.3971\"/>\n</g>\n<!-- 173 -->\n<g id=\"node174\" class=\"node\">\n<title>173</title>\n<polygon fill=\"none\" stroke=\"#000000\" points=\"2867,-253.5 2768,-253.5 2768,-200.5 2867,-200.5 2867,-253.5\"/>\n<text text-anchor=\"middle\" x=\"2817.5\" y=\"-238.3\" font-family=\"Helvetica,sans-Serif\" font-size=\"14.00\" fill=\"#000000\">gini = 0.0</text>\n<text text-anchor=\"middle\" x=\"2817.5\" y=\"-223.3\" font-family=\"Helvetica,sans-Serif\" font-size=\"14.00\" fill=\"#000000\">samples = 1</text>\n<text text-anchor=\"middle\" x=\"2817.5\" y=\"-208.3\" font-family=\"Helvetica,sans-Serif\" font-size=\"14.00\" fill=\"#000000\">value = [1, 0]</text>\n</g>\n<!-- 171&#45;&gt;173 -->\n<g id=\"edge173\" class=\"edge\">\n<title>171&#45;&gt;173</title>\n<path fill=\"none\" stroke=\"#000000\" d=\"M2779.8365,-296.9465C2785.7676,-285.9316 2792.3581,-273.6922 2798.3468,-262.5703\"/>\n<polygon fill=\"#000000\" stroke=\"#000000\" points=\"2801.5487,-264.0063 2803.2081,-253.5422 2795.3854,-260.6875 2801.5487,-264.0063\"/>\n</g>\n<!-- 176 -->\n<g id=\"node177\" class=\"node\">\n<title>176</title>\n<polygon fill=\"none\" stroke=\"#000000\" points=\"2814,-877.5 2715,-877.5 2715,-824.5 2814,-824.5 2814,-877.5\"/>\n<text text-anchor=\"middle\" x=\"2764.5\" y=\"-862.3\" font-family=\"Helvetica,sans-Serif\" font-size=\"14.00\" fill=\"#000000\">gini = 0.0</text>\n<text text-anchor=\"middle\" x=\"2764.5\" y=\"-847.3\" font-family=\"Helvetica,sans-Serif\" font-size=\"14.00\" fill=\"#000000\">samples = 3</text>\n<text text-anchor=\"middle\" x=\"2764.5\" y=\"-832.3\" font-family=\"Helvetica,sans-Serif\" font-size=\"14.00\" fill=\"#000000\">value = [0, 3]</text>\n</g>\n<!-- 175&#45;&gt;176 -->\n<g id=\"edge176\" class=\"edge\">\n<title>175&#45;&gt;176</title>\n<path fill=\"none\" stroke=\"#000000\" d=\"M2770.5531,-920.9465C2769.6284,-910.2621 2768.6041,-898.4254 2767.6651,-887.5742\"/>\n<polygon fill=\"#000000\" stroke=\"#000000\" points=\"2771.1461,-887.2031 2766.7969,-877.5422 2764.1722,-887.8067 2771.1461,-887.2031\"/>\n</g>\n<!-- 177 -->\n<g id=\"node178\" class=\"node\">\n<title>177</title>\n<polygon fill=\"none\" stroke=\"#000000\" points=\"2931,-877.5 2832,-877.5 2832,-824.5 2931,-824.5 2931,-877.5\"/>\n<text text-anchor=\"middle\" x=\"2881.5\" y=\"-862.3\" font-family=\"Helvetica,sans-Serif\" font-size=\"14.00\" fill=\"#000000\">gini = 0.0</text>\n<text text-anchor=\"middle\" x=\"2881.5\" y=\"-847.3\" font-family=\"Helvetica,sans-Serif\" font-size=\"14.00\" fill=\"#000000\">samples = 1</text>\n<text text-anchor=\"middle\" x=\"2881.5\" y=\"-832.3\" font-family=\"Helvetica,sans-Serif\" font-size=\"14.00\" fill=\"#000000\">value = [1, 0]</text>\n</g>\n<!-- 175&#45;&gt;177 -->\n<g id=\"edge177\" class=\"edge\">\n<title>175&#45;&gt;177</title>\n<path fill=\"none\" stroke=\"#000000\" d=\"M2808.8632,-920.9465C2820.9881,-909.2707 2834.5418,-896.219 2846.6275,-884.5809\"/>\n<polygon fill=\"#000000\" stroke=\"#000000\" points=\"2849.1615,-886.9997 2853.937,-877.5422 2844.306,-881.9575 2849.1615,-886.9997\"/>\n</g>\n<!-- 179 -->\n<g id=\"node180\" class=\"node\">\n<title>179</title>\n<polygon fill=\"none\" stroke=\"#000000\" points=\"2943,-981.5 2844,-981.5 2844,-928.5 2943,-928.5 2943,-981.5\"/>\n<text text-anchor=\"middle\" x=\"2893.5\" y=\"-966.3\" font-family=\"Helvetica,sans-Serif\" font-size=\"14.00\" fill=\"#000000\">gini = 0.0</text>\n<text text-anchor=\"middle\" x=\"2893.5\" y=\"-951.3\" font-family=\"Helvetica,sans-Serif\" font-size=\"14.00\" fill=\"#000000\">samples = 6</text>\n<text text-anchor=\"middle\" x=\"2893.5\" y=\"-936.3\" font-family=\"Helvetica,sans-Serif\" font-size=\"14.00\" fill=\"#000000\">value = [6, 0]</text>\n</g>\n<!-- 178&#45;&gt;179 -->\n<g id=\"edge179\" class=\"edge\">\n<title>178&#45;&gt;179</title>\n<path fill=\"none\" stroke=\"#000000\" d=\"M2957.3934,-1024.9465C2946.9293,-1013.491 2935.2553,-1000.711 2924.778,-989.2412\"/>\n<polygon fill=\"#000000\" stroke=\"#000000\" points=\"2927.0738,-986.565 2917.7452,-981.5422 2921.9055,-991.2861 2927.0738,-986.565\"/>\n</g>\n<!-- 180 -->\n<g id=\"node181\" class=\"node\">\n<title>180</title>\n<polygon fill=\"none\" stroke=\"#000000\" points=\"3060,-981.5 2961,-981.5 2961,-928.5 3060,-928.5 3060,-981.5\"/>\n<text text-anchor=\"middle\" x=\"3010.5\" y=\"-966.3\" font-family=\"Helvetica,sans-Serif\" font-size=\"14.00\" fill=\"#000000\">gini = 0.0</text>\n<text text-anchor=\"middle\" x=\"3010.5\" y=\"-951.3\" font-family=\"Helvetica,sans-Serif\" font-size=\"14.00\" fill=\"#000000\">samples = 1</text>\n<text text-anchor=\"middle\" x=\"3010.5\" y=\"-936.3\" font-family=\"Helvetica,sans-Serif\" font-size=\"14.00\" fill=\"#000000\">value = [0, 1]</text>\n</g>\n<!-- 178&#45;&gt;180 -->\n<g id=\"edge180\" class=\"edge\">\n<title>178&#45;&gt;180</title>\n<path fill=\"none\" stroke=\"#000000\" d=\"M2995.7036,-1024.9465C2997.9638,-1014.2621 3000.4677,-1002.4254 3002.7631,-991.5742\"/>\n<polygon fill=\"#000000\" stroke=\"#000000\" points=\"3006.2399,-992.05 3004.8853,-981.5422 2999.3914,-990.6013 3006.2399,-992.05\"/>\n</g>\n<!-- 183 -->\n<g id=\"node184\" class=\"node\">\n<title>183</title>\n<polygon fill=\"none\" stroke=\"#000000\" points=\"3322.5,-1717 3218.5,-1717 3218.5,-1649 3322.5,-1649 3322.5,-1717\"/>\n<text text-anchor=\"middle\" x=\"3270.5\" y=\"-1701.8\" font-family=\"Helvetica,sans-Serif\" font-size=\"14.00\" fill=\"#000000\">X[3] &lt;= 3.5</text>\n<text text-anchor=\"middle\" x=\"3270.5\" y=\"-1686.8\" font-family=\"Helvetica,sans-Serif\" font-size=\"14.00\" fill=\"#000000\">gini = 0.444</text>\n<text text-anchor=\"middle\" x=\"3270.5\" y=\"-1671.8\" font-family=\"Helvetica,sans-Serif\" font-size=\"14.00\" fill=\"#000000\">samples = 12</text>\n<text text-anchor=\"middle\" x=\"3270.5\" y=\"-1656.8\" font-family=\"Helvetica,sans-Serif\" font-size=\"14.00\" fill=\"#000000\">value = [4, 8]</text>\n</g>\n<!-- 182&#45;&gt;183 -->\n<g id=\"edge183\" class=\"edge\">\n<title>182&#45;&gt;183</title>\n<path fill=\"none\" stroke=\"#000000\" d=\"M3270.5,-1752.9465C3270.5,-1744.776 3270.5,-1735.9318 3270.5,-1727.3697\"/>\n<polygon fill=\"#000000\" stroke=\"#000000\" points=\"3274.0001,-1727.13 3270.5,-1717.13 3267.0001,-1727.13 3274.0001,-1727.13\"/>\n</g>\n<!-- 188 -->\n<g id=\"node189\" class=\"node\">\n<title>188</title>\n<polygon fill=\"none\" stroke=\"#000000\" points=\"3650.5,-1717 3526.5,-1717 3526.5,-1649 3650.5,-1649 3650.5,-1717\"/>\n<text text-anchor=\"middle\" x=\"3588.5\" y=\"-1701.8\" font-family=\"Helvetica,sans-Serif\" font-size=\"14.00\" fill=\"#000000\">X[5] &lt;= 1.0</text>\n<text text-anchor=\"middle\" x=\"3588.5\" y=\"-1686.8\" font-family=\"Helvetica,sans-Serif\" font-size=\"14.00\" fill=\"#000000\">gini = 0.199</text>\n<text text-anchor=\"middle\" x=\"3588.5\" y=\"-1671.8\" font-family=\"Helvetica,sans-Serif\" font-size=\"14.00\" fill=\"#000000\">samples = 348</text>\n<text text-anchor=\"middle\" x=\"3588.5\" y=\"-1656.8\" font-family=\"Helvetica,sans-Serif\" font-size=\"14.00\" fill=\"#000000\">value = [309, 39]</text>\n</g>\n<!-- 182&#45;&gt;188 -->\n<g id=\"edge188\" class=\"edge\">\n<title>182&#45;&gt;188</title>\n<path fill=\"none\" stroke=\"#000000\" d=\"M3332.5685,-1766.7009C3385.3419,-1749.4416 3461.153,-1724.6481 3516.5658,-1706.5257\"/>\n<polygon fill=\"#000000\" stroke=\"#000000\" points=\"3517.9003,-1709.7717 3526.317,-1703.3366 3515.7244,-1703.1185 3517.9003,-1709.7717\"/>\n</g>\n<!-- 184 -->\n<g id=\"node185\" class=\"node\">\n<title>184</title>\n<polygon fill=\"none\" stroke=\"#000000\" points=\"3261,-1605.5 3162,-1605.5 3162,-1552.5 3261,-1552.5 3261,-1605.5\"/>\n<text text-anchor=\"middle\" x=\"3211.5\" y=\"-1590.3\" font-family=\"Helvetica,sans-Serif\" font-size=\"14.00\" fill=\"#000000\">gini = 0.0</text>\n<text text-anchor=\"middle\" x=\"3211.5\" y=\"-1575.3\" font-family=\"Helvetica,sans-Serif\" font-size=\"14.00\" fill=\"#000000\">samples = 7</text>\n<text text-anchor=\"middle\" x=\"3211.5\" y=\"-1560.3\" font-family=\"Helvetica,sans-Serif\" font-size=\"14.00\" fill=\"#000000\">value = [0, 7]</text>\n</g>\n<!-- 183&#45;&gt;184 -->\n<g id=\"edge184\" class=\"edge\">\n<title>183&#45;&gt;184</title>\n<path fill=\"none\" stroke=\"#000000\" d=\"M3251.1812,-1648.9465C3244.9324,-1637.9316 3237.9888,-1625.6922 3231.6793,-1614.5703\"/>\n<polygon fill=\"#000000\" stroke=\"#000000\" points=\"3234.5362,-1612.513 3226.5576,-1605.5422 3228.4477,-1615.967 3234.5362,-1612.513\"/>\n</g>\n<!-- 185 -->\n<g id=\"node186\" class=\"node\">\n<title>185</title>\n<polygon fill=\"none\" stroke=\"#000000\" points=\"3378,-1613 3279,-1613 3279,-1545 3378,-1545 3378,-1613\"/>\n<text text-anchor=\"middle\" x=\"3328.5\" y=\"-1597.8\" font-family=\"Helvetica,sans-Serif\" font-size=\"14.00\" fill=\"#000000\">X[1] &lt;= 2.5</text>\n<text text-anchor=\"middle\" x=\"3328.5\" y=\"-1582.8\" font-family=\"Helvetica,sans-Serif\" font-size=\"14.00\" fill=\"#000000\">gini = 0.32</text>\n<text text-anchor=\"middle\" x=\"3328.5\" y=\"-1567.8\" font-family=\"Helvetica,sans-Serif\" font-size=\"14.00\" fill=\"#000000\">samples = 5</text>\n<text text-anchor=\"middle\" x=\"3328.5\" y=\"-1552.8\" font-family=\"Helvetica,sans-Serif\" font-size=\"14.00\" fill=\"#000000\">value = [4, 1]</text>\n</g>\n<!-- 183&#45;&gt;185 -->\n<g id=\"edge185\" class=\"edge\">\n<title>183&#45;&gt;185</title>\n<path fill=\"none\" stroke=\"#000000\" d=\"M3289.4914,-1648.9465C3294.2983,-1640.3271 3299.5235,-1630.9579 3304.5409,-1621.9611\"/>\n<polygon fill=\"#000000\" stroke=\"#000000\" points=\"3307.652,-1623.5684 3309.466,-1613.13 3301.5385,-1620.1589 3307.652,-1623.5684\"/>\n</g>\n<!-- 186 -->\n<g id=\"node187\" class=\"node\">\n<title>186</title>\n<polygon fill=\"none\" stroke=\"#000000\" points=\"3319,-1501.5 3220,-1501.5 3220,-1448.5 3319,-1448.5 3319,-1501.5\"/>\n<text text-anchor=\"middle\" x=\"3269.5\" y=\"-1486.3\" font-family=\"Helvetica,sans-Serif\" font-size=\"14.00\" fill=\"#000000\">gini = 0.0</text>\n<text text-anchor=\"middle\" x=\"3269.5\" y=\"-1471.3\" font-family=\"Helvetica,sans-Serif\" font-size=\"14.00\" fill=\"#000000\">samples = 4</text>\n<text text-anchor=\"middle\" x=\"3269.5\" y=\"-1456.3\" font-family=\"Helvetica,sans-Serif\" font-size=\"14.00\" fill=\"#000000\">value = [4, 0]</text>\n</g>\n<!-- 185&#45;&gt;186 -->\n<g id=\"edge186\" class=\"edge\">\n<title>185&#45;&gt;186</title>\n<path fill=\"none\" stroke=\"#000000\" d=\"M3309.1812,-1544.9465C3302.9324,-1533.9316 3295.9888,-1521.6922 3289.6793,-1510.5703\"/>\n<polygon fill=\"#000000\" stroke=\"#000000\" points=\"3292.5362,-1508.513 3284.5576,-1501.5422 3286.4477,-1511.967 3292.5362,-1508.513\"/>\n</g>\n<!-- 187 -->\n<g id=\"node188\" class=\"node\">\n<title>187</title>\n<polygon fill=\"none\" stroke=\"#000000\" points=\"3436,-1501.5 3337,-1501.5 3337,-1448.5 3436,-1448.5 3436,-1501.5\"/>\n<text text-anchor=\"middle\" x=\"3386.5\" y=\"-1486.3\" font-family=\"Helvetica,sans-Serif\" font-size=\"14.00\" fill=\"#000000\">gini = 0.0</text>\n<text text-anchor=\"middle\" x=\"3386.5\" y=\"-1471.3\" font-family=\"Helvetica,sans-Serif\" font-size=\"14.00\" fill=\"#000000\">samples = 1</text>\n<text text-anchor=\"middle\" x=\"3386.5\" y=\"-1456.3\" font-family=\"Helvetica,sans-Serif\" font-size=\"14.00\" fill=\"#000000\">value = [0, 1]</text>\n</g>\n<!-- 185&#45;&gt;187 -->\n<g id=\"edge187\" class=\"edge\">\n<title>185&#45;&gt;187</title>\n<path fill=\"none\" stroke=\"#000000\" d=\"M3347.4914,-1544.9465C3353.6343,-1533.9316 3360.4601,-1521.6922 3366.6627,-1510.5703\"/>\n<polygon fill=\"#000000\" stroke=\"#000000\" points=\"3369.8837,-1511.9806 3371.6976,-1501.5422 3363.7701,-1508.5711 3369.8837,-1511.9806\"/>\n</g>\n<!-- 189 -->\n<g id=\"node190\" class=\"node\">\n<title>189</title>\n<polygon fill=\"none\" stroke=\"#000000\" points=\"3644,-1613 3533,-1613 3533,-1545 3644,-1545 3644,-1613\"/>\n<text text-anchor=\"middle\" x=\"3588.5\" y=\"-1597.8\" font-family=\"Helvetica,sans-Serif\" font-size=\"14.00\" fill=\"#000000\">X[4] &lt;= 22.996</text>\n<text text-anchor=\"middle\" x=\"3588.5\" y=\"-1582.8\" font-family=\"Helvetica,sans-Serif\" font-size=\"14.00\" fill=\"#000000\">gini = 0.43</text>\n<text text-anchor=\"middle\" x=\"3588.5\" y=\"-1567.8\" font-family=\"Helvetica,sans-Serif\" font-size=\"14.00\" fill=\"#000000\">samples = 16</text>\n<text text-anchor=\"middle\" x=\"3588.5\" y=\"-1552.8\" font-family=\"Helvetica,sans-Serif\" font-size=\"14.00\" fill=\"#000000\">value = [11, 5]</text>\n</g>\n<!-- 188&#45;&gt;189 -->\n<g id=\"edge189\" class=\"edge\">\n<title>188&#45;&gt;189</title>\n<path fill=\"none\" stroke=\"#000000\" d=\"M3588.5,-1648.9465C3588.5,-1640.776 3588.5,-1631.9318 3588.5,-1623.3697\"/>\n<polygon fill=\"#000000\" stroke=\"#000000\" points=\"3592.0001,-1623.13 3588.5,-1613.13 3585.0001,-1623.13 3592.0001,-1623.13\"/>\n</g>\n<!-- 192 -->\n<g id=\"node193\" class=\"node\">\n<title>192</title>\n<polygon fill=\"none\" stroke=\"#000000\" points=\"4291.5,-1613 4167.5,-1613 4167.5,-1545 4291.5,-1545 4291.5,-1613\"/>\n<text text-anchor=\"middle\" x=\"4229.5\" y=\"-1597.8\" font-family=\"Helvetica,sans-Serif\" font-size=\"14.00\" fill=\"#000000\">X[1] &lt;= 32.25</text>\n<text text-anchor=\"middle\" x=\"4229.5\" y=\"-1582.8\" font-family=\"Helvetica,sans-Serif\" font-size=\"14.00\" fill=\"#000000\">gini = 0.184</text>\n<text text-anchor=\"middle\" x=\"4229.5\" y=\"-1567.8\" font-family=\"Helvetica,sans-Serif\" font-size=\"14.00\" fill=\"#000000\">samples = 332</text>\n<text text-anchor=\"middle\" x=\"4229.5\" y=\"-1552.8\" font-family=\"Helvetica,sans-Serif\" font-size=\"14.00\" fill=\"#000000\">value = [298, 34]</text>\n</g>\n<!-- 188&#45;&gt;192 -->\n<g id=\"edge192\" class=\"edge\">\n<title>188&#45;&gt;192</title>\n<path fill=\"none\" stroke=\"#000000\" d=\"M3650.5442,-1672.9335C3769.8483,-1653.5769 4030.6305,-1611.2659 4157.421,-1590.6946\"/>\n<polygon fill=\"#000000\" stroke=\"#000000\" points=\"4158.1112,-1594.1284 4167.4216,-1589.072 4156.9901,-1587.2188 4158.1112,-1594.1284\"/>\n</g>\n<!-- 190 -->\n<g id=\"node191\" class=\"node\">\n<title>190</title>\n<polygon fill=\"none\" stroke=\"#000000\" points=\"3596,-1501.5 3497,-1501.5 3497,-1448.5 3596,-1448.5 3596,-1501.5\"/>\n<text text-anchor=\"middle\" x=\"3546.5\" y=\"-1486.3\" font-family=\"Helvetica,sans-Serif\" font-size=\"14.00\" fill=\"#000000\">gini = 0.0</text>\n<text text-anchor=\"middle\" x=\"3546.5\" y=\"-1471.3\" font-family=\"Helvetica,sans-Serif\" font-size=\"14.00\" fill=\"#000000\">samples = 5</text>\n<text text-anchor=\"middle\" x=\"3546.5\" y=\"-1456.3\" font-family=\"Helvetica,sans-Serif\" font-size=\"14.00\" fill=\"#000000\">value = [0, 5]</text>\n</g>\n<!-- 189&#45;&gt;190 -->\n<g id=\"edge190\" class=\"edge\">\n<title>189&#45;&gt;190</title>\n<path fill=\"none\" stroke=\"#000000\" d=\"M3574.7476,-1544.9465C3570.3438,-1534.0418 3565.4553,-1521.9368 3560.9998,-1510.9043\"/>\n<polygon fill=\"#000000\" stroke=\"#000000\" points=\"3564.209,-1509.5039 3557.219,-1501.5422 3557.7183,-1512.1252 3564.209,-1509.5039\"/>\n</g>\n<!-- 191 -->\n<g id=\"node192\" class=\"node\">\n<title>191</title>\n<polygon fill=\"none\" stroke=\"#000000\" points=\"3721,-1501.5 3614,-1501.5 3614,-1448.5 3721,-1448.5 3721,-1501.5\"/>\n<text text-anchor=\"middle\" x=\"3667.5\" y=\"-1486.3\" font-family=\"Helvetica,sans-Serif\" font-size=\"14.00\" fill=\"#000000\">gini = 0.0</text>\n<text text-anchor=\"middle\" x=\"3667.5\" y=\"-1471.3\" font-family=\"Helvetica,sans-Serif\" font-size=\"14.00\" fill=\"#000000\">samples = 11</text>\n<text text-anchor=\"middle\" x=\"3667.5\" y=\"-1456.3\" font-family=\"Helvetica,sans-Serif\" font-size=\"14.00\" fill=\"#000000\">value = [11, 0]</text>\n</g>\n<!-- 189&#45;&gt;191 -->\n<g id=\"edge191\" class=\"edge\">\n<title>189&#45;&gt;191</title>\n<path fill=\"none\" stroke=\"#000000\" d=\"M3614.3676,-1544.9465C3622.9857,-1533.6012 3632.5906,-1520.9567 3641.2383,-1509.5724\"/>\n<polygon fill=\"#000000\" stroke=\"#000000\" points=\"3644.0763,-1511.6224 3647.3382,-1501.5422 3638.5021,-1507.3882 3644.0763,-1511.6224\"/>\n</g>\n<!-- 193 -->\n<g id=\"node194\" class=\"node\">\n<title>193</title>\n<polygon fill=\"none\" stroke=\"#000000\" points=\"4291.5,-1509 4167.5,-1509 4167.5,-1441 4291.5,-1441 4291.5,-1509\"/>\n<text text-anchor=\"middle\" x=\"4229.5\" y=\"-1493.8\" font-family=\"Helvetica,sans-Serif\" font-size=\"14.00\" fill=\"#000000\">X[1] &lt;= 31.5</text>\n<text text-anchor=\"middle\" x=\"4229.5\" y=\"-1478.8\" font-family=\"Helvetica,sans-Serif\" font-size=\"14.00\" fill=\"#000000\">gini = 0.216</text>\n<text text-anchor=\"middle\" x=\"4229.5\" y=\"-1463.8\" font-family=\"Helvetica,sans-Serif\" font-size=\"14.00\" fill=\"#000000\">samples = 244</text>\n<text text-anchor=\"middle\" x=\"4229.5\" y=\"-1448.8\" font-family=\"Helvetica,sans-Serif\" font-size=\"14.00\" fill=\"#000000\">value = [214, 30]</text>\n</g>\n<!-- 192&#45;&gt;193 -->\n<g id=\"edge193\" class=\"edge\">\n<title>192&#45;&gt;193</title>\n<path fill=\"none\" stroke=\"#000000\" d=\"M4229.5,-1544.9465C4229.5,-1536.776 4229.5,-1527.9318 4229.5,-1519.3697\"/>\n<polygon fill=\"#000000\" stroke=\"#000000\" points=\"4233.0001,-1519.13 4229.5,-1509.13 4226.0001,-1519.13 4233.0001,-1519.13\"/>\n</g>\n<!-- 310 -->\n<g id=\"node311\" class=\"node\">\n<title>310</title>\n<polygon fill=\"none\" stroke=\"#000000\" points=\"4860,-1509 4753,-1509 4753,-1441 4860,-1441 4860,-1509\"/>\n<text text-anchor=\"middle\" x=\"4806.5\" y=\"-1493.8\" font-family=\"Helvetica,sans-Serif\" font-size=\"14.00\" fill=\"#000000\">X[1] &lt;= 61.5</text>\n<text text-anchor=\"middle\" x=\"4806.5\" y=\"-1478.8\" font-family=\"Helvetica,sans-Serif\" font-size=\"14.00\" fill=\"#000000\">gini = 0.087</text>\n<text text-anchor=\"middle\" x=\"4806.5\" y=\"-1463.8\" font-family=\"Helvetica,sans-Serif\" font-size=\"14.00\" fill=\"#000000\">samples = 88</text>\n<text text-anchor=\"middle\" x=\"4806.5\" y=\"-1448.8\" font-family=\"Helvetica,sans-Serif\" font-size=\"14.00\" fill=\"#000000\">value = [84, 4]</text>\n</g>\n<!-- 192&#45;&gt;310 -->\n<g id=\"edge310\" class=\"edge\">\n<title>192&#45;&gt;310</title>\n<path fill=\"none\" stroke=\"#000000\" d=\"M4291.523,-1567.8208C4401.8841,-1547.929 4631.2117,-1506.5944 4742.7797,-1486.4851\"/>\n<polygon fill=\"#000000\" stroke=\"#000000\" points=\"4743.6567,-1489.8835 4752.8772,-1484.6651 4742.4149,-1482.9945 4743.6567,-1489.8835\"/>\n</g>\n<!-- 194 -->\n<g id=\"node195\" class=\"node\">\n<title>194</title>\n<polygon fill=\"none\" stroke=\"#000000\" points=\"4225.5,-1405 4101.5,-1405 4101.5,-1337 4225.5,-1337 4225.5,-1405\"/>\n<text text-anchor=\"middle\" x=\"4163.5\" y=\"-1389.8\" font-family=\"Helvetica,sans-Serif\" font-size=\"14.00\" fill=\"#000000\">X[3] &lt;= 2.5</text>\n<text text-anchor=\"middle\" x=\"4163.5\" y=\"-1374.8\" font-family=\"Helvetica,sans-Serif\" font-size=\"14.00\" fill=\"#000000\">gini = 0.191</text>\n<text text-anchor=\"middle\" x=\"4163.5\" y=\"-1359.8\" font-family=\"Helvetica,sans-Serif\" font-size=\"14.00\" fill=\"#000000\">samples = 234</text>\n<text text-anchor=\"middle\" x=\"4163.5\" y=\"-1344.8\" font-family=\"Helvetica,sans-Serif\" font-size=\"14.00\" fill=\"#000000\">value = [209, 25]</text>\n</g>\n<!-- 193&#45;&gt;194 -->\n<g id=\"edge194\" class=\"edge\">\n<title>193&#45;&gt;194</title>\n<path fill=\"none\" stroke=\"#000000\" d=\"M4207.8891,-1440.9465C4202.3622,-1432.2373 4196.3494,-1422.7626 4190.5854,-1413.6801\"/>\n<polygon fill=\"#000000\" stroke=\"#000000\" points=\"4193.4729,-1411.6979 4185.1594,-1405.13 4187.5626,-1415.4487 4193.4729,-1411.6979\"/>\n</g>\n<!-- 297 -->\n<g id=\"node298\" class=\"node\">\n<title>297</title>\n<polygon fill=\"none\" stroke=\"#000000\" points=\"4414.5,-1405 4310.5,-1405 4310.5,-1337 4414.5,-1337 4414.5,-1405\"/>\n<text text-anchor=\"middle\" x=\"4362.5\" y=\"-1389.8\" font-family=\"Helvetica,sans-Serif\" font-size=\"14.00\" fill=\"#000000\">X[0] &lt;= 2.5</text>\n<text text-anchor=\"middle\" x=\"4362.5\" y=\"-1374.8\" font-family=\"Helvetica,sans-Serif\" font-size=\"14.00\" fill=\"#000000\">gini = 0.5</text>\n<text text-anchor=\"middle\" x=\"4362.5\" y=\"-1359.8\" font-family=\"Helvetica,sans-Serif\" font-size=\"14.00\" fill=\"#000000\">samples = 10</text>\n<text text-anchor=\"middle\" x=\"4362.5\" y=\"-1344.8\" font-family=\"Helvetica,sans-Serif\" font-size=\"14.00\" fill=\"#000000\">value = [5, 5]</text>\n</g>\n<!-- 193&#45;&gt;297 -->\n<g id=\"edge297\" class=\"edge\">\n<title>193&#45;&gt;297</title>\n<path fill=\"none\" stroke=\"#000000\" d=\"M4273.0492,-1440.9465C4285.1054,-1431.519 4298.3089,-1421.1946 4310.7816,-1411.4415\"/>\n<polygon fill=\"#000000\" stroke=\"#000000\" points=\"4313.1314,-1414.0471 4318.853,-1405.13 4308.8194,-1408.5328 4313.1314,-1414.0471\"/>\n</g>\n<!-- 195 -->\n<g id=\"node196\" class=\"node\">\n<title>195</title>\n<polygon fill=\"none\" stroke=\"#000000\" points=\"4057.5,-1301 3933.5,-1301 3933.5,-1233 4057.5,-1233 4057.5,-1301\"/>\n<text text-anchor=\"middle\" x=\"3995.5\" y=\"-1285.8\" font-family=\"Helvetica,sans-Serif\" font-size=\"14.00\" fill=\"#000000\">X[0] &lt;= 2.5</text>\n<text text-anchor=\"middle\" x=\"3995.5\" y=\"-1270.8\" font-family=\"Helvetica,sans-Serif\" font-size=\"14.00\" fill=\"#000000\">gini = 0.198</text>\n<text text-anchor=\"middle\" x=\"3995.5\" y=\"-1255.8\" font-family=\"Helvetica,sans-Serif\" font-size=\"14.00\" fill=\"#000000\">samples = 224</text>\n<text text-anchor=\"middle\" x=\"3995.5\" y=\"-1240.8\" font-family=\"Helvetica,sans-Serif\" font-size=\"14.00\" fill=\"#000000\">value = [199, 25]</text>\n</g>\n<!-- 194&#45;&gt;195 -->\n<g id=\"edge195\" class=\"edge\">\n<title>194&#45;&gt;195</title>\n<path fill=\"none\" stroke=\"#000000\" d=\"M4108.4905,-1336.9465C4092.8264,-1327.2497 4075.6293,-1316.6039 4059.4804,-1306.6069\"/>\n<polygon fill=\"#000000\" stroke=\"#000000\" points=\"4060.978,-1303.4177 4050.6331,-1301.13 4057.2935,-1309.3695 4060.978,-1303.4177\"/>\n</g>\n<!-- 296 -->\n<g id=\"node297\" class=\"node\">\n<title>296</title>\n<polygon fill=\"none\" stroke=\"#000000\" points=\"4217,-1293.5 4110,-1293.5 4110,-1240.5 4217,-1240.5 4217,-1293.5\"/>\n<text text-anchor=\"middle\" x=\"4163.5\" y=\"-1278.3\" font-family=\"Helvetica,sans-Serif\" font-size=\"14.00\" fill=\"#000000\">gini = 0.0</text>\n<text text-anchor=\"middle\" x=\"4163.5\" y=\"-1263.3\" font-family=\"Helvetica,sans-Serif\" font-size=\"14.00\" fill=\"#000000\">samples = 10</text>\n<text text-anchor=\"middle\" x=\"4163.5\" y=\"-1248.3\" font-family=\"Helvetica,sans-Serif\" font-size=\"14.00\" fill=\"#000000\">value = [10, 0]</text>\n</g>\n<!-- 194&#45;&gt;296 -->\n<g id=\"edge296\" class=\"edge\">\n<title>194&#45;&gt;296</title>\n<path fill=\"none\" stroke=\"#000000\" d=\"M4163.5,-1336.9465C4163.5,-1326.2621 4163.5,-1314.4254 4163.5,-1303.5742\"/>\n<polygon fill=\"#000000\" stroke=\"#000000\" points=\"4167.0001,-1303.5421 4163.5,-1293.5422 4160.0001,-1303.5422 4167.0001,-1303.5421\"/>\n</g>\n<!-- 196 -->\n<g id=\"node197\" class=\"node\">\n<title>196</title>\n<polygon fill=\"none\" stroke=\"#000000\" points=\"3306,-1197 3199,-1197 3199,-1129 3306,-1129 3306,-1197\"/>\n<text text-anchor=\"middle\" x=\"3252.5\" y=\"-1181.8\" font-family=\"Helvetica,sans-Serif\" font-size=\"14.00\" fill=\"#000000\">X[1] &lt;= 29.35</text>\n<text text-anchor=\"middle\" x=\"3252.5\" y=\"-1166.8\" font-family=\"Helvetica,sans-Serif\" font-size=\"14.00\" fill=\"#000000\">gini = 0.122</text>\n<text text-anchor=\"middle\" x=\"3252.5\" y=\"-1151.8\" font-family=\"Helvetica,sans-Serif\" font-size=\"14.00\" fill=\"#000000\">samples = 46</text>\n<text text-anchor=\"middle\" x=\"3252.5\" y=\"-1136.8\" font-family=\"Helvetica,sans-Serif\" font-size=\"14.00\" fill=\"#000000\">value = [43, 3]</text>\n</g>\n<!-- 195&#45;&gt;196 -->\n<g id=\"edge196\" class=\"edge\">\n<title>195&#45;&gt;196</title>\n<path fill=\"none\" stroke=\"#000000\" d=\"M3933.4302,-1258.3119C3794.094,-1238.8086 3457.6263,-1191.7122 3316.4945,-1171.9575\"/>\n<polygon fill=\"#000000\" stroke=\"#000000\" points=\"3316.6609,-1168.4468 3306.2722,-1170.5267 3315.6904,-1175.3792 3316.6609,-1168.4468\"/>\n</g>\n<!-- 207 -->\n<g id=\"node208\" class=\"node\">\n<title>207</title>\n<polygon fill=\"none\" stroke=\"#000000\" points=\"4057.5,-1197 3933.5,-1197 3933.5,-1129 4057.5,-1129 4057.5,-1197\"/>\n<text text-anchor=\"middle\" x=\"3995.5\" y=\"-1181.8\" font-family=\"Helvetica,sans-Serif\" font-size=\"14.00\" fill=\"#000000\">X[4] &lt;= 15.621</text>\n<text text-anchor=\"middle\" x=\"3995.5\" y=\"-1166.8\" font-family=\"Helvetica,sans-Serif\" font-size=\"14.00\" fill=\"#000000\">gini = 0.217</text>\n<text text-anchor=\"middle\" x=\"3995.5\" y=\"-1151.8\" font-family=\"Helvetica,sans-Serif\" font-size=\"14.00\" fill=\"#000000\">samples = 178</text>\n<text text-anchor=\"middle\" x=\"3995.5\" y=\"-1136.8\" font-family=\"Helvetica,sans-Serif\" font-size=\"14.00\" fill=\"#000000\">value = [156, 22]</text>\n</g>\n<!-- 195&#45;&gt;207 -->\n<g id=\"edge207\" class=\"edge\">\n<title>195&#45;&gt;207</title>\n<path fill=\"none\" stroke=\"#000000\" d=\"M3995.5,-1232.9465C3995.5,-1224.776 3995.5,-1215.9318 3995.5,-1207.3697\"/>\n<polygon fill=\"#000000\" stroke=\"#000000\" points=\"3999.0001,-1207.13 3995.5,-1197.13 3992.0001,-1207.13 3999.0001,-1207.13\"/>\n</g>\n<!-- 197 -->\n<g id=\"node198\" class=\"node\">\n<title>197</title>\n<polygon fill=\"none\" stroke=\"#000000\" points=\"3181,-1085.5 3074,-1085.5 3074,-1032.5 3181,-1032.5 3181,-1085.5\"/>\n<text text-anchor=\"middle\" x=\"3127.5\" y=\"-1070.3\" font-family=\"Helvetica,sans-Serif\" font-size=\"14.00\" fill=\"#000000\">gini = 0.0</text>\n<text text-anchor=\"middle\" x=\"3127.5\" y=\"-1055.3\" font-family=\"Helvetica,sans-Serif\" font-size=\"14.00\" fill=\"#000000\">samples = 30</text>\n<text text-anchor=\"middle\" x=\"3127.5\" y=\"-1040.3\" font-family=\"Helvetica,sans-Serif\" font-size=\"14.00\" fill=\"#000000\">value = [30, 0]</text>\n</g>\n<!-- 196&#45;&gt;197 -->\n<g id=\"edge197\" class=\"edge\">\n<title>196&#45;&gt;197</title>\n<path fill=\"none\" stroke=\"#000000\" d=\"M3211.5703,-1128.9465C3197.4045,-1117.1606 3181.5537,-1103.9726 3167.4662,-1092.2519\"/>\n<polygon fill=\"#000000\" stroke=\"#000000\" points=\"3169.3275,-1089.2474 3159.4016,-1085.5422 3164.8504,-1094.6285 3169.3275,-1089.2474\"/>\n</g>\n<!-- 198 -->\n<g id=\"node199\" class=\"node\">\n<title>198</title>\n<polygon fill=\"none\" stroke=\"#000000\" points=\"3306,-1093 3199,-1093 3199,-1025 3306,-1025 3306,-1093\"/>\n<text text-anchor=\"middle\" x=\"3252.5\" y=\"-1077.8\" font-family=\"Helvetica,sans-Serif\" font-size=\"14.00\" fill=\"#000000\">X[4] &lt;= 11.75</text>\n<text text-anchor=\"middle\" x=\"3252.5\" y=\"-1062.8\" font-family=\"Helvetica,sans-Serif\" font-size=\"14.00\" fill=\"#000000\">gini = 0.305</text>\n<text text-anchor=\"middle\" x=\"3252.5\" y=\"-1047.8\" font-family=\"Helvetica,sans-Serif\" font-size=\"14.00\" fill=\"#000000\">samples = 16</text>\n<text text-anchor=\"middle\" x=\"3252.5\" y=\"-1032.8\" font-family=\"Helvetica,sans-Serif\" font-size=\"14.00\" fill=\"#000000\">value = [13, 3]</text>\n</g>\n<!-- 196&#45;&gt;198 -->\n<g id=\"edge198\" class=\"edge\">\n<title>196&#45;&gt;198</title>\n<path fill=\"none\" stroke=\"#000000\" d=\"M3252.5,-1128.9465C3252.5,-1120.776 3252.5,-1111.9318 3252.5,-1103.3697\"/>\n<polygon fill=\"#000000\" stroke=\"#000000\" points=\"3256.0001,-1103.13 3252.5,-1093.13 3249.0001,-1103.13 3256.0001,-1103.13\"/>\n</g>\n<!-- 199 -->\n<g id=\"node200\" class=\"node\">\n<title>199</title>\n<polygon fill=\"none\" stroke=\"#000000\" points=\"3179,-981.5 3080,-981.5 3080,-928.5 3179,-928.5 3179,-981.5\"/>\n<text text-anchor=\"middle\" x=\"3129.5\" y=\"-966.3\" font-family=\"Helvetica,sans-Serif\" font-size=\"14.00\" fill=\"#000000\">gini = 0.0</text>\n<text text-anchor=\"middle\" x=\"3129.5\" y=\"-951.3\" font-family=\"Helvetica,sans-Serif\" font-size=\"14.00\" fill=\"#000000\">samples = 7</text>\n<text text-anchor=\"middle\" x=\"3129.5\" y=\"-936.3\" font-family=\"Helvetica,sans-Serif\" font-size=\"14.00\" fill=\"#000000\">value = [7, 0]</text>\n</g>\n<!-- 198&#45;&gt;199 -->\n<g id=\"edge199\" class=\"edge\">\n<title>198&#45;&gt;199</title>\n<path fill=\"none\" stroke=\"#000000\" d=\"M3212.2252,-1024.9465C3198.2861,-1013.1606 3182.6888,-999.9726 3168.8268,-988.2519\"/>\n<polygon fill=\"#000000\" stroke=\"#000000\" points=\"3170.7873,-985.3262 3160.8912,-981.5422 3166.2676,-990.6715 3170.7873,-985.3262\"/>\n</g>\n<!-- 200 -->\n<g id=\"node201\" class=\"node\">\n<title>200</title>\n<polygon fill=\"none\" stroke=\"#000000\" points=\"3308,-989 3197,-989 3197,-921 3308,-921 3308,-989\"/>\n<text text-anchor=\"middle\" x=\"3252.5\" y=\"-973.8\" font-family=\"Helvetica,sans-Serif\" font-size=\"14.00\" fill=\"#000000\">X[4] &lt;= 14.456</text>\n<text text-anchor=\"middle\" x=\"3252.5\" y=\"-958.8\" font-family=\"Helvetica,sans-Serif\" font-size=\"14.00\" fill=\"#000000\">gini = 0.444</text>\n<text text-anchor=\"middle\" x=\"3252.5\" y=\"-943.8\" font-family=\"Helvetica,sans-Serif\" font-size=\"14.00\" fill=\"#000000\">samples = 9</text>\n<text text-anchor=\"middle\" x=\"3252.5\" y=\"-928.8\" font-family=\"Helvetica,sans-Serif\" font-size=\"14.00\" fill=\"#000000\">value = [6, 3]</text>\n</g>\n<!-- 198&#45;&gt;200 -->\n<g id=\"edge200\" class=\"edge\">\n<title>198&#45;&gt;200</title>\n<path fill=\"none\" stroke=\"#000000\" d=\"M3252.5,-1024.9465C3252.5,-1016.776 3252.5,-1007.9318 3252.5,-999.3697\"/>\n<polygon fill=\"#000000\" stroke=\"#000000\" points=\"3256.0001,-999.13 3252.5,-989.13 3249.0001,-999.13 3256.0001,-999.13\"/>\n</g>\n<!-- 201 -->\n<g id=\"node202\" class=\"node\">\n<title>201</title>\n<polygon fill=\"none\" stroke=\"#000000\" points=\"3052,-885 2949,-885 2949,-817 3052,-817 3052,-885\"/>\n<text text-anchor=\"middle\" x=\"3000.5\" y=\"-869.8\" font-family=\"Helvetica,sans-Serif\" font-size=\"14.00\" fill=\"#000000\">X[1] &lt;= 29.85</text>\n<text text-anchor=\"middle\" x=\"3000.5\" y=\"-854.8\" font-family=\"Helvetica,sans-Serif\" font-size=\"14.00\" fill=\"#000000\">gini = 0.5</text>\n<text text-anchor=\"middle\" x=\"3000.5\" y=\"-839.8\" font-family=\"Helvetica,sans-Serif\" font-size=\"14.00\" fill=\"#000000\">samples = 6</text>\n<text text-anchor=\"middle\" x=\"3000.5\" y=\"-824.8\" font-family=\"Helvetica,sans-Serif\" font-size=\"14.00\" fill=\"#000000\">value = [3, 3]</text>\n</g>\n<!-- 200&#45;&gt;201 -->\n<g id=\"edge201\" class=\"edge\">\n<title>200&#45;&gt;201</title>\n<path fill=\"none\" stroke=\"#000000\" d=\"M3196.6964,-925.2509C3193.603,-923.7771 3190.5233,-922.3504 3187.5,-921 3146.3869,-902.637 3098.8521,-884.8872 3061.9967,-871.8558\"/>\n<polygon fill=\"#000000\" stroke=\"#000000\" points=\"3062.9792,-868.4913 3052.3844,-868.4782 3060.6586,-875.0955 3062.9792,-868.4913\"/>\n</g>\n<!-- 206 -->\n<g id=\"node207\" class=\"node\">\n<title>206</title>\n<polygon fill=\"none\" stroke=\"#000000\" points=\"3302,-877.5 3203,-877.5 3203,-824.5 3302,-824.5 3302,-877.5\"/>\n<text text-anchor=\"middle\" x=\"3252.5\" y=\"-862.3\" font-family=\"Helvetica,sans-Serif\" font-size=\"14.00\" fill=\"#000000\">gini = 0.0</text>\n<text text-anchor=\"middle\" x=\"3252.5\" y=\"-847.3\" font-family=\"Helvetica,sans-Serif\" font-size=\"14.00\" fill=\"#000000\">samples = 3</text>\n<text text-anchor=\"middle\" x=\"3252.5\" y=\"-832.3\" font-family=\"Helvetica,sans-Serif\" font-size=\"14.00\" fill=\"#000000\">value = [3, 0]</text>\n</g>\n<!-- 200&#45;&gt;206 -->\n<g id=\"edge206\" class=\"edge\">\n<title>200&#45;&gt;206</title>\n<path fill=\"none\" stroke=\"#000000\" d=\"M3252.5,-920.9465C3252.5,-910.2621 3252.5,-898.4254 3252.5,-887.5742\"/>\n<polygon fill=\"#000000\" stroke=\"#000000\" points=\"3256.0001,-887.5421 3252.5,-877.5422 3249.0001,-887.5422 3256.0001,-887.5421\"/>\n</g>\n<!-- 202 -->\n<g id=\"node203\" class=\"node\">\n<title>202</title>\n<polygon fill=\"none\" stroke=\"#000000\" points=\"2908,-773.5 2809,-773.5 2809,-720.5 2908,-720.5 2908,-773.5\"/>\n<text text-anchor=\"middle\" x=\"2858.5\" y=\"-758.3\" font-family=\"Helvetica,sans-Serif\" font-size=\"14.00\" fill=\"#000000\">gini = 0.0</text>\n<text text-anchor=\"middle\" x=\"2858.5\" y=\"-743.3\" font-family=\"Helvetica,sans-Serif\" font-size=\"14.00\" fill=\"#000000\">samples = 2</text>\n<text text-anchor=\"middle\" x=\"2858.5\" y=\"-728.3\" font-family=\"Helvetica,sans-Serif\" font-size=\"14.00\" fill=\"#000000\">value = [0, 2]</text>\n</g>\n<!-- 201&#45;&gt;202 -->\n<g id=\"edge202\" class=\"edge\">\n<title>201&#45;&gt;202</title>\n<path fill=\"none\" stroke=\"#000000\" d=\"M2954.0039,-816.9465C2937.6107,-804.9403 2919.2311,-791.4791 2903.0064,-779.5962\"/>\n<polygon fill=\"#000000\" stroke=\"#000000\" points=\"2904.876,-776.6272 2894.7403,-773.5422 2900.7399,-782.2746 2904.876,-776.6272\"/>\n</g>\n<!-- 203 -->\n<g id=\"node204\" class=\"node\">\n<title>203</title>\n<polygon fill=\"none\" stroke=\"#000000\" points=\"3025,-781 2926,-781 2926,-713 3025,-713 3025,-781\"/>\n<text text-anchor=\"middle\" x=\"2975.5\" y=\"-765.8\" font-family=\"Helvetica,sans-Serif\" font-size=\"14.00\" fill=\"#000000\">X[1] &lt;= 30.5</text>\n<text text-anchor=\"middle\" x=\"2975.5\" y=\"-750.8\" font-family=\"Helvetica,sans-Serif\" font-size=\"14.00\" fill=\"#000000\">gini = 0.375</text>\n<text text-anchor=\"middle\" x=\"2975.5\" y=\"-735.8\" font-family=\"Helvetica,sans-Serif\" font-size=\"14.00\" fill=\"#000000\">samples = 4</text>\n<text text-anchor=\"middle\" x=\"2975.5\" y=\"-720.8\" font-family=\"Helvetica,sans-Serif\" font-size=\"14.00\" fill=\"#000000\">value = [3, 1]</text>\n</g>\n<!-- 201&#45;&gt;203 -->\n<g id=\"edge203\" class=\"edge\">\n<title>201&#45;&gt;203</title>\n<path fill=\"none\" stroke=\"#000000\" d=\"M2992.3141,-816.9465C2990.3284,-808.6863 2988.1772,-799.7374 2986.098,-791.0875\"/>\n<polygon fill=\"#000000\" stroke=\"#000000\" points=\"2989.4447,-790.035 2983.7043,-781.13 2982.6386,-791.6711 2989.4447,-790.035\"/>\n</g>\n<!-- 204 -->\n<g id=\"node205\" class=\"node\">\n<title>204</title>\n<polygon fill=\"none\" stroke=\"#000000\" points=\"2895,-669.5 2796,-669.5 2796,-616.5 2895,-616.5 2895,-669.5\"/>\n<text text-anchor=\"middle\" x=\"2845.5\" y=\"-654.3\" font-family=\"Helvetica,sans-Serif\" font-size=\"14.00\" fill=\"#000000\">gini = 0.0</text>\n<text text-anchor=\"middle\" x=\"2845.5\" y=\"-639.3\" font-family=\"Helvetica,sans-Serif\" font-size=\"14.00\" fill=\"#000000\">samples = 3</text>\n<text text-anchor=\"middle\" x=\"2845.5\" y=\"-624.3\" font-family=\"Helvetica,sans-Serif\" font-size=\"14.00\" fill=\"#000000\">value = [3, 0]</text>\n</g>\n<!-- 203&#45;&gt;204 -->\n<g id=\"edge204\" class=\"edge\">\n<title>203&#45;&gt;204</title>\n<path fill=\"none\" stroke=\"#000000\" d=\"M2932.9331,-712.9465C2918.063,-701.0504 2901.4075,-687.726 2886.6546,-675.9237\"/>\n<polygon fill=\"#000000\" stroke=\"#000000\" points=\"2888.6729,-673.0561 2878.6777,-669.5422 2884.3,-678.5222 2888.6729,-673.0561\"/>\n</g>\n<!-- 205 -->\n<g id=\"node206\" class=\"node\">\n<title>205</title>\n<polygon fill=\"none\" stroke=\"#000000\" points=\"3012,-669.5 2913,-669.5 2913,-616.5 3012,-616.5 3012,-669.5\"/>\n<text text-anchor=\"middle\" x=\"2962.5\" y=\"-654.3\" font-family=\"Helvetica,sans-Serif\" font-size=\"14.00\" fill=\"#000000\">gini = 0.0</text>\n<text text-anchor=\"middle\" x=\"2962.5\" y=\"-639.3\" font-family=\"Helvetica,sans-Serif\" font-size=\"14.00\" fill=\"#000000\">samples = 1</text>\n<text text-anchor=\"middle\" x=\"2962.5\" y=\"-624.3\" font-family=\"Helvetica,sans-Serif\" font-size=\"14.00\" fill=\"#000000\">value = [0, 1]</text>\n</g>\n<!-- 203&#45;&gt;205 -->\n<g id=\"edge205\" class=\"edge\">\n<title>203&#45;&gt;205</title>\n<path fill=\"none\" stroke=\"#000000\" d=\"M2971.2433,-712.9465C2969.9078,-702.2621 2968.4282,-690.4254 2967.0718,-679.5742\"/>\n<polygon fill=\"#000000\" stroke=\"#000000\" points=\"2970.5312,-679.0308 2965.8178,-669.5422 2963.5852,-679.8991 2970.5312,-679.0308\"/>\n</g>\n<!-- 208 -->\n<g id=\"node209\" class=\"node\">\n<title>208</title>\n<polygon fill=\"none\" stroke=\"#000000\" points=\"4043.5,-1093 3919.5,-1093 3919.5,-1025 4043.5,-1025 4043.5,-1093\"/>\n<text text-anchor=\"middle\" x=\"3981.5\" y=\"-1077.8\" font-family=\"Helvetica,sans-Serif\" font-size=\"14.00\" fill=\"#000000\">X[1] &lt;= 29.35</text>\n<text text-anchor=\"middle\" x=\"3981.5\" y=\"-1062.8\" font-family=\"Helvetica,sans-Serif\" font-size=\"14.00\" fill=\"#000000\">gini = 0.195</text>\n<text text-anchor=\"middle\" x=\"3981.5\" y=\"-1047.8\" font-family=\"Helvetica,sans-Serif\" font-size=\"14.00\" fill=\"#000000\">samples = 164</text>\n<text text-anchor=\"middle\" x=\"3981.5\" y=\"-1032.8\" font-family=\"Helvetica,sans-Serif\" font-size=\"14.00\" fill=\"#000000\">value = [146, 18]</text>\n</g>\n<!-- 207&#45;&gt;208 -->\n<g id=\"edge208\" class=\"edge\">\n<title>207&#45;&gt;208</title>\n<path fill=\"none\" stroke=\"#000000\" d=\"M3990.9159,-1128.9465C3989.8039,-1120.6863 3988.5993,-1111.7374 3987.4349,-1103.0875\"/>\n<polygon fill=\"#000000\" stroke=\"#000000\" points=\"3990.8973,-1102.5736 3986.0944,-1093.13 3983.9599,-1103.5076 3990.8973,-1102.5736\"/>\n</g>\n<!-- 283 -->\n<g id=\"node284\" class=\"node\">\n<title>283</title>\n<polygon fill=\"none\" stroke=\"#000000\" points=\"4275,-1093 4168,-1093 4168,-1025 4275,-1025 4275,-1093\"/>\n<text text-anchor=\"middle\" x=\"4221.5\" y=\"-1077.8\" font-family=\"Helvetica,sans-Serif\" font-size=\"14.00\" fill=\"#000000\">X[3] &lt;= 1.5</text>\n<text text-anchor=\"middle\" x=\"4221.5\" y=\"-1062.8\" font-family=\"Helvetica,sans-Serif\" font-size=\"14.00\" fill=\"#000000\">gini = 0.408</text>\n<text text-anchor=\"middle\" x=\"4221.5\" y=\"-1047.8\" font-family=\"Helvetica,sans-Serif\" font-size=\"14.00\" fill=\"#000000\">samples = 14</text>\n<text text-anchor=\"middle\" x=\"4221.5\" y=\"-1032.8\" font-family=\"Helvetica,sans-Serif\" font-size=\"14.00\" fill=\"#000000\">value = [10, 4]</text>\n</g>\n<!-- 207&#45;&gt;283 -->\n<g id=\"edge283\" class=\"edge\">\n<title>207&#45;&gt;283</title>\n<path fill=\"none\" stroke=\"#000000\" d=\"M4057.5544,-1134.444C4088.9529,-1119.9951 4126.9885,-1102.492 4158.5163,-1087.9836\"/>\n<polygon fill=\"#000000\" stroke=\"#000000\" points=\"4160.0289,-1091.1405 4167.65,-1083.7805 4157.1026,-1084.7815 4160.0289,-1091.1405\"/>\n</g>\n<!-- 209 -->\n<g id=\"node210\" class=\"node\">\n<title>209</title>\n<polygon fill=\"none\" stroke=\"#000000\" points=\"3670.5,-989 3554.5,-989 3554.5,-921 3670.5,-921 3670.5,-989\"/>\n<text text-anchor=\"middle\" x=\"3612.5\" y=\"-973.8\" font-family=\"Helvetica,sans-Serif\" font-size=\"14.00\" fill=\"#000000\">X[1] &lt;= 28.75</text>\n<text text-anchor=\"middle\" x=\"3612.5\" y=\"-958.8\" font-family=\"Helvetica,sans-Serif\" font-size=\"14.00\" fill=\"#000000\">gini = 0.254</text>\n<text text-anchor=\"middle\" x=\"3612.5\" y=\"-943.8\" font-family=\"Helvetica,sans-Serif\" font-size=\"14.00\" fill=\"#000000\">samples = 94</text>\n<text text-anchor=\"middle\" x=\"3612.5\" y=\"-928.8\" font-family=\"Helvetica,sans-Serif\" font-size=\"14.00\" fill=\"#000000\">value = [80, 14]</text>\n</g>\n<!-- 208&#45;&gt;209 -->\n<g id=\"edge209\" class=\"edge\">\n<title>208&#45;&gt;209</title>\n<path fill=\"none\" stroke=\"#000000\" d=\"M3919.3214,-1041.4754C3853.1522,-1022.8261 3748.7791,-993.4093 3680.4756,-974.1584\"/>\n<polygon fill=\"#000000\" stroke=\"#000000\" points=\"3681.2431,-970.7385 3670.6686,-971.3944 3679.3441,-977.476 3681.2431,-970.7385\"/>\n</g>\n<!-- 262 -->\n<g id=\"node263\" class=\"node\">\n<title>262</title>\n<polygon fill=\"none\" stroke=\"#000000\" points=\"4035,-989 3928,-989 3928,-921 4035,-921 4035,-989\"/>\n<text text-anchor=\"middle\" x=\"3981.5\" y=\"-973.8\" font-family=\"Helvetica,sans-Serif\" font-size=\"14.00\" fill=\"#000000\">X[4] &lt;= 7.802</text>\n<text text-anchor=\"middle\" x=\"3981.5\" y=\"-958.8\" font-family=\"Helvetica,sans-Serif\" font-size=\"14.00\" fill=\"#000000\">gini = 0.108</text>\n<text text-anchor=\"middle\" x=\"3981.5\" y=\"-943.8\" font-family=\"Helvetica,sans-Serif\" font-size=\"14.00\" fill=\"#000000\">samples = 70</text>\n<text text-anchor=\"middle\" x=\"3981.5\" y=\"-928.8\" font-family=\"Helvetica,sans-Serif\" font-size=\"14.00\" fill=\"#000000\">value = [66, 4]</text>\n</g>\n<!-- 208&#45;&gt;262 -->\n<g id=\"edge262\" class=\"edge\">\n<title>208&#45;&gt;262</title>\n<path fill=\"none\" stroke=\"#000000\" d=\"M3981.5,-1024.9465C3981.5,-1016.776 3981.5,-1007.9318 3981.5,-999.3697\"/>\n<polygon fill=\"#000000\" stroke=\"#000000\" points=\"3985.0001,-999.13 3981.5,-989.13 3978.0001,-999.13 3985.0001,-999.13\"/>\n</g>\n<!-- 210 -->\n<g id=\"node211\" class=\"node\">\n<title>210</title>\n<polygon fill=\"none\" stroke=\"#000000\" points=\"3487.5,-885 3371.5,-885 3371.5,-817 3487.5,-817 3487.5,-885\"/>\n<text text-anchor=\"middle\" x=\"3429.5\" y=\"-869.8\" font-family=\"Helvetica,sans-Serif\" font-size=\"14.00\" fill=\"#000000\">X[4] &lt;= 7.013</text>\n<text text-anchor=\"middle\" x=\"3429.5\" y=\"-854.8\" font-family=\"Helvetica,sans-Serif\" font-size=\"14.00\" fill=\"#000000\">gini = 0.217</text>\n<text text-anchor=\"middle\" x=\"3429.5\" y=\"-839.8\" font-family=\"Helvetica,sans-Serif\" font-size=\"14.00\" fill=\"#000000\">samples = 89</text>\n<text text-anchor=\"middle\" x=\"3429.5\" y=\"-824.8\" font-family=\"Helvetica,sans-Serif\" font-size=\"14.00\" fill=\"#000000\">value = [78, 11]</text>\n</g>\n<!-- 209&#45;&gt;210 -->\n<g id=\"edge210\" class=\"edge\">\n<title>209&#45;&gt;210</title>\n<path fill=\"none\" stroke=\"#000000\" d=\"M3554.3462,-921.9509C3535.9149,-911.4762 3515.3923,-899.8131 3496.3977,-889.0184\"/>\n<polygon fill=\"#000000\" stroke=\"#000000\" points=\"3497.9259,-885.8612 3487.5025,-883.9632 3494.4673,-891.9471 3497.9259,-885.8612\"/>\n</g>\n<!-- 255 -->\n<g id=\"node256\" class=\"node\">\n<title>255</title>\n<polygon fill=\"none\" stroke=\"#000000\" points=\"3664,-885 3561,-885 3561,-817 3664,-817 3664,-885\"/>\n<text text-anchor=\"middle\" x=\"3612.5\" y=\"-869.8\" font-family=\"Helvetica,sans-Serif\" font-size=\"14.00\" fill=\"#000000\">X[4] &lt;= 7.835</text>\n<text text-anchor=\"middle\" x=\"3612.5\" y=\"-854.8\" font-family=\"Helvetica,sans-Serif\" font-size=\"14.00\" fill=\"#000000\">gini = 0.48</text>\n<text text-anchor=\"middle\" x=\"3612.5\" y=\"-839.8\" font-family=\"Helvetica,sans-Serif\" font-size=\"14.00\" fill=\"#000000\">samples = 5</text>\n<text text-anchor=\"middle\" x=\"3612.5\" y=\"-824.8\" font-family=\"Helvetica,sans-Serif\" font-size=\"14.00\" fill=\"#000000\">value = [2, 3]</text>\n</g>\n<!-- 209&#45;&gt;255 -->\n<g id=\"edge255\" class=\"edge\">\n<title>209&#45;&gt;255</title>\n<path fill=\"none\" stroke=\"#000000\" d=\"M3612.5,-920.9465C3612.5,-912.776 3612.5,-903.9318 3612.5,-895.3697\"/>\n<polygon fill=\"#000000\" stroke=\"#000000\" points=\"3616.0001,-895.13 3612.5,-885.13 3609.0001,-895.13 3616.0001,-895.13\"/>\n</g>\n<!-- 211 -->\n<g id=\"node212\" class=\"node\">\n<title>211</title>\n<polygon fill=\"none\" stroke=\"#000000\" points=\"3246,-781 3147,-781 3147,-713 3246,-713 3246,-781\"/>\n<text text-anchor=\"middle\" x=\"3196.5\" y=\"-765.8\" font-family=\"Helvetica,sans-Serif\" font-size=\"14.00\" fill=\"#000000\">X[1] &lt;= 22.5</text>\n<text text-anchor=\"middle\" x=\"3196.5\" y=\"-750.8\" font-family=\"Helvetica,sans-Serif\" font-size=\"14.00\" fill=\"#000000\">gini = 0.48</text>\n<text text-anchor=\"middle\" x=\"3196.5\" y=\"-735.8\" font-family=\"Helvetica,sans-Serif\" font-size=\"14.00\" fill=\"#000000\">samples = 5</text>\n<text text-anchor=\"middle\" x=\"3196.5\" y=\"-720.8\" font-family=\"Helvetica,sans-Serif\" font-size=\"14.00\" fill=\"#000000\">value = [3, 2]</text>\n</g>\n<!-- 210&#45;&gt;211 -->\n<g id=\"edge211\" class=\"edge\">\n<title>210&#45;&gt;211</title>\n<path fill=\"none\" stroke=\"#000000\" d=\"M3371.3053,-825.0247C3335.9174,-809.2292 3290.8589,-789.1173 3255.3522,-773.2688\"/>\n<polygon fill=\"#000000\" stroke=\"#000000\" points=\"3256.6342,-770.0082 3246.0759,-769.1283 3253.781,-776.4004 3256.6342,-770.0082\"/>\n</g>\n<!-- 214 -->\n<g id=\"node215\" class=\"node\">\n<title>214</title>\n<polygon fill=\"none\" stroke=\"#000000\" points=\"3483,-781 3376,-781 3376,-713 3483,-713 3483,-781\"/>\n<text text-anchor=\"middle\" x=\"3429.5\" y=\"-765.8\" font-family=\"Helvetica,sans-Serif\" font-size=\"14.00\" fill=\"#000000\">X[1] &lt;= 20.25</text>\n<text text-anchor=\"middle\" x=\"3429.5\" y=\"-750.8\" font-family=\"Helvetica,sans-Serif\" font-size=\"14.00\" fill=\"#000000\">gini = 0.191</text>\n<text text-anchor=\"middle\" x=\"3429.5\" y=\"-735.8\" font-family=\"Helvetica,sans-Serif\" font-size=\"14.00\" fill=\"#000000\">samples = 84</text>\n<text text-anchor=\"middle\" x=\"3429.5\" y=\"-720.8\" font-family=\"Helvetica,sans-Serif\" font-size=\"14.00\" fill=\"#000000\">value = [75, 9]</text>\n</g>\n<!-- 210&#45;&gt;214 -->\n<g id=\"edge214\" class=\"edge\">\n<title>210&#45;&gt;214</title>\n<path fill=\"none\" stroke=\"#000000\" d=\"M3429.5,-816.9465C3429.5,-808.776 3429.5,-799.9318 3429.5,-791.3697\"/>\n<polygon fill=\"#000000\" stroke=\"#000000\" points=\"3433.0001,-791.13 3429.5,-781.13 3426.0001,-791.13 3433.0001,-791.13\"/>\n</g>\n<!-- 212 -->\n<g id=\"node213\" class=\"node\">\n<title>212</title>\n<polygon fill=\"none\" stroke=\"#000000\" points=\"3129,-669.5 3030,-669.5 3030,-616.5 3129,-616.5 3129,-669.5\"/>\n<text text-anchor=\"middle\" x=\"3079.5\" y=\"-654.3\" font-family=\"Helvetica,sans-Serif\" font-size=\"14.00\" fill=\"#000000\">gini = 0.0</text>\n<text text-anchor=\"middle\" x=\"3079.5\" y=\"-639.3\" font-family=\"Helvetica,sans-Serif\" font-size=\"14.00\" fill=\"#000000\">samples = 3</text>\n<text text-anchor=\"middle\" x=\"3079.5\" y=\"-624.3\" font-family=\"Helvetica,sans-Serif\" font-size=\"14.00\" fill=\"#000000\">value = [3, 0]</text>\n</g>\n<!-- 211&#45;&gt;212 -->\n<g id=\"edge212\" class=\"edge\">\n<title>211&#45;&gt;212</title>\n<path fill=\"none\" stroke=\"#000000\" d=\"M3158.1898,-712.9465C3144.9306,-701.1606 3130.0942,-687.9726 3116.9084,-676.2519\"/>\n<polygon fill=\"#000000\" stroke=\"#000000\" points=\"3119.1593,-673.5699 3109.3599,-669.5422 3114.5088,-678.8018 3119.1593,-673.5699\"/>\n</g>\n<!-- 213 -->\n<g id=\"node214\" class=\"node\">\n<title>213</title>\n<polygon fill=\"none\" stroke=\"#000000\" points=\"3246,-669.5 3147,-669.5 3147,-616.5 3246,-616.5 3246,-669.5\"/>\n<text text-anchor=\"middle\" x=\"3196.5\" y=\"-654.3\" font-family=\"Helvetica,sans-Serif\" font-size=\"14.00\" fill=\"#000000\">gini = 0.0</text>\n<text text-anchor=\"middle\" x=\"3196.5\" y=\"-639.3\" font-family=\"Helvetica,sans-Serif\" font-size=\"14.00\" fill=\"#000000\">samples = 2</text>\n<text text-anchor=\"middle\" x=\"3196.5\" y=\"-624.3\" font-family=\"Helvetica,sans-Serif\" font-size=\"14.00\" fill=\"#000000\">value = [0, 2]</text>\n</g>\n<!-- 211&#45;&gt;213 -->\n<g id=\"edge213\" class=\"edge\">\n<title>211&#45;&gt;213</title>\n<path fill=\"none\" stroke=\"#000000\" d=\"M3196.5,-712.9465C3196.5,-702.2621 3196.5,-690.4254 3196.5,-679.5742\"/>\n<polygon fill=\"#000000\" stroke=\"#000000\" points=\"3200.0001,-679.5421 3196.5,-669.5422 3193.0001,-679.5422 3200.0001,-679.5421\"/>\n</g>\n<!-- 215 -->\n<g id=\"node216\" class=\"node\">\n<title>215</title>\n<polygon fill=\"none\" stroke=\"#000000\" points=\"3371,-677 3264,-677 3264,-609 3371,-609 3371,-677\"/>\n<text text-anchor=\"middle\" x=\"3317.5\" y=\"-661.8\" font-family=\"Helvetica,sans-Serif\" font-size=\"14.00\" fill=\"#000000\">X[4] &lt;= 8.175</text>\n<text text-anchor=\"middle\" x=\"3317.5\" y=\"-646.8\" font-family=\"Helvetica,sans-Serif\" font-size=\"14.00\" fill=\"#000000\">gini = 0.264</text>\n<text text-anchor=\"middle\" x=\"3317.5\" y=\"-631.8\" font-family=\"Helvetica,sans-Serif\" font-size=\"14.00\" fill=\"#000000\">samples = 32</text>\n<text text-anchor=\"middle\" x=\"3317.5\" y=\"-616.8\" font-family=\"Helvetica,sans-Serif\" font-size=\"14.00\" fill=\"#000000\">value = [27, 5]</text>\n</g>\n<!-- 214&#45;&gt;215 -->\n<g id=\"edge215\" class=\"edge\">\n<title>214&#45;&gt;215</title>\n<path fill=\"none\" stroke=\"#000000\" d=\"M3392.827,-712.9465C3382.8677,-703.6986 3371.9789,-693.5876 3361.6532,-683.9994\"/>\n<polygon fill=\"#000000\" stroke=\"#000000\" points=\"3363.9649,-681.3698 3354.2554,-677.13 3359.2018,-686.4993 3363.9649,-681.3698\"/>\n</g>\n<!-- 234 -->\n<g id=\"node235\" class=\"node\">\n<title>234</title>\n<polygon fill=\"none\" stroke=\"#000000\" points=\"3496,-677 3389,-677 3389,-609 3496,-609 3496,-677\"/>\n<text text-anchor=\"middle\" x=\"3442.5\" y=\"-661.8\" font-family=\"Helvetica,sans-Serif\" font-size=\"14.00\" fill=\"#000000\">X[4] &lt;= 7.183</text>\n<text text-anchor=\"middle\" x=\"3442.5\" y=\"-646.8\" font-family=\"Helvetica,sans-Serif\" font-size=\"14.00\" fill=\"#000000\">gini = 0.142</text>\n<text text-anchor=\"middle\" x=\"3442.5\" y=\"-631.8\" font-family=\"Helvetica,sans-Serif\" font-size=\"14.00\" fill=\"#000000\">samples = 52</text>\n<text text-anchor=\"middle\" x=\"3442.5\" y=\"-616.8\" font-family=\"Helvetica,sans-Serif\" font-size=\"14.00\" fill=\"#000000\">value = [48, 4]</text>\n</g>\n<!-- 214&#45;&gt;234 -->\n<g id=\"edge234\" class=\"edge\">\n<title>214&#45;&gt;234</title>\n<path fill=\"none\" stroke=\"#000000\" d=\"M3433.7567,-712.9465C3434.7892,-704.6863 3435.9078,-695.7374 3436.9891,-687.0875\"/>\n<polygon fill=\"#000000\" stroke=\"#000000\" points=\"3440.4663,-687.4869 3438.2338,-677.13 3433.5203,-686.6186 3440.4663,-687.4869\"/>\n</g>\n<!-- 216 -->\n<g id=\"node217\" class=\"node\">\n<title>216</title>\n<polygon fill=\"none\" stroke=\"#000000\" points=\"3235,-573 3128,-573 3128,-505 3235,-505 3235,-573\"/>\n<text text-anchor=\"middle\" x=\"3181.5\" y=\"-557.8\" font-family=\"Helvetica,sans-Serif\" font-size=\"14.00\" fill=\"#000000\">X[4] &lt;= 7.91</text>\n<text text-anchor=\"middle\" x=\"3181.5\" y=\"-542.8\" font-family=\"Helvetica,sans-Serif\" font-size=\"14.00\" fill=\"#000000\">gini = 0.34</text>\n<text text-anchor=\"middle\" x=\"3181.5\" y=\"-527.8\" font-family=\"Helvetica,sans-Serif\" font-size=\"14.00\" fill=\"#000000\">samples = 23</text>\n<text text-anchor=\"middle\" x=\"3181.5\" y=\"-512.8\" font-family=\"Helvetica,sans-Serif\" font-size=\"14.00\" fill=\"#000000\">value = [18, 5]</text>\n</g>\n<!-- 215&#45;&gt;216 -->\n<g id=\"edge216\" class=\"edge\">\n<title>215&#45;&gt;216</title>\n<path fill=\"none\" stroke=\"#000000\" d=\"M3272.9685,-608.9465C3260.6403,-599.519 3247.1391,-589.1946 3234.385,-579.4415\"/>\n<polygon fill=\"#000000\" stroke=\"#000000\" points=\"3236.2012,-576.4243 3226.1315,-573.13 3231.949,-581.9848 3236.2012,-576.4243\"/>\n</g>\n<!-- 233 -->\n<g id=\"node234\" class=\"node\">\n<title>233</title>\n<polygon fill=\"none\" stroke=\"#000000\" points=\"3352,-565.5 3253,-565.5 3253,-512.5 3352,-512.5 3352,-565.5\"/>\n<text text-anchor=\"middle\" x=\"3302.5\" y=\"-550.3\" font-family=\"Helvetica,sans-Serif\" font-size=\"14.00\" fill=\"#000000\">gini = 0.0</text>\n<text text-anchor=\"middle\" x=\"3302.5\" y=\"-535.3\" font-family=\"Helvetica,sans-Serif\" font-size=\"14.00\" fill=\"#000000\">samples = 9</text>\n<text text-anchor=\"middle\" x=\"3302.5\" y=\"-520.3\" font-family=\"Helvetica,sans-Serif\" font-size=\"14.00\" fill=\"#000000\">value = [9, 0]</text>\n</g>\n<!-- 215&#45;&gt;233 -->\n<g id=\"edge233\" class=\"edge\">\n<title>215&#45;&gt;233</title>\n<path fill=\"none\" stroke=\"#000000\" d=\"M3312.5884,-608.9465C3311.0474,-598.2621 3309.3402,-586.4254 3307.7751,-575.5742\"/>\n<polygon fill=\"#000000\" stroke=\"#000000\" points=\"3311.22,-574.9401 3306.3282,-565.5422 3304.2917,-575.9394 3311.22,-574.9401\"/>\n</g>\n<!-- 217 -->\n<g id=\"node218\" class=\"node\">\n<title>217</title>\n<polygon fill=\"none\" stroke=\"#000000\" points=\"3115,-469 3008,-469 3008,-401 3115,-401 3115,-469\"/>\n<text text-anchor=\"middle\" x=\"3061.5\" y=\"-453.8\" font-family=\"Helvetica,sans-Serif\" font-size=\"14.00\" fill=\"#000000\">X[1] &lt;= 19.5</text>\n<text text-anchor=\"middle\" x=\"3061.5\" y=\"-438.8\" font-family=\"Helvetica,sans-Serif\" font-size=\"14.00\" fill=\"#000000\">gini = 0.117</text>\n<text text-anchor=\"middle\" x=\"3061.5\" y=\"-423.8\" font-family=\"Helvetica,sans-Serif\" font-size=\"14.00\" fill=\"#000000\">samples = 16</text>\n<text text-anchor=\"middle\" x=\"3061.5\" y=\"-408.8\" font-family=\"Helvetica,sans-Serif\" font-size=\"14.00\" fill=\"#000000\">value = [15, 1]</text>\n</g>\n<!-- 216&#45;&gt;217 -->\n<g id=\"edge217\" class=\"edge\">\n<title>216&#45;&gt;217</title>\n<path fill=\"none\" stroke=\"#000000\" d=\"M3142.2075,-504.9465C3131.4333,-495.6088 3119.6436,-485.3911 3108.485,-475.7203\"/>\n<polygon fill=\"#000000\" stroke=\"#000000\" points=\"3110.7299,-473.0344 3100.8808,-469.13 3106.1454,-478.3243 3110.7299,-473.0344\"/>\n</g>\n<!-- 224 -->\n<g id=\"node225\" class=\"node\">\n<title>224</title>\n<polygon fill=\"none\" stroke=\"#000000\" points=\"3232,-469 3133,-469 3133,-401 3232,-401 3232,-469\"/>\n<text text-anchor=\"middle\" x=\"3182.5\" y=\"-453.8\" font-family=\"Helvetica,sans-Serif\" font-size=\"14.00\" fill=\"#000000\">X[3] &lt;= 0.5</text>\n<text text-anchor=\"middle\" x=\"3182.5\" y=\"-438.8\" font-family=\"Helvetica,sans-Serif\" font-size=\"14.00\" fill=\"#000000\">gini = 0.49</text>\n<text text-anchor=\"middle\" x=\"3182.5\" y=\"-423.8\" font-family=\"Helvetica,sans-Serif\" font-size=\"14.00\" fill=\"#000000\">samples = 7</text>\n<text text-anchor=\"middle\" x=\"3182.5\" y=\"-408.8\" font-family=\"Helvetica,sans-Serif\" font-size=\"14.00\" fill=\"#000000\">value = [3, 4]</text>\n</g>\n<!-- 216&#45;&gt;224 -->\n<g id=\"edge224\" class=\"edge\">\n<title>216&#45;&gt;224</title>\n<path fill=\"none\" stroke=\"#000000\" d=\"M3181.8274,-504.9465C3181.906,-496.776 3181.991,-487.9318 3182.0734,-479.3697\"/>\n<polygon fill=\"#000000\" stroke=\"#000000\" points=\"3185.5754,-479.1632 3182.1718,-469.13 3178.5757,-479.0958 3185.5754,-479.1632\"/>\n</g>\n<!-- 218 -->\n<g id=\"node219\" class=\"node\">\n<title>218</title>\n<polygon fill=\"none\" stroke=\"#000000\" points=\"2994,-357.5 2887,-357.5 2887,-304.5 2994,-304.5 2994,-357.5\"/>\n<text text-anchor=\"middle\" x=\"2940.5\" y=\"-342.3\" font-family=\"Helvetica,sans-Serif\" font-size=\"14.00\" fill=\"#000000\">gini = 0.0</text>\n<text text-anchor=\"middle\" x=\"2940.5\" y=\"-327.3\" font-family=\"Helvetica,sans-Serif\" font-size=\"14.00\" fill=\"#000000\">samples = 13</text>\n<text text-anchor=\"middle\" x=\"2940.5\" y=\"-312.3\" font-family=\"Helvetica,sans-Serif\" font-size=\"14.00\" fill=\"#000000\">value = [13, 0]</text>\n</g>\n<!-- 217&#45;&gt;218 -->\n<g id=\"edge218\" class=\"edge\">\n<title>217&#45;&gt;218</title>\n<path fill=\"none\" stroke=\"#000000\" d=\"M3021.8801,-400.9465C3008.1676,-389.1606 2992.8239,-375.9726 2979.1873,-364.2519\"/>\n<polygon fill=\"#000000\" stroke=\"#000000\" points=\"2981.2459,-361.4061 2971.3808,-357.5422 2976.6831,-366.7147 2981.2459,-361.4061\"/>\n</g>\n<!-- 219 -->\n<g id=\"node220\" class=\"node\">\n<title>219</title>\n<polygon fill=\"none\" stroke=\"#000000\" points=\"3111,-365 3012,-365 3012,-297 3111,-297 3111,-365\"/>\n<text text-anchor=\"middle\" x=\"3061.5\" y=\"-349.8\" font-family=\"Helvetica,sans-Serif\" font-size=\"14.00\" fill=\"#000000\">X[4] &lt;= 7.14</text>\n<text text-anchor=\"middle\" x=\"3061.5\" y=\"-334.8\" font-family=\"Helvetica,sans-Serif\" font-size=\"14.00\" fill=\"#000000\">gini = 0.444</text>\n<text text-anchor=\"middle\" x=\"3061.5\" y=\"-319.8\" font-family=\"Helvetica,sans-Serif\" font-size=\"14.00\" fill=\"#000000\">samples = 3</text>\n<text text-anchor=\"middle\" x=\"3061.5\" y=\"-304.8\" font-family=\"Helvetica,sans-Serif\" font-size=\"14.00\" fill=\"#000000\">value = [2, 1]</text>\n</g>\n<!-- 217&#45;&gt;219 -->\n<g id=\"edge219\" class=\"edge\">\n<title>217&#45;&gt;219</title>\n<path fill=\"none\" stroke=\"#000000\" d=\"M3061.5,-400.9465C3061.5,-392.776 3061.5,-383.9318 3061.5,-375.3697\"/>\n<polygon fill=\"#000000\" stroke=\"#000000\" points=\"3065.0001,-375.13 3061.5,-365.13 3058.0001,-375.13 3065.0001,-375.13\"/>\n</g>\n<!-- 220 -->\n<g id=\"node221\" class=\"node\">\n<title>220</title>\n<polygon fill=\"none\" stroke=\"#000000\" points=\"2992,-253.5 2893,-253.5 2893,-200.5 2992,-200.5 2992,-253.5\"/>\n<text text-anchor=\"middle\" x=\"2942.5\" y=\"-238.3\" font-family=\"Helvetica,sans-Serif\" font-size=\"14.00\" fill=\"#000000\">gini = 0.0</text>\n<text text-anchor=\"middle\" x=\"2942.5\" y=\"-223.3\" font-family=\"Helvetica,sans-Serif\" font-size=\"14.00\" fill=\"#000000\">samples = 1</text>\n<text text-anchor=\"middle\" x=\"2942.5\" y=\"-208.3\" font-family=\"Helvetica,sans-Serif\" font-size=\"14.00\" fill=\"#000000\">value = [1, 0]</text>\n</g>\n<!-- 219&#45;&gt;220 -->\n<g id=\"edge220\" class=\"edge\">\n<title>219&#45;&gt;220</title>\n<path fill=\"none\" stroke=\"#000000\" d=\"M3022.5349,-296.9465C3009.0491,-285.1606 2993.9591,-271.9726 2980.5479,-260.2519\"/>\n<polygon fill=\"#000000\" stroke=\"#000000\" points=\"2982.7033,-257.4874 2972.8704,-253.5422 2978.0969,-262.7582 2982.7033,-257.4874\"/>\n</g>\n<!-- 221 -->\n<g id=\"node222\" class=\"node\">\n<title>221</title>\n<polygon fill=\"none\" stroke=\"#000000\" points=\"3113,-261 3010,-261 3010,-193 3113,-193 3113,-261\"/>\n<text text-anchor=\"middle\" x=\"3061.5\" y=\"-245.8\" font-family=\"Helvetica,sans-Serif\" font-size=\"14.00\" fill=\"#000000\">X[4] &lt;= 7.542</text>\n<text text-anchor=\"middle\" x=\"3061.5\" y=\"-230.8\" font-family=\"Helvetica,sans-Serif\" font-size=\"14.00\" fill=\"#000000\">gini = 0.5</text>\n<text text-anchor=\"middle\" x=\"3061.5\" y=\"-215.8\" font-family=\"Helvetica,sans-Serif\" font-size=\"14.00\" fill=\"#000000\">samples = 2</text>\n<text text-anchor=\"middle\" x=\"3061.5\" y=\"-200.8\" font-family=\"Helvetica,sans-Serif\" font-size=\"14.00\" fill=\"#000000\">value = [1, 1]</text>\n</g>\n<!-- 219&#45;&gt;221 -->\n<g id=\"edge221\" class=\"edge\">\n<title>219&#45;&gt;221</title>\n<path fill=\"none\" stroke=\"#000000\" d=\"M3061.5,-296.9465C3061.5,-288.776 3061.5,-279.9318 3061.5,-271.3697\"/>\n<polygon fill=\"#000000\" stroke=\"#000000\" points=\"3065.0001,-271.13 3061.5,-261.13 3058.0001,-271.13 3065.0001,-271.13\"/>\n</g>\n<!-- 222 -->\n<g id=\"node223\" class=\"node\">\n<title>222</title>\n<polygon fill=\"none\" stroke=\"#000000\" points=\"2995,-149.5 2896,-149.5 2896,-96.5 2995,-96.5 2995,-149.5\"/>\n<text text-anchor=\"middle\" x=\"2945.5\" y=\"-134.3\" font-family=\"Helvetica,sans-Serif\" font-size=\"14.00\" fill=\"#000000\">gini = 0.0</text>\n<text text-anchor=\"middle\" x=\"2945.5\" y=\"-119.3\" font-family=\"Helvetica,sans-Serif\" font-size=\"14.00\" fill=\"#000000\">samples = 1</text>\n<text text-anchor=\"middle\" x=\"2945.5\" y=\"-104.3\" font-family=\"Helvetica,sans-Serif\" font-size=\"14.00\" fill=\"#000000\">value = [0, 1]</text>\n</g>\n<!-- 221&#45;&gt;222 -->\n<g id=\"edge222\" class=\"edge\">\n<title>221&#45;&gt;222</title>\n<path fill=\"none\" stroke=\"#000000\" d=\"M3023.5173,-192.9465C3010.3714,-181.1606 2995.6618,-167.9726 2982.5887,-156.2519\"/>\n<polygon fill=\"#000000\" stroke=\"#000000\" points=\"2984.8869,-153.6116 2975.1047,-149.5422 2980.214,-158.8236 2984.8869,-153.6116\"/>\n</g>\n<!-- 223 -->\n<g id=\"node224\" class=\"node\">\n<title>223</title>\n<polygon fill=\"none\" stroke=\"#000000\" points=\"3112,-149.5 3013,-149.5 3013,-96.5 3112,-96.5 3112,-149.5\"/>\n<text text-anchor=\"middle\" x=\"3062.5\" y=\"-134.3\" font-family=\"Helvetica,sans-Serif\" font-size=\"14.00\" fill=\"#000000\">gini = 0.0</text>\n<text text-anchor=\"middle\" x=\"3062.5\" y=\"-119.3\" font-family=\"Helvetica,sans-Serif\" font-size=\"14.00\" fill=\"#000000\">samples = 1</text>\n<text text-anchor=\"middle\" x=\"3062.5\" y=\"-104.3\" font-family=\"Helvetica,sans-Serif\" font-size=\"14.00\" fill=\"#000000\">value = [1, 0]</text>\n</g>\n<!-- 221&#45;&gt;223 -->\n<g id=\"edge223\" class=\"edge\">\n<title>221&#45;&gt;223</title>\n<path fill=\"none\" stroke=\"#000000\" d=\"M3061.8274,-192.9465C3061.9302,-182.2621 3062.044,-170.4254 3062.1483,-159.5742\"/>\n<polygon fill=\"#000000\" stroke=\"#000000\" points=\"3065.6484,-159.5754 3062.2448,-149.5422 3058.6487,-159.508 3065.6484,-159.5754\"/>\n</g>\n<!-- 225 -->\n<g id=\"node226\" class=\"node\">\n<title>225</title>\n<polygon fill=\"none\" stroke=\"#000000\" points=\"3232,-365 3129,-365 3129,-297 3232,-297 3232,-365\"/>\n<text text-anchor=\"middle\" x=\"3180.5\" y=\"-349.8\" font-family=\"Helvetica,sans-Serif\" font-size=\"14.00\" fill=\"#000000\">X[4] &lt;= 7.988</text>\n<text text-anchor=\"middle\" x=\"3180.5\" y=\"-334.8\" font-family=\"Helvetica,sans-Serif\" font-size=\"14.00\" fill=\"#000000\">gini = 0.5</text>\n<text text-anchor=\"middle\" x=\"3180.5\" y=\"-319.8\" font-family=\"Helvetica,sans-Serif\" font-size=\"14.00\" fill=\"#000000\">samples = 6</text>\n<text text-anchor=\"middle\" x=\"3180.5\" y=\"-304.8\" font-family=\"Helvetica,sans-Serif\" font-size=\"14.00\" fill=\"#000000\">value = [3, 3]</text>\n</g>\n<!-- 224&#45;&gt;225 -->\n<g id=\"edge225\" class=\"edge\">\n<title>224&#45;&gt;225</title>\n<path fill=\"none\" stroke=\"#000000\" d=\"M3181.8451,-400.9465C3181.688,-392.776 3181.5179,-383.9318 3181.3533,-375.3697\"/>\n<polygon fill=\"#000000\" stroke=\"#000000\" points=\"3184.8481,-375.0608 3181.1563,-365.13 3177.8494,-375.1955 3184.8481,-375.0608\"/>\n</g>\n<!-- 232 -->\n<g id=\"node233\" class=\"node\">\n<title>232</title>\n<polygon fill=\"none\" stroke=\"#000000\" points=\"3349,-357.5 3250,-357.5 3250,-304.5 3349,-304.5 3349,-357.5\"/>\n<text text-anchor=\"middle\" x=\"3299.5\" y=\"-342.3\" font-family=\"Helvetica,sans-Serif\" font-size=\"14.00\" fill=\"#000000\">gini = 0.0</text>\n<text text-anchor=\"middle\" x=\"3299.5\" y=\"-327.3\" font-family=\"Helvetica,sans-Serif\" font-size=\"14.00\" fill=\"#000000\">samples = 1</text>\n<text text-anchor=\"middle\" x=\"3299.5\" y=\"-312.3\" font-family=\"Helvetica,sans-Serif\" font-size=\"14.00\" fill=\"#000000\">value = [0, 1]</text>\n</g>\n<!-- 224&#45;&gt;232 -->\n<g id=\"edge232\" class=\"edge\">\n<title>224&#45;&gt;232</title>\n<path fill=\"none\" stroke=\"#000000\" d=\"M3220.8102,-400.9465C3234.0694,-389.1606 3248.9058,-375.9726 3262.0916,-364.2519\"/>\n<polygon fill=\"#000000\" stroke=\"#000000\" points=\"3264.4912,-366.8018 3269.6401,-357.5422 3259.8407,-361.5699 3264.4912,-366.8018\"/>\n</g>\n<!-- 226 -->\n<g id=\"node227\" class=\"node\">\n<title>226</title>\n<polygon fill=\"none\" stroke=\"#000000\" points=\"3230,-253.5 3131,-253.5 3131,-200.5 3230,-200.5 3230,-253.5\"/>\n<text text-anchor=\"middle\" x=\"3180.5\" y=\"-238.3\" font-family=\"Helvetica,sans-Serif\" font-size=\"14.00\" fill=\"#000000\">gini = 0.0</text>\n<text text-anchor=\"middle\" x=\"3180.5\" y=\"-223.3\" font-family=\"Helvetica,sans-Serif\" font-size=\"14.00\" fill=\"#000000\">samples = 1</text>\n<text text-anchor=\"middle\" x=\"3180.5\" y=\"-208.3\" font-family=\"Helvetica,sans-Serif\" font-size=\"14.00\" fill=\"#000000\">value = [1, 0]</text>\n</g>\n<!-- 225&#45;&gt;226 -->\n<g id=\"edge226\" class=\"edge\">\n<title>225&#45;&gt;226</title>\n<path fill=\"none\" stroke=\"#000000\" d=\"M3180.5,-296.9465C3180.5,-286.2621 3180.5,-274.4254 3180.5,-263.5742\"/>\n<polygon fill=\"#000000\" stroke=\"#000000\" points=\"3184.0001,-263.5421 3180.5,-253.5422 3177.0001,-263.5422 3184.0001,-263.5421\"/>\n</g>\n<!-- 227 -->\n<g id=\"node228\" class=\"node\">\n<title>227</title>\n<polygon fill=\"none\" stroke=\"#000000\" points=\"3347,-261 3248,-261 3248,-193 3347,-193 3347,-261\"/>\n<text text-anchor=\"middle\" x=\"3297.5\" y=\"-245.8\" font-family=\"Helvetica,sans-Serif\" font-size=\"14.00\" fill=\"#000000\">X[1] &lt;= 17.0</text>\n<text text-anchor=\"middle\" x=\"3297.5\" y=\"-230.8\" font-family=\"Helvetica,sans-Serif\" font-size=\"14.00\" fill=\"#000000\">gini = 0.48</text>\n<text text-anchor=\"middle\" x=\"3297.5\" y=\"-215.8\" font-family=\"Helvetica,sans-Serif\" font-size=\"14.00\" fill=\"#000000\">samples = 5</text>\n<text text-anchor=\"middle\" x=\"3297.5\" y=\"-200.8\" font-family=\"Helvetica,sans-Serif\" font-size=\"14.00\" fill=\"#000000\">value = [2, 3]</text>\n</g>\n<!-- 225&#45;&gt;227 -->\n<g id=\"edge227\" class=\"edge\">\n<title>225&#45;&gt;227</title>\n<path fill=\"none\" stroke=\"#000000\" d=\"M3218.8102,-296.9465C3229.2141,-287.6986 3240.589,-277.5876 3251.3757,-267.9994\"/>\n<polygon fill=\"#000000\" stroke=\"#000000\" points=\"3253.9549,-270.3896 3259.1038,-261.13 3249.3044,-265.1577 3253.9549,-270.3896\"/>\n</g>\n<!-- 228 -->\n<g id=\"node229\" class=\"node\">\n<title>228</title>\n<polygon fill=\"none\" stroke=\"#000000\" points=\"3232,-149.5 3133,-149.5 3133,-96.5 3232,-96.5 3232,-149.5\"/>\n<text text-anchor=\"middle\" x=\"3182.5\" y=\"-134.3\" font-family=\"Helvetica,sans-Serif\" font-size=\"14.00\" fill=\"#000000\">gini = 0.5</text>\n<text text-anchor=\"middle\" x=\"3182.5\" y=\"-119.3\" font-family=\"Helvetica,sans-Serif\" font-size=\"14.00\" fill=\"#000000\">samples = 2</text>\n<text text-anchor=\"middle\" x=\"3182.5\" y=\"-104.3\" font-family=\"Helvetica,sans-Serif\" font-size=\"14.00\" fill=\"#000000\">value = [1, 1]</text>\n</g>\n<!-- 227&#45;&gt;228 -->\n<g id=\"edge228\" class=\"edge\">\n<title>227&#45;&gt;228</title>\n<path fill=\"none\" stroke=\"#000000\" d=\"M3259.8447,-192.9465C3246.8122,-181.1606 3232.2294,-167.9726 3219.2689,-156.2519\"/>\n<polygon fill=\"#000000\" stroke=\"#000000\" points=\"3221.614,-153.6537 3211.8495,-149.5422 3216.9188,-158.8456 3221.614,-153.6537\"/>\n</g>\n<!-- 229 -->\n<g id=\"node230\" class=\"node\">\n<title>229</title>\n<polygon fill=\"none\" stroke=\"#000000\" points=\"3349,-157 3250,-157 3250,-89 3349,-89 3349,-157\"/>\n<text text-anchor=\"middle\" x=\"3299.5\" y=\"-141.8\" font-family=\"Helvetica,sans-Serif\" font-size=\"14.00\" fill=\"#000000\">X[1] &lt;= 18.5</text>\n<text text-anchor=\"middle\" x=\"3299.5\" y=\"-126.8\" font-family=\"Helvetica,sans-Serif\" font-size=\"14.00\" fill=\"#000000\">gini = 0.444</text>\n<text text-anchor=\"middle\" x=\"3299.5\" y=\"-111.8\" font-family=\"Helvetica,sans-Serif\" font-size=\"14.00\" fill=\"#000000\">samples = 3</text>\n<text text-anchor=\"middle\" x=\"3299.5\" y=\"-96.8\" font-family=\"Helvetica,sans-Serif\" font-size=\"14.00\" fill=\"#000000\">value = [1, 2]</text>\n</g>\n<!-- 227&#45;&gt;229 -->\n<g id=\"edge229\" class=\"edge\">\n<title>227&#45;&gt;229</title>\n<path fill=\"none\" stroke=\"#000000\" d=\"M3298.1549,-192.9465C3298.312,-184.776 3298.4821,-175.9318 3298.6467,-167.3697\"/>\n<polygon fill=\"#000000\" stroke=\"#000000\" points=\"3302.1506,-167.1955 3298.8437,-157.13 3295.1519,-167.0608 3302.1506,-167.1955\"/>\n</g>\n<!-- 230 -->\n<g id=\"node231\" class=\"node\">\n<title>230</title>\n<polygon fill=\"none\" stroke=\"#000000\" points=\"3291,-53 3192,-53 3192,0 3291,0 3291,-53\"/>\n<text text-anchor=\"middle\" x=\"3241.5\" y=\"-37.8\" font-family=\"Helvetica,sans-Serif\" font-size=\"14.00\" fill=\"#000000\">gini = 0.0</text>\n<text text-anchor=\"middle\" x=\"3241.5\" y=\"-22.8\" font-family=\"Helvetica,sans-Serif\" font-size=\"14.00\" fill=\"#000000\">samples = 1</text>\n<text text-anchor=\"middle\" x=\"3241.5\" y=\"-7.8\" font-family=\"Helvetica,sans-Serif\" font-size=\"14.00\" fill=\"#000000\">value = [0, 1]</text>\n</g>\n<!-- 229&#45;&gt;230 -->\n<g id=\"edge230\" class=\"edge\">\n<title>229&#45;&gt;230</title>\n<path fill=\"none\" stroke=\"#000000\" d=\"M3279.0514,-88.9777C3273.7678,-80.187 3268.0684,-70.7044 3262.7452,-61.8477\"/>\n<polygon fill=\"#000000\" stroke=\"#000000\" points=\"3265.7282,-60.0165 3257.5768,-53.2485 3259.7285,-63.6225 3265.7282,-60.0165\"/>\n</g>\n<!-- 231 -->\n<g id=\"node232\" class=\"node\">\n<title>231</title>\n<polygon fill=\"none\" stroke=\"#000000\" points=\"3408,-53 3309,-53 3309,0 3408,0 3408,-53\"/>\n<text text-anchor=\"middle\" x=\"3358.5\" y=\"-37.8\" font-family=\"Helvetica,sans-Serif\" font-size=\"14.00\" fill=\"#000000\">gini = 0.5</text>\n<text text-anchor=\"middle\" x=\"3358.5\" y=\"-22.8\" font-family=\"Helvetica,sans-Serif\" font-size=\"14.00\" fill=\"#000000\">samples = 2</text>\n<text text-anchor=\"middle\" x=\"3358.5\" y=\"-7.8\" font-family=\"Helvetica,sans-Serif\" font-size=\"14.00\" fill=\"#000000\">value = [1, 1]</text>\n</g>\n<!-- 229&#45;&gt;231 -->\n<g id=\"edge231\" class=\"edge\">\n<title>229&#45;&gt;231</title>\n<path fill=\"none\" stroke=\"#000000\" d=\"M3320.3012,-88.9777C3325.6758,-80.187 3331.4735,-70.7044 3336.8885,-61.8477\"/>\n<polygon fill=\"#000000\" stroke=\"#000000\" points=\"3339.9158,-63.6059 3342.146,-53.2485 3333.9436,-59.9545 3339.9158,-63.6059\"/>\n</g>\n<!-- 235 -->\n<g id=\"node236\" class=\"node\">\n<title>235</title>\n<polygon fill=\"none\" stroke=\"#000000\" points=\"3473,-573 3370,-573 3370,-505 3473,-505 3473,-573\"/>\n<text text-anchor=\"middle\" x=\"3421.5\" y=\"-557.8\" font-family=\"Helvetica,sans-Serif\" font-size=\"14.00\" fill=\"#000000\">X[4] &lt;= 7.133</text>\n<text text-anchor=\"middle\" x=\"3421.5\" y=\"-542.8\" font-family=\"Helvetica,sans-Serif\" font-size=\"14.00\" fill=\"#000000\">gini = 0.444</text>\n<text text-anchor=\"middle\" x=\"3421.5\" y=\"-527.8\" font-family=\"Helvetica,sans-Serif\" font-size=\"14.00\" fill=\"#000000\">samples = 3</text>\n<text text-anchor=\"middle\" x=\"3421.5\" y=\"-512.8\" font-family=\"Helvetica,sans-Serif\" font-size=\"14.00\" fill=\"#000000\">value = [2, 1]</text>\n</g>\n<!-- 234&#45;&gt;235 -->\n<g id=\"edge235\" class=\"edge\">\n<title>234&#45;&gt;235</title>\n<path fill=\"none\" stroke=\"#000000\" d=\"M3435.6238,-608.9465C3433.9559,-600.6863 3432.1489,-591.7374 3430.4023,-583.0875\"/>\n<polygon fill=\"#000000\" stroke=\"#000000\" points=\"3433.8018,-582.2394 3428.3916,-573.13 3426.9402,-583.6249 3433.8018,-582.2394\"/>\n</g>\n<!-- 238 -->\n<g id=\"node239\" class=\"node\">\n<title>238</title>\n<polygon fill=\"none\" stroke=\"#000000\" points=\"3598,-573 3491,-573 3491,-505 3598,-505 3598,-573\"/>\n<text text-anchor=\"middle\" x=\"3544.5\" y=\"-557.8\" font-family=\"Helvetica,sans-Serif\" font-size=\"14.00\" fill=\"#000000\">X[1] &lt;= 26.5</text>\n<text text-anchor=\"middle\" x=\"3544.5\" y=\"-542.8\" font-family=\"Helvetica,sans-Serif\" font-size=\"14.00\" fill=\"#000000\">gini = 0.115</text>\n<text text-anchor=\"middle\" x=\"3544.5\" y=\"-527.8\" font-family=\"Helvetica,sans-Serif\" font-size=\"14.00\" fill=\"#000000\">samples = 49</text>\n<text text-anchor=\"middle\" x=\"3544.5\" y=\"-512.8\" font-family=\"Helvetica,sans-Serif\" font-size=\"14.00\" fill=\"#000000\">value = [46, 3]</text>\n</g>\n<!-- 234&#45;&gt;238 -->\n<g id=\"edge238\" class=\"edge\">\n<title>234&#45;&gt;238</title>\n<path fill=\"none\" stroke=\"#000000\" d=\"M3475.8986,-608.9465C3484.8806,-599.7884 3494.6928,-589.7838 3504.015,-580.2788\"/>\n<polygon fill=\"#000000\" stroke=\"#000000\" points=\"3506.523,-582.7201 3511.0263,-573.13 3501.5254,-577.8187 3506.523,-582.7201\"/>\n</g>\n<!-- 236 -->\n<g id=\"node237\" class=\"node\">\n<title>236</title>\n<polygon fill=\"none\" stroke=\"#000000\" points=\"3355,-461.5 3256,-461.5 3256,-408.5 3355,-408.5 3355,-461.5\"/>\n<text text-anchor=\"middle\" x=\"3305.5\" y=\"-446.3\" font-family=\"Helvetica,sans-Serif\" font-size=\"14.00\" fill=\"#000000\">gini = 0.0</text>\n<text text-anchor=\"middle\" x=\"3305.5\" y=\"-431.3\" font-family=\"Helvetica,sans-Serif\" font-size=\"14.00\" fill=\"#000000\">samples = 2</text>\n<text text-anchor=\"middle\" x=\"3305.5\" y=\"-416.3\" font-family=\"Helvetica,sans-Serif\" font-size=\"14.00\" fill=\"#000000\">value = [2, 0]</text>\n</g>\n<!-- 235&#45;&gt;236 -->\n<g id=\"edge236\" class=\"edge\">\n<title>235&#45;&gt;236</title>\n<path fill=\"none\" stroke=\"#000000\" d=\"M3383.5173,-504.9465C3370.3714,-493.1606 3355.6618,-479.9726 3342.5887,-468.2519\"/>\n<polygon fill=\"#000000\" stroke=\"#000000\" points=\"3344.8869,-465.6116 3335.1047,-461.5422 3340.214,-470.8236 3344.8869,-465.6116\"/>\n</g>\n<!-- 237 -->\n<g id=\"node238\" class=\"node\">\n<title>237</title>\n<polygon fill=\"none\" stroke=\"#000000\" points=\"3472,-461.5 3373,-461.5 3373,-408.5 3472,-408.5 3472,-461.5\"/>\n<text text-anchor=\"middle\" x=\"3422.5\" y=\"-446.3\" font-family=\"Helvetica,sans-Serif\" font-size=\"14.00\" fill=\"#000000\">gini = 0.0</text>\n<text text-anchor=\"middle\" x=\"3422.5\" y=\"-431.3\" font-family=\"Helvetica,sans-Serif\" font-size=\"14.00\" fill=\"#000000\">samples = 1</text>\n<text text-anchor=\"middle\" x=\"3422.5\" y=\"-416.3\" font-family=\"Helvetica,sans-Serif\" font-size=\"14.00\" fill=\"#000000\">value = [0, 1]</text>\n</g>\n<!-- 235&#45;&gt;237 -->\n<g id=\"edge237\" class=\"edge\">\n<title>235&#45;&gt;237</title>\n<path fill=\"none\" stroke=\"#000000\" d=\"M3421.8274,-504.9465C3421.9302,-494.2621 3422.044,-482.4254 3422.1483,-471.5742\"/>\n<polygon fill=\"#000000\" stroke=\"#000000\" points=\"3425.6484,-471.5754 3422.2448,-461.5422 3418.6487,-471.508 3425.6484,-471.5754\"/>\n</g>\n<!-- 239 -->\n<g id=\"node240\" class=\"node\">\n<title>239</title>\n<polygon fill=\"none\" stroke=\"#000000\" points=\"3598,-469 3491,-469 3491,-401 3598,-401 3598,-469\"/>\n<text text-anchor=\"middle\" x=\"3544.5\" y=\"-453.8\" font-family=\"Helvetica,sans-Serif\" font-size=\"14.00\" fill=\"#000000\">X[1] &lt;= 21.5</text>\n<text text-anchor=\"middle\" x=\"3544.5\" y=\"-438.8\" font-family=\"Helvetica,sans-Serif\" font-size=\"14.00\" fill=\"#000000\">gini = 0.05</text>\n<text text-anchor=\"middle\" x=\"3544.5\" y=\"-423.8\" font-family=\"Helvetica,sans-Serif\" font-size=\"14.00\" fill=\"#000000\">samples = 39</text>\n<text text-anchor=\"middle\" x=\"3544.5\" y=\"-408.8\" font-family=\"Helvetica,sans-Serif\" font-size=\"14.00\" fill=\"#000000\">value = [38, 1]</text>\n</g>\n<!-- 238&#45;&gt;239 -->\n<g id=\"edge239\" class=\"edge\">\n<title>238&#45;&gt;239</title>\n<path fill=\"none\" stroke=\"#000000\" d=\"M3544.5,-504.9465C3544.5,-496.776 3544.5,-487.9318 3544.5,-479.3697\"/>\n<polygon fill=\"#000000\" stroke=\"#000000\" points=\"3548.0001,-479.13 3544.5,-469.13 3541.0001,-479.13 3548.0001,-479.13\"/>\n</g>\n<!-- 246 -->\n<g id=\"node247\" class=\"node\">\n<title>246</title>\n<polygon fill=\"none\" stroke=\"#000000\" points=\"3720.5,-469 3616.5,-469 3616.5,-401 3720.5,-401 3720.5,-469\"/>\n<text text-anchor=\"middle\" x=\"3668.5\" y=\"-453.8\" font-family=\"Helvetica,sans-Serif\" font-size=\"14.00\" fill=\"#000000\">X[1] &lt;= 27.5</text>\n<text text-anchor=\"middle\" x=\"3668.5\" y=\"-438.8\" font-family=\"Helvetica,sans-Serif\" font-size=\"14.00\" fill=\"#000000\">gini = 0.32</text>\n<text text-anchor=\"middle\" x=\"3668.5\" y=\"-423.8\" font-family=\"Helvetica,sans-Serif\" font-size=\"14.00\" fill=\"#000000\">samples = 10</text>\n<text text-anchor=\"middle\" x=\"3668.5\" y=\"-408.8\" font-family=\"Helvetica,sans-Serif\" font-size=\"14.00\" fill=\"#000000\">value = [8, 2]</text>\n</g>\n<!-- 238&#45;&gt;246 -->\n<g id=\"edge246\" class=\"edge\">\n<title>238&#45;&gt;246</title>\n<path fill=\"none\" stroke=\"#000000\" d=\"M3585.1022,-504.9465C3596.2356,-495.6088 3608.4183,-485.3911 3619.9489,-475.7203\"/>\n<polygon fill=\"#000000\" stroke=\"#000000\" points=\"3622.3938,-478.2378 3627.8065,-469.13 3617.8954,-472.8745 3622.3938,-478.2378\"/>\n</g>\n<!-- 240 -->\n<g id=\"node241\" class=\"node\">\n<title>240</title>\n<polygon fill=\"none\" stroke=\"#000000\" points=\"3474,-365 3367,-365 3367,-297 3474,-297 3474,-365\"/>\n<text text-anchor=\"middle\" x=\"3420.5\" y=\"-349.8\" font-family=\"Helvetica,sans-Serif\" font-size=\"14.00\" fill=\"#000000\">X[4] &lt;= 7.798</text>\n<text text-anchor=\"middle\" x=\"3420.5\" y=\"-334.8\" font-family=\"Helvetica,sans-Serif\" font-size=\"14.00\" fill=\"#000000\">gini = 0.165</text>\n<text text-anchor=\"middle\" x=\"3420.5\" y=\"-319.8\" font-family=\"Helvetica,sans-Serif\" font-size=\"14.00\" fill=\"#000000\">samples = 11</text>\n<text text-anchor=\"middle\" x=\"3420.5\" y=\"-304.8\" font-family=\"Helvetica,sans-Serif\" font-size=\"14.00\" fill=\"#000000\">value = [10, 1]</text>\n</g>\n<!-- 239&#45;&gt;240 -->\n<g id=\"edge240\" class=\"edge\">\n<title>239&#45;&gt;240</title>\n<path fill=\"none\" stroke=\"#000000\" d=\"M3503.8978,-400.9465C3492.7644,-391.6088 3480.5817,-381.3911 3469.0511,-371.7203\"/>\n<polygon fill=\"#000000\" stroke=\"#000000\" points=\"3471.1046,-368.8745 3461.1935,-365.13 3466.6062,-374.2378 3471.1046,-368.8745\"/>\n</g>\n<!-- 245 -->\n<g id=\"node246\" class=\"node\">\n<title>245</title>\n<polygon fill=\"none\" stroke=\"#000000\" points=\"3599,-357.5 3492,-357.5 3492,-304.5 3599,-304.5 3599,-357.5\"/>\n<text text-anchor=\"middle\" x=\"3545.5\" y=\"-342.3\" font-family=\"Helvetica,sans-Serif\" font-size=\"14.00\" fill=\"#000000\">gini = 0.0</text>\n<text text-anchor=\"middle\" x=\"3545.5\" y=\"-327.3\" font-family=\"Helvetica,sans-Serif\" font-size=\"14.00\" fill=\"#000000\">samples = 28</text>\n<text text-anchor=\"middle\" x=\"3545.5\" y=\"-312.3\" font-family=\"Helvetica,sans-Serif\" font-size=\"14.00\" fill=\"#000000\">value = [28, 0]</text>\n</g>\n<!-- 239&#45;&gt;245 -->\n<g id=\"edge245\" class=\"edge\">\n<title>239&#45;&gt;245</title>\n<path fill=\"none\" stroke=\"#000000\" d=\"M3544.8274,-400.9465C3544.9302,-390.2621 3545.044,-378.4254 3545.1483,-367.5742\"/>\n<polygon fill=\"#000000\" stroke=\"#000000\" points=\"3548.6484,-367.5754 3545.2448,-357.5422 3541.6487,-367.508 3548.6484,-367.5754\"/>\n</g>\n<!-- 241 -->\n<g id=\"node242\" class=\"node\">\n<title>241</title>\n<polygon fill=\"none\" stroke=\"#000000\" points=\"3471,-261 3368,-261 3368,-193 3471,-193 3471,-261\"/>\n<text text-anchor=\"middle\" x=\"3419.5\" y=\"-245.8\" font-family=\"Helvetica,sans-Serif\" font-size=\"14.00\" fill=\"#000000\">X[4] &lt;= 7.785</text>\n<text text-anchor=\"middle\" x=\"3419.5\" y=\"-230.8\" font-family=\"Helvetica,sans-Serif\" font-size=\"14.00\" fill=\"#000000\">gini = 0.375</text>\n<text text-anchor=\"middle\" x=\"3419.5\" y=\"-215.8\" font-family=\"Helvetica,sans-Serif\" font-size=\"14.00\" fill=\"#000000\">samples = 4</text>\n<text text-anchor=\"middle\" x=\"3419.5\" y=\"-200.8\" font-family=\"Helvetica,sans-Serif\" font-size=\"14.00\" fill=\"#000000\">value = [3, 1]</text>\n</g>\n<!-- 240&#45;&gt;241 -->\n<g id=\"edge241\" class=\"edge\">\n<title>240&#45;&gt;241</title>\n<path fill=\"none\" stroke=\"#000000\" d=\"M3420.1726,-296.9465C3420.094,-288.776 3420.009,-279.9318 3419.9266,-271.3697\"/>\n<polygon fill=\"#000000\" stroke=\"#000000\" points=\"3423.4243,-271.0958 3419.8282,-261.13 3416.4246,-271.1632 3423.4243,-271.0958\"/>\n</g>\n<!-- 244 -->\n<g id=\"node245\" class=\"node\">\n<title>244</title>\n<polygon fill=\"none\" stroke=\"#000000\" points=\"3588,-253.5 3489,-253.5 3489,-200.5 3588,-200.5 3588,-253.5\"/>\n<text text-anchor=\"middle\" x=\"3538.5\" y=\"-238.3\" font-family=\"Helvetica,sans-Serif\" font-size=\"14.00\" fill=\"#000000\">gini = 0.0</text>\n<text text-anchor=\"middle\" x=\"3538.5\" y=\"-223.3\" font-family=\"Helvetica,sans-Serif\" font-size=\"14.00\" fill=\"#000000\">samples = 7</text>\n<text text-anchor=\"middle\" x=\"3538.5\" y=\"-208.3\" font-family=\"Helvetica,sans-Serif\" font-size=\"14.00\" fill=\"#000000\">value = [7, 0]</text>\n</g>\n<!-- 240&#45;&gt;244 -->\n<g id=\"edge244\" class=\"edge\">\n<title>240&#45;&gt;244</title>\n<path fill=\"none\" stroke=\"#000000\" d=\"M3459.1376,-296.9465C3472.5101,-285.1606 3487.4734,-271.9726 3500.7719,-260.2519\"/>\n<polygon fill=\"#000000\" stroke=\"#000000\" points=\"3503.197,-262.7799 3508.3849,-253.5422 3498.5685,-257.5285 3503.197,-262.7799\"/>\n</g>\n<!-- 242 -->\n<g id=\"node243\" class=\"node\">\n<title>242</title>\n<polygon fill=\"none\" stroke=\"#000000\" points=\"3468,-149.5 3369,-149.5 3369,-96.5 3468,-96.5 3468,-149.5\"/>\n<text text-anchor=\"middle\" x=\"3418.5\" y=\"-134.3\" font-family=\"Helvetica,sans-Serif\" font-size=\"14.00\" fill=\"#000000\">gini = 0.0</text>\n<text text-anchor=\"middle\" x=\"3418.5\" y=\"-119.3\" font-family=\"Helvetica,sans-Serif\" font-size=\"14.00\" fill=\"#000000\">samples = 3</text>\n<text text-anchor=\"middle\" x=\"3418.5\" y=\"-104.3\" font-family=\"Helvetica,sans-Serif\" font-size=\"14.00\" fill=\"#000000\">value = [3, 0]</text>\n</g>\n<!-- 241&#45;&gt;242 -->\n<g id=\"edge242\" class=\"edge\">\n<title>241&#45;&gt;242</title>\n<path fill=\"none\" stroke=\"#000000\" d=\"M3419.1726,-192.9465C3419.0698,-182.2621 3418.956,-170.4254 3418.8517,-159.5742\"/>\n<polygon fill=\"#000000\" stroke=\"#000000\" points=\"3422.3513,-159.508 3418.7552,-149.5422 3415.3516,-159.5754 3422.3513,-159.508\"/>\n</g>\n<!-- 243 -->\n<g id=\"node244\" class=\"node\">\n<title>243</title>\n<polygon fill=\"none\" stroke=\"#000000\" points=\"3585,-149.5 3486,-149.5 3486,-96.5 3585,-96.5 3585,-149.5\"/>\n<text text-anchor=\"middle\" x=\"3535.5\" y=\"-134.3\" font-family=\"Helvetica,sans-Serif\" font-size=\"14.00\" fill=\"#000000\">gini = 0.0</text>\n<text text-anchor=\"middle\" x=\"3535.5\" y=\"-119.3\" font-family=\"Helvetica,sans-Serif\" font-size=\"14.00\" fill=\"#000000\">samples = 1</text>\n<text text-anchor=\"middle\" x=\"3535.5\" y=\"-104.3\" font-family=\"Helvetica,sans-Serif\" font-size=\"14.00\" fill=\"#000000\">value = [0, 1]</text>\n</g>\n<!-- 241&#45;&gt;243 -->\n<g id=\"edge243\" class=\"edge\">\n<title>241&#45;&gt;243</title>\n<path fill=\"none\" stroke=\"#000000\" d=\"M3457.4827,-192.9465C3470.6286,-181.1606 3485.3382,-167.9726 3498.4113,-156.2519\"/>\n<polygon fill=\"#000000\" stroke=\"#000000\" points=\"3500.786,-158.8236 3505.8953,-149.5422 3496.1131,-153.6116 3500.786,-158.8236\"/>\n</g>\n<!-- 247 -->\n<g id=\"node248\" class=\"node\">\n<title>247</title>\n<polygon fill=\"none\" stroke=\"#000000\" points=\"3720,-365 3617,-365 3617,-297 3720,-297 3720,-365\"/>\n<text text-anchor=\"middle\" x=\"3668.5\" y=\"-349.8\" font-family=\"Helvetica,sans-Serif\" font-size=\"14.00\" fill=\"#000000\">X[4] &lt;= 7.846</text>\n<text text-anchor=\"middle\" x=\"3668.5\" y=\"-334.8\" font-family=\"Helvetica,sans-Serif\" font-size=\"14.00\" fill=\"#000000\">gini = 0.5</text>\n<text text-anchor=\"middle\" x=\"3668.5\" y=\"-319.8\" font-family=\"Helvetica,sans-Serif\" font-size=\"14.00\" fill=\"#000000\">samples = 4</text>\n<text text-anchor=\"middle\" x=\"3668.5\" y=\"-304.8\" font-family=\"Helvetica,sans-Serif\" font-size=\"14.00\" fill=\"#000000\">value = [2, 2]</text>\n</g>\n<!-- 246&#45;&gt;247 -->\n<g id=\"edge247\" class=\"edge\">\n<title>246&#45;&gt;247</title>\n<path fill=\"none\" stroke=\"#000000\" d=\"M3668.5,-400.9465C3668.5,-392.776 3668.5,-383.9318 3668.5,-375.3697\"/>\n<polygon fill=\"#000000\" stroke=\"#000000\" points=\"3672.0001,-375.13 3668.5,-365.13 3665.0001,-375.13 3672.0001,-375.13\"/>\n</g>\n<!-- 254 -->\n<g id=\"node255\" class=\"node\">\n<title>254</title>\n<polygon fill=\"none\" stroke=\"#000000\" points=\"3837,-357.5 3738,-357.5 3738,-304.5 3837,-304.5 3837,-357.5\"/>\n<text text-anchor=\"middle\" x=\"3787.5\" y=\"-342.3\" font-family=\"Helvetica,sans-Serif\" font-size=\"14.00\" fill=\"#000000\">gini = 0.0</text>\n<text text-anchor=\"middle\" x=\"3787.5\" y=\"-327.3\" font-family=\"Helvetica,sans-Serif\" font-size=\"14.00\" fill=\"#000000\">samples = 6</text>\n<text text-anchor=\"middle\" x=\"3787.5\" y=\"-312.3\" font-family=\"Helvetica,sans-Serif\" font-size=\"14.00\" fill=\"#000000\">value = [6, 0]</text>\n</g>\n<!-- 246&#45;&gt;254 -->\n<g id=\"edge254\" class=\"edge\">\n<title>246&#45;&gt;254</title>\n<path fill=\"none\" stroke=\"#000000\" d=\"M3707.4651,-400.9465C3720.9509,-389.1606 3736.0409,-375.9726 3749.4521,-364.2519\"/>\n<polygon fill=\"#000000\" stroke=\"#000000\" points=\"3751.9031,-366.7582 3757.1296,-357.5422 3747.2967,-361.4874 3751.9031,-366.7582\"/>\n</g>\n<!-- 248 -->\n<g id=\"node249\" class=\"node\">\n<title>248</title>\n<polygon fill=\"none\" stroke=\"#000000\" points=\"3711,-253.5 3612,-253.5 3612,-200.5 3711,-200.5 3711,-253.5\"/>\n<text text-anchor=\"middle\" x=\"3661.5\" y=\"-238.3\" font-family=\"Helvetica,sans-Serif\" font-size=\"14.00\" fill=\"#000000\">gini = 0.0</text>\n<text text-anchor=\"middle\" x=\"3661.5\" y=\"-223.3\" font-family=\"Helvetica,sans-Serif\" font-size=\"14.00\" fill=\"#000000\">samples = 1</text>\n<text text-anchor=\"middle\" x=\"3661.5\" y=\"-208.3\" font-family=\"Helvetica,sans-Serif\" font-size=\"14.00\" fill=\"#000000\">value = [0, 1]</text>\n</g>\n<!-- 247&#45;&gt;248 -->\n<g id=\"edge248\" class=\"edge\">\n<title>247&#45;&gt;248</title>\n<path fill=\"none\" stroke=\"#000000\" d=\"M3666.2079,-296.9465C3665.4888,-286.2621 3664.6921,-274.4254 3663.9617,-263.5742\"/>\n<polygon fill=\"#000000\" stroke=\"#000000\" points=\"3667.4502,-263.2845 3663.2865,-253.5422 3660.466,-263.7547 3667.4502,-263.2845\"/>\n</g>\n<!-- 249 -->\n<g id=\"node250\" class=\"node\">\n<title>249</title>\n<polygon fill=\"none\" stroke=\"#000000\" points=\"3828,-261 3729,-261 3729,-193 3828,-193 3828,-261\"/>\n<text text-anchor=\"middle\" x=\"3778.5\" y=\"-245.8\" font-family=\"Helvetica,sans-Serif\" font-size=\"14.00\" fill=\"#000000\">X[3] &lt;= 0.5</text>\n<text text-anchor=\"middle\" x=\"3778.5\" y=\"-230.8\" font-family=\"Helvetica,sans-Serif\" font-size=\"14.00\" fill=\"#000000\">gini = 0.444</text>\n<text text-anchor=\"middle\" x=\"3778.5\" y=\"-215.8\" font-family=\"Helvetica,sans-Serif\" font-size=\"14.00\" fill=\"#000000\">samples = 3</text>\n<text text-anchor=\"middle\" x=\"3778.5\" y=\"-200.8\" font-family=\"Helvetica,sans-Serif\" font-size=\"14.00\" fill=\"#000000\">value = [2, 1]</text>\n</g>\n<!-- 247&#45;&gt;249 -->\n<g id=\"edge249\" class=\"edge\">\n<title>247&#45;&gt;249</title>\n<path fill=\"none\" stroke=\"#000000\" d=\"M3704.5181,-296.9465C3714.2046,-287.7884 3724.7864,-277.7838 3734.8397,-268.2788\"/>\n<polygon fill=\"#000000\" stroke=\"#000000\" points=\"3737.539,-270.5434 3742.401,-261.13 3732.7299,-265.4569 3737.539,-270.5434\"/>\n</g>\n<!-- 250 -->\n<g id=\"node251\" class=\"node\">\n<title>250</title>\n<polygon fill=\"none\" stroke=\"#000000\" points=\"3770,-157 3667,-157 3667,-89 3770,-89 3770,-157\"/>\n<text text-anchor=\"middle\" x=\"3718.5\" y=\"-141.8\" font-family=\"Helvetica,sans-Serif\" font-size=\"14.00\" fill=\"#000000\">X[4] &lt;= 8.279</text>\n<text text-anchor=\"middle\" x=\"3718.5\" y=\"-126.8\" font-family=\"Helvetica,sans-Serif\" font-size=\"14.00\" fill=\"#000000\">gini = 0.5</text>\n<text text-anchor=\"middle\" x=\"3718.5\" y=\"-111.8\" font-family=\"Helvetica,sans-Serif\" font-size=\"14.00\" fill=\"#000000\">samples = 2</text>\n<text text-anchor=\"middle\" x=\"3718.5\" y=\"-96.8\" font-family=\"Helvetica,sans-Serif\" font-size=\"14.00\" fill=\"#000000\">value = [1, 1]</text>\n</g>\n<!-- 249&#45;&gt;250 -->\n<g id=\"edge250\" class=\"edge\">\n<title>249&#45;&gt;250</title>\n<path fill=\"none\" stroke=\"#000000\" d=\"M3758.8538,-192.9465C3753.881,-184.3271 3748.4757,-174.9579 3743.2852,-165.9611\"/>\n<polygon fill=\"#000000\" stroke=\"#000000\" points=\"3746.2193,-164.0428 3738.1904,-157.13 3740.156,-167.5409 3746.2193,-164.0428\"/>\n</g>\n<!-- 253 -->\n<g id=\"node254\" class=\"node\">\n<title>253</title>\n<polygon fill=\"none\" stroke=\"#000000\" points=\"3887,-149.5 3788,-149.5 3788,-96.5 3887,-96.5 3887,-149.5\"/>\n<text text-anchor=\"middle\" x=\"3837.5\" y=\"-134.3\" font-family=\"Helvetica,sans-Serif\" font-size=\"14.00\" fill=\"#000000\">gini = 0.0</text>\n<text text-anchor=\"middle\" x=\"3837.5\" y=\"-119.3\" font-family=\"Helvetica,sans-Serif\" font-size=\"14.00\" fill=\"#000000\">samples = 1</text>\n<text text-anchor=\"middle\" x=\"3837.5\" y=\"-104.3\" font-family=\"Helvetica,sans-Serif\" font-size=\"14.00\" fill=\"#000000\">value = [1, 0]</text>\n</g>\n<!-- 249&#45;&gt;253 -->\n<g id=\"edge253\" class=\"edge\">\n<title>249&#45;&gt;253</title>\n<path fill=\"none\" stroke=\"#000000\" d=\"M3797.8188,-192.9465C3804.0676,-181.9316 3811.0112,-169.6922 3817.3207,-158.5703\"/>\n<polygon fill=\"#000000\" stroke=\"#000000\" points=\"3820.5523,-159.967 3822.4424,-149.5422 3814.4638,-156.513 3820.5523,-159.967\"/>\n</g>\n<!-- 251 -->\n<g id=\"node252\" class=\"node\">\n<title>251</title>\n<polygon fill=\"none\" stroke=\"#000000\" points=\"3709,-53 3610,-53 3610,0 3709,0 3709,-53\"/>\n<text text-anchor=\"middle\" x=\"3659.5\" y=\"-37.8\" font-family=\"Helvetica,sans-Serif\" font-size=\"14.00\" fill=\"#000000\">gini = 0.0</text>\n<text text-anchor=\"middle\" x=\"3659.5\" y=\"-22.8\" font-family=\"Helvetica,sans-Serif\" font-size=\"14.00\" fill=\"#000000\">samples = 1</text>\n<text text-anchor=\"middle\" x=\"3659.5\" y=\"-7.8\" font-family=\"Helvetica,sans-Serif\" font-size=\"14.00\" fill=\"#000000\">value = [1, 0]</text>\n</g>\n<!-- 250&#45;&gt;251 -->\n<g id=\"edge251\" class=\"edge\">\n<title>250&#45;&gt;251</title>\n<path fill=\"none\" stroke=\"#000000\" d=\"M3697.6988,-88.9777C3692.3242,-80.187 3686.5265,-70.7044 3681.1115,-61.8477\"/>\n<polygon fill=\"#000000\" stroke=\"#000000\" points=\"3684.0564,-59.9545 3675.854,-53.2485 3678.0842,-63.6059 3684.0564,-59.9545\"/>\n</g>\n<!-- 252 -->\n<g id=\"node253\" class=\"node\">\n<title>252</title>\n<polygon fill=\"none\" stroke=\"#000000\" points=\"3826,-53 3727,-53 3727,0 3826,0 3826,-53\"/>\n<text text-anchor=\"middle\" x=\"3776.5\" y=\"-37.8\" font-family=\"Helvetica,sans-Serif\" font-size=\"14.00\" fill=\"#000000\">gini = 0.0</text>\n<text text-anchor=\"middle\" x=\"3776.5\" y=\"-22.8\" font-family=\"Helvetica,sans-Serif\" font-size=\"14.00\" fill=\"#000000\">samples = 1</text>\n<text text-anchor=\"middle\" x=\"3776.5\" y=\"-7.8\" font-family=\"Helvetica,sans-Serif\" font-size=\"14.00\" fill=\"#000000\">value = [0, 1]</text>\n</g>\n<!-- 250&#45;&gt;252 -->\n<g id=\"edge252\" class=\"edge\">\n<title>250&#45;&gt;252</title>\n<path fill=\"none\" stroke=\"#000000\" d=\"M3738.9486,-88.9777C3744.2322,-80.187 3749.9316,-70.7044 3755.2548,-61.8477\"/>\n<polygon fill=\"#000000\" stroke=\"#000000\" points=\"3758.2715,-63.6225 3760.4232,-53.2485 3752.2718,-60.0165 3758.2715,-63.6225\"/>\n</g>\n<!-- 256 -->\n<g id=\"node257\" class=\"node\">\n<title>256</title>\n<polygon fill=\"none\" stroke=\"#000000\" points=\"3613,-781 3514,-781 3514,-713 3613,-713 3613,-781\"/>\n<text text-anchor=\"middle\" x=\"3563.5\" y=\"-765.8\" font-family=\"Helvetica,sans-Serif\" font-size=\"14.00\" fill=\"#000000\">X[3] &lt;= 0.5</text>\n<text text-anchor=\"middle\" x=\"3563.5\" y=\"-750.8\" font-family=\"Helvetica,sans-Serif\" font-size=\"14.00\" fill=\"#000000\">gini = 0.444</text>\n<text text-anchor=\"middle\" x=\"3563.5\" y=\"-735.8\" font-family=\"Helvetica,sans-Serif\" font-size=\"14.00\" fill=\"#000000\">samples = 3</text>\n<text text-anchor=\"middle\" x=\"3563.5\" y=\"-720.8\" font-family=\"Helvetica,sans-Serif\" font-size=\"14.00\" fill=\"#000000\">value = [2, 1]</text>\n</g>\n<!-- 255&#45;&gt;256 -->\n<g id=\"edge256\" class=\"edge\">\n<title>255&#45;&gt;256</title>\n<path fill=\"none\" stroke=\"#000000\" d=\"M3596.4556,-816.9465C3592.4368,-808.4169 3588.0721,-799.153 3583.8738,-790.2424\"/>\n<polygon fill=\"#000000\" stroke=\"#000000\" points=\"3587.0089,-788.6844 3579.5805,-781.13 3580.6765,-791.668 3587.0089,-788.6844\"/>\n</g>\n<!-- 261 -->\n<g id=\"node262\" class=\"node\">\n<title>261</title>\n<polygon fill=\"none\" stroke=\"#000000\" points=\"3730,-773.5 3631,-773.5 3631,-720.5 3730,-720.5 3730,-773.5\"/>\n<text text-anchor=\"middle\" x=\"3680.5\" y=\"-758.3\" font-family=\"Helvetica,sans-Serif\" font-size=\"14.00\" fill=\"#000000\">gini = 0.0</text>\n<text text-anchor=\"middle\" x=\"3680.5\" y=\"-743.3\" font-family=\"Helvetica,sans-Serif\" font-size=\"14.00\" fill=\"#000000\">samples = 2</text>\n<text text-anchor=\"middle\" x=\"3680.5\" y=\"-728.3\" font-family=\"Helvetica,sans-Serif\" font-size=\"14.00\" fill=\"#000000\">value = [0, 2]</text>\n</g>\n<!-- 255&#45;&gt;261 -->\n<g id=\"edge261\" class=\"edge\">\n<title>255&#45;&gt;261</title>\n<path fill=\"none\" stroke=\"#000000\" d=\"M3634.7657,-816.9465C3642.0398,-805.8215 3650.1306,-793.4473 3657.4604,-782.237\"/>\n<polygon fill=\"#000000\" stroke=\"#000000\" points=\"3660.6024,-783.8273 3663.1455,-773.5422 3654.7436,-779.9965 3660.6024,-783.8273\"/>\n</g>\n<!-- 257 -->\n<g id=\"node258\" class=\"node\">\n<title>257</title>\n<polygon fill=\"none\" stroke=\"#000000\" points=\"3617,-677 3514,-677 3514,-609 3617,-609 3617,-677\"/>\n<text text-anchor=\"middle\" x=\"3565.5\" y=\"-661.8\" font-family=\"Helvetica,sans-Serif\" font-size=\"14.00\" fill=\"#000000\">X[4] &lt;= 7.763</text>\n<text text-anchor=\"middle\" x=\"3565.5\" y=\"-646.8\" font-family=\"Helvetica,sans-Serif\" font-size=\"14.00\" fill=\"#000000\">gini = 0.5</text>\n<text text-anchor=\"middle\" x=\"3565.5\" y=\"-631.8\" font-family=\"Helvetica,sans-Serif\" font-size=\"14.00\" fill=\"#000000\">samples = 2</text>\n<text text-anchor=\"middle\" x=\"3565.5\" y=\"-616.8\" font-family=\"Helvetica,sans-Serif\" font-size=\"14.00\" fill=\"#000000\">value = [1, 1]</text>\n</g>\n<!-- 256&#45;&gt;257 -->\n<g id=\"edge257\" class=\"edge\">\n<title>256&#45;&gt;257</title>\n<path fill=\"none\" stroke=\"#000000\" d=\"M3564.1549,-712.9465C3564.312,-704.776 3564.4821,-695.9318 3564.6467,-687.3697\"/>\n<polygon fill=\"#000000\" stroke=\"#000000\" points=\"3568.1506,-687.1955 3564.8437,-677.13 3561.1519,-687.0608 3568.1506,-687.1955\"/>\n</g>\n<!-- 260 -->\n<g id=\"node261\" class=\"node\">\n<title>260</title>\n<polygon fill=\"none\" stroke=\"#000000\" points=\"3734,-669.5 3635,-669.5 3635,-616.5 3734,-616.5 3734,-669.5\"/>\n<text text-anchor=\"middle\" x=\"3684.5\" y=\"-654.3\" font-family=\"Helvetica,sans-Serif\" font-size=\"14.00\" fill=\"#000000\">gini = 0.0</text>\n<text text-anchor=\"middle\" x=\"3684.5\" y=\"-639.3\" font-family=\"Helvetica,sans-Serif\" font-size=\"14.00\" fill=\"#000000\">samples = 1</text>\n<text text-anchor=\"middle\" x=\"3684.5\" y=\"-624.3\" font-family=\"Helvetica,sans-Serif\" font-size=\"14.00\" fill=\"#000000\">value = [1, 0]</text>\n</g>\n<!-- 256&#45;&gt;260 -->\n<g id=\"edge260\" class=\"edge\">\n<title>256&#45;&gt;260</title>\n<path fill=\"none\" stroke=\"#000000\" d=\"M3603.1199,-712.9465C3616.8324,-701.1606 3632.1761,-687.9726 3645.8127,-676.2519\"/>\n<polygon fill=\"#000000\" stroke=\"#000000\" points=\"3648.3169,-678.7147 3653.6192,-669.5422 3643.7541,-673.4061 3648.3169,-678.7147\"/>\n</g>\n<!-- 258 -->\n<g id=\"node259\" class=\"node\">\n<title>258</title>\n<polygon fill=\"none\" stroke=\"#000000\" points=\"3715,-565.5 3616,-565.5 3616,-512.5 3715,-512.5 3715,-565.5\"/>\n<text text-anchor=\"middle\" x=\"3665.5\" y=\"-550.3\" font-family=\"Helvetica,sans-Serif\" font-size=\"14.00\" fill=\"#000000\">gini = 0.0</text>\n<text text-anchor=\"middle\" x=\"3665.5\" y=\"-535.3\" font-family=\"Helvetica,sans-Serif\" font-size=\"14.00\" fill=\"#000000\">samples = 1</text>\n<text text-anchor=\"middle\" x=\"3665.5\" y=\"-520.3\" font-family=\"Helvetica,sans-Serif\" font-size=\"14.00\" fill=\"#000000\">value = [0, 1]</text>\n</g>\n<!-- 257&#45;&gt;258 -->\n<g id=\"edge258\" class=\"edge\">\n<title>257&#45;&gt;258</title>\n<path fill=\"none\" stroke=\"#000000\" d=\"M3598.2437,-608.9465C3609.3646,-597.3809 3621.7835,-584.4652 3632.8936,-572.9107\"/>\n<polygon fill=\"#000000\" stroke=\"#000000\" points=\"3635.5705,-575.1764 3639.9787,-565.5422 3630.5246,-570.3246 3635.5705,-575.1764\"/>\n</g>\n<!-- 259 -->\n<g id=\"node260\" class=\"node\">\n<title>259</title>\n<polygon fill=\"none\" stroke=\"#000000\" points=\"3832,-565.5 3733,-565.5 3733,-512.5 3832,-512.5 3832,-565.5\"/>\n<text text-anchor=\"middle\" x=\"3782.5\" y=\"-550.3\" font-family=\"Helvetica,sans-Serif\" font-size=\"14.00\" fill=\"#000000\">gini = 0.0</text>\n<text text-anchor=\"middle\" x=\"3782.5\" y=\"-535.3\" font-family=\"Helvetica,sans-Serif\" font-size=\"14.00\" fill=\"#000000\">samples = 1</text>\n<text text-anchor=\"middle\" x=\"3782.5\" y=\"-520.3\" font-family=\"Helvetica,sans-Serif\" font-size=\"14.00\" fill=\"#000000\">value = [1, 0]</text>\n</g>\n<!-- 257&#45;&gt;259 -->\n<g id=\"edge259\" class=\"edge\">\n<title>257&#45;&gt;259</title>\n<path fill=\"none\" stroke=\"#000000\" d=\"M3617.2609,-612.9826C3620.0263,-611.5947 3622.784,-610.2581 3625.5,-609 3667.6035,-589.4966 3681.4674,-592.6557 3723.5,-573 3725.3072,-572.1549 3727.1324,-571.2735 3728.9656,-570.3643\"/>\n<polygon fill=\"#000000\" stroke=\"#000000\" points=\"3730.8681,-573.3211 3738.1496,-565.6249 3727.658,-567.1005 3730.8681,-573.3211\"/>\n</g>\n<!-- 263 -->\n<g id=\"node264\" class=\"node\">\n<title>263</title>\n<polygon fill=\"none\" stroke=\"#000000\" points=\"3972,-885 3865,-885 3865,-817 3972,-817 3972,-885\"/>\n<text text-anchor=\"middle\" x=\"3918.5\" y=\"-869.8\" font-family=\"Helvetica,sans-Serif\" font-size=\"14.00\" fill=\"#000000\">X[4] &lt;= 7.763</text>\n<text text-anchor=\"middle\" x=\"3918.5\" y=\"-854.8\" font-family=\"Helvetica,sans-Serif\" font-size=\"14.00\" fill=\"#000000\">gini = 0.17</text>\n<text text-anchor=\"middle\" x=\"3918.5\" y=\"-839.8\" font-family=\"Helvetica,sans-Serif\" font-size=\"14.00\" fill=\"#000000\">samples = 32</text>\n<text text-anchor=\"middle\" x=\"3918.5\" y=\"-824.8\" font-family=\"Helvetica,sans-Serif\" font-size=\"14.00\" fill=\"#000000\">value = [29, 3]</text>\n</g>\n<!-- 262&#45;&gt;263 -->\n<g id=\"edge263\" class=\"edge\">\n<title>262&#45;&gt;263</title>\n<path fill=\"none\" stroke=\"#000000\" d=\"M3960.8714,-920.9465C3955.6501,-912.3271 3949.9745,-902.9579 3944.5245,-893.9611\"/>\n<polygon fill=\"#000000\" stroke=\"#000000\" points=\"3947.3497,-891.8697 3939.1749,-885.13 3941.3626,-895.4965 3947.3497,-891.8697\"/>\n</g>\n<!-- 278 -->\n<g id=\"node279\" class=\"node\">\n<title>278</title>\n<polygon fill=\"none\" stroke=\"#000000\" points=\"4097,-885 3990,-885 3990,-817 4097,-817 4097,-885\"/>\n<text text-anchor=\"middle\" x=\"4043.5\" y=\"-869.8\" font-family=\"Helvetica,sans-Serif\" font-size=\"14.00\" fill=\"#000000\">X[1] &lt;= 29.85</text>\n<text text-anchor=\"middle\" x=\"4043.5\" y=\"-854.8\" font-family=\"Helvetica,sans-Serif\" font-size=\"14.00\" fill=\"#000000\">gini = 0.051</text>\n<text text-anchor=\"middle\" x=\"4043.5\" y=\"-839.8\" font-family=\"Helvetica,sans-Serif\" font-size=\"14.00\" fill=\"#000000\">samples = 38</text>\n<text text-anchor=\"middle\" x=\"4043.5\" y=\"-824.8\" font-family=\"Helvetica,sans-Serif\" font-size=\"14.00\" fill=\"#000000\">value = [37, 1]</text>\n</g>\n<!-- 262&#45;&gt;278 -->\n<g id=\"edge278\" class=\"edge\">\n<title>262&#45;&gt;278</title>\n<path fill=\"none\" stroke=\"#000000\" d=\"M4001.8011,-920.9465C4006.9396,-912.3271 4012.5251,-902.9579 4017.8886,-893.9611\"/>\n<polygon fill=\"#000000\" stroke=\"#000000\" points=\"4021.0389,-895.5117 4023.1533,-885.13 4015.0263,-891.9272 4021.0389,-895.5117\"/>\n</g>\n<!-- 264 -->\n<g id=\"node265\" class=\"node\">\n<title>264</title>\n<polygon fill=\"none\" stroke=\"#000000\" points=\"3855,-781 3748,-781 3748,-713 3855,-713 3855,-781\"/>\n<text text-anchor=\"middle\" x=\"3801.5\" y=\"-765.8\" font-family=\"Helvetica,sans-Serif\" font-size=\"14.00\" fill=\"#000000\">X[4] &lt;= 7.227</text>\n<text text-anchor=\"middle\" x=\"3801.5\" y=\"-750.8\" font-family=\"Helvetica,sans-Serif\" font-size=\"14.00\" fill=\"#000000\">gini = 0.121</text>\n<text text-anchor=\"middle\" x=\"3801.5\" y=\"-735.8\" font-family=\"Helvetica,sans-Serif\" font-size=\"14.00\" fill=\"#000000\">samples = 31</text>\n<text text-anchor=\"middle\" x=\"3801.5\" y=\"-720.8\" font-family=\"Helvetica,sans-Serif\" font-size=\"14.00\" fill=\"#000000\">value = [29, 2]</text>\n</g>\n<!-- 263&#45;&gt;264 -->\n<g id=\"edge264\" class=\"edge\">\n<title>263&#45;&gt;264</title>\n<path fill=\"none\" stroke=\"#000000\" d=\"M3880.1898,-816.9465C3869.7859,-807.6986 3858.411,-797.5876 3847.6243,-787.9994\"/>\n<polygon fill=\"#000000\" stroke=\"#000000\" points=\"3849.6956,-785.1577 3839.8962,-781.13 3845.0451,-790.3896 3849.6956,-785.1577\"/>\n</g>\n<!-- 277 -->\n<g id=\"node278\" class=\"node\">\n<title>277</title>\n<polygon fill=\"none\" stroke=\"#000000\" points=\"3972,-773.5 3873,-773.5 3873,-720.5 3972,-720.5 3972,-773.5\"/>\n<text text-anchor=\"middle\" x=\"3922.5\" y=\"-758.3\" font-family=\"Helvetica,sans-Serif\" font-size=\"14.00\" fill=\"#000000\">gini = 0.0</text>\n<text text-anchor=\"middle\" x=\"3922.5\" y=\"-743.3\" font-family=\"Helvetica,sans-Serif\" font-size=\"14.00\" fill=\"#000000\">samples = 1</text>\n<text text-anchor=\"middle\" x=\"3922.5\" y=\"-728.3\" font-family=\"Helvetica,sans-Serif\" font-size=\"14.00\" fill=\"#000000\">value = [0, 1]</text>\n</g>\n<!-- 263&#45;&gt;277 -->\n<g id=\"edge277\" class=\"edge\">\n<title>263&#45;&gt;277</title>\n<path fill=\"none\" stroke=\"#000000\" d=\"M3919.8097,-816.9465C3920.2207,-806.2621 3920.6759,-794.4254 3921.0933,-783.5742\"/>\n<polygon fill=\"#000000\" stroke=\"#000000\" points=\"3924.5921,-783.6693 3921.4791,-773.5422 3917.5973,-783.4002 3924.5921,-783.6693\"/>\n</g>\n<!-- 265 -->\n<g id=\"node266\" class=\"node\">\n<title>265</title>\n<polygon fill=\"none\" stroke=\"#000000\" points=\"3851,-669.5 3752,-669.5 3752,-616.5 3851,-616.5 3851,-669.5\"/>\n<text text-anchor=\"middle\" x=\"3801.5\" y=\"-654.3\" font-family=\"Helvetica,sans-Serif\" font-size=\"14.00\" fill=\"#000000\">gini = 0.0</text>\n<text text-anchor=\"middle\" x=\"3801.5\" y=\"-639.3\" font-family=\"Helvetica,sans-Serif\" font-size=\"14.00\" fill=\"#000000\">samples = 5</text>\n<text text-anchor=\"middle\" x=\"3801.5\" y=\"-624.3\" font-family=\"Helvetica,sans-Serif\" font-size=\"14.00\" fill=\"#000000\">value = [5, 0]</text>\n</g>\n<!-- 264&#45;&gt;265 -->\n<g id=\"edge265\" class=\"edge\">\n<title>264&#45;&gt;265</title>\n<path fill=\"none\" stroke=\"#000000\" d=\"M3801.5,-712.9465C3801.5,-702.2621 3801.5,-690.4254 3801.5,-679.5742\"/>\n<polygon fill=\"#000000\" stroke=\"#000000\" points=\"3805.0001,-679.5421 3801.5,-669.5422 3798.0001,-679.5422 3805.0001,-679.5421\"/>\n</g>\n<!-- 266 -->\n<g id=\"node267\" class=\"node\">\n<title>266</title>\n<polygon fill=\"none\" stroke=\"#000000\" points=\"3976,-677 3869,-677 3869,-609 3976,-609 3976,-677\"/>\n<text text-anchor=\"middle\" x=\"3922.5\" y=\"-661.8\" font-family=\"Helvetica,sans-Serif\" font-size=\"14.00\" fill=\"#000000\">X[4] &lt;= 7.24</text>\n<text text-anchor=\"middle\" x=\"3922.5\" y=\"-646.8\" font-family=\"Helvetica,sans-Serif\" font-size=\"14.00\" fill=\"#000000\">gini = 0.142</text>\n<text text-anchor=\"middle\" x=\"3922.5\" y=\"-631.8\" font-family=\"Helvetica,sans-Serif\" font-size=\"14.00\" fill=\"#000000\">samples = 26</text>\n<text text-anchor=\"middle\" x=\"3922.5\" y=\"-616.8\" font-family=\"Helvetica,sans-Serif\" font-size=\"14.00\" fill=\"#000000\">value = [24, 2]</text>\n</g>\n<!-- 264&#45;&gt;266 -->\n<g id=\"edge266\" class=\"edge\">\n<title>264&#45;&gt;266</title>\n<path fill=\"none\" stroke=\"#000000\" d=\"M3841.1199,-712.9465C3851.984,-703.6088 3863.8718,-693.3911 3875.1235,-683.7203\"/>\n<polygon fill=\"#000000\" stroke=\"#000000\" points=\"3877.4887,-686.3026 3882.7911,-677.13 3872.9259,-680.994 3877.4887,-686.3026\"/>\n</g>\n<!-- 267 -->\n<g id=\"node268\" class=\"node\">\n<title>267</title>\n<polygon fill=\"none\" stroke=\"#000000\" points=\"3964,-573 3861,-573 3861,-505 3964,-505 3964,-573\"/>\n<text text-anchor=\"middle\" x=\"3912.5\" y=\"-557.8\" font-family=\"Helvetica,sans-Serif\" font-size=\"14.00\" fill=\"#000000\">X[1] &lt;= 29.85</text>\n<text text-anchor=\"middle\" x=\"3912.5\" y=\"-542.8\" font-family=\"Helvetica,sans-Serif\" font-size=\"14.00\" fill=\"#000000\">gini = 0.278</text>\n<text text-anchor=\"middle\" x=\"3912.5\" y=\"-527.8\" font-family=\"Helvetica,sans-Serif\" font-size=\"14.00\" fill=\"#000000\">samples = 6</text>\n<text text-anchor=\"middle\" x=\"3912.5\" y=\"-512.8\" font-family=\"Helvetica,sans-Serif\" font-size=\"14.00\" fill=\"#000000\">value = [5, 1]</text>\n</g>\n<!-- 266&#45;&gt;267 -->\n<g id=\"edge267\" class=\"edge\">\n<title>266&#45;&gt;267</title>\n<path fill=\"none\" stroke=\"#000000\" d=\"M3919.2256,-608.9465C3918.4314,-600.6863 3917.5709,-591.7374 3916.7392,-583.0875\"/>\n<polygon fill=\"#000000\" stroke=\"#000000\" points=\"3920.2229,-582.7491 3915.7817,-573.13 3913.255,-583.4191 3920.2229,-582.7491\"/>\n</g>\n<!-- 270 -->\n<g id=\"node271\" class=\"node\">\n<title>270</title>\n<polygon fill=\"none\" stroke=\"#000000\" points=\"4089,-573 3982,-573 3982,-505 4089,-505 4089,-573\"/>\n<text text-anchor=\"middle\" x=\"4035.5\" y=\"-557.8\" font-family=\"Helvetica,sans-Serif\" font-size=\"14.00\" fill=\"#000000\">X[4] &lt;= 7.744</text>\n<text text-anchor=\"middle\" x=\"4035.5\" y=\"-542.8\" font-family=\"Helvetica,sans-Serif\" font-size=\"14.00\" fill=\"#000000\">gini = 0.095</text>\n<text text-anchor=\"middle\" x=\"4035.5\" y=\"-527.8\" font-family=\"Helvetica,sans-Serif\" font-size=\"14.00\" fill=\"#000000\">samples = 20</text>\n<text text-anchor=\"middle\" x=\"4035.5\" y=\"-512.8\" font-family=\"Helvetica,sans-Serif\" font-size=\"14.00\" fill=\"#000000\">value = [19, 1]</text>\n</g>\n<!-- 266&#45;&gt;270 -->\n<g id=\"edge270\" class=\"edge\">\n<title>266&#45;&gt;270</title>\n<path fill=\"none\" stroke=\"#000000\" d=\"M3959.5004,-608.9465C3969.5486,-599.6986 3980.5347,-589.5876 3990.9526,-579.9994\"/>\n<polygon fill=\"#000000\" stroke=\"#000000\" points=\"3993.4286,-582.4773 3998.4164,-573.13 3988.6882,-577.3267 3993.4286,-582.4773\"/>\n</g>\n<!-- 268 -->\n<g id=\"node269\" class=\"node\">\n<title>268</title>\n<polygon fill=\"none\" stroke=\"#000000\" points=\"3847,-461.5 3748,-461.5 3748,-408.5 3847,-408.5 3847,-461.5\"/>\n<text text-anchor=\"middle\" x=\"3797.5\" y=\"-446.3\" font-family=\"Helvetica,sans-Serif\" font-size=\"14.00\" fill=\"#000000\">gini = 0.32</text>\n<text text-anchor=\"middle\" x=\"3797.5\" y=\"-431.3\" font-family=\"Helvetica,sans-Serif\" font-size=\"14.00\" fill=\"#000000\">samples = 5</text>\n<text text-anchor=\"middle\" x=\"3797.5\" y=\"-416.3\" font-family=\"Helvetica,sans-Serif\" font-size=\"14.00\" fill=\"#000000\">value = [4, 1]</text>\n</g>\n<!-- 267&#45;&gt;268 -->\n<g id=\"edge268\" class=\"edge\">\n<title>267&#45;&gt;268</title>\n<path fill=\"none\" stroke=\"#000000\" d=\"M3874.8447,-504.9465C3861.8122,-493.1606 3847.2294,-479.9726 3834.2689,-468.2519\"/>\n<polygon fill=\"#000000\" stroke=\"#000000\" points=\"3836.614,-465.6537 3826.8495,-461.5422 3831.9188,-470.8456 3836.614,-465.6537\"/>\n</g>\n<!-- 269 -->\n<g id=\"node270\" class=\"node\">\n<title>269</title>\n<polygon fill=\"none\" stroke=\"#000000\" points=\"3964,-461.5 3865,-461.5 3865,-408.5 3964,-408.5 3964,-461.5\"/>\n<text text-anchor=\"middle\" x=\"3914.5\" y=\"-446.3\" font-family=\"Helvetica,sans-Serif\" font-size=\"14.00\" fill=\"#000000\">gini = 0.0</text>\n<text text-anchor=\"middle\" x=\"3914.5\" y=\"-431.3\" font-family=\"Helvetica,sans-Serif\" font-size=\"14.00\" fill=\"#000000\">samples = 1</text>\n<text text-anchor=\"middle\" x=\"3914.5\" y=\"-416.3\" font-family=\"Helvetica,sans-Serif\" font-size=\"14.00\" fill=\"#000000\">value = [1, 0]</text>\n</g>\n<!-- 267&#45;&gt;269 -->\n<g id=\"edge269\" class=\"edge\">\n<title>267&#45;&gt;269</title>\n<path fill=\"none\" stroke=\"#000000\" d=\"M3913.1549,-504.9465C3913.3603,-494.2621 3913.588,-482.4254 3913.7966,-471.5742\"/>\n<polygon fill=\"#000000\" stroke=\"#000000\" points=\"3917.2966,-471.6076 3913.9896,-461.5422 3910.2979,-471.473 3917.2966,-471.6076\"/>\n</g>\n<!-- 271 -->\n<g id=\"node272\" class=\"node\">\n<title>271</title>\n<polygon fill=\"none\" stroke=\"#000000\" points=\"4084,-461.5 3985,-461.5 3985,-408.5 4084,-408.5 4084,-461.5\"/>\n<text text-anchor=\"middle\" x=\"4034.5\" y=\"-446.3\" font-family=\"Helvetica,sans-Serif\" font-size=\"14.00\" fill=\"#000000\">gini = 0.0</text>\n<text text-anchor=\"middle\" x=\"4034.5\" y=\"-431.3\" font-family=\"Helvetica,sans-Serif\" font-size=\"14.00\" fill=\"#000000\">samples = 8</text>\n<text text-anchor=\"middle\" x=\"4034.5\" y=\"-416.3\" font-family=\"Helvetica,sans-Serif\" font-size=\"14.00\" fill=\"#000000\">value = [8, 0]</text>\n</g>\n<!-- 270&#45;&gt;271 -->\n<g id=\"edge271\" class=\"edge\">\n<title>270&#45;&gt;271</title>\n<path fill=\"none\" stroke=\"#000000\" d=\"M4035.1726,-504.9465C4035.0698,-494.2621 4034.956,-482.4254 4034.8517,-471.5742\"/>\n<polygon fill=\"#000000\" stroke=\"#000000\" points=\"4038.3513,-471.508 4034.7552,-461.5422 4031.3516,-471.5754 4038.3513,-471.508\"/>\n</g>\n<!-- 272 -->\n<g id=\"node273\" class=\"node\">\n<title>272</title>\n<polygon fill=\"none\" stroke=\"#000000\" points=\"4209,-469 4102,-469 4102,-401 4209,-401 4209,-469\"/>\n<text text-anchor=\"middle\" x=\"4155.5\" y=\"-453.8\" font-family=\"Helvetica,sans-Serif\" font-size=\"14.00\" fill=\"#000000\">X[1] &lt;= 30.35</text>\n<text text-anchor=\"middle\" x=\"4155.5\" y=\"-438.8\" font-family=\"Helvetica,sans-Serif\" font-size=\"14.00\" fill=\"#000000\">gini = 0.153</text>\n<text text-anchor=\"middle\" x=\"4155.5\" y=\"-423.8\" font-family=\"Helvetica,sans-Serif\" font-size=\"14.00\" fill=\"#000000\">samples = 12</text>\n<text text-anchor=\"middle\" x=\"4155.5\" y=\"-408.8\" font-family=\"Helvetica,sans-Serif\" font-size=\"14.00\" fill=\"#000000\">value = [11, 1]</text>\n</g>\n<!-- 270&#45;&gt;272 -->\n<g id=\"edge272\" class=\"edge\">\n<title>270&#45;&gt;272</title>\n<path fill=\"none\" stroke=\"#000000\" d=\"M4074.7925,-504.9465C4085.5667,-495.6088 4097.3564,-485.3911 4108.515,-475.7203\"/>\n<polygon fill=\"#000000\" stroke=\"#000000\" points=\"4110.8546,-478.3243 4116.1192,-469.13 4106.2701,-473.0344 4110.8546,-478.3243\"/>\n</g>\n<!-- 273 -->\n<g id=\"node274\" class=\"node\">\n<title>273</title>\n<polygon fill=\"none\" stroke=\"#000000\" points=\"4148,-365 4041,-365 4041,-297 4148,-297 4148,-365\"/>\n<text text-anchor=\"middle\" x=\"4094.5\" y=\"-349.8\" font-family=\"Helvetica,sans-Serif\" font-size=\"14.00\" fill=\"#000000\">X[3] &lt;= 0.5</text>\n<text text-anchor=\"middle\" x=\"4094.5\" y=\"-334.8\" font-family=\"Helvetica,sans-Serif\" font-size=\"14.00\" fill=\"#000000\">gini = 0.165</text>\n<text text-anchor=\"middle\" x=\"4094.5\" y=\"-319.8\" font-family=\"Helvetica,sans-Serif\" font-size=\"14.00\" fill=\"#000000\">samples = 11</text>\n<text text-anchor=\"middle\" x=\"4094.5\" y=\"-304.8\" font-family=\"Helvetica,sans-Serif\" font-size=\"14.00\" fill=\"#000000\">value = [10, 1]</text>\n</g>\n<!-- 272&#45;&gt;273 -->\n<g id=\"edge273\" class=\"edge\">\n<title>272&#45;&gt;273</title>\n<path fill=\"none\" stroke=\"#000000\" d=\"M4135.5263,-400.9465C4130.4707,-392.3271 4124.9753,-382.9579 4119.6983,-373.9611\"/>\n<polygon fill=\"#000000\" stroke=\"#000000\" points=\"4122.5969,-371.985 4114.5186,-365.13 4116.5589,-375.5265 4122.5969,-371.985\"/>\n</g>\n<!-- 276 -->\n<g id=\"node277\" class=\"node\">\n<title>276</title>\n<polygon fill=\"none\" stroke=\"#000000\" points=\"4265,-357.5 4166,-357.5 4166,-304.5 4265,-304.5 4265,-357.5\"/>\n<text text-anchor=\"middle\" x=\"4215.5\" y=\"-342.3\" font-family=\"Helvetica,sans-Serif\" font-size=\"14.00\" fill=\"#000000\">gini = 0.0</text>\n<text text-anchor=\"middle\" x=\"4215.5\" y=\"-327.3\" font-family=\"Helvetica,sans-Serif\" font-size=\"14.00\" fill=\"#000000\">samples = 1</text>\n<text text-anchor=\"middle\" x=\"4215.5\" y=\"-312.3\" font-family=\"Helvetica,sans-Serif\" font-size=\"14.00\" fill=\"#000000\">value = [1, 0]</text>\n</g>\n<!-- 272&#45;&gt;276 -->\n<g id=\"edge276\" class=\"edge\">\n<title>272&#45;&gt;276</title>\n<path fill=\"none\" stroke=\"#000000\" d=\"M4175.1462,-400.9465C4181.5645,-389.8215 4188.7035,-377.4473 4195.171,-366.237\"/>\n<polygon fill=\"#000000\" stroke=\"#000000\" points=\"4198.2216,-367.9531 4200.1872,-357.5422 4192.1583,-364.455 4198.2216,-367.9531\"/>\n</g>\n<!-- 274 -->\n<g id=\"node275\" class=\"node\">\n<title>274</title>\n<polygon fill=\"none\" stroke=\"#000000\" points=\"4086.5,-253.5 3982.5,-253.5 3982.5,-200.5 4086.5,-200.5 4086.5,-253.5\"/>\n<text text-anchor=\"middle\" x=\"4034.5\" y=\"-238.3\" font-family=\"Helvetica,sans-Serif\" font-size=\"14.00\" fill=\"#000000\">gini = 0.18</text>\n<text text-anchor=\"middle\" x=\"4034.5\" y=\"-223.3\" font-family=\"Helvetica,sans-Serif\" font-size=\"14.00\" fill=\"#000000\">samples = 10</text>\n<text text-anchor=\"middle\" x=\"4034.5\" y=\"-208.3\" font-family=\"Helvetica,sans-Serif\" font-size=\"14.00\" fill=\"#000000\">value = [9, 1]</text>\n</g>\n<!-- 273&#45;&gt;274 -->\n<g id=\"edge274\" class=\"edge\">\n<title>273&#45;&gt;274</title>\n<path fill=\"none\" stroke=\"#000000\" d=\"M4074.8538,-296.9465C4068.4355,-285.8215 4061.2965,-273.4473 4054.829,-262.237\"/>\n<polygon fill=\"#000000\" stroke=\"#000000\" points=\"4057.8417,-260.455 4049.8128,-253.5422 4051.7784,-263.9531 4057.8417,-260.455\"/>\n</g>\n<!-- 275 -->\n<g id=\"node276\" class=\"node\">\n<title>275</title>\n<polygon fill=\"none\" stroke=\"#000000\" points=\"4204,-253.5 4105,-253.5 4105,-200.5 4204,-200.5 4204,-253.5\"/>\n<text text-anchor=\"middle\" x=\"4154.5\" y=\"-238.3\" font-family=\"Helvetica,sans-Serif\" font-size=\"14.00\" fill=\"#000000\">gini = 0.0</text>\n<text text-anchor=\"middle\" x=\"4154.5\" y=\"-223.3\" font-family=\"Helvetica,sans-Serif\" font-size=\"14.00\" fill=\"#000000\">samples = 1</text>\n<text text-anchor=\"middle\" x=\"4154.5\" y=\"-208.3\" font-family=\"Helvetica,sans-Serif\" font-size=\"14.00\" fill=\"#000000\">value = [1, 0]</text>\n</g>\n<!-- 273&#45;&gt;275 -->\n<g id=\"edge275\" class=\"edge\">\n<title>273&#45;&gt;275</title>\n<path fill=\"none\" stroke=\"#000000\" d=\"M4114.1462,-296.9465C4120.5645,-285.8215 4127.7035,-273.4473 4134.171,-262.237\"/>\n<polygon fill=\"#000000\" stroke=\"#000000\" points=\"4137.2216,-263.9531 4139.1872,-253.5422 4131.1583,-260.455 4137.2216,-263.9531\"/>\n</g>\n<!-- 279 -->\n<g id=\"node280\" class=\"node\">\n<title>279</title>\n<polygon fill=\"none\" stroke=\"#000000\" points=\"4097,-773.5 3990,-773.5 3990,-720.5 4097,-720.5 4097,-773.5\"/>\n<text text-anchor=\"middle\" x=\"4043.5\" y=\"-758.3\" font-family=\"Helvetica,sans-Serif\" font-size=\"14.00\" fill=\"#000000\">gini = 0.0</text>\n<text text-anchor=\"middle\" x=\"4043.5\" y=\"-743.3\" font-family=\"Helvetica,sans-Serif\" font-size=\"14.00\" fill=\"#000000\">samples = 35</text>\n<text text-anchor=\"middle\" x=\"4043.5\" y=\"-728.3\" font-family=\"Helvetica,sans-Serif\" font-size=\"14.00\" fill=\"#000000\">value = [35, 0]</text>\n</g>\n<!-- 278&#45;&gt;279 -->\n<g id=\"edge279\" class=\"edge\">\n<title>278&#45;&gt;279</title>\n<path fill=\"none\" stroke=\"#000000\" d=\"M4043.5,-816.9465C4043.5,-806.2621 4043.5,-794.4254 4043.5,-783.5742\"/>\n<polygon fill=\"#000000\" stroke=\"#000000\" points=\"4047.0001,-783.5421 4043.5,-773.5422 4040.0001,-783.5422 4047.0001,-783.5421\"/>\n</g>\n<!-- 280 -->\n<g id=\"node281\" class=\"node\">\n<title>280</title>\n<polygon fill=\"none\" stroke=\"#000000\" points=\"4218,-781 4115,-781 4115,-713 4218,-713 4218,-781\"/>\n<text text-anchor=\"middle\" x=\"4166.5\" y=\"-765.8\" font-family=\"Helvetica,sans-Serif\" font-size=\"14.00\" fill=\"#000000\">X[4] &lt;= 8.775</text>\n<text text-anchor=\"middle\" x=\"4166.5\" y=\"-750.8\" font-family=\"Helvetica,sans-Serif\" font-size=\"14.00\" fill=\"#000000\">gini = 0.444</text>\n<text text-anchor=\"middle\" x=\"4166.5\" y=\"-735.8\" font-family=\"Helvetica,sans-Serif\" font-size=\"14.00\" fill=\"#000000\">samples = 3</text>\n<text text-anchor=\"middle\" x=\"4166.5\" y=\"-720.8\" font-family=\"Helvetica,sans-Serif\" font-size=\"14.00\" fill=\"#000000\">value = [2, 1]</text>\n</g>\n<!-- 278&#45;&gt;280 -->\n<g id=\"edge280\" class=\"edge\">\n<title>278&#45;&gt;280</title>\n<path fill=\"none\" stroke=\"#000000\" d=\"M4083.7748,-816.9465C4094.8184,-807.6088 4106.9028,-797.3911 4118.3404,-787.7203\"/>\n<polygon fill=\"#000000\" stroke=\"#000000\" points=\"4120.7583,-790.2594 4126.1347,-781.13 4116.2386,-784.914 4120.7583,-790.2594\"/>\n</g>\n<!-- 281 -->\n<g id=\"node282\" class=\"node\">\n<title>281</title>\n<polygon fill=\"none\" stroke=\"#000000\" points=\"4158,-669.5 4059,-669.5 4059,-616.5 4158,-616.5 4158,-669.5\"/>\n<text text-anchor=\"middle\" x=\"4108.5\" y=\"-654.3\" font-family=\"Helvetica,sans-Serif\" font-size=\"14.00\" fill=\"#000000\">gini = 0.0</text>\n<text text-anchor=\"middle\" x=\"4108.5\" y=\"-639.3\" font-family=\"Helvetica,sans-Serif\" font-size=\"14.00\" fill=\"#000000\">samples = 2</text>\n<text text-anchor=\"middle\" x=\"4108.5\" y=\"-624.3\" font-family=\"Helvetica,sans-Serif\" font-size=\"14.00\" fill=\"#000000\">value = [2, 0]</text>\n</g>\n<!-- 280&#45;&gt;281 -->\n<g id=\"edge281\" class=\"edge\">\n<title>280&#45;&gt;281</title>\n<path fill=\"none\" stroke=\"#000000\" d=\"M4147.5086,-712.9465C4141.3657,-701.9316 4134.5399,-689.6922 4128.3373,-678.5703\"/>\n<polygon fill=\"#000000\" stroke=\"#000000\" points=\"4131.2299,-676.5711 4123.3024,-669.5422 4125.1163,-679.9806 4131.2299,-676.5711\"/>\n</g>\n<!-- 282 -->\n<g id=\"node283\" class=\"node\">\n<title>282</title>\n<polygon fill=\"none\" stroke=\"#000000\" points=\"4275,-669.5 4176,-669.5 4176,-616.5 4275,-616.5 4275,-669.5\"/>\n<text text-anchor=\"middle\" x=\"4225.5\" y=\"-654.3\" font-family=\"Helvetica,sans-Serif\" font-size=\"14.00\" fill=\"#000000\">gini = 0.0</text>\n<text text-anchor=\"middle\" x=\"4225.5\" y=\"-639.3\" font-family=\"Helvetica,sans-Serif\" font-size=\"14.00\" fill=\"#000000\">samples = 1</text>\n<text text-anchor=\"middle\" x=\"4225.5\" y=\"-624.3\" font-family=\"Helvetica,sans-Serif\" font-size=\"14.00\" fill=\"#000000\">value = [0, 1]</text>\n</g>\n<!-- 280&#45;&gt;282 -->\n<g id=\"edge282\" class=\"edge\">\n<title>280&#45;&gt;282</title>\n<path fill=\"none\" stroke=\"#000000\" d=\"M4185.8188,-712.9465C4192.0676,-701.9316 4199.0112,-689.6922 4205.3207,-678.5703\"/>\n<polygon fill=\"#000000\" stroke=\"#000000\" points=\"4208.5523,-679.967 4210.4424,-669.5422 4202.4638,-676.513 4208.5523,-679.967\"/>\n</g>\n<!-- 284 -->\n<g id=\"node285\" class=\"node\">\n<title>284</title>\n<polygon fill=\"none\" stroke=\"#000000\" points=\"4273.5,-989 4169.5,-989 4169.5,-921 4273.5,-921 4273.5,-989\"/>\n<text text-anchor=\"middle\" x=\"4221.5\" y=\"-973.8\" font-family=\"Helvetica,sans-Serif\" font-size=\"14.00\" fill=\"#000000\">X[3] &lt;= 0.5</text>\n<text text-anchor=\"middle\" x=\"4221.5\" y=\"-958.8\" font-family=\"Helvetica,sans-Serif\" font-size=\"14.00\" fill=\"#000000\">gini = 0.298</text>\n<text text-anchor=\"middle\" x=\"4221.5\" y=\"-943.8\" font-family=\"Helvetica,sans-Serif\" font-size=\"14.00\" fill=\"#000000\">samples = 11</text>\n<text text-anchor=\"middle\" x=\"4221.5\" y=\"-928.8\" font-family=\"Helvetica,sans-Serif\" font-size=\"14.00\" fill=\"#000000\">value = [9, 2]</text>\n</g>\n<!-- 283&#45;&gt;284 -->\n<g id=\"edge284\" class=\"edge\">\n<title>283&#45;&gt;284</title>\n<path fill=\"none\" stroke=\"#000000\" d=\"M4221.5,-1024.9465C4221.5,-1016.776 4221.5,-1007.9318 4221.5,-999.3697\"/>\n<polygon fill=\"#000000\" stroke=\"#000000\" points=\"4225.0001,-999.13 4221.5,-989.13 4218.0001,-999.13 4225.0001,-999.13\"/>\n</g>\n<!-- 293 -->\n<g id=\"node294\" class=\"node\">\n<title>293</title>\n<polygon fill=\"none\" stroke=\"#000000\" points=\"4448,-989 4349,-989 4349,-921 4448,-921 4448,-989\"/>\n<text text-anchor=\"middle\" x=\"4398.5\" y=\"-973.8\" font-family=\"Helvetica,sans-Serif\" font-size=\"14.00\" fill=\"#000000\">X[4] &lt;= 23.7</text>\n<text text-anchor=\"middle\" x=\"4398.5\" y=\"-958.8\" font-family=\"Helvetica,sans-Serif\" font-size=\"14.00\" fill=\"#000000\">gini = 0.444</text>\n<text text-anchor=\"middle\" x=\"4398.5\" y=\"-943.8\" font-family=\"Helvetica,sans-Serif\" font-size=\"14.00\" fill=\"#000000\">samples = 3</text>\n<text text-anchor=\"middle\" x=\"4398.5\" y=\"-928.8\" font-family=\"Helvetica,sans-Serif\" font-size=\"14.00\" fill=\"#000000\">value = [1, 2]</text>\n</g>\n<!-- 283&#45;&gt;293 -->\n<g id=\"edge293\" class=\"edge\">\n<title>283&#45;&gt;293</title>\n<path fill=\"none\" stroke=\"#000000\" d=\"M4275.0862,-1027.5143C4295.5632,-1015.4826 4319.0102,-1001.7059 4339.9286,-989.4148\"/>\n<polygon fill=\"#000000\" stroke=\"#000000\" points=\"4341.874,-992.3313 4348.7228,-984.2476 4338.3278,-986.296 4341.874,-992.3313\"/>\n</g>\n<!-- 285 -->\n<g id=\"node286\" class=\"node\">\n<title>285</title>\n<polygon fill=\"none\" stroke=\"#000000\" points=\"4214,-885 4115,-885 4115,-817 4214,-817 4214,-885\"/>\n<text text-anchor=\"middle\" x=\"4164.5\" y=\"-869.8\" font-family=\"Helvetica,sans-Serif\" font-size=\"14.00\" fill=\"#000000\">X[1] &lt;= 18.5</text>\n<text text-anchor=\"middle\" x=\"4164.5\" y=\"-854.8\" font-family=\"Helvetica,sans-Serif\" font-size=\"14.00\" fill=\"#000000\">gini = 0.444</text>\n<text text-anchor=\"middle\" x=\"4164.5\" y=\"-839.8\" font-family=\"Helvetica,sans-Serif\" font-size=\"14.00\" fill=\"#000000\">samples = 6</text>\n<text text-anchor=\"middle\" x=\"4164.5\" y=\"-824.8\" font-family=\"Helvetica,sans-Serif\" font-size=\"14.00\" fill=\"#000000\">value = [4, 2]</text>\n</g>\n<!-- 284&#45;&gt;285 -->\n<g id=\"edge285\" class=\"edge\">\n<title>284&#45;&gt;285</title>\n<path fill=\"none\" stroke=\"#000000\" d=\"M4202.8361,-920.9465C4198.112,-912.3271 4192.9769,-902.9579 4188.046,-893.9611\"/>\n<polygon fill=\"#000000\" stroke=\"#000000\" points=\"4191.0814,-892.2171 4183.2059,-885.13 4184.9429,-895.5815 4191.0814,-892.2171\"/>\n</g>\n<!-- 292 -->\n<g id=\"node293\" class=\"node\">\n<title>292</title>\n<polygon fill=\"none\" stroke=\"#000000\" points=\"4331,-877.5 4232,-877.5 4232,-824.5 4331,-824.5 4331,-877.5\"/>\n<text text-anchor=\"middle\" x=\"4281.5\" y=\"-862.3\" font-family=\"Helvetica,sans-Serif\" font-size=\"14.00\" fill=\"#000000\">gini = 0.0</text>\n<text text-anchor=\"middle\" x=\"4281.5\" y=\"-847.3\" font-family=\"Helvetica,sans-Serif\" font-size=\"14.00\" fill=\"#000000\">samples = 5</text>\n<text text-anchor=\"middle\" x=\"4281.5\" y=\"-832.3\" font-family=\"Helvetica,sans-Serif\" font-size=\"14.00\" fill=\"#000000\">value = [5, 0]</text>\n</g>\n<!-- 284&#45;&gt;292 -->\n<g id=\"edge292\" class=\"edge\">\n<title>284&#45;&gt;292</title>\n<path fill=\"none\" stroke=\"#000000\" d=\"M4241.1462,-920.9465C4247.5645,-909.8215 4254.7035,-897.4473 4261.171,-886.237\"/>\n<polygon fill=\"#000000\" stroke=\"#000000\" points=\"4264.2216,-887.9531 4266.1872,-877.5422 4258.1583,-884.455 4264.2216,-887.9531\"/>\n</g>\n<!-- 286 -->\n<g id=\"node287\" class=\"node\">\n<title>286</title>\n<polygon fill=\"none\" stroke=\"#000000\" points=\"4335,-773.5 4236,-773.5 4236,-720.5 4335,-720.5 4335,-773.5\"/>\n<text text-anchor=\"middle\" x=\"4285.5\" y=\"-758.3\" font-family=\"Helvetica,sans-Serif\" font-size=\"14.00\" fill=\"#000000\">gini = 0.0</text>\n<text text-anchor=\"middle\" x=\"4285.5\" y=\"-743.3\" font-family=\"Helvetica,sans-Serif\" font-size=\"14.00\" fill=\"#000000\">samples = 1</text>\n<text text-anchor=\"middle\" x=\"4285.5\" y=\"-728.3\" font-family=\"Helvetica,sans-Serif\" font-size=\"14.00\" fill=\"#000000\">value = [1, 0]</text>\n</g>\n<!-- 285&#45;&gt;286 -->\n<g id=\"edge286\" class=\"edge\">\n<title>285&#45;&gt;286</title>\n<path fill=\"none\" stroke=\"#000000\" d=\"M4204.1199,-816.9465C4217.8324,-805.1606 4233.1761,-791.9726 4246.8127,-780.2519\"/>\n<polygon fill=\"#000000\" stroke=\"#000000\" points=\"4249.3169,-782.7147 4254.6192,-773.5422 4244.7541,-777.4061 4249.3169,-782.7147\"/>\n</g>\n<!-- 287 -->\n<g id=\"node288\" class=\"node\">\n<title>287</title>\n<polygon fill=\"none\" stroke=\"#000000\" points=\"4464,-781 4353,-781 4353,-713 4464,-713 4464,-781\"/>\n<text text-anchor=\"middle\" x=\"4408.5\" y=\"-765.8\" font-family=\"Helvetica,sans-Serif\" font-size=\"14.00\" fill=\"#000000\">X[4] &lt;= 20.656</text>\n<text text-anchor=\"middle\" x=\"4408.5\" y=\"-750.8\" font-family=\"Helvetica,sans-Serif\" font-size=\"14.00\" fill=\"#000000\">gini = 0.48</text>\n<text text-anchor=\"middle\" x=\"4408.5\" y=\"-735.8\" font-family=\"Helvetica,sans-Serif\" font-size=\"14.00\" fill=\"#000000\">samples = 5</text>\n<text text-anchor=\"middle\" x=\"4408.5\" y=\"-720.8\" font-family=\"Helvetica,sans-Serif\" font-size=\"14.00\" fill=\"#000000\">value = [3, 2]</text>\n</g>\n<!-- 285&#45;&gt;287 -->\n<g id=\"edge287\" class=\"edge\">\n<title>285&#45;&gt;287</title>\n<path fill=\"none\" stroke=\"#000000\" d=\"M4214.0861,-820.9082C4216.9,-819.5228 4219.7164,-818.2088 4222.5,-817 4273.9641,-794.6506 4291.5115,-802.1008 4343.5,-781 4343.5959,-780.9611 4343.6918,-780.9221 4343.7878,-780.883\"/>\n<polygon fill=\"#000000\" stroke=\"#000000\" points=\"4345.0021,-784.1708 4352.8048,-777.0036 4342.2357,-777.7406 4345.0021,-784.1708\"/>\n</g>\n<!-- 288 -->\n<g id=\"node289\" class=\"node\">\n<title>288</title>\n<polygon fill=\"none\" stroke=\"#000000\" points=\"4396,-669.5 4297,-669.5 4297,-616.5 4396,-616.5 4396,-669.5\"/>\n<text text-anchor=\"middle\" x=\"4346.5\" y=\"-654.3\" font-family=\"Helvetica,sans-Serif\" font-size=\"14.00\" fill=\"#000000\">gini = 0.0</text>\n<text text-anchor=\"middle\" x=\"4346.5\" y=\"-639.3\" font-family=\"Helvetica,sans-Serif\" font-size=\"14.00\" fill=\"#000000\">samples = 1</text>\n<text text-anchor=\"middle\" x=\"4346.5\" y=\"-624.3\" font-family=\"Helvetica,sans-Serif\" font-size=\"14.00\" fill=\"#000000\">value = [0, 1]</text>\n</g>\n<!-- 287&#45;&gt;288 -->\n<g id=\"edge288\" class=\"edge\">\n<title>287&#45;&gt;288</title>\n<path fill=\"none\" stroke=\"#000000\" d=\"M4388.1989,-712.9465C4381.5666,-701.8215 4374.1897,-689.4473 4367.5067,-678.237\"/>\n<polygon fill=\"#000000\" stroke=\"#000000\" points=\"4370.4502,-676.3394 4362.3232,-669.5422 4364.4376,-679.9239 4370.4502,-676.3394\"/>\n</g>\n<!-- 289 -->\n<g id=\"node290\" class=\"node\">\n<title>289</title>\n<polygon fill=\"none\" stroke=\"#000000\" points=\"4525,-677 4414,-677 4414,-609 4525,-609 4525,-677\"/>\n<text text-anchor=\"middle\" x=\"4469.5\" y=\"-661.8\" font-family=\"Helvetica,sans-Serif\" font-size=\"14.00\" fill=\"#000000\">X[4] &lt;= 40.323</text>\n<text text-anchor=\"middle\" x=\"4469.5\" y=\"-646.8\" font-family=\"Helvetica,sans-Serif\" font-size=\"14.00\" fill=\"#000000\">gini = 0.375</text>\n<text text-anchor=\"middle\" x=\"4469.5\" y=\"-631.8\" font-family=\"Helvetica,sans-Serif\" font-size=\"14.00\" fill=\"#000000\">samples = 4</text>\n<text text-anchor=\"middle\" x=\"4469.5\" y=\"-616.8\" font-family=\"Helvetica,sans-Serif\" font-size=\"14.00\" fill=\"#000000\">value = [3, 1]</text>\n</g>\n<!-- 287&#45;&gt;289 -->\n<g id=\"edge289\" class=\"edge\">\n<title>287&#45;&gt;289</title>\n<path fill=\"none\" stroke=\"#000000\" d=\"M4428.4737,-712.9465C4433.5293,-704.3271 4439.0247,-694.9579 4444.3017,-685.9611\"/>\n<polygon fill=\"#000000\" stroke=\"#000000\" points=\"4447.4411,-687.5265 4449.4814,-677.13 4441.4031,-683.985 4447.4411,-687.5265\"/>\n</g>\n<!-- 290 -->\n<g id=\"node291\" class=\"node\">\n<title>290</title>\n<polygon fill=\"none\" stroke=\"#000000\" points=\"4461,-565.5 4362,-565.5 4362,-512.5 4461,-512.5 4461,-565.5\"/>\n<text text-anchor=\"middle\" x=\"4411.5\" y=\"-550.3\" font-family=\"Helvetica,sans-Serif\" font-size=\"14.00\" fill=\"#000000\">gini = 0.0</text>\n<text text-anchor=\"middle\" x=\"4411.5\" y=\"-535.3\" font-family=\"Helvetica,sans-Serif\" font-size=\"14.00\" fill=\"#000000\">samples = 2</text>\n<text text-anchor=\"middle\" x=\"4411.5\" y=\"-520.3\" font-family=\"Helvetica,sans-Serif\" font-size=\"14.00\" fill=\"#000000\">value = [2, 0]</text>\n</g>\n<!-- 289&#45;&gt;290 -->\n<g id=\"edge290\" class=\"edge\">\n<title>289&#45;&gt;290</title>\n<path fill=\"none\" stroke=\"#000000\" d=\"M4450.5086,-608.9465C4444.3657,-597.9316 4437.5399,-585.6922 4431.3373,-574.5703\"/>\n<polygon fill=\"#000000\" stroke=\"#000000\" points=\"4434.2299,-572.5711 4426.3024,-565.5422 4428.1163,-575.9806 4434.2299,-572.5711\"/>\n</g>\n<!-- 291 -->\n<g id=\"node292\" class=\"node\">\n<title>291</title>\n<polygon fill=\"none\" stroke=\"#000000\" points=\"4578,-565.5 4479,-565.5 4479,-512.5 4578,-512.5 4578,-565.5\"/>\n<text text-anchor=\"middle\" x=\"4528.5\" y=\"-550.3\" font-family=\"Helvetica,sans-Serif\" font-size=\"14.00\" fill=\"#000000\">gini = 0.5</text>\n<text text-anchor=\"middle\" x=\"4528.5\" y=\"-535.3\" font-family=\"Helvetica,sans-Serif\" font-size=\"14.00\" fill=\"#000000\">samples = 2</text>\n<text text-anchor=\"middle\" x=\"4528.5\" y=\"-520.3\" font-family=\"Helvetica,sans-Serif\" font-size=\"14.00\" fill=\"#000000\">value = [1, 1]</text>\n</g>\n<!-- 289&#45;&gt;291 -->\n<g id=\"edge291\" class=\"edge\">\n<title>289&#45;&gt;291</title>\n<path fill=\"none\" stroke=\"#000000\" d=\"M4488.8188,-608.9465C4495.0676,-597.9316 4502.0112,-585.6922 4508.3207,-574.5703\"/>\n<polygon fill=\"#000000\" stroke=\"#000000\" points=\"4511.5523,-575.967 4513.4424,-565.5422 4505.4638,-572.513 4511.5523,-575.967\"/>\n</g>\n<!-- 294 -->\n<g id=\"node295\" class=\"node\">\n<title>294</title>\n<polygon fill=\"none\" stroke=\"#000000\" points=\"4448,-877.5 4349,-877.5 4349,-824.5 4448,-824.5 4448,-877.5\"/>\n<text text-anchor=\"middle\" x=\"4398.5\" y=\"-862.3\" font-family=\"Helvetica,sans-Serif\" font-size=\"14.00\" fill=\"#000000\">gini = 0.0</text>\n<text text-anchor=\"middle\" x=\"4398.5\" y=\"-847.3\" font-family=\"Helvetica,sans-Serif\" font-size=\"14.00\" fill=\"#000000\">samples = 2</text>\n<text text-anchor=\"middle\" x=\"4398.5\" y=\"-832.3\" font-family=\"Helvetica,sans-Serif\" font-size=\"14.00\" fill=\"#000000\">value = [0, 2]</text>\n</g>\n<!-- 293&#45;&gt;294 -->\n<g id=\"edge294\" class=\"edge\">\n<title>293&#45;&gt;294</title>\n<path fill=\"none\" stroke=\"#000000\" d=\"M4398.5,-920.9465C4398.5,-910.2621 4398.5,-898.4254 4398.5,-887.5742\"/>\n<polygon fill=\"#000000\" stroke=\"#000000\" points=\"4402.0001,-887.5421 4398.5,-877.5422 4395.0001,-887.5422 4402.0001,-887.5421\"/>\n</g>\n<!-- 295 -->\n<g id=\"node296\" class=\"node\">\n<title>295</title>\n<polygon fill=\"none\" stroke=\"#000000\" points=\"4565,-877.5 4466,-877.5 4466,-824.5 4565,-824.5 4565,-877.5\"/>\n<text text-anchor=\"middle\" x=\"4515.5\" y=\"-862.3\" font-family=\"Helvetica,sans-Serif\" font-size=\"14.00\" fill=\"#000000\">gini = 0.0</text>\n<text text-anchor=\"middle\" x=\"4515.5\" y=\"-847.3\" font-family=\"Helvetica,sans-Serif\" font-size=\"14.00\" fill=\"#000000\">samples = 1</text>\n<text text-anchor=\"middle\" x=\"4515.5\" y=\"-832.3\" font-family=\"Helvetica,sans-Serif\" font-size=\"14.00\" fill=\"#000000\">value = [1, 0]</text>\n</g>\n<!-- 293&#45;&gt;295 -->\n<g id=\"edge295\" class=\"edge\">\n<title>293&#45;&gt;295</title>\n<path fill=\"none\" stroke=\"#000000\" d=\"M4436.8102,-920.9465C4450.0694,-909.1606 4464.9058,-895.9726 4478.0916,-884.2519\"/>\n<polygon fill=\"#000000\" stroke=\"#000000\" points=\"4480.4912,-886.8018 4485.6401,-877.5422 4475.8407,-881.5699 4480.4912,-886.8018\"/>\n</g>\n<!-- 298 -->\n<g id=\"node299\" class=\"node\">\n<title>298</title>\n<polygon fill=\"none\" stroke=\"#000000\" points=\"4412,-1293.5 4313,-1293.5 4313,-1240.5 4412,-1240.5 4412,-1293.5\"/>\n<text text-anchor=\"middle\" x=\"4362.5\" y=\"-1278.3\" font-family=\"Helvetica,sans-Serif\" font-size=\"14.00\" fill=\"#000000\">gini = 0.0</text>\n<text text-anchor=\"middle\" x=\"4362.5\" y=\"-1263.3\" font-family=\"Helvetica,sans-Serif\" font-size=\"14.00\" fill=\"#000000\">samples = 2</text>\n<text text-anchor=\"middle\" x=\"4362.5\" y=\"-1248.3\" font-family=\"Helvetica,sans-Serif\" font-size=\"14.00\" fill=\"#000000\">value = [2, 0]</text>\n</g>\n<!-- 297&#45;&gt;298 -->\n<g id=\"edge298\" class=\"edge\">\n<title>297&#45;&gt;298</title>\n<path fill=\"none\" stroke=\"#000000\" d=\"M4362.5,-1336.9465C4362.5,-1326.2621 4362.5,-1314.4254 4362.5,-1303.5742\"/>\n<polygon fill=\"#000000\" stroke=\"#000000\" points=\"4366.0001,-1303.5421 4362.5,-1293.5422 4359.0001,-1303.5422 4366.0001,-1303.5421\"/>\n</g>\n<!-- 299 -->\n<g id=\"node300\" class=\"node\">\n<title>299</title>\n<polygon fill=\"none\" stroke=\"#000000\" points=\"4550,-1301 4447,-1301 4447,-1233 4550,-1233 4550,-1301\"/>\n<text text-anchor=\"middle\" x=\"4498.5\" y=\"-1285.8\" font-family=\"Helvetica,sans-Serif\" font-size=\"14.00\" fill=\"#000000\">X[4] &lt;= 7.802</text>\n<text text-anchor=\"middle\" x=\"4498.5\" y=\"-1270.8\" font-family=\"Helvetica,sans-Serif\" font-size=\"14.00\" fill=\"#000000\">gini = 0.469</text>\n<text text-anchor=\"middle\" x=\"4498.5\" y=\"-1255.8\" font-family=\"Helvetica,sans-Serif\" font-size=\"14.00\" fill=\"#000000\">samples = 8</text>\n<text text-anchor=\"middle\" x=\"4498.5\" y=\"-1240.8\" font-family=\"Helvetica,sans-Serif\" font-size=\"14.00\" fill=\"#000000\">value = [3, 5]</text>\n</g>\n<!-- 297&#45;&gt;299 -->\n<g id=\"edge299\" class=\"edge\">\n<title>297&#45;&gt;299</title>\n<path fill=\"none\" stroke=\"#000000\" d=\"M4407.0315,-1336.9465C4419.3597,-1327.519 4432.8609,-1317.1946 4445.615,-1307.4415\"/>\n<polygon fill=\"#000000\" stroke=\"#000000\" points=\"4448.051,-1309.9848 4453.8685,-1301.13 4443.7988,-1304.4243 4448.051,-1309.9848\"/>\n</g>\n<!-- 300 -->\n<g id=\"node301\" class=\"node\">\n<title>300</title>\n<polygon fill=\"none\" stroke=\"#000000\" points=\"4548,-1189.5 4449,-1189.5 4449,-1136.5 4548,-1136.5 4548,-1189.5\"/>\n<text text-anchor=\"middle\" x=\"4498.5\" y=\"-1174.3\" font-family=\"Helvetica,sans-Serif\" font-size=\"14.00\" fill=\"#000000\">gini = 0.0</text>\n<text text-anchor=\"middle\" x=\"4498.5\" y=\"-1159.3\" font-family=\"Helvetica,sans-Serif\" font-size=\"14.00\" fill=\"#000000\">samples = 1</text>\n<text text-anchor=\"middle\" x=\"4498.5\" y=\"-1144.3\" font-family=\"Helvetica,sans-Serif\" font-size=\"14.00\" fill=\"#000000\">value = [1, 0]</text>\n</g>\n<!-- 299&#45;&gt;300 -->\n<g id=\"edge300\" class=\"edge\">\n<title>299&#45;&gt;300</title>\n<path fill=\"none\" stroke=\"#000000\" d=\"M4498.5,-1232.9465C4498.5,-1222.2621 4498.5,-1210.4254 4498.5,-1199.5742\"/>\n<polygon fill=\"#000000\" stroke=\"#000000\" points=\"4502.0001,-1199.5421 4498.5,-1189.5422 4495.0001,-1199.5422 4502.0001,-1199.5421\"/>\n</g>\n<!-- 301 -->\n<g id=\"node302\" class=\"node\">\n<title>301</title>\n<polygon fill=\"none\" stroke=\"#000000\" points=\"4685,-1197 4574,-1197 4574,-1129 4685,-1129 4685,-1197\"/>\n<text text-anchor=\"middle\" x=\"4629.5\" y=\"-1181.8\" font-family=\"Helvetica,sans-Serif\" font-size=\"14.00\" fill=\"#000000\">X[4] &lt;= 32.429</text>\n<text text-anchor=\"middle\" x=\"4629.5\" y=\"-1166.8\" font-family=\"Helvetica,sans-Serif\" font-size=\"14.00\" fill=\"#000000\">gini = 0.408</text>\n<text text-anchor=\"middle\" x=\"4629.5\" y=\"-1151.8\" font-family=\"Helvetica,sans-Serif\" font-size=\"14.00\" fill=\"#000000\">samples = 7</text>\n<text text-anchor=\"middle\" x=\"4629.5\" y=\"-1136.8\" font-family=\"Helvetica,sans-Serif\" font-size=\"14.00\" fill=\"#000000\">value = [2, 5]</text>\n</g>\n<!-- 299&#45;&gt;301 -->\n<g id=\"edge301\" class=\"edge\">\n<title>299&#45;&gt;301</title>\n<path fill=\"none\" stroke=\"#000000\" d=\"M4541.3943,-1232.9465C4553.2693,-1223.519 4566.2741,-1213.1946 4578.5593,-1203.4415\"/>\n<polygon fill=\"#000000\" stroke=\"#000000\" points=\"4580.8536,-1206.089 4586.5093,-1197.13 4576.5011,-1200.6066 4580.8536,-1206.089\"/>\n</g>\n<!-- 302 -->\n<g id=\"node303\" class=\"node\">\n<title>302</title>\n<polygon fill=\"none\" stroke=\"#000000\" points=\"4681,-1093 4578,-1093 4578,-1025 4681,-1025 4681,-1093\"/>\n<text text-anchor=\"middle\" x=\"4629.5\" y=\"-1077.8\" font-family=\"Helvetica,sans-Serif\" font-size=\"14.00\" fill=\"#000000\">X[4] &lt;= 8.206</text>\n<text text-anchor=\"middle\" x=\"4629.5\" y=\"-1062.8\" font-family=\"Helvetica,sans-Serif\" font-size=\"14.00\" fill=\"#000000\">gini = 0.48</text>\n<text text-anchor=\"middle\" x=\"4629.5\" y=\"-1047.8\" font-family=\"Helvetica,sans-Serif\" font-size=\"14.00\" fill=\"#000000\">samples = 5</text>\n<text text-anchor=\"middle\" x=\"4629.5\" y=\"-1032.8\" font-family=\"Helvetica,sans-Serif\" font-size=\"14.00\" fill=\"#000000\">value = [2, 3]</text>\n</g>\n<!-- 301&#45;&gt;302 -->\n<g id=\"edge302\" class=\"edge\">\n<title>301&#45;&gt;302</title>\n<path fill=\"none\" stroke=\"#000000\" d=\"M4629.5,-1128.9465C4629.5,-1120.776 4629.5,-1111.9318 4629.5,-1103.3697\"/>\n<polygon fill=\"#000000\" stroke=\"#000000\" points=\"4633.0001,-1103.13 4629.5,-1093.13 4626.0001,-1103.13 4633.0001,-1103.13\"/>\n</g>\n<!-- 309 -->\n<g id=\"node310\" class=\"node\">\n<title>309</title>\n<polygon fill=\"none\" stroke=\"#000000\" points=\"4798,-1085.5 4699,-1085.5 4699,-1032.5 4798,-1032.5 4798,-1085.5\"/>\n<text text-anchor=\"middle\" x=\"4748.5\" y=\"-1070.3\" font-family=\"Helvetica,sans-Serif\" font-size=\"14.00\" fill=\"#000000\">gini = 0.0</text>\n<text text-anchor=\"middle\" x=\"4748.5\" y=\"-1055.3\" font-family=\"Helvetica,sans-Serif\" font-size=\"14.00\" fill=\"#000000\">samples = 2</text>\n<text text-anchor=\"middle\" x=\"4748.5\" y=\"-1040.3\" font-family=\"Helvetica,sans-Serif\" font-size=\"14.00\" fill=\"#000000\">value = [0, 2]</text>\n</g>\n<!-- 301&#45;&gt;309 -->\n<g id=\"edge309\" class=\"edge\">\n<title>301&#45;&gt;309</title>\n<path fill=\"none\" stroke=\"#000000\" d=\"M4668.4651,-1128.9465C4681.9509,-1117.1606 4697.0409,-1103.9726 4710.4521,-1092.2519\"/>\n<polygon fill=\"#000000\" stroke=\"#000000\" points=\"4712.9031,-1094.7582 4718.1296,-1085.5422 4708.2967,-1089.4874 4712.9031,-1094.7582\"/>\n</g>\n<!-- 303 -->\n<g id=\"node304\" class=\"node\">\n<title>303</title>\n<polygon fill=\"none\" stroke=\"#000000\" points=\"4681,-989 4582,-989 4582,-921 4681,-921 4681,-989\"/>\n<text text-anchor=\"middle\" x=\"4631.5\" y=\"-973.8\" font-family=\"Helvetica,sans-Serif\" font-size=\"14.00\" fill=\"#000000\">X[4] &lt;= 7.89</text>\n<text text-anchor=\"middle\" x=\"4631.5\" y=\"-958.8\" font-family=\"Helvetica,sans-Serif\" font-size=\"14.00\" fill=\"#000000\">gini = 0.375</text>\n<text text-anchor=\"middle\" x=\"4631.5\" y=\"-943.8\" font-family=\"Helvetica,sans-Serif\" font-size=\"14.00\" fill=\"#000000\">samples = 4</text>\n<text text-anchor=\"middle\" x=\"4631.5\" y=\"-928.8\" font-family=\"Helvetica,sans-Serif\" font-size=\"14.00\" fill=\"#000000\">value = [1, 3]</text>\n</g>\n<!-- 302&#45;&gt;303 -->\n<g id=\"edge303\" class=\"edge\">\n<title>302&#45;&gt;303</title>\n<path fill=\"none\" stroke=\"#000000\" d=\"M4630.1549,-1024.9465C4630.312,-1016.776 4630.4821,-1007.9318 4630.6467,-999.3697\"/>\n<polygon fill=\"#000000\" stroke=\"#000000\" points=\"4634.1506,-999.1955 4630.8437,-989.13 4627.1519,-999.0608 4634.1506,-999.1955\"/>\n</g>\n<!-- 308 -->\n<g id=\"node309\" class=\"node\">\n<title>308</title>\n<polygon fill=\"none\" stroke=\"#000000\" points=\"4798,-981.5 4699,-981.5 4699,-928.5 4798,-928.5 4798,-981.5\"/>\n<text text-anchor=\"middle\" x=\"4748.5\" y=\"-966.3\" font-family=\"Helvetica,sans-Serif\" font-size=\"14.00\" fill=\"#000000\">gini = 0.0</text>\n<text text-anchor=\"middle\" x=\"4748.5\" y=\"-951.3\" font-family=\"Helvetica,sans-Serif\" font-size=\"14.00\" fill=\"#000000\">samples = 1</text>\n<text text-anchor=\"middle\" x=\"4748.5\" y=\"-936.3\" font-family=\"Helvetica,sans-Serif\" font-size=\"14.00\" fill=\"#000000\">value = [1, 0]</text>\n</g>\n<!-- 302&#45;&gt;308 -->\n<g id=\"edge308\" class=\"edge\">\n<title>302&#45;&gt;308</title>\n<path fill=\"none\" stroke=\"#000000\" d=\"M4668.4651,-1024.9465C4681.9509,-1013.1606 4697.0409,-999.9726 4710.4521,-988.2519\"/>\n<polygon fill=\"#000000\" stroke=\"#000000\" points=\"4712.9031,-990.7582 4718.1296,-981.5422 4708.2967,-985.4874 4712.9031,-990.7582\"/>\n</g>\n<!-- 304 -->\n<g id=\"node305\" class=\"node\">\n<title>304</title>\n<polygon fill=\"none\" stroke=\"#000000\" points=\"4682,-877.5 4583,-877.5 4583,-824.5 4682,-824.5 4682,-877.5\"/>\n<text text-anchor=\"middle\" x=\"4632.5\" y=\"-862.3\" font-family=\"Helvetica,sans-Serif\" font-size=\"14.00\" fill=\"#000000\">gini = 0.0</text>\n<text text-anchor=\"middle\" x=\"4632.5\" y=\"-847.3\" font-family=\"Helvetica,sans-Serif\" font-size=\"14.00\" fill=\"#000000\">samples = 1</text>\n<text text-anchor=\"middle\" x=\"4632.5\" y=\"-832.3\" font-family=\"Helvetica,sans-Serif\" font-size=\"14.00\" fill=\"#000000\">value = [0, 1]</text>\n</g>\n<!-- 303&#45;&gt;304 -->\n<g id=\"edge304\" class=\"edge\">\n<title>303&#45;&gt;304</title>\n<path fill=\"none\" stroke=\"#000000\" d=\"M4631.8274,-920.9465C4631.9302,-910.2621 4632.044,-898.4254 4632.1483,-887.5742\"/>\n<polygon fill=\"#000000\" stroke=\"#000000\" points=\"4635.6484,-887.5754 4632.2448,-877.5422 4628.6487,-887.508 4635.6484,-887.5754\"/>\n</g>\n<!-- 305 -->\n<g id=\"node306\" class=\"node\">\n<title>305</title>\n<polygon fill=\"none\" stroke=\"#000000\" points=\"4803,-885 4700,-885 4700,-817 4803,-817 4803,-885\"/>\n<text text-anchor=\"middle\" x=\"4751.5\" y=\"-869.8\" font-family=\"Helvetica,sans-Serif\" font-size=\"14.00\" fill=\"#000000\">X[4] &lt;= 7.988</text>\n<text text-anchor=\"middle\" x=\"4751.5\" y=\"-854.8\" font-family=\"Helvetica,sans-Serif\" font-size=\"14.00\" fill=\"#000000\">gini = 0.444</text>\n<text text-anchor=\"middle\" x=\"4751.5\" y=\"-839.8\" font-family=\"Helvetica,sans-Serif\" font-size=\"14.00\" fill=\"#000000\">samples = 3</text>\n<text text-anchor=\"middle\" x=\"4751.5\" y=\"-824.8\" font-family=\"Helvetica,sans-Serif\" font-size=\"14.00\" fill=\"#000000\">value = [1, 2]</text>\n</g>\n<!-- 303&#45;&gt;305 -->\n<g id=\"edge305\" class=\"edge\">\n<title>303&#45;&gt;305</title>\n<path fill=\"none\" stroke=\"#000000\" d=\"M4670.7925,-920.9465C4681.5667,-911.6088 4693.3564,-901.3911 4704.515,-891.7203\"/>\n<polygon fill=\"#000000\" stroke=\"#000000\" points=\"4706.8546,-894.3243 4712.1192,-885.13 4702.2701,-889.0344 4706.8546,-894.3243\"/>\n</g>\n<!-- 306 -->\n<g id=\"node307\" class=\"node\">\n<title>306</title>\n<polygon fill=\"none\" stroke=\"#000000\" points=\"4686,-773.5 4587,-773.5 4587,-720.5 4686,-720.5 4686,-773.5\"/>\n<text text-anchor=\"middle\" x=\"4636.5\" y=\"-758.3\" font-family=\"Helvetica,sans-Serif\" font-size=\"14.00\" fill=\"#000000\">gini = 0.5</text>\n<text text-anchor=\"middle\" x=\"4636.5\" y=\"-743.3\" font-family=\"Helvetica,sans-Serif\" font-size=\"14.00\" fill=\"#000000\">samples = 2</text>\n<text text-anchor=\"middle\" x=\"4636.5\" y=\"-728.3\" font-family=\"Helvetica,sans-Serif\" font-size=\"14.00\" fill=\"#000000\">value = [1, 1]</text>\n</g>\n<!-- 305&#45;&gt;306 -->\n<g id=\"edge306\" class=\"edge\">\n<title>305&#45;&gt;306</title>\n<path fill=\"none\" stroke=\"#000000\" d=\"M4713.8447,-816.9465C4700.8122,-805.1606 4686.2294,-791.9726 4673.2689,-780.2519\"/>\n<polygon fill=\"#000000\" stroke=\"#000000\" points=\"4675.614,-777.6537 4665.8495,-773.5422 4670.9188,-782.8456 4675.614,-777.6537\"/>\n</g>\n<!-- 307 -->\n<g id=\"node308\" class=\"node\">\n<title>307</title>\n<polygon fill=\"none\" stroke=\"#000000\" points=\"4803,-773.5 4704,-773.5 4704,-720.5 4803,-720.5 4803,-773.5\"/>\n<text text-anchor=\"middle\" x=\"4753.5\" y=\"-758.3\" font-family=\"Helvetica,sans-Serif\" font-size=\"14.00\" fill=\"#000000\">gini = 0.0</text>\n<text text-anchor=\"middle\" x=\"4753.5\" y=\"-743.3\" font-family=\"Helvetica,sans-Serif\" font-size=\"14.00\" fill=\"#000000\">samples = 1</text>\n<text text-anchor=\"middle\" x=\"4753.5\" y=\"-728.3\" font-family=\"Helvetica,sans-Serif\" font-size=\"14.00\" fill=\"#000000\">value = [0, 1]</text>\n</g>\n<!-- 305&#45;&gt;307 -->\n<g id=\"edge307\" class=\"edge\">\n<title>305&#45;&gt;307</title>\n<path fill=\"none\" stroke=\"#000000\" d=\"M4752.1549,-816.9465C4752.3603,-806.2621 4752.588,-794.4254 4752.7966,-783.5742\"/>\n<polygon fill=\"#000000\" stroke=\"#000000\" points=\"4756.2966,-783.6076 4752.9896,-773.5422 4749.2979,-783.473 4756.2966,-783.6076\"/>\n</g>\n<!-- 311 -->\n<g id=\"node312\" class=\"node\">\n<title>311</title>\n<polygon fill=\"none\" stroke=\"#000000\" points=\"4860,-1405 4753,-1405 4753,-1337 4860,-1337 4860,-1405\"/>\n<text text-anchor=\"middle\" x=\"4806.5\" y=\"-1389.8\" font-family=\"Helvetica,sans-Serif\" font-size=\"14.00\" fill=\"#000000\">X[1] &lt;= 38.5</text>\n<text text-anchor=\"middle\" x=\"4806.5\" y=\"-1374.8\" font-family=\"Helvetica,sans-Serif\" font-size=\"14.00\" fill=\"#000000\">gini = 0.07</text>\n<text text-anchor=\"middle\" x=\"4806.5\" y=\"-1359.8\" font-family=\"Helvetica,sans-Serif\" font-size=\"14.00\" fill=\"#000000\">samples = 83</text>\n<text text-anchor=\"middle\" x=\"4806.5\" y=\"-1344.8\" font-family=\"Helvetica,sans-Serif\" font-size=\"14.00\" fill=\"#000000\">value = [80, 3]</text>\n</g>\n<!-- 310&#45;&gt;311 -->\n<g id=\"edge311\" class=\"edge\">\n<title>310&#45;&gt;311</title>\n<path fill=\"none\" stroke=\"#000000\" d=\"M4806.5,-1440.9465C4806.5,-1432.776 4806.5,-1423.9318 4806.5,-1415.3697\"/>\n<polygon fill=\"#000000\" stroke=\"#000000\" points=\"4810.0001,-1415.13 4806.5,-1405.13 4803.0001,-1415.13 4810.0001,-1415.13\"/>\n</g>\n<!-- 330 -->\n<g id=\"node331\" class=\"node\">\n<title>330</title>\n<polygon fill=\"none\" stroke=\"#000000\" points=\"5040,-1405 4941,-1405 4941,-1337 5040,-1337 5040,-1405\"/>\n<text text-anchor=\"middle\" x=\"4990.5\" y=\"-1389.8\" font-family=\"Helvetica,sans-Serif\" font-size=\"14.00\" fill=\"#000000\">X[1] &lt;= 63.5</text>\n<text text-anchor=\"middle\" x=\"4990.5\" y=\"-1374.8\" font-family=\"Helvetica,sans-Serif\" font-size=\"14.00\" fill=\"#000000\">gini = 0.32</text>\n<text text-anchor=\"middle\" x=\"4990.5\" y=\"-1359.8\" font-family=\"Helvetica,sans-Serif\" font-size=\"14.00\" fill=\"#000000\">samples = 5</text>\n<text text-anchor=\"middle\" x=\"4990.5\" y=\"-1344.8\" font-family=\"Helvetica,sans-Serif\" font-size=\"14.00\" fill=\"#000000\">value = [4, 1]</text>\n</g>\n<!-- 310&#45;&gt;330 -->\n<g id=\"edge330\" class=\"edge\">\n<title>310&#45;&gt;330</title>\n<path fill=\"none\" stroke=\"#000000\" d=\"M4860.215,-1444.6393C4882.6896,-1431.9363 4908.8741,-1417.1364 4931.8494,-1404.1503\"/>\n<polygon fill=\"#000000\" stroke=\"#000000\" points=\"4933.8296,-1407.0515 4940.813,-1399.0839 4930.3852,-1400.9576 4933.8296,-1407.0515\"/>\n</g>\n<!-- 312 -->\n<g id=\"node313\" class=\"node\">\n<title>312</title>\n<polygon fill=\"none\" stroke=\"#000000\" points=\"4798,-1293.5 4691,-1293.5 4691,-1240.5 4798,-1240.5 4798,-1293.5\"/>\n<text text-anchor=\"middle\" x=\"4744.5\" y=\"-1278.3\" font-family=\"Helvetica,sans-Serif\" font-size=\"14.00\" fill=\"#000000\">gini = 0.0</text>\n<text text-anchor=\"middle\" x=\"4744.5\" y=\"-1263.3\" font-family=\"Helvetica,sans-Serif\" font-size=\"14.00\" fill=\"#000000\">samples = 33</text>\n<text text-anchor=\"middle\" x=\"4744.5\" y=\"-1248.3\" font-family=\"Helvetica,sans-Serif\" font-size=\"14.00\" fill=\"#000000\">value = [33, 0]</text>\n</g>\n<!-- 311&#45;&gt;312 -->\n<g id=\"edge312\" class=\"edge\">\n<title>311&#45;&gt;312</title>\n<path fill=\"none\" stroke=\"#000000\" d=\"M4786.1989,-1336.9465C4779.5666,-1325.8215 4772.1897,-1313.4473 4765.5067,-1302.237\"/>\n<polygon fill=\"#000000\" stroke=\"#000000\" points=\"4768.4502,-1300.3394 4760.3232,-1293.5422 4762.4376,-1303.9239 4768.4502,-1300.3394\"/>\n</g>\n<!-- 313 -->\n<g id=\"node314\" class=\"node\">\n<title>313</title>\n<polygon fill=\"none\" stroke=\"#000000\" points=\"4923,-1301 4816,-1301 4816,-1233 4923,-1233 4923,-1301\"/>\n<text text-anchor=\"middle\" x=\"4869.5\" y=\"-1285.8\" font-family=\"Helvetica,sans-Serif\" font-size=\"14.00\" fill=\"#000000\">X[1] &lt;= 44.5</text>\n<text text-anchor=\"middle\" x=\"4869.5\" y=\"-1270.8\" font-family=\"Helvetica,sans-Serif\" font-size=\"14.00\" fill=\"#000000\">gini = 0.113</text>\n<text text-anchor=\"middle\" x=\"4869.5\" y=\"-1255.8\" font-family=\"Helvetica,sans-Serif\" font-size=\"14.00\" fill=\"#000000\">samples = 50</text>\n<text text-anchor=\"middle\" x=\"4869.5\" y=\"-1240.8\" font-family=\"Helvetica,sans-Serif\" font-size=\"14.00\" fill=\"#000000\">value = [47, 3]</text>\n</g>\n<!-- 311&#45;&gt;313 -->\n<g id=\"edge313\" class=\"edge\">\n<title>311&#45;&gt;313</title>\n<path fill=\"none\" stroke=\"#000000\" d=\"M4827.1286,-1336.9465C4832.3499,-1328.3271 4838.0255,-1318.9579 4843.4755,-1309.9611\"/>\n<polygon fill=\"#000000\" stroke=\"#000000\" points=\"4846.6374,-1311.4965 4848.8251,-1301.13 4840.6503,-1307.8697 4846.6374,-1311.4965\"/>\n</g>\n<!-- 314 -->\n<g id=\"node315\" class=\"node\">\n<title>314</title>\n<polygon fill=\"none\" stroke=\"#000000\" points=\"4925,-1197 4814,-1197 4814,-1129 4925,-1129 4925,-1197\"/>\n<text text-anchor=\"middle\" x=\"4869.5\" y=\"-1181.8\" font-family=\"Helvetica,sans-Serif\" font-size=\"14.00\" fill=\"#000000\">X[4] &lt;= 13.554</text>\n<text text-anchor=\"middle\" x=\"4869.5\" y=\"-1166.8\" font-family=\"Helvetica,sans-Serif\" font-size=\"14.00\" fill=\"#000000\">gini = 0.198</text>\n<text text-anchor=\"middle\" x=\"4869.5\" y=\"-1151.8\" font-family=\"Helvetica,sans-Serif\" font-size=\"14.00\" fill=\"#000000\">samples = 27</text>\n<text text-anchor=\"middle\" x=\"4869.5\" y=\"-1136.8\" font-family=\"Helvetica,sans-Serif\" font-size=\"14.00\" fill=\"#000000\">value = [24, 3]</text>\n</g>\n<!-- 313&#45;&gt;314 -->\n<g id=\"edge314\" class=\"edge\">\n<title>313&#45;&gt;314</title>\n<path fill=\"none\" stroke=\"#000000\" d=\"M4869.5,-1232.9465C4869.5,-1224.776 4869.5,-1215.9318 4869.5,-1207.3697\"/>\n<polygon fill=\"#000000\" stroke=\"#000000\" points=\"4873.0001,-1207.13 4869.5,-1197.13 4866.0001,-1207.13 4873.0001,-1207.13\"/>\n</g>\n<!-- 329 -->\n<g id=\"node330\" class=\"node\">\n<title>329</title>\n<polygon fill=\"none\" stroke=\"#000000\" points=\"5050,-1189.5 4943,-1189.5 4943,-1136.5 5050,-1136.5 5050,-1189.5\"/>\n<text text-anchor=\"middle\" x=\"4996.5\" y=\"-1174.3\" font-family=\"Helvetica,sans-Serif\" font-size=\"14.00\" fill=\"#000000\">gini = 0.0</text>\n<text text-anchor=\"middle\" x=\"4996.5\" y=\"-1159.3\" font-family=\"Helvetica,sans-Serif\" font-size=\"14.00\" fill=\"#000000\">samples = 23</text>\n<text text-anchor=\"middle\" x=\"4996.5\" y=\"-1144.3\" font-family=\"Helvetica,sans-Serif\" font-size=\"14.00\" fill=\"#000000\">value = [23, 0]</text>\n</g>\n<!-- 313&#45;&gt;329 -->\n<g id=\"edge329\" class=\"edge\">\n<title>313&#45;&gt;329</title>\n<path fill=\"none\" stroke=\"#000000\" d=\"M4911.0845,-1232.9465C4925.6115,-1221.0504 4941.8827,-1207.726 4956.2951,-1195.9237\"/>\n<polygon fill=\"#000000\" stroke=\"#000000\" points=\"4958.5686,-1198.5858 4964.0879,-1189.5422 4954.1335,-1193.17 4958.5686,-1198.5858\"/>\n</g>\n<!-- 315 -->\n<g id=\"node316\" class=\"node\">\n<title>315</title>\n<polygon fill=\"none\" stroke=\"#000000\" points=\"4923,-1093 4816,-1093 4816,-1025 4923,-1025 4923,-1093\"/>\n<text text-anchor=\"middle\" x=\"4869.5\" y=\"-1077.8\" font-family=\"Helvetica,sans-Serif\" font-size=\"14.00\" fill=\"#000000\">X[4] &lt;= 7.91</text>\n<text text-anchor=\"middle\" x=\"4869.5\" y=\"-1062.8\" font-family=\"Helvetica,sans-Serif\" font-size=\"14.00\" fill=\"#000000\">gini = 0.291</text>\n<text text-anchor=\"middle\" x=\"4869.5\" y=\"-1047.8\" font-family=\"Helvetica,sans-Serif\" font-size=\"14.00\" fill=\"#000000\">samples = 17</text>\n<text text-anchor=\"middle\" x=\"4869.5\" y=\"-1032.8\" font-family=\"Helvetica,sans-Serif\" font-size=\"14.00\" fill=\"#000000\">value = [14, 3]</text>\n</g>\n<!-- 314&#45;&gt;315 -->\n<g id=\"edge315\" class=\"edge\">\n<title>314&#45;&gt;315</title>\n<path fill=\"none\" stroke=\"#000000\" d=\"M4869.5,-1128.9465C4869.5,-1120.776 4869.5,-1111.9318 4869.5,-1103.3697\"/>\n<polygon fill=\"#000000\" stroke=\"#000000\" points=\"4873.0001,-1103.13 4869.5,-1093.13 4866.0001,-1103.13 4873.0001,-1103.13\"/>\n</g>\n<!-- 328 -->\n<g id=\"node329\" class=\"node\">\n<title>328</title>\n<polygon fill=\"none\" stroke=\"#000000\" points=\"5048,-1085.5 4941,-1085.5 4941,-1032.5 5048,-1032.5 5048,-1085.5\"/>\n<text text-anchor=\"middle\" x=\"4994.5\" y=\"-1070.3\" font-family=\"Helvetica,sans-Serif\" font-size=\"14.00\" fill=\"#000000\">gini = 0.0</text>\n<text text-anchor=\"middle\" x=\"4994.5\" y=\"-1055.3\" font-family=\"Helvetica,sans-Serif\" font-size=\"14.00\" fill=\"#000000\">samples = 10</text>\n<text text-anchor=\"middle\" x=\"4994.5\" y=\"-1040.3\" font-family=\"Helvetica,sans-Serif\" font-size=\"14.00\" fill=\"#000000\">value = [10, 0]</text>\n</g>\n<!-- 314&#45;&gt;328 -->\n<g id=\"edge328\" class=\"edge\">\n<title>314&#45;&gt;328</title>\n<path fill=\"none\" stroke=\"#000000\" d=\"M4910.4297,-1128.9465C4924.5955,-1117.1606 4940.4463,-1103.9726 4954.5338,-1092.2519\"/>\n<polygon fill=\"#000000\" stroke=\"#000000\" points=\"4957.1496,-1094.6285 4962.5984,-1085.5422 4952.6725,-1089.2474 4957.1496,-1094.6285\"/>\n</g>\n<!-- 316 -->\n<g id=\"node317\" class=\"node\">\n<title>316</title>\n<polygon fill=\"none\" stroke=\"#000000\" points=\"4918,-981.5 4819,-981.5 4819,-928.5 4918,-928.5 4918,-981.5\"/>\n<text text-anchor=\"middle\" x=\"4868.5\" y=\"-966.3\" font-family=\"Helvetica,sans-Serif\" font-size=\"14.00\" fill=\"#000000\">gini = 0.0</text>\n<text text-anchor=\"middle\" x=\"4868.5\" y=\"-951.3\" font-family=\"Helvetica,sans-Serif\" font-size=\"14.00\" fill=\"#000000\">samples = 6</text>\n<text text-anchor=\"middle\" x=\"4868.5\" y=\"-936.3\" font-family=\"Helvetica,sans-Serif\" font-size=\"14.00\" fill=\"#000000\">value = [6, 0]</text>\n</g>\n<!-- 315&#45;&gt;316 -->\n<g id=\"edge316\" class=\"edge\">\n<title>315&#45;&gt;316</title>\n<path fill=\"none\" stroke=\"#000000\" d=\"M4869.1726,-1024.9465C4869.0698,-1014.2621 4868.956,-1002.4254 4868.8517,-991.5742\"/>\n<polygon fill=\"#000000\" stroke=\"#000000\" points=\"4872.3513,-991.508 4868.7552,-981.5422 4865.3516,-991.5754 4872.3513,-991.508\"/>\n</g>\n<!-- 317 -->\n<g id=\"node318\" class=\"node\">\n<title>317</title>\n<polygon fill=\"none\" stroke=\"#000000\" points=\"5040.5,-989 4936.5,-989 4936.5,-921 5040.5,-921 5040.5,-989\"/>\n<text text-anchor=\"middle\" x=\"4988.5\" y=\"-973.8\" font-family=\"Helvetica,sans-Serif\" font-size=\"14.00\" fill=\"#000000\">X[4] &lt;= 7.988</text>\n<text text-anchor=\"middle\" x=\"4988.5\" y=\"-958.8\" font-family=\"Helvetica,sans-Serif\" font-size=\"14.00\" fill=\"#000000\">gini = 0.397</text>\n<text text-anchor=\"middle\" x=\"4988.5\" y=\"-943.8\" font-family=\"Helvetica,sans-Serif\" font-size=\"14.00\" fill=\"#000000\">samples = 11</text>\n<text text-anchor=\"middle\" x=\"4988.5\" y=\"-928.8\" font-family=\"Helvetica,sans-Serif\" font-size=\"14.00\" fill=\"#000000\">value = [8, 3]</text>\n</g>\n<!-- 315&#45;&gt;317 -->\n<g id=\"edge317\" class=\"edge\">\n<title>315&#45;&gt;317</title>\n<path fill=\"none\" stroke=\"#000000\" d=\"M4908.4651,-1024.9465C4919.1495,-1015.6088 4930.8409,-1005.3911 4941.9066,-995.7203\"/>\n<polygon fill=\"#000000\" stroke=\"#000000\" points=\"4944.2209,-998.346 4949.4474,-989.13 4939.6145,-993.0752 4944.2209,-998.346\"/>\n</g>\n<!-- 318 -->\n<g id=\"node319\" class=\"node\">\n<title>318</title>\n<polygon fill=\"none\" stroke=\"#000000\" points=\"5037,-885 4938,-885 4938,-817 5037,-817 5037,-885\"/>\n<text text-anchor=\"middle\" x=\"4987.5\" y=\"-869.8\" font-family=\"Helvetica,sans-Serif\" font-size=\"14.00\" fill=\"#000000\">X[1] &lt;= 41.5</text>\n<text text-anchor=\"middle\" x=\"4987.5\" y=\"-854.8\" font-family=\"Helvetica,sans-Serif\" font-size=\"14.00\" fill=\"#000000\">gini = 0.444</text>\n<text text-anchor=\"middle\" x=\"4987.5\" y=\"-839.8\" font-family=\"Helvetica,sans-Serif\" font-size=\"14.00\" fill=\"#000000\">samples = 3</text>\n<text text-anchor=\"middle\" x=\"4987.5\" y=\"-824.8\" font-family=\"Helvetica,sans-Serif\" font-size=\"14.00\" fill=\"#000000\">value = [1, 2]</text>\n</g>\n<!-- 317&#45;&gt;318 -->\n<g id=\"edge318\" class=\"edge\">\n<title>317&#45;&gt;318</title>\n<path fill=\"none\" stroke=\"#000000\" d=\"M4988.1726,-920.9465C4988.094,-912.776 4988.009,-903.9318 4987.9266,-895.3697\"/>\n<polygon fill=\"#000000\" stroke=\"#000000\" points=\"4991.4243,-895.0958 4987.8282,-885.13 4984.4246,-895.1632 4991.4243,-895.0958\"/>\n</g>\n<!-- 321 -->\n<g id=\"node322\" class=\"node\">\n<title>321</title>\n<polygon fill=\"none\" stroke=\"#000000\" points=\"5166,-885 5055,-885 5055,-817 5166,-817 5166,-885\"/>\n<text text-anchor=\"middle\" x=\"5110.5\" y=\"-869.8\" font-family=\"Helvetica,sans-Serif\" font-size=\"14.00\" fill=\"#000000\">X[4] &lt;= 10.831</text>\n<text text-anchor=\"middle\" x=\"5110.5\" y=\"-854.8\" font-family=\"Helvetica,sans-Serif\" font-size=\"14.00\" fill=\"#000000\">gini = 0.219</text>\n<text text-anchor=\"middle\" x=\"5110.5\" y=\"-839.8\" font-family=\"Helvetica,sans-Serif\" font-size=\"14.00\" fill=\"#000000\">samples = 8</text>\n<text text-anchor=\"middle\" x=\"5110.5\" y=\"-824.8\" font-family=\"Helvetica,sans-Serif\" font-size=\"14.00\" fill=\"#000000\">value = [7, 1]</text>\n</g>\n<!-- 317&#45;&gt;321 -->\n<g id=\"edge321\" class=\"edge\">\n<title>317&#45;&gt;321</title>\n<path fill=\"none\" stroke=\"#000000\" d=\"M5028.4474,-920.9465C5039.4012,-911.6088 5051.3873,-901.3911 5062.732,-891.7203\"/>\n<polygon fill=\"#000000\" stroke=\"#000000\" points=\"5065.1233,-894.2809 5070.4629,-885.13 5060.5821,-888.9538 5065.1233,-894.2809\"/>\n</g>\n<!-- 319 -->\n<g id=\"node320\" class=\"node\">\n<title>319</title>\n<polygon fill=\"none\" stroke=\"#000000\" points=\"4923,-773.5 4824,-773.5 4824,-720.5 4923,-720.5 4923,-773.5\"/>\n<text text-anchor=\"middle\" x=\"4873.5\" y=\"-758.3\" font-family=\"Helvetica,sans-Serif\" font-size=\"14.00\" fill=\"#000000\">gini = 0.5</text>\n<text text-anchor=\"middle\" x=\"4873.5\" y=\"-743.3\" font-family=\"Helvetica,sans-Serif\" font-size=\"14.00\" fill=\"#000000\">samples = 2</text>\n<text text-anchor=\"middle\" x=\"4873.5\" y=\"-728.3\" font-family=\"Helvetica,sans-Serif\" font-size=\"14.00\" fill=\"#000000\">value = [1, 1]</text>\n</g>\n<!-- 318&#45;&gt;319 -->\n<g id=\"edge319\" class=\"edge\">\n<title>318&#45;&gt;319</title>\n<path fill=\"none\" stroke=\"#000000\" d=\"M4950.1721,-816.9465C4937.3737,-805.2707 4923.067,-792.219 4910.3099,-780.5809\"/>\n<polygon fill=\"#000000\" stroke=\"#000000\" points=\"4912.3409,-777.6961 4902.5943,-773.5422 4907.6231,-782.8675 4912.3409,-777.6961\"/>\n</g>\n<!-- 320 -->\n<g id=\"node321\" class=\"node\">\n<title>320</title>\n<polygon fill=\"none\" stroke=\"#000000\" points=\"5040,-773.5 4941,-773.5 4941,-720.5 5040,-720.5 5040,-773.5\"/>\n<text text-anchor=\"middle\" x=\"4990.5\" y=\"-758.3\" font-family=\"Helvetica,sans-Serif\" font-size=\"14.00\" fill=\"#000000\">gini = 0.0</text>\n<text text-anchor=\"middle\" x=\"4990.5\" y=\"-743.3\" font-family=\"Helvetica,sans-Serif\" font-size=\"14.00\" fill=\"#000000\">samples = 1</text>\n<text text-anchor=\"middle\" x=\"4990.5\" y=\"-728.3\" font-family=\"Helvetica,sans-Serif\" font-size=\"14.00\" fill=\"#000000\">value = [0, 1]</text>\n</g>\n<!-- 318&#45;&gt;320 -->\n<g id=\"edge320\" class=\"edge\">\n<title>318&#45;&gt;320</title>\n<path fill=\"none\" stroke=\"#000000\" d=\"M4988.4823,-816.9465C4988.7905,-806.2621 4989.132,-794.4254 4989.445,-783.5742\"/>\n<polygon fill=\"#000000\" stroke=\"#000000\" points=\"4992.9445,-783.639 4989.7344,-773.5422 4985.9474,-783.4371 4992.9445,-783.639\"/>\n</g>\n<!-- 322 -->\n<g id=\"node323\" class=\"node\">\n<title>322</title>\n<polygon fill=\"none\" stroke=\"#000000\" points=\"5159,-773.5 5060,-773.5 5060,-720.5 5159,-720.5 5159,-773.5\"/>\n<text text-anchor=\"middle\" x=\"5109.5\" y=\"-758.3\" font-family=\"Helvetica,sans-Serif\" font-size=\"14.00\" fill=\"#000000\">gini = 0.0</text>\n<text text-anchor=\"middle\" x=\"5109.5\" y=\"-743.3\" font-family=\"Helvetica,sans-Serif\" font-size=\"14.00\" fill=\"#000000\">samples = 5</text>\n<text text-anchor=\"middle\" x=\"5109.5\" y=\"-728.3\" font-family=\"Helvetica,sans-Serif\" font-size=\"14.00\" fill=\"#000000\">value = [5, 0]</text>\n</g>\n<!-- 321&#45;&gt;322 -->\n<g id=\"edge322\" class=\"edge\">\n<title>321&#45;&gt;322</title>\n<path fill=\"none\" stroke=\"#000000\" d=\"M5110.1726,-816.9465C5110.0698,-806.2621 5109.956,-794.4254 5109.8517,-783.5742\"/>\n<polygon fill=\"#000000\" stroke=\"#000000\" points=\"5113.3513,-783.508 5109.7552,-773.5422 5106.3516,-783.5754 5113.3513,-783.508\"/>\n</g>\n<!-- 323 -->\n<g id=\"node324\" class=\"node\">\n<title>323</title>\n<polygon fill=\"none\" stroke=\"#000000\" points=\"5276,-781 5177,-781 5177,-713 5276,-713 5276,-781\"/>\n<text text-anchor=\"middle\" x=\"5226.5\" y=\"-765.8\" font-family=\"Helvetica,sans-Serif\" font-size=\"14.00\" fill=\"#000000\">X[5] &lt;= 2.5</text>\n<text text-anchor=\"middle\" x=\"5226.5\" y=\"-750.8\" font-family=\"Helvetica,sans-Serif\" font-size=\"14.00\" fill=\"#000000\">gini = 0.444</text>\n<text text-anchor=\"middle\" x=\"5226.5\" y=\"-735.8\" font-family=\"Helvetica,sans-Serif\" font-size=\"14.00\" fill=\"#000000\">samples = 3</text>\n<text text-anchor=\"middle\" x=\"5226.5\" y=\"-720.8\" font-family=\"Helvetica,sans-Serif\" font-size=\"14.00\" fill=\"#000000\">value = [2, 1]</text>\n</g>\n<!-- 321&#45;&gt;323 -->\n<g id=\"edge323\" class=\"edge\">\n<title>321&#45;&gt;323</title>\n<path fill=\"none\" stroke=\"#000000\" d=\"M5148.4827,-816.9465C5158.7977,-807.6986 5170.0754,-797.5876 5180.7699,-787.9994\"/>\n<polygon fill=\"#000000\" stroke=\"#000000\" points=\"5183.3226,-790.4115 5188.4319,-781.13 5178.6498,-785.1995 5183.3226,-790.4115\"/>\n</g>\n<!-- 324 -->\n<g id=\"node325\" class=\"node\">\n<title>324</title>\n<polygon fill=\"none\" stroke=\"#000000\" points=\"5217,-677 5118,-677 5118,-609 5217,-609 5217,-677\"/>\n<text text-anchor=\"middle\" x=\"5167.5\" y=\"-661.8\" font-family=\"Helvetica,sans-Serif\" font-size=\"14.00\" fill=\"#000000\">X[1] &lt;= 40.5</text>\n<text text-anchor=\"middle\" x=\"5167.5\" y=\"-646.8\" font-family=\"Helvetica,sans-Serif\" font-size=\"14.00\" fill=\"#000000\">gini = 0.5</text>\n<text text-anchor=\"middle\" x=\"5167.5\" y=\"-631.8\" font-family=\"Helvetica,sans-Serif\" font-size=\"14.00\" fill=\"#000000\">samples = 2</text>\n<text text-anchor=\"middle\" x=\"5167.5\" y=\"-616.8\" font-family=\"Helvetica,sans-Serif\" font-size=\"14.00\" fill=\"#000000\">value = [1, 1]</text>\n</g>\n<!-- 323&#45;&gt;324 -->\n<g id=\"edge324\" class=\"edge\">\n<title>323&#45;&gt;324</title>\n<path fill=\"none\" stroke=\"#000000\" d=\"M5207.1812,-712.9465C5202.2913,-704.3271 5196.9761,-694.9579 5191.8722,-685.9611\"/>\n<polygon fill=\"#000000\" stroke=\"#000000\" points=\"5194.8408,-684.1008 5186.8622,-677.13 5188.7524,-687.5549 5194.8408,-684.1008\"/>\n</g>\n<!-- 327 -->\n<g id=\"node328\" class=\"node\">\n<title>327</title>\n<polygon fill=\"none\" stroke=\"#000000\" points=\"5334,-669.5 5235,-669.5 5235,-616.5 5334,-616.5 5334,-669.5\"/>\n<text text-anchor=\"middle\" x=\"5284.5\" y=\"-654.3\" font-family=\"Helvetica,sans-Serif\" font-size=\"14.00\" fill=\"#000000\">gini = 0.0</text>\n<text text-anchor=\"middle\" x=\"5284.5\" y=\"-639.3\" font-family=\"Helvetica,sans-Serif\" font-size=\"14.00\" fill=\"#000000\">samples = 1</text>\n<text text-anchor=\"middle\" x=\"5284.5\" y=\"-624.3\" font-family=\"Helvetica,sans-Serif\" font-size=\"14.00\" fill=\"#000000\">value = [1, 0]</text>\n</g>\n<!-- 323&#45;&gt;327 -->\n<g id=\"edge327\" class=\"edge\">\n<title>323&#45;&gt;327</title>\n<path fill=\"none\" stroke=\"#000000\" d=\"M5245.4914,-712.9465C5251.6343,-701.9316 5258.4601,-689.6922 5264.6627,-678.5703\"/>\n<polygon fill=\"#000000\" stroke=\"#000000\" points=\"5267.8837,-679.9806 5269.6976,-669.5422 5261.7701,-676.5711 5267.8837,-679.9806\"/>\n</g>\n<!-- 325 -->\n<g id=\"node326\" class=\"node\">\n<title>325</title>\n<polygon fill=\"none\" stroke=\"#000000\" points=\"5158,-565.5 5059,-565.5 5059,-512.5 5158,-512.5 5158,-565.5\"/>\n<text text-anchor=\"middle\" x=\"5108.5\" y=\"-550.3\" font-family=\"Helvetica,sans-Serif\" font-size=\"14.00\" fill=\"#000000\">gini = 0.0</text>\n<text text-anchor=\"middle\" x=\"5108.5\" y=\"-535.3\" font-family=\"Helvetica,sans-Serif\" font-size=\"14.00\" fill=\"#000000\">samples = 1</text>\n<text text-anchor=\"middle\" x=\"5108.5\" y=\"-520.3\" font-family=\"Helvetica,sans-Serif\" font-size=\"14.00\" fill=\"#000000\">value = [1, 0]</text>\n</g>\n<!-- 324&#45;&gt;325 -->\n<g id=\"edge325\" class=\"edge\">\n<title>324&#45;&gt;325</title>\n<path fill=\"none\" stroke=\"#000000\" d=\"M5148.1812,-608.9465C5141.9324,-597.9316 5134.9888,-585.6922 5128.6793,-574.5703\"/>\n<polygon fill=\"#000000\" stroke=\"#000000\" points=\"5131.5362,-572.513 5123.5576,-565.5422 5125.4477,-575.967 5131.5362,-572.513\"/>\n</g>\n<!-- 326 -->\n<g id=\"node327\" class=\"node\">\n<title>326</title>\n<polygon fill=\"none\" stroke=\"#000000\" points=\"5275,-565.5 5176,-565.5 5176,-512.5 5275,-512.5 5275,-565.5\"/>\n<text text-anchor=\"middle\" x=\"5225.5\" y=\"-550.3\" font-family=\"Helvetica,sans-Serif\" font-size=\"14.00\" fill=\"#000000\">gini = 0.0</text>\n<text text-anchor=\"middle\" x=\"5225.5\" y=\"-535.3\" font-family=\"Helvetica,sans-Serif\" font-size=\"14.00\" fill=\"#000000\">samples = 1</text>\n<text text-anchor=\"middle\" x=\"5225.5\" y=\"-520.3\" font-family=\"Helvetica,sans-Serif\" font-size=\"14.00\" fill=\"#000000\">value = [0, 1]</text>\n</g>\n<!-- 324&#45;&gt;326 -->\n<g id=\"edge326\" class=\"edge\">\n<title>324&#45;&gt;326</title>\n<path fill=\"none\" stroke=\"#000000\" d=\"M5186.4914,-608.9465C5192.6343,-597.9316 5199.4601,-585.6922 5205.6627,-574.5703\"/>\n<polygon fill=\"#000000\" stroke=\"#000000\" points=\"5208.8837,-575.9806 5210.6976,-565.5422 5202.7701,-572.5711 5208.8837,-575.9806\"/>\n</g>\n<!-- 331 -->\n<g id=\"node332\" class=\"node\">\n<title>331</title>\n<polygon fill=\"none\" stroke=\"#000000\" points=\"5040,-1293.5 4941,-1293.5 4941,-1240.5 5040,-1240.5 5040,-1293.5\"/>\n<text text-anchor=\"middle\" x=\"4990.5\" y=\"-1278.3\" font-family=\"Helvetica,sans-Serif\" font-size=\"14.00\" fill=\"#000000\">gini = 0.0</text>\n<text text-anchor=\"middle\" x=\"4990.5\" y=\"-1263.3\" font-family=\"Helvetica,sans-Serif\" font-size=\"14.00\" fill=\"#000000\">samples = 1</text>\n<text text-anchor=\"middle\" x=\"4990.5\" y=\"-1248.3\" font-family=\"Helvetica,sans-Serif\" font-size=\"14.00\" fill=\"#000000\">value = [0, 1]</text>\n</g>\n<!-- 330&#45;&gt;331 -->\n<g id=\"edge331\" class=\"edge\">\n<title>330&#45;&gt;331</title>\n<path fill=\"none\" stroke=\"#000000\" d=\"M4990.5,-1336.9465C4990.5,-1326.2621 4990.5,-1314.4254 4990.5,-1303.5742\"/>\n<polygon fill=\"#000000\" stroke=\"#000000\" points=\"4994.0001,-1303.5421 4990.5,-1293.5422 4987.0001,-1303.5422 4994.0001,-1303.5421\"/>\n</g>\n<!-- 332 -->\n<g id=\"node333\" class=\"node\">\n<title>332</title>\n<polygon fill=\"none\" stroke=\"#000000\" points=\"5157,-1293.5 5058,-1293.5 5058,-1240.5 5157,-1240.5 5157,-1293.5\"/>\n<text text-anchor=\"middle\" x=\"5107.5\" y=\"-1278.3\" font-family=\"Helvetica,sans-Serif\" font-size=\"14.00\" fill=\"#000000\">gini = 0.0</text>\n<text text-anchor=\"middle\" x=\"5107.5\" y=\"-1263.3\" font-family=\"Helvetica,sans-Serif\" font-size=\"14.00\" fill=\"#000000\">samples = 4</text>\n<text text-anchor=\"middle\" x=\"5107.5\" y=\"-1248.3\" font-family=\"Helvetica,sans-Serif\" font-size=\"14.00\" fill=\"#000000\">value = [4, 0]</text>\n</g>\n<!-- 330&#45;&gt;332 -->\n<g id=\"edge332\" class=\"edge\">\n<title>330&#45;&gt;332</title>\n<path fill=\"none\" stroke=\"#000000\" d=\"M5028.8102,-1336.9465C5042.0694,-1325.1606 5056.9058,-1311.9726 5070.0916,-1300.2519\"/>\n<polygon fill=\"#000000\" stroke=\"#000000\" points=\"5072.4912,-1302.8018 5077.6401,-1293.5422 5067.8407,-1297.5699 5072.4912,-1302.8018\"/>\n</g>\n</g>\n</svg>\n"
          },
          "metadata": {},
          "execution_count": 59
        }
      ]
    },
    {
      "cell_type": "markdown",
      "source": [
        "Changing Decision Tree Parameters"
      ],
      "metadata": {
        "id": "n7SHLZE-JSA0"
      }
    },
    {
      "cell_type": "code",
      "source": [
        "dtree= tree.DecisionTreeClassifier(criterion= \"gini\", splitter= \"random\",  max_leaf_nodes= 10, min_samples_leaf= 5, max_depth=10)"
      ],
      "metadata": {
        "id": "pEn6qXIwJLz6"
      },
      "execution_count": 60,
      "outputs": []
    },
    {
      "cell_type": "code",
      "source": [
        "model1= dtree.fit(X_train, y_train)"
      ],
      "metadata": {
        "id": "b_Oqvim-JXPJ"
      },
      "execution_count": 61,
      "outputs": []
    },
    {
      "cell_type": "code",
      "source": [
        "y_pred= model1.predict(X_test)"
      ],
      "metadata": {
        "id": "ag6SbvgsJbQQ"
      },
      "execution_count": 62,
      "outputs": []
    },
    {
      "cell_type": "code",
      "source": [
        "print(\"score:{}\".format(accuracy_score(y_test, y_pred)))"
      ],
      "metadata": {
        "colab": {
          "base_uri": "https://localhost:8080/"
        },
        "id": "Kg9VYD68JfcE",
        "outputId": "cf6896c5-8474-4d91-8b98-5794e3762042"
      },
      "execution_count": 63,
      "outputs": [
        {
          "output_type": "stream",
          "name": "stdout",
          "text": [
            "score:0.8435754189944135\n"
          ]
        }
      ]
    },
    {
      "cell_type": "code",
      "source": [
        "dot_data= tree.export_graphviz(model1 , out_file=None)\n",
        "graph= graphviz.Source(dot_data)\n",
        "graph.render(\"new_data\")\n",
        "graph"
      ],
      "metadata": {
        "colab": {
          "base_uri": "https://localhost:8080/",
          "height": 816
        },
        "id": "nkZ5jpAiJjHP",
        "outputId": "003b9bd6-9848-4d4d-d884-f7a2567a7810"
      },
      "execution_count": 64,
      "outputs": [
        {
          "output_type": "execute_result",
          "data": {
            "text/plain": [
              "<graphviz.files.Source at 0x7f6034913910>"
            ],
            "image/svg+xml": "<?xml version=\"1.0\" encoding=\"UTF-8\" standalone=\"no\"?>\n<!DOCTYPE svg PUBLIC \"-//W3C//DTD SVG 1.1//EN\"\n \"http://www.w3.org/Graphics/SVG/1.1/DTD/svg11.dtd\">\n<!-- Generated by graphviz version 2.40.1 (20161225.0304)\n -->\n<!-- Title: Tree Pages: 1 -->\n<svg width=\"835pt\" height=\"581pt\"\n viewBox=\"0.00 0.00 834.50 581.00\" xmlns=\"http://www.w3.org/2000/svg\" xmlns:xlink=\"http://www.w3.org/1999/xlink\">\n<g id=\"graph0\" class=\"graph\" transform=\"scale(1 1) rotate(0) translate(4 577)\">\n<title>Tree</title>\n<polygon fill=\"#ffffff\" stroke=\"transparent\" points=\"-4,4 -4,-577 830.5,-577 830.5,4 -4,4\"/>\n<!-- 0 -->\n<g id=\"node1\" class=\"node\">\n<title>0</title>\n<polygon fill=\"none\" stroke=\"#000000\" points=\"377.5,-573 245.5,-573 245.5,-505 377.5,-505 377.5,-573\"/>\n<text text-anchor=\"middle\" x=\"311.5\" y=\"-557.8\" font-family=\"Helvetica,sans-Serif\" font-size=\"14.00\" fill=\"#000000\">X[2] &lt;= 0.175</text>\n<text text-anchor=\"middle\" x=\"311.5\" y=\"-542.8\" font-family=\"Helvetica,sans-Serif\" font-size=\"14.00\" fill=\"#000000\">gini = 0.469</text>\n<text text-anchor=\"middle\" x=\"311.5\" y=\"-527.8\" font-family=\"Helvetica,sans-Serif\" font-size=\"14.00\" fill=\"#000000\">samples = 712</text>\n<text text-anchor=\"middle\" x=\"311.5\" y=\"-512.8\" font-family=\"Helvetica,sans-Serif\" font-size=\"14.00\" fill=\"#000000\">value = [444, 268]</text>\n</g>\n<!-- 1 -->\n<g id=\"node2\" class=\"node\">\n<title>1</title>\n<polygon fill=\"none\" stroke=\"#000000\" points=\"302.5,-469 178.5,-469 178.5,-401 302.5,-401 302.5,-469\"/>\n<text text-anchor=\"middle\" x=\"240.5\" y=\"-453.8\" font-family=\"Helvetica,sans-Serif\" font-size=\"14.00\" fill=\"#000000\">X[0] &lt;= 1.765</text>\n<text text-anchor=\"middle\" x=\"240.5\" y=\"-438.8\" font-family=\"Helvetica,sans-Serif\" font-size=\"14.00\" fill=\"#000000\">gini = 0.39</text>\n<text text-anchor=\"middle\" x=\"240.5\" y=\"-423.8\" font-family=\"Helvetica,sans-Serif\" font-size=\"14.00\" fill=\"#000000\">samples = 252</text>\n<text text-anchor=\"middle\" x=\"240.5\" y=\"-408.8\" font-family=\"Helvetica,sans-Serif\" font-size=\"14.00\" fill=\"#000000\">value = [67, 185]</text>\n</g>\n<!-- 0&#45;&gt;1 -->\n<g id=\"edge1\" class=\"edge\">\n<title>0&#45;&gt;1</title>\n<path fill=\"none\" stroke=\"#000000\" d=\"M288.2519,-504.9465C282.245,-496.1475 275.7045,-486.5672 269.4457,-477.3993\"/>\n<polygon fill=\"#000000\" stroke=\"#000000\" points=\"272.3293,-475.4155 263.8003,-469.13 266.548,-479.3623 272.3293,-475.4155\"/>\n<text text-anchor=\"middle\" x=\"259.1676\" y=\"-489.997\" font-family=\"Helvetica,sans-Serif\" font-size=\"14.00\" fill=\"#000000\">True</text>\n</g>\n<!-- 2 -->\n<g id=\"node11\" class=\"node\">\n<title>2</title>\n<polygon fill=\"none\" stroke=\"#000000\" points=\"497.5,-469 373.5,-469 373.5,-401 497.5,-401 497.5,-469\"/>\n<text text-anchor=\"middle\" x=\"435.5\" y=\"-453.8\" font-family=\"Helvetica,sans-Serif\" font-size=\"14.00\" fill=\"#000000\">X[5] &lt;= 0.368</text>\n<text text-anchor=\"middle\" x=\"435.5\" y=\"-438.8\" font-family=\"Helvetica,sans-Serif\" font-size=\"14.00\" fill=\"#000000\">gini = 0.296</text>\n<text text-anchor=\"middle\" x=\"435.5\" y=\"-423.8\" font-family=\"Helvetica,sans-Serif\" font-size=\"14.00\" fill=\"#000000\">samples = 460</text>\n<text text-anchor=\"middle\" x=\"435.5\" y=\"-408.8\" font-family=\"Helvetica,sans-Serif\" font-size=\"14.00\" fill=\"#000000\">value = [377, 83]</text>\n</g>\n<!-- 0&#45;&gt;2 -->\n<g id=\"edge10\" class=\"edge\">\n<title>0&#45;&gt;2</title>\n<path fill=\"none\" stroke=\"#000000\" d=\"M352.1022,-504.9465C363.2356,-495.6088 375.4183,-485.3911 386.9489,-475.7203\"/>\n<polygon fill=\"#000000\" stroke=\"#000000\" points=\"389.3938,-478.2378 394.8065,-469.13 384.8954,-472.8745 389.3938,-478.2378\"/>\n<text text-anchor=\"middle\" x=\"392.6219\" y=\"-490.3344\" font-family=\"Helvetica,sans-Serif\" font-size=\"14.00\" fill=\"#000000\">False</text>\n</g>\n<!-- 3 -->\n<g id=\"node3\" class=\"node\">\n<title>3</title>\n<polygon fill=\"none\" stroke=\"#000000\" points=\"160,-357.5 53,-357.5 53,-304.5 160,-304.5 160,-357.5\"/>\n<text text-anchor=\"middle\" x=\"106.5\" y=\"-342.3\" font-family=\"Helvetica,sans-Serif\" font-size=\"14.00\" fill=\"#000000\">gini = 0.051</text>\n<text text-anchor=\"middle\" x=\"106.5\" y=\"-327.3\" font-family=\"Helvetica,sans-Serif\" font-size=\"14.00\" fill=\"#000000\">samples = 76</text>\n<text text-anchor=\"middle\" x=\"106.5\" y=\"-312.3\" font-family=\"Helvetica,sans-Serif\" font-size=\"14.00\" fill=\"#000000\">value = [2, 74]</text>\n</g>\n<!-- 1&#45;&gt;3 -->\n<g id=\"edge2\" class=\"edge\">\n<title>1&#45;&gt;3</title>\n<path fill=\"none\" stroke=\"#000000\" d=\"M196.6234,-400.9465C181.2957,-389.0504 164.1277,-375.726 148.9209,-363.9237\"/>\n<polygon fill=\"#000000\" stroke=\"#000000\" points=\"150.7444,-360.9085 140.6986,-357.5422 146.4525,-366.4384 150.7444,-360.9085\"/>\n</g>\n<!-- 4 -->\n<g id=\"node4\" class=\"node\">\n<title>4</title>\n<polygon fill=\"none\" stroke=\"#000000\" points=\"302.5,-365 178.5,-365 178.5,-297 302.5,-297 302.5,-365\"/>\n<text text-anchor=\"middle\" x=\"240.5\" y=\"-349.8\" font-family=\"Helvetica,sans-Serif\" font-size=\"14.00\" fill=\"#000000\">X[0] &lt;= 2.338</text>\n<text text-anchor=\"middle\" x=\"240.5\" y=\"-334.8\" font-family=\"Helvetica,sans-Serif\" font-size=\"14.00\" fill=\"#000000\">gini = 0.466</text>\n<text text-anchor=\"middle\" x=\"240.5\" y=\"-319.8\" font-family=\"Helvetica,sans-Serif\" font-size=\"14.00\" fill=\"#000000\">samples = 176</text>\n<text text-anchor=\"middle\" x=\"240.5\" y=\"-304.8\" font-family=\"Helvetica,sans-Serif\" font-size=\"14.00\" fill=\"#000000\">value = [65, 111]</text>\n</g>\n<!-- 1&#45;&gt;4 -->\n<g id=\"edge3\" class=\"edge\">\n<title>1&#45;&gt;4</title>\n<path fill=\"none\" stroke=\"#000000\" d=\"M240.5,-400.9465C240.5,-392.776 240.5,-383.9318 240.5,-375.3697\"/>\n<polygon fill=\"#000000\" stroke=\"#000000\" points=\"244.0001,-375.13 240.5,-365.13 237.0001,-375.13 244.0001,-375.13\"/>\n</g>\n<!-- 5 -->\n<g id=\"node5\" class=\"node\">\n<title>5</title>\n<polygon fill=\"none\" stroke=\"#000000\" points=\"164,-253.5 57,-253.5 57,-200.5 164,-200.5 164,-253.5\"/>\n<text text-anchor=\"middle\" x=\"110.5\" y=\"-238.3\" font-family=\"Helvetica,sans-Serif\" font-size=\"14.00\" fill=\"#000000\">gini = 0.16</text>\n<text text-anchor=\"middle\" x=\"110.5\" y=\"-223.3\" font-family=\"Helvetica,sans-Serif\" font-size=\"14.00\" fill=\"#000000\">samples = 57</text>\n<text text-anchor=\"middle\" x=\"110.5\" y=\"-208.3\" font-family=\"Helvetica,sans-Serif\" font-size=\"14.00\" fill=\"#000000\">value = [5, 52]</text>\n</g>\n<!-- 4&#45;&gt;5 -->\n<g id=\"edge4\" class=\"edge\">\n<title>4&#45;&gt;5</title>\n<path fill=\"none\" stroke=\"#000000\" d=\"M197.9331,-296.9465C183.063,-285.0504 166.4075,-271.726 151.6546,-259.9237\"/>\n<polygon fill=\"#000000\" stroke=\"#000000\" points=\"153.6729,-257.0561 143.6777,-253.5422 149.3,-262.5222 153.6729,-257.0561\"/>\n</g>\n<!-- 6 -->\n<g id=\"node6\" class=\"node\">\n<title>6</title>\n<polygon fill=\"none\" stroke=\"#000000\" points=\"298.5,-261 182.5,-261 182.5,-193 298.5,-193 298.5,-261\"/>\n<text text-anchor=\"middle\" x=\"240.5\" y=\"-245.8\" font-family=\"Helvetica,sans-Serif\" font-size=\"14.00\" fill=\"#000000\">X[3] &lt;= 3.736</text>\n<text text-anchor=\"middle\" x=\"240.5\" y=\"-230.8\" font-family=\"Helvetica,sans-Serif\" font-size=\"14.00\" fill=\"#000000\">gini = 0.5</text>\n<text text-anchor=\"middle\" x=\"240.5\" y=\"-215.8\" font-family=\"Helvetica,sans-Serif\" font-size=\"14.00\" fill=\"#000000\">samples = 119</text>\n<text text-anchor=\"middle\" x=\"240.5\" y=\"-200.8\" font-family=\"Helvetica,sans-Serif\" font-size=\"14.00\" fill=\"#000000\">value = [60, 59]</text>\n</g>\n<!-- 4&#45;&gt;6 -->\n<g id=\"edge5\" class=\"edge\">\n<title>4&#45;&gt;6</title>\n<path fill=\"none\" stroke=\"#000000\" d=\"M240.5,-296.9465C240.5,-288.776 240.5,-279.9318 240.5,-271.3697\"/>\n<polygon fill=\"#000000\" stroke=\"#000000\" points=\"244.0001,-271.13 240.5,-261.13 237.0001,-271.13 244.0001,-271.13\"/>\n</g>\n<!-- 7 -->\n<g id=\"node7\" class=\"node\">\n<title>7</title>\n<polygon fill=\"none\" stroke=\"#000000\" points=\"170.5,-157 54.5,-157 54.5,-89 170.5,-89 170.5,-157\"/>\n<text text-anchor=\"middle\" x=\"112.5\" y=\"-141.8\" font-family=\"Helvetica,sans-Serif\" font-size=\"14.00\" fill=\"#000000\">X[1] &lt;= 6.834</text>\n<text text-anchor=\"middle\" x=\"112.5\" y=\"-126.8\" font-family=\"Helvetica,sans-Serif\" font-size=\"14.00\" fill=\"#000000\">gini = 0.486</text>\n<text text-anchor=\"middle\" x=\"112.5\" y=\"-111.8\" font-family=\"Helvetica,sans-Serif\" font-size=\"14.00\" fill=\"#000000\">samples = 96</text>\n<text text-anchor=\"middle\" x=\"112.5\" y=\"-96.8\" font-family=\"Helvetica,sans-Serif\" font-size=\"14.00\" fill=\"#000000\">value = [40, 56]</text>\n</g>\n<!-- 6&#45;&gt;7 -->\n<g id=\"edge6\" class=\"edge\">\n<title>6&#45;&gt;7</title>\n<path fill=\"none\" stroke=\"#000000\" d=\"M198.588,-192.9465C186.985,-183.519 174.2779,-173.1946 162.2741,-163.4415\"/>\n<polygon fill=\"#000000\" stroke=\"#000000\" points=\"164.4744,-160.7196 154.5061,-157.13 160.0602,-166.1524 164.4744,-160.7196\"/>\n</g>\n<!-- 8 -->\n<g id=\"node10\" class=\"node\">\n<title>8</title>\n<polygon fill=\"none\" stroke=\"#000000\" points=\"296,-149.5 189,-149.5 189,-96.5 296,-96.5 296,-149.5\"/>\n<text text-anchor=\"middle\" x=\"242.5\" y=\"-134.3\" font-family=\"Helvetica,sans-Serif\" font-size=\"14.00\" fill=\"#000000\">gini = 0.227</text>\n<text text-anchor=\"middle\" x=\"242.5\" y=\"-119.3\" font-family=\"Helvetica,sans-Serif\" font-size=\"14.00\" fill=\"#000000\">samples = 23</text>\n<text text-anchor=\"middle\" x=\"242.5\" y=\"-104.3\" font-family=\"Helvetica,sans-Serif\" font-size=\"14.00\" fill=\"#000000\">value = [20, 3]</text>\n</g>\n<!-- 6&#45;&gt;8 -->\n<g id=\"edge9\" class=\"edge\">\n<title>6&#45;&gt;8</title>\n<path fill=\"none\" stroke=\"#000000\" d=\"M241.1549,-192.9465C241.3603,-182.2621 241.588,-170.4254 241.7966,-159.5742\"/>\n<polygon fill=\"#000000\" stroke=\"#000000\" points=\"245.2966,-159.6076 241.9896,-149.5422 238.2979,-159.473 245.2966,-159.6076\"/>\n</g>\n<!-- 17 -->\n<g id=\"node8\" class=\"node\">\n<title>17</title>\n<polygon fill=\"none\" stroke=\"#000000\" points=\"99,-53 0,-53 0,0 99,0 99,-53\"/>\n<text text-anchor=\"middle\" x=\"49.5\" y=\"-37.8\" font-family=\"Helvetica,sans-Serif\" font-size=\"14.00\" fill=\"#000000\">gini = 0.219</text>\n<text text-anchor=\"middle\" x=\"49.5\" y=\"-22.8\" font-family=\"Helvetica,sans-Serif\" font-size=\"14.00\" fill=\"#000000\">samples = 8</text>\n<text text-anchor=\"middle\" x=\"49.5\" y=\"-7.8\" font-family=\"Helvetica,sans-Serif\" font-size=\"14.00\" fill=\"#000000\">value = [1, 7]</text>\n</g>\n<!-- 7&#45;&gt;17 -->\n<g id=\"edge7\" class=\"edge\">\n<title>7&#45;&gt;17</title>\n<path fill=\"none\" stroke=\"#000000\" d=\"M90.2886,-88.9777C84.5496,-80.187 78.3588,-70.7044 72.5767,-61.8477\"/>\n<polygon fill=\"#000000\" stroke=\"#000000\" points=\"75.3602,-59.7087 66.9627,-53.2485 69.4987,-63.5354 75.3602,-59.7087\"/>\n</g>\n<!-- 18 -->\n<g id=\"node9\" class=\"node\">\n<title>18</title>\n<polygon fill=\"none\" stroke=\"#000000\" points=\"233.5,-53 117.5,-53 117.5,0 233.5,0 233.5,-53\"/>\n<text text-anchor=\"middle\" x=\"175.5\" y=\"-37.8\" font-family=\"Helvetica,sans-Serif\" font-size=\"14.00\" fill=\"#000000\">gini = 0.494</text>\n<text text-anchor=\"middle\" x=\"175.5\" y=\"-22.8\" font-family=\"Helvetica,sans-Serif\" font-size=\"14.00\" fill=\"#000000\">samples = 88</text>\n<text text-anchor=\"middle\" x=\"175.5\" y=\"-7.8\" font-family=\"Helvetica,sans-Serif\" font-size=\"14.00\" fill=\"#000000\">value = [39, 49]</text>\n</g>\n<!-- 7&#45;&gt;18 -->\n<g id=\"edge8\" class=\"edge\">\n<title>7&#45;&gt;18</title>\n<path fill=\"none\" stroke=\"#000000\" d=\"M134.7114,-88.9777C140.4504,-80.187 146.6412,-70.7044 152.4233,-61.8477\"/>\n<polygon fill=\"#000000\" stroke=\"#000000\" points=\"155.5013,-63.5354 158.0373,-53.2485 149.6398,-59.7087 155.5013,-63.5354\"/>\n</g>\n<!-- 9 -->\n<g id=\"node12\" class=\"node\">\n<title>9</title>\n<polygon fill=\"none\" stroke=\"#000000\" points=\"493.5,-365 377.5,-365 377.5,-297 493.5,-297 493.5,-365\"/>\n<text text-anchor=\"middle\" x=\"435.5\" y=\"-349.8\" font-family=\"Helvetica,sans-Serif\" font-size=\"14.00\" fill=\"#000000\">X[3] &lt;= 5.702</text>\n<text text-anchor=\"middle\" x=\"435.5\" y=\"-334.8\" font-family=\"Helvetica,sans-Serif\" font-size=\"14.00\" fill=\"#000000\">gini = 0.5</text>\n<text text-anchor=\"middle\" x=\"435.5\" y=\"-319.8\" font-family=\"Helvetica,sans-Serif\" font-size=\"14.00\" fill=\"#000000\">samples = 30</text>\n<text text-anchor=\"middle\" x=\"435.5\" y=\"-304.8\" font-family=\"Helvetica,sans-Serif\" font-size=\"14.00\" fill=\"#000000\">value = [15, 15]</text>\n</g>\n<!-- 2&#45;&gt;9 -->\n<g id=\"edge11\" class=\"edge\">\n<title>2&#45;&gt;9</title>\n<path fill=\"none\" stroke=\"#000000\" d=\"M435.5,-400.9465C435.5,-392.776 435.5,-383.9318 435.5,-375.3697\"/>\n<polygon fill=\"#000000\" stroke=\"#000000\" points=\"439.0001,-375.13 435.5,-365.13 432.0001,-375.13 439.0001,-375.13\"/>\n</g>\n<!-- 10 -->\n<g id=\"node17\" class=\"node\">\n<title>10</title>\n<polygon fill=\"none\" stroke=\"#000000\" points=\"688.5,-365 564.5,-365 564.5,-297 688.5,-297 688.5,-365\"/>\n<text text-anchor=\"middle\" x=\"626.5\" y=\"-349.8\" font-family=\"Helvetica,sans-Serif\" font-size=\"14.00\" fill=\"#000000\">X[0] &lt;= 1.222</text>\n<text text-anchor=\"middle\" x=\"626.5\" y=\"-334.8\" font-family=\"Helvetica,sans-Serif\" font-size=\"14.00\" fill=\"#000000\">gini = 0.266</text>\n<text text-anchor=\"middle\" x=\"626.5\" y=\"-319.8\" font-family=\"Helvetica,sans-Serif\" font-size=\"14.00\" fill=\"#000000\">samples = 430</text>\n<text text-anchor=\"middle\" x=\"626.5\" y=\"-304.8\" font-family=\"Helvetica,sans-Serif\" font-size=\"14.00\" fill=\"#000000\">value = [362, 68]</text>\n</g>\n<!-- 2&#45;&gt;10 -->\n<g id=\"edge16\" class=\"edge\">\n<title>2&#45;&gt;10</title>\n<path fill=\"none\" stroke=\"#000000\" d=\"M497.5122,-401.2342C516.0371,-391.1473 536.4868,-380.0124 555.5388,-369.6385\"/>\n<polygon fill=\"#000000\" stroke=\"#000000\" points=\"557.3636,-372.6302 564.4723,-364.7742 554.0161,-366.4825 557.3636,-372.6302\"/>\n</g>\n<!-- 13 -->\n<g id=\"node13\" class=\"node\">\n<title>13</title>\n<polygon fill=\"none\" stroke=\"#000000\" points=\"432.5,-261 316.5,-261 316.5,-193 432.5,-193 432.5,-261\"/>\n<text text-anchor=\"middle\" x=\"374.5\" y=\"-245.8\" font-family=\"Helvetica,sans-Serif\" font-size=\"14.00\" fill=\"#000000\">X[3] &lt;= 4.386</text>\n<text text-anchor=\"middle\" x=\"374.5\" y=\"-230.8\" font-family=\"Helvetica,sans-Serif\" font-size=\"14.00\" fill=\"#000000\">gini = 0.486</text>\n<text text-anchor=\"middle\" x=\"374.5\" y=\"-215.8\" font-family=\"Helvetica,sans-Serif\" font-size=\"14.00\" fill=\"#000000\">samples = 24</text>\n<text text-anchor=\"middle\" x=\"374.5\" y=\"-200.8\" font-family=\"Helvetica,sans-Serif\" font-size=\"14.00\" fill=\"#000000\">value = [10, 14]</text>\n</g>\n<!-- 9&#45;&gt;13 -->\n<g id=\"edge12\" class=\"edge\">\n<title>9&#45;&gt;13</title>\n<path fill=\"none\" stroke=\"#000000\" d=\"M415.5263,-296.9465C410.4707,-288.3271 404.9753,-278.9579 399.6983,-269.9611\"/>\n<polygon fill=\"#000000\" stroke=\"#000000\" points=\"402.5969,-267.985 394.5186,-261.13 396.5589,-271.5265 402.5969,-267.985\"/>\n</g>\n<!-- 14 -->\n<g id=\"node16\" class=\"node\">\n<title>14</title>\n<polygon fill=\"none\" stroke=\"#000000\" points=\"550,-253.5 451,-253.5 451,-200.5 550,-200.5 550,-253.5\"/>\n<text text-anchor=\"middle\" x=\"500.5\" y=\"-238.3\" font-family=\"Helvetica,sans-Serif\" font-size=\"14.00\" fill=\"#000000\">gini = 0.278</text>\n<text text-anchor=\"middle\" x=\"500.5\" y=\"-223.3\" font-family=\"Helvetica,sans-Serif\" font-size=\"14.00\" fill=\"#000000\">samples = 6</text>\n<text text-anchor=\"middle\" x=\"500.5\" y=\"-208.3\" font-family=\"Helvetica,sans-Serif\" font-size=\"14.00\" fill=\"#000000\">value = [5, 1]</text>\n</g>\n<!-- 9&#45;&gt;14 -->\n<g id=\"edge15\" class=\"edge\">\n<title>9&#45;&gt;14</title>\n<path fill=\"none\" stroke=\"#000000\" d=\"M456.7834,-296.9465C463.7366,-285.8215 471.4705,-273.4473 478.4769,-262.237\"/>\n<polygon fill=\"#000000\" stroke=\"#000000\" points=\"481.5791,-263.8772 483.9111,-253.5422 475.6431,-260.1671 481.5791,-263.8772\"/>\n</g>\n<!-- 15 -->\n<g id=\"node14\" class=\"node\">\n<title>15</title>\n<polygon fill=\"none\" stroke=\"#000000\" points=\"425,-149.5 318,-149.5 318,-96.5 425,-96.5 425,-149.5\"/>\n<text text-anchor=\"middle\" x=\"371.5\" y=\"-134.3\" font-family=\"Helvetica,sans-Serif\" font-size=\"14.00\" fill=\"#000000\">gini = 0.219</text>\n<text text-anchor=\"middle\" x=\"371.5\" y=\"-119.3\" font-family=\"Helvetica,sans-Serif\" font-size=\"14.00\" fill=\"#000000\">samples = 16</text>\n<text text-anchor=\"middle\" x=\"371.5\" y=\"-104.3\" font-family=\"Helvetica,sans-Serif\" font-size=\"14.00\" fill=\"#000000\">value = [2, 14]</text>\n</g>\n<!-- 13&#45;&gt;15 -->\n<g id=\"edge13\" class=\"edge\">\n<title>13&#45;&gt;15</title>\n<path fill=\"none\" stroke=\"#000000\" d=\"M373.5177,-192.9465C373.2095,-182.2621 372.868,-170.4254 372.555,-159.5742\"/>\n<polygon fill=\"#000000\" stroke=\"#000000\" points=\"376.0526,-159.4371 372.2656,-149.5422 369.0555,-159.639 376.0526,-159.4371\"/>\n</g>\n<!-- 16 -->\n<g id=\"node15\" class=\"node\">\n<title>16</title>\n<polygon fill=\"none\" stroke=\"#000000\" points=\"542,-149.5 443,-149.5 443,-96.5 542,-96.5 542,-149.5\"/>\n<text text-anchor=\"middle\" x=\"492.5\" y=\"-134.3\" font-family=\"Helvetica,sans-Serif\" font-size=\"14.00\" fill=\"#000000\">gini = 0.0</text>\n<text text-anchor=\"middle\" x=\"492.5\" y=\"-119.3\" font-family=\"Helvetica,sans-Serif\" font-size=\"14.00\" fill=\"#000000\">samples = 8</text>\n<text text-anchor=\"middle\" x=\"492.5\" y=\"-104.3\" font-family=\"Helvetica,sans-Serif\" font-size=\"14.00\" fill=\"#000000\">value = [8, 0]</text>\n</g>\n<!-- 13&#45;&gt;16 -->\n<g id=\"edge14\" class=\"edge\">\n<title>13&#45;&gt;16</title>\n<path fill=\"none\" stroke=\"#000000\" d=\"M413.1376,-192.9465C426.5101,-181.1606 441.4734,-167.9726 454.7719,-156.2519\"/>\n<polygon fill=\"#000000\" stroke=\"#000000\" points=\"457.197,-158.7799 462.3849,-149.5422 452.5685,-153.5285 457.197,-158.7799\"/>\n</g>\n<!-- 11 -->\n<g id=\"node18\" class=\"node\">\n<title>11</title>\n<polygon fill=\"none\" stroke=\"#000000\" points=\"684.5,-253.5 568.5,-253.5 568.5,-200.5 684.5,-200.5 684.5,-253.5\"/>\n<text text-anchor=\"middle\" x=\"626.5\" y=\"-238.3\" font-family=\"Helvetica,sans-Serif\" font-size=\"14.00\" fill=\"#000000\">gini = 0.453</text>\n<text text-anchor=\"middle\" x=\"626.5\" y=\"-223.3\" font-family=\"Helvetica,sans-Serif\" font-size=\"14.00\" fill=\"#000000\">samples = 98</text>\n<text text-anchor=\"middle\" x=\"626.5\" y=\"-208.3\" font-family=\"Helvetica,sans-Serif\" font-size=\"14.00\" fill=\"#000000\">value = [64, 34]</text>\n</g>\n<!-- 10&#45;&gt;11 -->\n<g id=\"edge17\" class=\"edge\">\n<title>10&#45;&gt;11</title>\n<path fill=\"none\" stroke=\"#000000\" d=\"M626.5,-296.9465C626.5,-286.2621 626.5,-274.4254 626.5,-263.5742\"/>\n<polygon fill=\"#000000\" stroke=\"#000000\" points=\"630.0001,-263.5421 626.5,-253.5422 623.0001,-263.5422 630.0001,-263.5421\"/>\n</g>\n<!-- 12 -->\n<g id=\"node19\" class=\"node\">\n<title>12</title>\n<polygon fill=\"none\" stroke=\"#000000\" points=\"826.5,-253.5 702.5,-253.5 702.5,-200.5 826.5,-200.5 826.5,-253.5\"/>\n<text text-anchor=\"middle\" x=\"764.5\" y=\"-238.3\" font-family=\"Helvetica,sans-Serif\" font-size=\"14.00\" fill=\"#000000\">gini = 0.184</text>\n<text text-anchor=\"middle\" x=\"764.5\" y=\"-223.3\" font-family=\"Helvetica,sans-Serif\" font-size=\"14.00\" fill=\"#000000\">samples = 332</text>\n<text text-anchor=\"middle\" x=\"764.5\" y=\"-208.3\" font-family=\"Helvetica,sans-Serif\" font-size=\"14.00\" fill=\"#000000\">value = [298, 34]</text>\n</g>\n<!-- 10&#45;&gt;12 -->\n<g id=\"edge18\" class=\"edge\">\n<title>10&#45;&gt;12</title>\n<path fill=\"none\" stroke=\"#000000\" d=\"M671.6864,-296.9465C687.6177,-284.9403 705.4796,-271.4791 721.2473,-259.5962\"/>\n<polygon fill=\"#000000\" stroke=\"#000000\" points=\"723.401,-262.3558 729.2806,-253.5422 719.188,-256.7656 723.401,-262.3558\"/>\n</g>\n</g>\n</svg>\n"
          },
          "metadata": {},
          "execution_count": 64
        }
      ]
    },
    {
      "cell_type": "markdown",
      "source": [
        "Random Forest\n",
        "\n",
        "Creating a Random Forest"
      ],
      "metadata": {
        "id": "c6Wtc3OCJudZ"
      }
    },
    {
      "cell_type": "code",
      "source": [
        "from sklearn.ensemble import RandomForestClassifier"
      ],
      "metadata": {
        "id": "8M9I3NsdJpsF"
      },
      "execution_count": 65,
      "outputs": []
    },
    {
      "cell_type": "code",
      "source": [
        "clf= RandomForestClassifier()"
      ],
      "metadata": {
        "id": "lml_gzL8J0iz"
      },
      "execution_count": 66,
      "outputs": []
    },
    {
      "cell_type": "markdown",
      "source": [
        "Training our Model"
      ],
      "metadata": {
        "id": "SDtnS4qLKAk3"
      }
    },
    {
      "cell_type": "code",
      "source": [
        "clf.fit(X_train, y_train)"
      ],
      "metadata": {
        "colab": {
          "base_uri": "https://localhost:8080/"
        },
        "id": "O5NcSruPJ8Q_",
        "outputId": "d4e17cdb-6aca-46a0-9f76-db369eed0d3e"
      },
      "execution_count": 67,
      "outputs": [
        {
          "output_type": "execute_result",
          "data": {
            "text/plain": [
              "RandomForestClassifier()"
            ]
          },
          "metadata": {},
          "execution_count": 67
        }
      ]
    },
    {
      "cell_type": "markdown",
      "source": [
        "Testing our Model"
      ],
      "metadata": {
        "id": "HQIwc7JSKST4"
      }
    },
    {
      "cell_type": "code",
      "source": [
        "y_pred=clf.predict(X_test)"
      ],
      "metadata": {
        "id": "BySJ3I9wKI1R"
      },
      "execution_count": 68,
      "outputs": []
    },
    {
      "cell_type": "markdown",
      "source": [
        "Testing our Model's accuracy"
      ],
      "metadata": {
        "id": "oOARoxgZKdv0"
      }
    },
    {
      "cell_type": "code",
      "source": [
        "from sklearn import metrics"
      ],
      "metadata": {
        "id": "-pDU_VEhKXSf"
      },
      "execution_count": 69,
      "outputs": []
    },
    {
      "cell_type": "code",
      "source": [
        "print(\"Accuracy:\", metrics.accuracy_score(y_test, y_pred))"
      ],
      "metadata": {
        "colab": {
          "base_uri": "https://localhost:8080/"
        },
        "id": "n7auUYfoKlcK",
        "outputId": "7dab55ff-be89-4f3a-e101-1b9dcda49ffa"
      },
      "execution_count": 70,
      "outputs": [
        {
          "output_type": "stream",
          "name": "stdout",
          "text": [
            "Accuracy: 0.8324022346368715\n"
          ]
        }
      ]
    },
    {
      "cell_type": "code",
      "source": [
        "clf1= RandomForestClassifier(n_estimators=50)"
      ],
      "metadata": {
        "id": "_Q6ngAjTLAov"
      },
      "execution_count": 71,
      "outputs": []
    },
    {
      "cell_type": "code",
      "source": [
        "clf1.fit(X_train, y_train)"
      ],
      "metadata": {
        "colab": {
          "base_uri": "https://localhost:8080/"
        },
        "id": "RGEA7ywLLJzJ",
        "outputId": "ad09a652-9636-494d-a43e-826efc57d313"
      },
      "execution_count": 73,
      "outputs": [
        {
          "output_type": "execute_result",
          "data": {
            "text/plain": [
              "RandomForestClassifier(n_estimators=50)"
            ]
          },
          "metadata": {},
          "execution_count": 73
        }
      ]
    },
    {
      "cell_type": "code",
      "source": [
        "y_pred=clf1.predict(X_test)"
      ],
      "metadata": {
        "id": "QUb5V96ALOeE"
      },
      "execution_count": 74,
      "outputs": []
    },
    {
      "cell_type": "code",
      "source": [
        "print(\"Accuracy:\", metrics.accuracy_score(y_test, y_pred))"
      ],
      "metadata": {
        "id": "CM63fUvgL1Od",
        "outputId": "553078e6-937f-4817-d136-8e35a7063861",
        "colab": {
          "base_uri": "https://localhost:8080/"
        }
      },
      "execution_count": 75,
      "outputs": [
        {
          "output_type": "stream",
          "name": "stdout",
          "text": [
            "Accuracy: 0.8156424581005587\n"
          ]
        }
      ]
    }
  ]
}